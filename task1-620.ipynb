{
 "cells": [
  {
   "cell_type": "code",
   "execution_count": 1,
   "metadata": {},
   "outputs": [],
   "source": [
    "import numpy as np"
   ]
  },
  {
   "cell_type": "code",
   "execution_count": 2,
   "metadata": {},
   "outputs": [],
   "source": [
    "my_arr=np.arange(1000000)"
   ]
  },
  {
   "cell_type": "code",
   "execution_count": 3,
   "metadata": {},
   "outputs": [],
   "source": [
    "my_list=list(range(1000000))"
   ]
  },
  {
   "cell_type": "code",
   "execution_count": 6,
   "metadata": {},
   "outputs": [
    {
     "name": "stdout",
     "output_type": "stream",
     "text": [
      "Wall time: 34 ms\n"
     ]
    }
   ],
   "source": [
    "%time for _ in range(10):my_arr2=my_arr*2"
   ]
  },
  {
   "cell_type": "code",
   "execution_count": 7,
   "metadata": {},
   "outputs": [
    {
     "name": "stdout",
     "output_type": "stream",
     "text": [
      "Wall time: 865 ms\n"
     ]
    }
   ],
   "source": [
    "%time for _ in range(10):my_list2=[x*2 for x in my_list]"
   ]
  },
  {
   "cell_type": "code",
   "execution_count": 8,
   "metadata": {},
   "outputs": [
    {
     "name": "stdout",
     "output_type": "stream",
     "text": [
      "hello!\n",
      "      world!\n",
      "      I'm coming.\n"
     ]
    }
   ],
   "source": [
    "#科塞100题\n",
    "print(\"\"\"hello!\n",
    "      world!\n",
    "      I'm coming.\"\"\")"
   ]
  },
  {
   "cell_type": "code",
   "execution_count": null,
   "metadata": {},
   "outputs": [],
   "source": [
    "#上边为什么会有缩进？好奇怪"
   ]
  },
  {
   "cell_type": "code",
   "execution_count": 9,
   "metadata": {},
   "outputs": [],
   "source": [
    "#1.导入库并改名\n",
    "import numpy as np"
   ]
  },
  {
   "cell_type": "code",
   "execution_count": 15,
   "metadata": {},
   "outputs": [
    {
     "name": "stdout",
     "output_type": "stream",
     "text": [
      "1.16.4\n",
      "mkl_info:\n",
      "    libraries = ['mkl_rt']\n",
      "    library_dirs = ['C:/ProgramData/Anaconda3\\\\Library\\\\lib']\n",
      "    define_macros = [('SCIPY_MKL_H', None), ('HAVE_CBLAS', None)]\n",
      "    include_dirs = ['C:\\\\Program Files (x86)\\\\IntelSWTools\\\\compilers_and_libraries_2019.0.117\\\\windows\\\\mkl', 'C:\\\\Program Files (x86)\\\\IntelSWTools\\\\compilers_and_libraries_2019.0.117\\\\windows\\\\mkl\\\\include', 'C:\\\\Program Files (x86)\\\\IntelSWTools\\\\compilers_and_libraries_2019.0.117\\\\windows\\\\mkl\\\\lib', 'C:/ProgramData/Anaconda3\\\\Library\\\\include']\n",
      "blas_mkl_info:\n",
      "    libraries = ['mkl_rt']\n",
      "    library_dirs = ['C:/ProgramData/Anaconda3\\\\Library\\\\lib']\n",
      "    define_macros = [('SCIPY_MKL_H', None), ('HAVE_CBLAS', None)]\n",
      "    include_dirs = ['C:\\\\Program Files (x86)\\\\IntelSWTools\\\\compilers_and_libraries_2019.0.117\\\\windows\\\\mkl', 'C:\\\\Program Files (x86)\\\\IntelSWTools\\\\compilers_and_libraries_2019.0.117\\\\windows\\\\mkl\\\\include', 'C:\\\\Program Files (x86)\\\\IntelSWTools\\\\compilers_and_libraries_2019.0.117\\\\windows\\\\mkl\\\\lib', 'C:/ProgramData/Anaconda3\\\\Library\\\\include']\n",
      "blas_opt_info:\n",
      "    libraries = ['mkl_rt']\n",
      "    library_dirs = ['C:/ProgramData/Anaconda3\\\\Library\\\\lib']\n",
      "    define_macros = [('SCIPY_MKL_H', None), ('HAVE_CBLAS', None)]\n",
      "    include_dirs = ['C:\\\\Program Files (x86)\\\\IntelSWTools\\\\compilers_and_libraries_2019.0.117\\\\windows\\\\mkl', 'C:\\\\Program Files (x86)\\\\IntelSWTools\\\\compilers_and_libraries_2019.0.117\\\\windows\\\\mkl\\\\include', 'C:\\\\Program Files (x86)\\\\IntelSWTools\\\\compilers_and_libraries_2019.0.117\\\\windows\\\\mkl\\\\lib', 'C:/ProgramData/Anaconda3\\\\Library\\\\include']\n",
      "lapack_mkl_info:\n",
      "    libraries = ['mkl_rt']\n",
      "    library_dirs = ['C:/ProgramData/Anaconda3\\\\Library\\\\lib']\n",
      "    define_macros = [('SCIPY_MKL_H', None), ('HAVE_CBLAS', None)]\n",
      "    include_dirs = ['C:\\\\Program Files (x86)\\\\IntelSWTools\\\\compilers_and_libraries_2019.0.117\\\\windows\\\\mkl', 'C:\\\\Program Files (x86)\\\\IntelSWTools\\\\compilers_and_libraries_2019.0.117\\\\windows\\\\mkl\\\\include', 'C:\\\\Program Files (x86)\\\\IntelSWTools\\\\compilers_and_libraries_2019.0.117\\\\windows\\\\mkl\\\\lib', 'C:/ProgramData/Anaconda3\\\\Library\\\\include']\n",
      "lapack_opt_info:\n",
      "    libraries = ['mkl_rt']\n",
      "    library_dirs = ['C:/ProgramData/Anaconda3\\\\Library\\\\lib']\n",
      "    define_macros = [('SCIPY_MKL_H', None), ('HAVE_CBLAS', None)]\n",
      "    include_dirs = ['C:\\\\Program Files (x86)\\\\IntelSWTools\\\\compilers_and_libraries_2019.0.117\\\\windows\\\\mkl', 'C:\\\\Program Files (x86)\\\\IntelSWTools\\\\compilers_and_libraries_2019.0.117\\\\windows\\\\mkl\\\\include', 'C:\\\\Program Files (x86)\\\\IntelSWTools\\\\compilers_and_libraries_2019.0.117\\\\windows\\\\mkl\\\\lib', 'C:/ProgramData/Anaconda3\\\\Library\\\\include']\n"
     ]
    }
   ],
   "source": [
    "#2.输出版本和配置说明\n",
    "print(np.__version__)#第一次执行时没注意，这里少打了半个括号\n",
    "np.show_config()#这也是个函数啊？好神奇"
   ]
  },
  {
   "cell_type": "code",
   "execution_count": 18,
   "metadata": {},
   "outputs": [
    {
     "name": "stdout",
     "output_type": "stream",
     "text": [
      "[0. 0. 0. 0. 0. 0. 0. 0. 0. 0.]\n"
     ]
    }
   ],
   "source": [
    "#3.创建固定长度的空向量\n",
    "Z=np.zeros(10)#运行时提示了NameError: name 'z' is not defined错误,原来是print语句里的Z是小写的，又一次验证了Python是大小写敏感的\n",
    "print(Z)"
   ]
  },
  {
   "cell_type": "code",
   "execution_count": 20,
   "metadata": {},
   "outputs": [
    {
     "name": "stdout",
     "output_type": "stream",
     "text": [
      "800 bytes\n"
     ]
    }
   ],
   "source": [
    "#4.找到数组的内存大小\n",
    "Z=np.zeros((10,10))\n",
    "print(\"%d bytes\"%(Z.size*Z.itemsize))#?为什么是800啊？我没学过数据结构..."
   ]
  },
  {
   "cell_type": "code",
   "execution_count": 23,
   "metadata": {},
   "outputs": [
    {
     "name": "stdout",
     "output_type": "stream",
     "text": [
      "add(x1, x2, /, out=None, *, where=True, casting='same_kind', order='K', dtype=None, subok=True[, signature, extobj])\n",
      "\n",
      "Add arguments element-wise.\n",
      "\n",
      "Parameters\n",
      "----------\n",
      "x1, x2 : array_like\n",
      "    The arrays to be added.  If ``x1.shape != x2.shape``, they must be\n",
      "    broadcastable to a common shape (which may be the shape of one or\n",
      "    the other).\n",
      "out : ndarray, None, or tuple of ndarray and None, optional\n",
      "    A location into which the result is stored. If provided, it must have\n",
      "    a shape that the inputs broadcast to. If not provided or `None`,\n",
      "    a freshly-allocated array is returned. A tuple (possible only as a\n",
      "    keyword argument) must have length equal to the number of outputs.\n",
      "where : array_like, optional\n",
      "    Values of True indicate to calculate the ufunc at that position, values\n",
      "    of False indicate to leave the value in the output alone.\n",
      "**kwargs\n",
      "    For other keyword-only arguments, see the\n",
      "    :ref:`ufunc docs <ufuncs.kwargs>`.\n",
      "\n",
      "Returns\n",
      "-------\n",
      "add : ndarray or scalar\n",
      "    The sum of `x1` and `x2`, element-wise.\n",
      "    This is a scalar if both `x1` and `x2` are scalars.\n",
      "\n",
      "Notes\n",
      "-----\n",
      "Equivalent to `x1` + `x2` in terms of array broadcasting.\n",
      "\n",
      "Examples\n",
      "--------\n",
      ">>> np.add(1.0, 4.0)\n",
      "5.0\n",
      ">>> x1 = np.arange(9.0).reshape((3, 3))\n",
      ">>> x2 = np.arange(3.0)\n",
      ">>> np.add(x1, x2)\n",
      "array([[  0.,   2.,   4.],\n",
      "       [  3.,   5.,   7.],\n",
      "       [  6.,   8.,  10.]])\n"
     ]
    }
   ],
   "source": [
    "#5.获取numpy中add函数的说明文档\n",
    "np.info(np.add)#import的时候已经重命名为np了，于是numpy就不能用了。。。"
   ]
  },
  {
   "cell_type": "code",
   "execution_count": 24,
   "metadata": {},
   "outputs": [
    {
     "name": "stdout",
     "output_type": "stream",
     "text": [
      "[0. 0. 0. 0. 1. 0. 0. 0. 0. 0.]\n"
     ]
    }
   ],
   "source": [
    "#6.创建长度为10，第五个值为1的空向量\n",
    "Z=np.zeros(10)\n",
    "Z[4]=1#从0开始计数\n",
    "print(Z)"
   ]
  },
  {
   "cell_type": "code",
   "execution_count": 25,
   "metadata": {},
   "outputs": [
    {
     "name": "stdout",
     "output_type": "stream",
     "text": [
      "[ 10  11  12  13  14  15  16  17  18  19  20  21  22  23  24  25  26  27\n",
      "  28  29  30  31  32  33  34  35  36  37  38  39  40  41  42  43  44  45\n",
      "  46  47  48  49  50  51  52  53  54  55  56  57  58  59  60  61  62  63\n",
      "  64  65  66  67  68  69  70  71  72  73  74  75  76  77  78  79  80  81\n",
      "  82  83  84  85  86  87  88  89  90  91  92  93  94  95  96  97  98  99\n",
      " 100]\n"
     ]
    }
   ],
   "source": [
    "#7.创建值域范围从10到100的向量\n",
    "Z=np.arange(10,101)#到100，由于Python创建的是左闭右开的，因此上限要取101\n",
    "print(Z)"
   ]
  },
  {
   "cell_type": "code",
   "execution_count": 26,
   "metadata": {},
   "outputs": [
    {
     "name": "stdout",
     "output_type": "stream",
     "text": [
      "[49 48 47 46 45 44 43 42 41 40 39 38 37 36 35 34 33 32 31 30 29 28 27 26\n",
      " 25 24 23 22 21 20 19 18 17 16 15 14 13 12 11 10  9  8  7  6  5  4  3  2\n",
      "  1  0]\n"
     ]
    }
   ],
   "source": [
    "#8.反转一个向量\n",
    "Z=np.arange(50)\n",
    "Z=Z[::-1]\n",
    "print(Z)"
   ]
  },
  {
   "cell_type": "code",
   "execution_count": 27,
   "metadata": {},
   "outputs": [
    {
     "name": "stdout",
     "output_type": "stream",
     "text": [
      "[[0 1 2]\n",
      " [3 4 5]\n",
      " [6 7 8]]\n"
     ]
    }
   ],
   "source": [
    "#9.创建一个 3乘3且值从0到8的矩阵\n",
    "Z=np.arange(9).reshape(3,3)#reshape将一维数组改写成三乘三矩阵\n",
    "print(Z)"
   ]
  },
  {
   "cell_type": "code",
   "execution_count": 28,
   "metadata": {},
   "outputs": [
    {
     "name": "stdout",
     "output_type": "stream",
     "text": [
      "[[0 1 2]\n",
      " [3 4 5]\n",
      " [6 7 8]]\n"
     ]
    }
   ],
   "source": [
    "#9'.创建一个 3乘3且值从0到8的矩阵 另一种方法\n",
    "Z=np.arange(9).reshape(-1,3)#reshape可以只指定列数，行数看着办\n",
    "print(Z)"
   ]
  },
  {
   "cell_type": "code",
   "execution_count": 32,
   "metadata": {},
   "outputs": [
    {
     "name": "stdout",
     "output_type": "stream",
     "text": [
      "[[  0   1   2   3   4   5   6   7   8   9  10  11  12  13  14  15  16  17\n",
      "   18]\n",
      " [ 19  20  21  22  23  24  25  26  27  28  29  30  31  32  33  34  35  36\n",
      "   37]\n",
      " [ 38  39  40  41  42  43  44  45  46  47  48  49  50  51  52  53  54  55\n",
      "   56]\n",
      " [ 57  58  59  60  61  62  63  64  65  66  67  68  69  70  71  72  73  74\n",
      "   75]\n",
      " [ 76  77  78  79  80  81  82  83  84  85  86  87  88  89  90  91  92  93\n",
      "   94]\n",
      " [ 95  96  97  98  99 100 101 102 103 104 105 106 107 108 109 110 111 112\n",
      "  113]\n",
      " [114 115 116 117 118 119 120 121 122 123 124 125 126 127 128 129 130 131\n",
      "  132]\n",
      " [133 134 135 136 137 138 139 140 141 142 143 144 145 146 147 148 149 150\n",
      "  151]\n",
      " [152 153 154 155 156 157 158 159 160 161 162 163 164 165 166 167 168 169\n",
      "  170]\n",
      " [171 172 173 174 175 176 177 178 179 180 181 182 183 184 185 186 187 188\n",
      "  189]\n",
      " [190 191 192 193 194 195 196 197 198 199 200 201 202 203 204 205 206 207\n",
      "  208]\n",
      " [209 210 211 212 213 214 215 216 217 218 219 220 221 222 223 224 225 226\n",
      "  227]\n",
      " [228 229 230 231 232 233 234 235 236 237 238 239 240 241 242 243 244 245\n",
      "  246]\n",
      " [247 248 249 250 251 252 253 254 255 256 257 258 259 260 261 262 263 264\n",
      "  265]\n",
      " [266 267 268 269 270 271 272 273 274 275 276 277 278 279 280 281 282 283\n",
      "  284]\n",
      " [285 286 287 288 289 290 291 292 293 294 295 296 297 298 299 300 301 302\n",
      "  303]\n",
      " [304 305 306 307 308 309 310 311 312 313 314 315 316 317 318 319 320 321\n",
      "  322]\n",
      " [323 324 325 326 327 328 329 330 331 332 333 334 335 336 337 338 339 340\n",
      "  341]\n",
      " [342 343 344 345 346 347 348 349 350 351 352 353 354 355 356 357 358 359\n",
      "  360]\n",
      " [361 362 363 364 365 366 367 368 369 370 371 372 373 374 375 376 377 378\n",
      "  379]\n",
      " [380 381 382 383 384 385 386 387 388 389 390 391 392 393 394 395 396 397\n",
      "  398]\n",
      " [399 400 401 402 403 404 405 406 407 408 409 410 411 412 413 414 415 416\n",
      "  417]\n",
      " [418 419 420 421 422 423 424 425 426 427 428 429 430 431 432 433 434 435\n",
      "  436]\n",
      " [437 438 439 440 441 442 443 444 445 446 447 448 449 450 451 452 453 454\n",
      "  455]\n",
      " [456 457 458 459 460 461 462 463 464 465 466 467 468 469 470 471 472 473\n",
      "  474]\n",
      " [475 476 477 478 479 480 481 482 483 484 485 486 487 488 489 490 491 492\n",
      "  493]\n",
      " [494 495 496 497 498 499 500 501 502 503 504 505 506 507 508 509 510 511\n",
      "  512]\n",
      " [513 514 515 516 517 518 519 520 521 522 523 524 525 526 527 528 529 530\n",
      "  531]\n",
      " [532 533 534 535 536 537 538 539 540 541 542 543 544 545 546 547 548 549\n",
      "  550]\n",
      " [551 552 553 554 555 556 557 558 559 560 561 562 563 564 565 566 567 568\n",
      "  569]\n",
      " [570 571 572 573 574 575 576 577 578 579 580 581 582 583 584 585 586 587\n",
      "  588]\n",
      " [589 590 591 592 593 594 595 596 597 598 599 600 601 602 603 604 605 606\n",
      "  607]\n",
      " [608 609 610 611 612 613 614 615 616 617 618 619 620 621 622 623 624 625\n",
      "  626]\n",
      " [627 628 629 630 631 632 633 634 635 636 637 638 639 640 641 642 643 644\n",
      "  645]\n",
      " [646 647 648 649 650 651 652 653 654 655 656 657 658 659 660 661 662 663\n",
      "  664]\n",
      " [665 666 667 668 669 670 671 672 673 674 675 676 677 678 679 680 681 682\n",
      "  683]\n",
      " [684 685 686 687 688 689 690 691 692 693 694 695 696 697 698 699 700 701\n",
      "  702]]\n"
     ]
    }
   ],
   "source": [
    "#9''.创建一个更大的矩阵 #这时如果不能整除，就会报错\n",
    "Z=np.arange(703).reshape(-1,19)#reshape可以只指定列数，行数看着办\n",
    "print(Z)"
   ]
  },
  {
   "cell_type": "code",
   "execution_count": 38,
   "metadata": {},
   "outputs": [
    {
     "name": "stdout",
     "output_type": "stream",
     "text": [
      "(array([ 0,  1,  2,  6,  7,  8, 10, 11, 12, 13, 14, 16], dtype=int64),)\n"
     ]
    }
   ],
   "source": [
    "#10.找出给定数组中非零元素的位置索引\n",
    "nz=np.nonzero([1,2,5,0,0,0,3,6,8,0,8,6,5,4,6,0,87,0])#注意是nonzero\n",
    "print(nz)"
   ]
  },
  {
   "cell_type": "code",
   "execution_count": 42,
   "metadata": {},
   "outputs": [
    {
     "name": "stdout",
     "output_type": "stream",
     "text": [
      "[[1. 0. 0.]\n",
      " [0. 1. 0.]\n",
      " [0. 0. 1.]]\n"
     ]
    }
   ],
   "source": [
    "#11.创建单位矩阵\n",
    "print(np.eye(3))\n"
   ]
  },
  {
   "cell_type": "code",
   "execution_count": 43,
   "metadata": {},
   "outputs": [
    {
     "name": "stdout",
     "output_type": "stream",
     "text": [
      "[[[0.72944468 0.3415927  0.2010668 ]\n",
      "  [0.52140546 0.58217496 0.27285661]\n",
      "  [0.90198358 0.92910192 0.27338674]]\n",
      "\n",
      " [[0.99993587 0.77747776 0.22595593]\n",
      "  [0.47992835 0.74388064 0.35212886]\n",
      "  [0.95526863 0.10869195 0.62801276]]\n",
      "\n",
      " [[0.1403734  0.30480761 0.34168905]\n",
      "  [0.94264113 0.48690081 0.81147968]\n",
      "  [0.29635381 0.07246111 0.84094108]]]\n"
     ]
    }
   ],
   "source": [
    "#12.创建3乘3乘3的随机数组\n",
    "print(np.random.random((3,3,3)))"
   ]
  },
  {
   "cell_type": "code",
   "execution_count": 44,
   "metadata": {},
   "outputs": [
    {
     "name": "stdout",
     "output_type": "stream",
     "text": [
      "0.0149621375222595 0.9764094086489762\n"
     ]
    }
   ],
   "source": [
    "#13.创建10乘10随机数组并找出最大值和最小值\n",
    "Z=np.random.random((10,10))\n",
    "Zmin,Zmax=Z.min(),Z.max()#赋值也可以这样啊\n",
    "print (Zmin,Zmax)"
   ]
  },
  {
   "cell_type": "code",
   "execution_count": 47,
   "metadata": {},
   "outputs": [
    {
     "name": "stdout",
     "output_type": "stream",
     "text": [
      "0.4334992706709408 0.9985650991150263 0.030037230229127077\n"
     ]
    }
   ],
   "source": [
    "#14.创建给定长度的随机向量并求平均值、最大最小值\n",
    "Z=np.random.random((30))\n",
    "print(Z.mean(),Z.max(),Z.min())\n"
   ]
  },
  {
   "cell_type": "code",
   "execution_count": 48,
   "metadata": {},
   "outputs": [
    {
     "name": "stdout",
     "output_type": "stream",
     "text": [
      "[[1. 1. 1. 1. 1. 1. 1. 1. 1. 1.]\n",
      " [1. 0. 0. 0. 0. 0. 0. 0. 0. 1.]\n",
      " [1. 0. 0. 0. 0. 0. 0. 0. 0. 1.]\n",
      " [1. 0. 0. 0. 0. 0. 0. 0. 0. 1.]\n",
      " [1. 0. 0. 0. 0. 0. 0. 0. 0. 1.]\n",
      " [1. 0. 0. 0. 0. 0. 0. 0. 0. 1.]\n",
      " [1. 0. 0. 0. 0. 0. 0. 0. 0. 1.]\n",
      " [1. 0. 0. 0. 0. 0. 0. 0. 0. 1.]\n",
      " [1. 0. 0. 0. 0. 0. 0. 0. 0. 1.]\n",
      " [1. 1. 1. 1. 1. 1. 1. 1. 1. 1.]]\n"
     ]
    }
   ],
   "source": [
    "#15.创建二维数组，边界值为1，其余为0\n",
    "Z=np.ones((10,10))\n",
    "Z[1:-1,1:-1]=0#这是什么意思呢？\n",
    "print(Z)"
   ]
  },
  {
   "cell_type": "code",
   "execution_count": 50,
   "metadata": {},
   "outputs": [
    {
     "name": "stdout",
     "output_type": "stream",
     "text": [
      "[[0. 0. 0. 0. 0. 0. 0.]\n",
      " [0. 1. 1. 1. 1. 1. 0.]\n",
      " [0. 1. 1. 1. 1. 1. 0.]\n",
      " [0. 1. 1. 1. 1. 1. 0.]\n",
      " [0. 1. 1. 1. 1. 1. 0.]\n",
      " [0. 1. 1. 1. 1. 1. 0.]\n",
      " [0. 0. 0. 0. 0. 0. 0.]]\n"
     ]
    }
   ],
   "source": [
    "#16.对于给定数组，添加0值边界\n",
    "Z=np.ones((5,5))\n",
    "Z=np.pad(Z,pad_width=1,mode='constant',constant_values=0)\n",
    "print(Z)"
   ]
  },
  {
   "cell_type": "code",
   "execution_count": 53,
   "metadata": {},
   "outputs": [
    {
     "data": {
      "text/plain": [
       "nan"
      ]
     },
     "execution_count": 53,
     "metadata": {},
     "output_type": "execute_result"
    }
   ],
   "source": [
    "#17.计算\n",
    "0*np.nan#nan=not a number"
   ]
  },
  {
   "cell_type": "code",
   "execution_count": 54,
   "metadata": {},
   "outputs": [
    {
     "data": {
      "text/plain": [
       "False"
      ]
     },
     "execution_count": 54,
     "metadata": {},
     "output_type": "execute_result"
    }
   ],
   "source": [
    "np.nan==np.nan"
   ]
  },
  {
   "cell_type": "code",
   "execution_count": 55,
   "metadata": {},
   "outputs": [
    {
     "data": {
      "text/plain": [
       "False"
      ]
     },
     "execution_count": 55,
     "metadata": {},
     "output_type": "execute_result"
    }
   ],
   "source": [
    "np.nan>np.nan"
   ]
  },
  {
   "cell_type": "code",
   "execution_count": 56,
   "metadata": {},
   "outputs": [
    {
     "data": {
      "text/plain": [
       "nan"
      ]
     },
     "execution_count": 56,
     "metadata": {},
     "output_type": "execute_result"
    }
   ],
   "source": [
    "np.nan-np.nan"
   ]
  },
  {
   "cell_type": "code",
   "execution_count": 57,
   "metadata": {},
   "outputs": [
    {
     "data": {
      "text/plain": [
       "False"
      ]
     },
     "execution_count": 57,
     "metadata": {},
     "output_type": "execute_result"
    }
   ],
   "source": [
    "0.3==3*0.1"
   ]
  },
  {
   "cell_type": "code",
   "execution_count": 59,
   "metadata": {},
   "outputs": [
    {
     "name": "stdout",
     "output_type": "stream",
     "text": [
      "[[0 0 0 0 0]\n",
      " [1 0 0 0 0]\n",
      " [0 2 0 0 0]\n",
      " [0 0 3 0 0]\n",
      " [0 0 0 4 0]]\n"
     ]
    }
   ],
   "source": [
    "#18.创建5乘5矩阵，并设置值1,2,3,4落在对角线下方\n",
    "Z=np.diag(1+np.arange(4),k=-1)\n",
    "print(Z)"
   ]
  },
  {
   "cell_type": "code",
   "execution_count": 60,
   "metadata": {},
   "outputs": [
    {
     "name": "stdout",
     "output_type": "stream",
     "text": [
      "[[0 1 0 1 0 1 0 1]\n",
      " [1 0 1 0 1 0 1 0]\n",
      " [0 1 0 1 0 1 0 1]\n",
      " [1 0 1 0 1 0 1 0]\n",
      " [0 1 0 1 0 1 0 1]\n",
      " [1 0 1 0 1 0 1 0]\n",
      " [0 1 0 1 0 1 0 1]\n",
      " [1 0 1 0 1 0 1 0]]\n"
     ]
    }
   ],
   "source": [
    "#19. 创建8乘8矩阵，设置为棋盘样式\n",
    "Z=np.zeros((8,8),dtype=int)\n",
    "Z[1::2,::2]=1\n",
    "Z[::2,1::2]=1\n",
    "print(Z)"
   ]
  },
  {
   "cell_type": "code",
   "execution_count": 61,
   "metadata": {},
   "outputs": [
    {
     "name": "stdout",
     "output_type": "stream",
     "text": [
      "(1, 5, 4)\n"
     ]
    }
   ],
   "source": [
    "#20.考虑（6,7,8）形状的数组，第100个元素的索引（x,y,z）是什么？\n",
    "print(np.unravel_index(100,(6,7,8)))"
   ]
  },
  {
   "cell_type": "code",
   "execution_count": null,
   "metadata": {},
   "outputs": [],
   "source": []
  }
 ],
 "metadata": {
  "kernelspec": {
   "display_name": "Python 3",
   "language": "python",
   "name": "python3"
  },
  "language_info": {
   "codemirror_mode": {
    "name": "ipython",
    "version": 3
   },
   "file_extension": ".py",
   "mimetype": "text/x-python",
   "name": "python",
   "nbconvert_exporter": "python",
   "pygments_lexer": "ipython3",
   "version": "3.7.3"
  }
 },
 "nbformat": 4,
 "nbformat_minor": 2
}
