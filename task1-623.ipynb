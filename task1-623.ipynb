{
 "cells": [
  {
   "cell_type": "code",
   "execution_count": 63,
   "metadata": {},
   "outputs": [],
   "source": [
    "import numpy as np"
   ]
  },
  {
   "cell_type": "code",
   "execution_count": 64,
   "metadata": {},
   "outputs": [],
   "source": [
    "my_arr=np.arange(1000000)"
   ]
  },
  {
   "cell_type": "code",
   "execution_count": 65,
   "metadata": {},
   "outputs": [],
   "source": [
    "my_list=list(range(1000000))"
   ]
  },
  {
   "cell_type": "code",
   "execution_count": 66,
   "metadata": {},
   "outputs": [
    {
     "name": "stdout",
     "output_type": "stream",
     "text": [
      "Wall time: 32 ms\n"
     ]
    }
   ],
   "source": [
    "%time for _ in range(10):my_arr2=my_arr*2"
   ]
  },
  {
   "cell_type": "code",
   "execution_count": 67,
   "metadata": {},
   "outputs": [
    {
     "name": "stdout",
     "output_type": "stream",
     "text": [
      "Wall time: 923 ms\n"
     ]
    }
   ],
   "source": [
    "%time for _ in range(10):my_list2=[x*2 for x in my_list]"
   ]
  },
  {
   "cell_type": "code",
   "execution_count": 68,
   "metadata": {
    "scrolled": true
   },
   "outputs": [
    {
     "name": "stdout",
     "output_type": "stream",
     "text": [
      "hello!\n",
      "      world!\n",
      "      I'm coming.\n"
     ]
    }
   ],
   "source": [
    "#科塞100题\n",
    "print(\"\"\"hello!\n",
    "      world!\n",
    "      I'm coming.\"\"\")"
   ]
  },
  {
   "cell_type": "code",
   "execution_count": 69,
   "metadata": {},
   "outputs": [],
   "source": [
    "#上边为什么会有缩进？好奇怪"
   ]
  },
  {
   "cell_type": "code",
   "execution_count": 70,
   "metadata": {},
   "outputs": [],
   "source": [
    "#1.导入库并改名\n",
    "import numpy as np"
   ]
  },
  {
   "cell_type": "code",
   "execution_count": 71,
   "metadata": {},
   "outputs": [
    {
     "name": "stdout",
     "output_type": "stream",
     "text": [
      "1.16.4\n",
      "mkl_info:\n",
      "    libraries = ['mkl_rt']\n",
      "    library_dirs = ['C:/ProgramData/Anaconda3\\\\Library\\\\lib']\n",
      "    define_macros = [('SCIPY_MKL_H', None), ('HAVE_CBLAS', None)]\n",
      "    include_dirs = ['C:\\\\Program Files (x86)\\\\IntelSWTools\\\\compilers_and_libraries_2019.0.117\\\\windows\\\\mkl', 'C:\\\\Program Files (x86)\\\\IntelSWTools\\\\compilers_and_libraries_2019.0.117\\\\windows\\\\mkl\\\\include', 'C:\\\\Program Files (x86)\\\\IntelSWTools\\\\compilers_and_libraries_2019.0.117\\\\windows\\\\mkl\\\\lib', 'C:/ProgramData/Anaconda3\\\\Library\\\\include']\n",
      "blas_mkl_info:\n",
      "    libraries = ['mkl_rt']\n",
      "    library_dirs = ['C:/ProgramData/Anaconda3\\\\Library\\\\lib']\n",
      "    define_macros = [('SCIPY_MKL_H', None), ('HAVE_CBLAS', None)]\n",
      "    include_dirs = ['C:\\\\Program Files (x86)\\\\IntelSWTools\\\\compilers_and_libraries_2019.0.117\\\\windows\\\\mkl', 'C:\\\\Program Files (x86)\\\\IntelSWTools\\\\compilers_and_libraries_2019.0.117\\\\windows\\\\mkl\\\\include', 'C:\\\\Program Files (x86)\\\\IntelSWTools\\\\compilers_and_libraries_2019.0.117\\\\windows\\\\mkl\\\\lib', 'C:/ProgramData/Anaconda3\\\\Library\\\\include']\n",
      "blas_opt_info:\n",
      "    libraries = ['mkl_rt']\n",
      "    library_dirs = ['C:/ProgramData/Anaconda3\\\\Library\\\\lib']\n",
      "    define_macros = [('SCIPY_MKL_H', None), ('HAVE_CBLAS', None)]\n",
      "    include_dirs = ['C:\\\\Program Files (x86)\\\\IntelSWTools\\\\compilers_and_libraries_2019.0.117\\\\windows\\\\mkl', 'C:\\\\Program Files (x86)\\\\IntelSWTools\\\\compilers_and_libraries_2019.0.117\\\\windows\\\\mkl\\\\include', 'C:\\\\Program Files (x86)\\\\IntelSWTools\\\\compilers_and_libraries_2019.0.117\\\\windows\\\\mkl\\\\lib', 'C:/ProgramData/Anaconda3\\\\Library\\\\include']\n",
      "lapack_mkl_info:\n",
      "    libraries = ['mkl_rt']\n",
      "    library_dirs = ['C:/ProgramData/Anaconda3\\\\Library\\\\lib']\n",
      "    define_macros = [('SCIPY_MKL_H', None), ('HAVE_CBLAS', None)]\n",
      "    include_dirs = ['C:\\\\Program Files (x86)\\\\IntelSWTools\\\\compilers_and_libraries_2019.0.117\\\\windows\\\\mkl', 'C:\\\\Program Files (x86)\\\\IntelSWTools\\\\compilers_and_libraries_2019.0.117\\\\windows\\\\mkl\\\\include', 'C:\\\\Program Files (x86)\\\\IntelSWTools\\\\compilers_and_libraries_2019.0.117\\\\windows\\\\mkl\\\\lib', 'C:/ProgramData/Anaconda3\\\\Library\\\\include']\n",
      "lapack_opt_info:\n",
      "    libraries = ['mkl_rt']\n",
      "    library_dirs = ['C:/ProgramData/Anaconda3\\\\Library\\\\lib']\n",
      "    define_macros = [('SCIPY_MKL_H', None), ('HAVE_CBLAS', None)]\n",
      "    include_dirs = ['C:\\\\Program Files (x86)\\\\IntelSWTools\\\\compilers_and_libraries_2019.0.117\\\\windows\\\\mkl', 'C:\\\\Program Files (x86)\\\\IntelSWTools\\\\compilers_and_libraries_2019.0.117\\\\windows\\\\mkl\\\\include', 'C:\\\\Program Files (x86)\\\\IntelSWTools\\\\compilers_and_libraries_2019.0.117\\\\windows\\\\mkl\\\\lib', 'C:/ProgramData/Anaconda3\\\\Library\\\\include']\n"
     ]
    }
   ],
   "source": [
    "#2.输出版本和配置说明\n",
    "print(np.__version__)#第一次执行时没注意，这里少打了半个括号\n",
    "np.show_config()#这也是个函数啊？好神奇"
   ]
  },
  {
   "cell_type": "code",
   "execution_count": 72,
   "metadata": {},
   "outputs": [
    {
     "name": "stdout",
     "output_type": "stream",
     "text": [
      "[0. 0. 0. 0. 0. 0. 0. 0. 0. 0.]\n"
     ]
    }
   ],
   "source": [
    "#3.创建固定长度的空向量\n",
    "Z=np.zeros(10)#运行时提示了NameError: name 'z' is not defined错误,原来是print语句里的Z是小写的，又一次验证了Python是大小写敏感的\n",
    "print(Z)"
   ]
  },
  {
   "cell_type": "code",
   "execution_count": 73,
   "metadata": {},
   "outputs": [
    {
     "name": "stdout",
     "output_type": "stream",
     "text": [
      "800 bytes\n"
     ]
    }
   ],
   "source": [
    "#4.找到数组的内存大小\n",
    "Z=np.zeros((10,10))\n",
    "print(\"%d bytes\"%(Z.size*Z.itemsize))#?为什么是800啊？我没学过数据结构..."
   ]
  },
  {
   "cell_type": "code",
   "execution_count": 74,
   "metadata": {},
   "outputs": [
    {
     "name": "stdout",
     "output_type": "stream",
     "text": [
      "add(x1, x2, /, out=None, *, where=True, casting='same_kind', order='K', dtype=None, subok=True[, signature, extobj])\n",
      "\n",
      "Add arguments element-wise.\n",
      "\n",
      "Parameters\n",
      "----------\n",
      "x1, x2 : array_like\n",
      "    The arrays to be added.  If ``x1.shape != x2.shape``, they must be\n",
      "    broadcastable to a common shape (which may be the shape of one or\n",
      "    the other).\n",
      "out : ndarray, None, or tuple of ndarray and None, optional\n",
      "    A location into which the result is stored. If provided, it must have\n",
      "    a shape that the inputs broadcast to. If not provided or `None`,\n",
      "    a freshly-allocated array is returned. A tuple (possible only as a\n",
      "    keyword argument) must have length equal to the number of outputs.\n",
      "where : array_like, optional\n",
      "    Values of True indicate to calculate the ufunc at that position, values\n",
      "    of False indicate to leave the value in the output alone.\n",
      "**kwargs\n",
      "    For other keyword-only arguments, see the\n",
      "    :ref:`ufunc docs <ufuncs.kwargs>`.\n",
      "\n",
      "Returns\n",
      "-------\n",
      "add : ndarray or scalar\n",
      "    The sum of `x1` and `x2`, element-wise.\n",
      "    This is a scalar if both `x1` and `x2` are scalars.\n",
      "\n",
      "Notes\n",
      "-----\n",
      "Equivalent to `x1` + `x2` in terms of array broadcasting.\n",
      "\n",
      "Examples\n",
      "--------\n",
      ">>> np.add(1.0, 4.0)\n",
      "5.0\n",
      ">>> x1 = np.arange(9.0).reshape((3, 3))\n",
      ">>> x2 = np.arange(3.0)\n",
      ">>> np.add(x1, x2)\n",
      "array([[  0.,   2.,   4.],\n",
      "       [  3.,   5.,   7.],\n",
      "       [  6.,   8.,  10.]])\n"
     ]
    }
   ],
   "source": [
    "#5.获取numpy中add函数的说明文档\n",
    "np.info(np.add)#import的时候已经重命名为np了，于是numpy就不能用了。。。"
   ]
  },
  {
   "cell_type": "code",
   "execution_count": 75,
   "metadata": {},
   "outputs": [
    {
     "name": "stdout",
     "output_type": "stream",
     "text": [
      "[0. 0. 0. 0. 1. 0. 0. 0. 0. 0.]\n"
     ]
    }
   ],
   "source": [
    "#6.创建长度为10，第五个值为1的空向量\n",
    "Z=np.zeros(10)\n",
    "Z[4]=1#从0开始计数\n",
    "print(Z)"
   ]
  },
  {
   "cell_type": "code",
   "execution_count": 76,
   "metadata": {},
   "outputs": [
    {
     "name": "stdout",
     "output_type": "stream",
     "text": [
      "[ 10  11  12  13  14  15  16  17  18  19  20  21  22  23  24  25  26  27\n",
      "  28  29  30  31  32  33  34  35  36  37  38  39  40  41  42  43  44  45\n",
      "  46  47  48  49  50  51  52  53  54  55  56  57  58  59  60  61  62  63\n",
      "  64  65  66  67  68  69  70  71  72  73  74  75  76  77  78  79  80  81\n",
      "  82  83  84  85  86  87  88  89  90  91  92  93  94  95  96  97  98  99\n",
      " 100]\n"
     ]
    }
   ],
   "source": [
    "#7.创建值域范围从10到100的向量\n",
    "Z=np.arange(10,101)#到100，由于Python创建的是左闭右开的，因此上限要取101\n",
    "print(Z)"
   ]
  },
  {
   "cell_type": "code",
   "execution_count": 77,
   "metadata": {},
   "outputs": [
    {
     "name": "stdout",
     "output_type": "stream",
     "text": [
      "[49 48 47 46 45 44 43 42 41 40 39 38 37 36 35 34 33 32 31 30 29 28 27 26\n",
      " 25 24 23 22 21 20 19 18 17 16 15 14 13 12 11 10  9  8  7  6  5  4  3  2\n",
      "  1  0]\n"
     ]
    }
   ],
   "source": [
    "#8.反转一个向量\n",
    "Z=np.arange(50)\n",
    "Z=Z[::-1]\n",
    "print(Z)"
   ]
  },
  {
   "cell_type": "code",
   "execution_count": 78,
   "metadata": {},
   "outputs": [
    {
     "name": "stdout",
     "output_type": "stream",
     "text": [
      "[[0 1 2]\n",
      " [3 4 5]\n",
      " [6 7 8]]\n"
     ]
    }
   ],
   "source": [
    "#9.创建一个 3乘3且值从0到8的矩阵\n",
    "Z=np.arange(9).reshape(3,3)#reshape将一维数组改写成三乘三矩阵\n",
    "print(Z)"
   ]
  },
  {
   "cell_type": "code",
   "execution_count": 79,
   "metadata": {},
   "outputs": [
    {
     "name": "stdout",
     "output_type": "stream",
     "text": [
      "[[0 1 2]\n",
      " [3 4 5]\n",
      " [6 7 8]]\n"
     ]
    }
   ],
   "source": [
    "#9'.创建一个 3乘3且值从0到8的矩阵 另一种方法\n",
    "Z=np.arange(9).reshape(-1,3)#reshape可以只指定列数，行数看着办\n",
    "print(Z)"
   ]
  },
  {
   "cell_type": "code",
   "execution_count": 80,
   "metadata": {},
   "outputs": [
    {
     "name": "stdout",
     "output_type": "stream",
     "text": [
      "[[  0   1   2   3   4   5   6   7   8   9  10  11  12  13  14  15  16  17\n",
      "   18]\n",
      " [ 19  20  21  22  23  24  25  26  27  28  29  30  31  32  33  34  35  36\n",
      "   37]\n",
      " [ 38  39  40  41  42  43  44  45  46  47  48  49  50  51  52  53  54  55\n",
      "   56]\n",
      " [ 57  58  59  60  61  62  63  64  65  66  67  68  69  70  71  72  73  74\n",
      "   75]\n",
      " [ 76  77  78  79  80  81  82  83  84  85  86  87  88  89  90  91  92  93\n",
      "   94]\n",
      " [ 95  96  97  98  99 100 101 102 103 104 105 106 107 108 109 110 111 112\n",
      "  113]\n",
      " [114 115 116 117 118 119 120 121 122 123 124 125 126 127 128 129 130 131\n",
      "  132]\n",
      " [133 134 135 136 137 138 139 140 141 142 143 144 145 146 147 148 149 150\n",
      "  151]\n",
      " [152 153 154 155 156 157 158 159 160 161 162 163 164 165 166 167 168 169\n",
      "  170]\n",
      " [171 172 173 174 175 176 177 178 179 180 181 182 183 184 185 186 187 188\n",
      "  189]\n",
      " [190 191 192 193 194 195 196 197 198 199 200 201 202 203 204 205 206 207\n",
      "  208]\n",
      " [209 210 211 212 213 214 215 216 217 218 219 220 221 222 223 224 225 226\n",
      "  227]\n",
      " [228 229 230 231 232 233 234 235 236 237 238 239 240 241 242 243 244 245\n",
      "  246]\n",
      " [247 248 249 250 251 252 253 254 255 256 257 258 259 260 261 262 263 264\n",
      "  265]\n",
      " [266 267 268 269 270 271 272 273 274 275 276 277 278 279 280 281 282 283\n",
      "  284]\n",
      " [285 286 287 288 289 290 291 292 293 294 295 296 297 298 299 300 301 302\n",
      "  303]\n",
      " [304 305 306 307 308 309 310 311 312 313 314 315 316 317 318 319 320 321\n",
      "  322]\n",
      " [323 324 325 326 327 328 329 330 331 332 333 334 335 336 337 338 339 340\n",
      "  341]\n",
      " [342 343 344 345 346 347 348 349 350 351 352 353 354 355 356 357 358 359\n",
      "  360]\n",
      " [361 362 363 364 365 366 367 368 369 370 371 372 373 374 375 376 377 378\n",
      "  379]\n",
      " [380 381 382 383 384 385 386 387 388 389 390 391 392 393 394 395 396 397\n",
      "  398]\n",
      " [399 400 401 402 403 404 405 406 407 408 409 410 411 412 413 414 415 416\n",
      "  417]\n",
      " [418 419 420 421 422 423 424 425 426 427 428 429 430 431 432 433 434 435\n",
      "  436]\n",
      " [437 438 439 440 441 442 443 444 445 446 447 448 449 450 451 452 453 454\n",
      "  455]\n",
      " [456 457 458 459 460 461 462 463 464 465 466 467 468 469 470 471 472 473\n",
      "  474]\n",
      " [475 476 477 478 479 480 481 482 483 484 485 486 487 488 489 490 491 492\n",
      "  493]\n",
      " [494 495 496 497 498 499 500 501 502 503 504 505 506 507 508 509 510 511\n",
      "  512]\n",
      " [513 514 515 516 517 518 519 520 521 522 523 524 525 526 527 528 529 530\n",
      "  531]\n",
      " [532 533 534 535 536 537 538 539 540 541 542 543 544 545 546 547 548 549\n",
      "  550]\n",
      " [551 552 553 554 555 556 557 558 559 560 561 562 563 564 565 566 567 568\n",
      "  569]\n",
      " [570 571 572 573 574 575 576 577 578 579 580 581 582 583 584 585 586 587\n",
      "  588]\n",
      " [589 590 591 592 593 594 595 596 597 598 599 600 601 602 603 604 605 606\n",
      "  607]\n",
      " [608 609 610 611 612 613 614 615 616 617 618 619 620 621 622 623 624 625\n",
      "  626]\n",
      " [627 628 629 630 631 632 633 634 635 636 637 638 639 640 641 642 643 644\n",
      "  645]\n",
      " [646 647 648 649 650 651 652 653 654 655 656 657 658 659 660 661 662 663\n",
      "  664]\n",
      " [665 666 667 668 669 670 671 672 673 674 675 676 677 678 679 680 681 682\n",
      "  683]\n",
      " [684 685 686 687 688 689 690 691 692 693 694 695 696 697 698 699 700 701\n",
      "  702]]\n"
     ]
    }
   ],
   "source": [
    "#9''.创建一个更大的矩阵 #这时如果不能整除，就会报错\n",
    "Z=np.arange(703).reshape(-1,19)#reshape可以只指定列数，行数看着办\n",
    "print(Z)"
   ]
  },
  {
   "cell_type": "code",
   "execution_count": 81,
   "metadata": {},
   "outputs": [
    {
     "name": "stdout",
     "output_type": "stream",
     "text": [
      "(array([ 0,  1,  2,  6,  7,  8, 10, 11, 12, 13, 14, 16], dtype=int64),)\n"
     ]
    }
   ],
   "source": [
    "#10.找出给定数组中非零元素的位置索引\n",
    "nz=np.nonzero([1,2,5,0,0,0,3,6,8,0,8,6,5,4,6,0,87,0])#注意是nonzero\n",
    "print(nz)"
   ]
  },
  {
   "cell_type": "code",
   "execution_count": 82,
   "metadata": {},
   "outputs": [
    {
     "name": "stdout",
     "output_type": "stream",
     "text": [
      "[[1. 0. 0.]\n",
      " [0. 1. 0.]\n",
      " [0. 0. 1.]]\n"
     ]
    }
   ],
   "source": [
    "#11.创建单位矩阵\n",
    "print(np.eye(3))\n"
   ]
  },
  {
   "cell_type": "code",
   "execution_count": 83,
   "metadata": {},
   "outputs": [
    {
     "name": "stdout",
     "output_type": "stream",
     "text": [
      "[[[0.80562886 0.64513    0.30158973]\n",
      "  [0.34552486 0.45086393 0.66913187]\n",
      "  [0.02592093 0.01249612 0.69706584]]\n",
      "\n",
      " [[0.03967487 0.20959604 0.97979243]\n",
      "  [0.22759276 0.56121001 0.70797498]\n",
      "  [0.47951998 0.85424896 0.76817791]]\n",
      "\n",
      " [[0.81150737 0.30026036 0.32632873]\n",
      "  [0.32417393 0.17040797 0.41474287]\n",
      "  [0.85246425 0.91537884 0.15601463]]]\n"
     ]
    }
   ],
   "source": [
    "#12.创建3乘3乘3的随机数组\n",
    "print(np.random.random((3,3,3)))"
   ]
  },
  {
   "cell_type": "code",
   "execution_count": 84,
   "metadata": {},
   "outputs": [
    {
     "name": "stdout",
     "output_type": "stream",
     "text": [
      "0.0006670801526186265 0.9901207325635548\n"
     ]
    }
   ],
   "source": [
    "#13.创建10乘10随机数组并找出最大值和最小值\n",
    "Z=np.random.random((10,10))\n",
    "Zmin,Zmax=Z.min(),Z.max()#赋值也可以这样啊\n",
    "print (Zmin,Zmax)"
   ]
  },
  {
   "cell_type": "code",
   "execution_count": 85,
   "metadata": {},
   "outputs": [
    {
     "name": "stdout",
     "output_type": "stream",
     "text": [
      "0.41361472182691517 0.9286885967862559 0.0003267915907702035\n"
     ]
    }
   ],
   "source": [
    "#14.创建给定长度的随机向量并求平均值、最大最小值\n",
    "Z=np.random.random((30))\n",
    "print(Z.mean(),Z.max(),Z.min())\n"
   ]
  },
  {
   "cell_type": "code",
   "execution_count": 86,
   "metadata": {},
   "outputs": [
    {
     "name": "stdout",
     "output_type": "stream",
     "text": [
      "[[1. 1. 1. 1. 1. 1. 1. 1. 1. 1.]\n",
      " [1. 0. 0. 0. 0. 0. 0. 0. 0. 1.]\n",
      " [1. 0. 0. 0. 0. 0. 0. 0. 0. 1.]\n",
      " [1. 0. 0. 0. 0. 0. 0. 0. 0. 1.]\n",
      " [1. 0. 0. 0. 0. 0. 0. 0. 0. 1.]\n",
      " [1. 0. 0. 0. 0. 0. 0. 0. 0. 1.]\n",
      " [1. 0. 0. 0. 0. 0. 0. 0. 0. 1.]\n",
      " [1. 0. 0. 0. 0. 0. 0. 0. 0. 1.]\n",
      " [1. 0. 0. 0. 0. 0. 0. 0. 0. 1.]\n",
      " [1. 1. 1. 1. 1. 1. 1. 1. 1. 1.]]\n"
     ]
    }
   ],
   "source": [
    "#15.创建二维数组，边界值为1，其余为0\n",
    "Z=np.ones((10,10))\n",
    "Z[1:-1,1:-1]=0#这是什么意思呢？\n",
    "print(Z)"
   ]
  },
  {
   "cell_type": "code",
   "execution_count": 87,
   "metadata": {},
   "outputs": [
    {
     "name": "stdout",
     "output_type": "stream",
     "text": [
      "[[0. 0. 0. 0. 0. 0. 0.]\n",
      " [0. 1. 1. 1. 1. 1. 0.]\n",
      " [0. 1. 1. 1. 1. 1. 0.]\n",
      " [0. 1. 1. 1. 1. 1. 0.]\n",
      " [0. 1. 1. 1. 1. 1. 0.]\n",
      " [0. 1. 1. 1. 1. 1. 0.]\n",
      " [0. 0. 0. 0. 0. 0. 0.]]\n"
     ]
    }
   ],
   "source": [
    "#16.对于给定数组，添加0值边界\n",
    "Z=np.ones((5,5))\n",
    "Z=np.pad(Z,pad_width=1,mode='constant',constant_values=0)\n",
    "print(Z)"
   ]
  },
  {
   "cell_type": "code",
   "execution_count": 88,
   "metadata": {},
   "outputs": [
    {
     "data": {
      "text/plain": [
       "nan"
      ]
     },
     "execution_count": 88,
     "metadata": {},
     "output_type": "execute_result"
    }
   ],
   "source": [
    "#17.计算\n",
    "0*np.nan#nan=not a number"
   ]
  },
  {
   "cell_type": "code",
   "execution_count": 89,
   "metadata": {},
   "outputs": [
    {
     "data": {
      "text/plain": [
       "False"
      ]
     },
     "execution_count": 89,
     "metadata": {},
     "output_type": "execute_result"
    }
   ],
   "source": [
    "np.nan==np.nan"
   ]
  },
  {
   "cell_type": "code",
   "execution_count": 90,
   "metadata": {},
   "outputs": [
    {
     "data": {
      "text/plain": [
       "False"
      ]
     },
     "execution_count": 90,
     "metadata": {},
     "output_type": "execute_result"
    }
   ],
   "source": [
    "np.nan>np.nan"
   ]
  },
  {
   "cell_type": "code",
   "execution_count": 91,
   "metadata": {},
   "outputs": [
    {
     "data": {
      "text/plain": [
       "nan"
      ]
     },
     "execution_count": 91,
     "metadata": {},
     "output_type": "execute_result"
    }
   ],
   "source": [
    "np.nan-np.nan"
   ]
  },
  {
   "cell_type": "code",
   "execution_count": 92,
   "metadata": {},
   "outputs": [
    {
     "data": {
      "text/plain": [
       "False"
      ]
     },
     "execution_count": 92,
     "metadata": {},
     "output_type": "execute_result"
    }
   ],
   "source": [
    "0.3==3*0.1"
   ]
  },
  {
   "cell_type": "code",
   "execution_count": 93,
   "metadata": {},
   "outputs": [
    {
     "name": "stdout",
     "output_type": "stream",
     "text": [
      "[[0 0 0 0 0]\n",
      " [1 0 0 0 0]\n",
      " [0 2 0 0 0]\n",
      " [0 0 3 0 0]\n",
      " [0 0 0 4 0]]\n"
     ]
    }
   ],
   "source": [
    "#18.创建5乘5矩阵，并设置值1,2,3,4落在对角线下方\n",
    "Z=np.diag(1+np.arange(4),k=-1)\n",
    "print(Z)"
   ]
  },
  {
   "cell_type": "code",
   "execution_count": 94,
   "metadata": {},
   "outputs": [
    {
     "name": "stdout",
     "output_type": "stream",
     "text": [
      "[[0 1 0 1 0 1 0 1]\n",
      " [1 0 1 0 1 0 1 0]\n",
      " [0 1 0 1 0 1 0 1]\n",
      " [1 0 1 0 1 0 1 0]\n",
      " [0 1 0 1 0 1 0 1]\n",
      " [1 0 1 0 1 0 1 0]\n",
      " [0 1 0 1 0 1 0 1]\n",
      " [1 0 1 0 1 0 1 0]]\n"
     ]
    }
   ],
   "source": [
    "#19. 创建8乘8矩阵，设置为棋盘样式\n",
    "Z=np.zeros((8,8),dtype=int)\n",
    "Z[1::2,::2]=1\n",
    "Z[::2,1::2]=1\n",
    "print(Z)"
   ]
  },
  {
   "cell_type": "code",
   "execution_count": 95,
   "metadata": {},
   "outputs": [
    {
     "name": "stdout",
     "output_type": "stream",
     "text": [
      "(1, 5, 4)\n"
     ]
    }
   ],
   "source": [
    "#20.考虑（6,7,8）形状的数组，第100个元素的索引（x,y,z）是什么？\n",
    "print(np.unravel_index(100,(6,7,8)))"
   ]
  },
  {
   "cell_type": "code",
   "execution_count": 96,
   "metadata": {},
   "outputs": [
    {
     "name": "stdout",
     "output_type": "stream",
     "text": [
      "[[0 1 0 1 0 1 0 1]\n",
      " [1 0 1 0 1 0 1 0]\n",
      " [0 1 0 1 0 1 0 1]\n",
      " [1 0 1 0 1 0 1 0]\n",
      " [0 1 0 1 0 1 0 1]\n",
      " [1 0 1 0 1 0 1 0]\n",
      " [0 1 0 1 0 1 0 1]\n",
      " [1 0 1 0 1 0 1 0]]\n"
     ]
    }
   ],
   "source": [
    "#21.用title函数创建8乘8的棋盘样式矩阵\n",
    "Z=np.tile(np.array([[0,1],[1,0]]),(4,4))\n",
    "print(Z)"
   ]
  },
  {
   "cell_type": "code",
   "execution_count": 97,
   "metadata": {},
   "outputs": [
    {
     "name": "stdout",
     "output_type": "stream",
     "text": [
      "[[0.16886864 0.71252662 0.61891944 0.44032625 0.28443179]\n",
      " [1.         0.70983949 0.00437339 0.34807091 0.53807347]\n",
      " [0.32336759 0.         0.24387959 0.34197049 0.13216782]\n",
      " [0.08390243 0.9204955  0.8411657  0.03085535 0.13309234]\n",
      " [0.22727999 0.72498043 0.726158   0.29414297 0.28301138]]\n"
     ]
    }
   ],
   "source": [
    "#22.对5乘5随机矩阵归一化\n",
    "Z=np.random.random((5,5))\n",
    "Zmax,Zmin=Z.max(),Z.min()\n",
    "Z=(Z-Zmin)/(Zmax-Zmin)\n",
    "print(Z)"
   ]
  },
  {
   "cell_type": "code",
   "execution_count": 98,
   "metadata": {},
   "outputs": [
    {
     "data": {
      "text/plain": [
       "dtype([('r', 'u1'), ('g', 'u1'), ('b', 'u1'), ('a', 'u1')])"
      ]
     },
     "execution_count": 98,
     "metadata": {},
     "output_type": "execute_result"
    }
   ],
   "source": [
    "#23.创建一个将颜色描述成（RGBA）四个无符号字节的自定义dtype\n",
    "color=np.dtype([(\"r\",np.ubyte,1),\n",
    "                (\"g\",np.ubyte,1),\n",
    "                (\"b\",np.ubyte,1),\n",
    "                (\"a\",np.ubyte,1)])\n",
    "color"
   ]
  },
  {
   "cell_type": "code",
   "execution_count": 99,
   "metadata": {},
   "outputs": [
    {
     "name": "stdout",
     "output_type": "stream",
     "text": [
      "[[3. 3.]\n",
      " [3. 3.]\n",
      " [3. 3.]\n",
      " [3. 3.]\n",
      " [3. 3.]]\n"
     ]
    }
   ],
   "source": [
    "#24.5乘3矩阵与3乘2矩阵相乘的结果\n",
    "Z=np.dot(np.ones((5,3)),np.ones((3,2)))\n",
    "print(Z)"
   ]
  },
  {
   "cell_type": "code",
   "execution_count": 100,
   "metadata": {},
   "outputs": [
    {
     "name": "stdout",
     "output_type": "stream",
     "text": [
      "[ 0  1  2  3  4  5  6  7  8  9 10 11 12 13 14]\n",
      "[ 0  1  2  3 -4 -5 -6 -7 -8  9 10 11 12 13 14]\n"
     ]
    }
   ],
   "source": [
    "#25.给定一维数组，对其在3到8之间的元素取反\n",
    "Z=np.arange(15)\n",
    "print(Z)#增加对比\n",
    "Z[(3<Z)&(Z<=8)]*=-1\n",
    "print(Z)"
   ]
  },
  {
   "cell_type": "code",
   "execution_count": 101,
   "metadata": {},
   "outputs": [
    {
     "name": "stdout",
     "output_type": "stream",
     "text": [
      "9\n",
      "10\n"
     ]
    }
   ],
   "source": [
    "#26.执行脚本的结果是什么？\n",
    "print(sum(range(5),-1))\n",
    "from numpy import *\n",
    "print(sum(range(5),-1))#为什么会不一样？参https://blog.csdn.net/lyl771857509/article/details/84047421"
   ]
  },
  {
   "cell_type": "code",
   "execution_count": 102,
   "metadata": {},
   "outputs": [
    {
     "name": "stdout",
     "output_type": "stream",
     "text": [
      "SUM:21\n",
      "SUM_0:[5 7 9]\n",
      "SUM_1:[ 6 15]\n",
      "np_SUM:21\n",
      "np_SUM_0:[5 7 9]\n",
      "np_SUM_1:[ 6 15]\n"
     ]
    }
   ],
   "source": [
    "#26'.numpy的sum函数与Python的sum函数的区别\n",
    "a = array([[1, 2, 3], [4, 5, 6]])\n",
    "# Python自带sum函数相加\n",
    "SUM = sum(a)  # 所有元素求和\n",
    "SUM_0 = sum(a, 0)  # 按照列求和\n",
    "SUM_1 = sum(a, 1)  # 按照行求和\n",
    "print(\"SUM:\"+str(SUM))\n",
    "print(\"SUM_0:\"+str(SUM_0))\n",
    "print(\"SUM_1:\"+str(SUM_1))\n",
    " \n",
    "# numpy中sum函数相加\n",
    "np_SUM = np.sum(a)  # 所有元素求和\n",
    "print(\"np_SUM:\"+str(np_SUM))\n",
    "np_SUM_0 = np.sum(a, axis=0)  # 按照列求和\n",
    "print(\"np_SUM_0:\"+str(np_SUM_0))\n",
    "np_SUM_1 = np.sum(a, axis=1)  # 按照行求和\n",
    "print(\"np_SUM_1:\"+str(np_SUM_1))\n",
    "#--------------------- \n",
    "#作者：DL&CV_study \n",
    "#来源：CSDN \n",
    "#原文：https://blog.csdn.net/Sophia_11/article/details/84975009 \n",
    "#版权声明：本文为博主原创文章，转载请附上博文链接！"
   ]
  },
  {
   "cell_type": "code",
   "execution_count": 103,
   "metadata": {},
   "outputs": [
    {
     "data": {
      "text/plain": [
       "array([  1,   1,   4,  27, 256], dtype=int32)"
      ]
     },
     "execution_count": 103,
     "metadata": {},
     "output_type": "execute_result"
    }
   ],
   "source": [
    "#27.对于整数向量Z，如下表达式合法的有哪些？\n",
    "Z = np.arange(5)\n",
    "Z ** Z # 向量也可以做幂运算\n"
   ]
  },
  {
   "cell_type": "code",
   "execution_count": 104,
   "metadata": {},
   "outputs": [
    {
     "data": {
      "text/plain": [
       "array([0, 1, 2, 4, 8], dtype=int32)"
      ]
     },
     "execution_count": 104,
     "metadata": {},
     "output_type": "execute_result"
    }
   ],
   "source": [
    "Z = np.arange(5)\n",
    "2 << Z >> 2  # false#<<右移运算符，这个为什么不合法？"
   ]
  },
  {
   "cell_type": "code",
   "execution_count": 105,
   "metadata": {},
   "outputs": [
    {
     "data": {
      "text/plain": [
       "array([False, False, False, False, False])"
      ]
     },
     "execution_count": 105,
     "metadata": {},
     "output_type": "execute_result"
    }
   ],
   "source": [
    "Z = np.arange(5)\n",
    "Z <- Z   # legal"
   ]
  },
  {
   "cell_type": "code",
   "execution_count": 106,
   "metadata": {},
   "outputs": [
    {
     "name": "stdout",
     "output_type": "stream",
     "text": [
      "[0 1 2 3 4]\n"
     ]
    },
    {
     "data": {
      "text/plain": [
       "array([0.+0.j, 0.+1.j, 0.+2.j, 0.+3.j, 0.+4.j])"
      ]
     },
     "execution_count": 106,
     "metadata": {},
     "output_type": "execute_result"
    }
   ],
   "source": [
    "Z = np.arange(5)\n",
    "print(Z)\n",
    "1j*Z   # legal#??"
   ]
  },
  {
   "cell_type": "code",
   "execution_count": 107,
   "metadata": {},
   "outputs": [
    {
     "name": "stdout",
     "output_type": "stream",
     "text": [
      "[0 1 2 3 4]\n"
     ]
    },
    {
     "data": {
      "text/plain": [
       "array([0., 1., 2., 3., 4.])"
      ]
     },
     "execution_count": 107,
     "metadata": {},
     "output_type": "execute_result"
    }
   ],
   "source": [
    "Z = np.arange(5)\n",
    "print(Z)\n",
    "Z/1/1   # legal"
   ]
  },
  {
   "cell_type": "code",
   "execution_count": 109,
   "metadata": {},
   "outputs": [
    {
     "ename": "ValueError",
     "evalue": "The truth value of an array with more than one element is ambiguous. Use a.any() or a.all()",
     "output_type": "error",
     "traceback": [
      "\u001b[1;31m---------------------------------------------------------------------------\u001b[0m",
      "\u001b[1;31mValueError\u001b[0m                                Traceback (most recent call last)",
      "\u001b[1;32m<ipython-input-109-b1e990eded03>\u001b[0m in \u001b[0;36m<module>\u001b[1;34m\u001b[0m\n\u001b[0;32m      1\u001b[0m \u001b[0mZ\u001b[0m \u001b[1;33m=\u001b[0m \u001b[0mnp\u001b[0m\u001b[1;33m.\u001b[0m\u001b[0marange\u001b[0m\u001b[1;33m(\u001b[0m\u001b[1;36m5\u001b[0m\u001b[1;33m)\u001b[0m\u001b[1;33m\u001b[0m\u001b[1;33m\u001b[0m\u001b[0m\n\u001b[1;32m----> 2\u001b[1;33m \u001b[0mZ\u001b[0m\u001b[1;33m<\u001b[0m\u001b[0mZ\u001b[0m\u001b[1;33m>\u001b[0m\u001b[0mZ\u001b[0m    \u001b[1;31m# false\u001b[0m\u001b[1;33m\u001b[0m\u001b[1;33m\u001b[0m\u001b[0m\n\u001b[0m",
      "\u001b[1;31mValueError\u001b[0m: The truth value of an array with more than one element is ambiguous. Use a.any() or a.all()"
     ]
    }
   ],
   "source": [
    "Z = np.arange(5)\n",
    "Z<Z>Z    # false"
   ]
  },
  {
   "cell_type": "code",
   "execution_count": 111,
   "metadata": {},
   "outputs": [
    {
     "name": "stdout",
     "output_type": "stream",
     "text": [
      "nan\n",
      "0\n",
      "[-2.14748365e+09]\n"
     ]
    },
    {
     "name": "stderr",
     "output_type": "stream",
     "text": [
      "C:\\ProgramData\\Anaconda3\\lib\\site-packages\\ipykernel_launcher.py:2: RuntimeWarning: invalid value encountered in true_divide\n",
      "  \n",
      "C:\\ProgramData\\Anaconda3\\lib\\site-packages\\ipykernel_launcher.py:3: RuntimeWarning: divide by zero encountered in floor_divide\n",
      "  This is separate from the ipykernel package so we can avoid doing imports until\n"
     ]
    }
   ],
   "source": [
    "#28.表达式的结果\n",
    "print(np.array(0) / np.array(0))#除数是0，结果not a number\n",
    "print(np.array(0) // np.array(0))#整除\n",
    "print(np.array([np.nan]).astype(int).astype(float))#astype()函数转换arry中的数据类型"
   ]
  },
  {
   "cell_type": "code",
   "execution_count": 112,
   "metadata": {},
   "outputs": [
    {
     "name": "stdout",
     "output_type": "stream",
     "text": [
      "[ 7.40843463 -9.91471512 -0.95333075  4.47176957  6.8230166   0.10340737\n",
      " -3.11870387  1.82534031  7.78815898 -2.91217779]\n",
      "[  8. -10.  -1.   5.   7.   1.  -4.   2.   8.  -3.]\n"
     ]
    }
   ],
   "source": [
    "#29.从零位对浮点数做舍入\n",
    "Z=np.random.uniform(-10,+10,10)\n",
    "print(Z)\n",
    "print(np.copysign(np.ceil(np.abs(Z)),Z))"
   ]
  },
  {
   "cell_type": "code",
   "execution_count": 114,
   "metadata": {},
   "outputs": [
    {
     "name": "stdout",
     "output_type": "stream",
     "text": [
      "[4 7 3 1 8 4 5 4 7 0]\n",
      "[2 6 8 9 0 2 1 9 2 1]\n",
      "[0 1 8]\n"
     ]
    },
    {
     "ename": "AttributeError",
     "evalue": "module 'numpy' has no attribute 'intersectld'",
     "output_type": "error",
     "traceback": [
      "\u001b[1;31m---------------------------------------------------------------------------\u001b[0m",
      "\u001b[1;31mAttributeError\u001b[0m                            Traceback (most recent call last)",
      "\u001b[1;32m<ipython-input-114-50df1941da45>\u001b[0m in \u001b[0;36m<module>\u001b[1;34m\u001b[0m\n\u001b[0;32m      5\u001b[0m \u001b[0mprint\u001b[0m\u001b[1;33m(\u001b[0m\u001b[0mZ2\u001b[0m\u001b[1;33m)\u001b[0m\u001b[1;33m\u001b[0m\u001b[1;33m\u001b[0m\u001b[0m\n\u001b[0;32m      6\u001b[0m \u001b[0mprint\u001b[0m\u001b[1;33m(\u001b[0m\u001b[0mnp\u001b[0m\u001b[1;33m.\u001b[0m\u001b[0mintersect1d\u001b[0m\u001b[1;33m(\u001b[0m\u001b[0mZ1\u001b[0m\u001b[1;33m,\u001b[0m\u001b[0mZ2\u001b[0m\u001b[1;33m)\u001b[0m\u001b[1;33m)\u001b[0m\u001b[1;33m\u001b[0m\u001b[1;33m\u001b[0m\u001b[0m\n\u001b[1;32m----> 7\u001b[1;33m \u001b[0mprint\u001b[0m\u001b[1;33m(\u001b[0m\u001b[0mnp\u001b[0m\u001b[1;33m.\u001b[0m\u001b[0mintersectld\u001b[0m\u001b[1;33m(\u001b[0m\u001b[0mZ1\u001b[0m\u001b[1;33m,\u001b[0m\u001b[0mZ2\u001b[0m\u001b[1;33m)\u001b[0m\u001b[1;33m)\u001b[0m\u001b[1;31m#为什么手动敲的就不对？迷\u001b[0m\u001b[1;33m\u001b[0m\u001b[1;33m\u001b[0m\u001b[0m\n\u001b[0m",
      "\u001b[1;31mAttributeError\u001b[0m: module 'numpy' has no attribute 'intersectld'"
     ]
    }
   ],
   "source": [
    "#30.找出两个数组中的共同元素\n",
    "Z1=np.random.randint(0,10,10)\n",
    "Z2=np.random.randint(0,10,10)\n",
    "print(Z1)\n",
    "print(Z2)\n",
    "print(np.intersect1d(Z1,Z2))\n",
    "print(np.intersectld(Z1,Z2))#为什么手动敲的就不对？迷\n"
   ]
  },
  {
   "cell_type": "code",
   "execution_count": 115,
   "metadata": {},
   "outputs": [],
   "source": [
    "#31.如何忽略所有numpy警告？\n",
    "#这道题还是补做了，我怕我会忍不住...."
   ]
  },
  {
   "cell_type": "code",
   "execution_count": 116,
   "metadata": {},
   "outputs": [
    {
     "name": "stderr",
     "output_type": "stream",
     "text": [
      "C:\\ProgramData\\Anaconda3\\lib\\site-packages\\ipykernel_launcher.py:2: RuntimeWarning: invalid value encountered in sqrt\n",
      "  \n"
     ]
    },
    {
     "data": {
      "text/plain": [
       "False"
      ]
     },
     "execution_count": 116,
     "metadata": {},
     "output_type": "execute_result"
    }
   ],
   "source": [
    "#32.表达式是否正确？\n",
    "np.sqrt(-1) == np.emath.sqrt(-1)  # False 负一开什么根号啊？"
   ]
  },
  {
   "cell_type": "code",
   "execution_count": 117,
   "metadata": {},
   "outputs": [
    {
     "name": "stdout",
     "output_type": "stream",
     "text": [
      "Yesterday is 2019-06-22\n",
      "Today is 2019-06-23\n",
      "Tomorrow is 2019-06-24\n"
     ]
    }
   ],
   "source": [
    "#33.如何得到昨天、今天与明天的日期？\n",
    "yesterday = np.datetime64('today', 'D') - np.timedelta64(1, 'D')\n",
    "today     = np.datetime64('today', 'D')\n",
    "tomorrow  = np.datetime64('today', 'D') + np.timedelta64(1, 'D')\n",
    "print (\"Yesterday is \" + str(yesterday))\n",
    "print (\"Today is \" + str(today))\n",
    "print (\"Tomorrow is \"+ str(tomorrow))\n"
   ]
  },
  {
   "cell_type": "code",
   "execution_count": 118,
   "metadata": {},
   "outputs": [
    {
     "name": "stdout",
     "output_type": "stream",
     "text": [
      "['2016-07-01' '2016-07-02' '2016-07-03' '2016-07-04' '2016-07-05'\n",
      " '2016-07-06' '2016-07-07' '2016-07-08' '2016-07-09' '2016-07-10'\n",
      " '2016-07-11' '2016-07-12' '2016-07-13' '2016-07-14' '2016-07-15'\n",
      " '2016-07-16' '2016-07-17' '2016-07-18' '2016-07-19' '2016-07-20'\n",
      " '2016-07-21' '2016-07-22' '2016-07-23' '2016-07-24' '2016-07-25'\n",
      " '2016-07-26' '2016-07-27' '2016-07-28' '2016-07-29' '2016-07-30'\n",
      " '2016-07-31']\n"
     ]
    }
   ],
   "source": [
    "#34.输出2016年7月的所有日期\n",
    "Z = np.arange('2016-07', '2016-08', dtype='datetime64[D]')\n",
    "print(Z)"
   ]
  },
  {
   "cell_type": "code",
   "execution_count": 119,
   "metadata": {},
   "outputs": [
    {
     "data": {
      "text/plain": [
       "array([3., 3., 3.])"
      ]
     },
     "execution_count": 119,
     "metadata": {},
     "output_type": "execute_result"
    }
   ],
   "source": [
    "#35.如何直接在位计算(A+B)\\*(-A/2)(不建立副本)?\n",
    "A = np.ones(3)*1\n",
    "B = np.ones(3)*2\n",
    "C = np.ones(3)*3\n",
    "np.add(A,B,out=B)\n"
   ]
  },
  {
   "cell_type": "code",
   "execution_count": 120,
   "metadata": {},
   "outputs": [
    {
     "data": {
      "text/plain": [
       "array([0.5, 0.5, 0.5])"
      ]
     },
     "execution_count": 120,
     "metadata": {},
     "output_type": "execute_result"
    }
   ],
   "source": [
    "np.divide(A,2,out=A)\n"
   ]
  },
  {
   "cell_type": "code",
   "execution_count": 121,
   "metadata": {},
   "outputs": [
    {
     "data": {
      "text/plain": [
       "array([-0.5, -0.5, -0.5])"
      ]
     },
     "execution_count": 121,
     "metadata": {},
     "output_type": "execute_result"
    }
   ],
   "source": [
    "np.negative(A,out=A)\n"
   ]
  },
  {
   "cell_type": "code",
   "execution_count": 122,
   "metadata": {},
   "outputs": [
    {
     "data": {
      "text/plain": [
       "array([-1.5, -1.5, -1.5])"
      ]
     },
     "execution_count": 122,
     "metadata": {},
     "output_type": "execute_result"
    }
   ],
   "source": [
    "np.multiply(A,B,out=A)"
   ]
  },
  {
   "cell_type": "code",
   "execution_count": 123,
   "metadata": {},
   "outputs": [
    {
     "name": "stdout",
     "output_type": "stream",
     "text": [
      "[4.79780552 0.73891906 5.88811658 6.57829842 2.71961308 9.95559265\n",
      " 8.15399929 7.8427482  2.18249133 6.49291119]\n",
      "[4. 0. 5. 6. 2. 9. 8. 7. 2. 6.]\n"
     ]
    }
   ],
   "source": [
    "#36.提取随机数组整数部分的五种方法——回字的五种写法\n",
    "Z = np.random.uniform(0,10,10)\n",
    "print(Z)\n",
    "print (Z - Z%1)"
   ]
  },
  {
   "cell_type": "code",
   "execution_count": 124,
   "metadata": {},
   "outputs": [
    {
     "name": "stdout",
     "output_type": "stream",
     "text": [
      "[4.79780552 0.73891906 5.88811658 6.57829842 2.71961308 9.95559265\n",
      " 8.15399929 7.8427482  2.18249133 6.49291119]\n",
      "[4. 0. 5. 6. 2. 9. 8. 7. 2. 6.]\n"
     ]
    }
   ],
   "source": [
    "print(Z)\n",
    "print (np.floor(Z))"
   ]
  },
  {
   "cell_type": "code",
   "execution_count": 125,
   "metadata": {},
   "outputs": [
    {
     "name": "stdout",
     "output_type": "stream",
     "text": [
      "[4.79780552 0.73891906 5.88811658 6.57829842 2.71961308 9.95559265\n",
      " 8.15399929 7.8427482  2.18249133 6.49291119]\n",
      "[4. 0. 5. 6. 2. 9. 8. 7. 2. 6.]\n"
     ]
    }
   ],
   "source": [
    "print(Z)\n",
    "print (np.ceil(Z)-1)"
   ]
  },
  {
   "cell_type": "code",
   "execution_count": 126,
   "metadata": {},
   "outputs": [
    {
     "name": "stdout",
     "output_type": "stream",
     "text": [
      "[4 0 5 6 2 9 8 7 2 6]\n"
     ]
    }
   ],
   "source": [
    "print (Z.astype(int))#这个好。。。"
   ]
  },
  {
   "cell_type": "code",
   "execution_count": 127,
   "metadata": {},
   "outputs": [
    {
     "name": "stdout",
     "output_type": "stream",
     "text": [
      "[4. 0. 5. 6. 2. 9. 8. 7. 2. 6.]\n"
     ]
    }
   ],
   "source": [
    "print (np.trunc(Z))#trunc函数在sql里也常用"
   ]
  },
  {
   "cell_type": "code",
   "execution_count": 128,
   "metadata": {},
   "outputs": [
    {
     "name": "stdout",
     "output_type": "stream",
     "text": [
      "[[0. 1. 2. 3. 4.]\n",
      " [0. 1. 2. 3. 4.]\n",
      " [0. 1. 2. 3. 4.]\n",
      " [0. 1. 2. 3. 4.]\n",
      " [0. 1. 2. 3. 4.]]\n"
     ]
    }
   ],
   "source": [
    "#37.5乘5矩阵，每行数值的范围为0到4\n",
    "Z=np.zeros((5,5))\n",
    "Z+=np.arange(5)\n",
    "print(Z)"
   ]
  },
  {
   "cell_type": "code",
   "execution_count": 129,
   "metadata": {},
   "outputs": [
    {
     "name": "stdout",
     "output_type": "stream",
     "text": [
      "[0. 1. 2. 3. 4. 5. 6. 7. 8. 9.]\n"
     ]
    }
   ],
   "source": [
    "#38.定义一个可生成十个整数的函数，然后构建一个数组\n",
    "def generate():\n",
    "    for x in range(10):\n",
    "        yield x\n",
    "Z=np.fromiter(generate(),dtype=float,count=-1)\n",
    "print(Z)"
   ]
  },
  {
   "cell_type": "code",
   "execution_count": 130,
   "metadata": {},
   "outputs": [
    {
     "name": "stdout",
     "output_type": "stream",
     "text": [
      "[0.09090909 0.18181818 0.27272727 0.36363636 0.45454545 0.54545455\n",
      " 0.63636364 0.72727273 0.81818182 0.90909091]\n"
     ]
    }
   ],
   "source": [
    "#39.创建长度为十的随机向量，值域为零一开区间\n",
    "Z=np.linspace(0,1,11,endpoint=False)[1:]\n",
    "print(Z)"
   ]
  },
  {
   "cell_type": "code",
   "execution_count": 131,
   "metadata": {},
   "outputs": [
    {
     "name": "stdout",
     "output_type": "stream",
     "text": [
      "[0.51442306 0.94105004 0.7115517  0.77857055 0.87854372 0.20434572\n",
      " 0.50505956 0.60263368 0.30232068 0.56087812]\n",
      "[0.20434572 0.30232068 0.50505956 0.51442306 0.56087812 0.60263368\n",
      " 0.7115517  0.77857055 0.87854372 0.94105004]\n"
     ]
    }
   ],
   "source": [
    "#40.创建长度为十的随机向量并排序\n",
    "Z=np.random.random(10)\n",
    "print(Z)\n",
    "Z.sort()#使用sort函数排序\n",
    "print(Z)"
   ]
  },
  {
   "cell_type": "code",
   "execution_count": 132,
   "metadata": {},
   "outputs": [
    {
     "name": "stdout",
     "output_type": "stream",
     "text": [
      "Wall time: 0 ns\n"
     ]
    },
    {
     "data": {
      "text/plain": [
       "253"
      ]
     },
     "execution_count": 132,
     "metadata": {},
     "output_type": "execute_result"
    }
   ],
   "source": [
    "#41.小数组求和，如何比np.sum更快？\n",
    "Z = np.arange(23)\n",
    "%time np.sum(Z)"
   ]
  },
  {
   "cell_type": "code",
   "execution_count": 133,
   "metadata": {},
   "outputs": [
    {
     "name": "stdout",
     "output_type": "stream",
     "text": [
      "Wall time: 0 ns\n"
     ]
    },
    {
     "data": {
      "text/plain": [
       "253"
      ]
     },
     "execution_count": 133,
     "metadata": {},
     "output_type": "execute_result"
    }
   ],
   "source": [
    "%time np.add.reduce(Z)#为什么时间会一样？"
   ]
  },
  {
   "cell_type": "code",
   "execution_count": 134,
   "metadata": {},
   "outputs": [
    {
     "name": "stdout",
     "output_type": "stream",
     "text": [
      "[-0.06345132  0.23357278  0.959749   -0.27404653 -0.77834663 -2.37670466\n",
      " -0.2628079   0.35060243  0.53044153  2.07125581  0.47139581 -0.57161536\n",
      "  1.61819015]\n",
      "[-0.06345132  0.23357278  0.959749   -0.27404653 -0.77834663 -2.37670466\n",
      " -0.2628079   0.35060243  0.53044153  2.07125581  0.47139581 -0.57161536\n",
      "  1.61819015]\n",
      "Wall time: 0 ns\n"
     ]
    },
    {
     "data": {
      "text/plain": [
       "1.9082351047684116"
      ]
     },
     "execution_count": 134,
     "metadata": {},
     "output_type": "execute_result"
    }
   ],
   "source": [
    "Z = np.random.randn(13)\n",
    "print(Z)\n",
    "Z = np.array(Z)\n",
    "print(Z)\n",
    "%time sum(Z)\n"
   ]
  },
  {
   "cell_type": "code",
   "execution_count": 135,
   "metadata": {},
   "outputs": [
    {
     "name": "stdout",
     "output_type": "stream",
     "text": [
      "Wall time: 0 ns\n"
     ]
    },
    {
     "data": {
      "text/plain": [
       "1.9082351047684116"
      ]
     },
     "execution_count": 135,
     "metadata": {},
     "output_type": "execute_result"
    }
   ],
   "source": [
    "%time np.sum(Z)"
   ]
  },
  {
   "cell_type": "code",
   "execution_count": 136,
   "metadata": {},
   "outputs": [
    {
     "name": "stdout",
     "output_type": "stream",
     "text": [
      "Wall time: 0 ns\n"
     ]
    },
    {
     "data": {
      "text/plain": [
       "1.9082351047684116"
      ]
     },
     "execution_count": 136,
     "metadata": {},
     "output_type": "execute_result"
    }
   ],
   "source": [
    "%time np.add.reduce(Z)#0是几个意思？还需要研究"
   ]
  },
  {
   "cell_type": "code",
   "execution_count": 137,
   "metadata": {},
   "outputs": [
    {
     "name": "stdout",
     "output_type": "stream",
     "text": [
      "[0 1 0 1 0]\n",
      "[0 0 1 0 0]\n",
      "[0 1 0 1 0]\n"
     ]
    }
   ],
   "source": [
    "#42.检验两个随机数组是否相等\n",
    "A = np.random.randint(0,2,5)\n",
    "print(A)\n",
    "B = np.random.randint(0,2,5)\n",
    "print(B)\n",
    "C=A\n",
    "print(C)"
   ]
  },
  {
   "cell_type": "code",
   "execution_count": 138,
   "metadata": {},
   "outputs": [
    {
     "name": "stdout",
     "output_type": "stream",
     "text": [
      "False\n"
     ]
    }
   ],
   "source": [
    "equal = np.allclose(A,B)#结果为布尔值\n",
    "print(equal)"
   ]
  },
  {
   "cell_type": "code",
   "execution_count": 139,
   "metadata": {},
   "outputs": [
    {
     "name": "stdout",
     "output_type": "stream",
     "text": [
      "True\n"
     ]
    }
   ],
   "source": [
    "equal = np.allclose(A,C)#结果为布尔值\n",
    "print(equal)"
   ]
  },
  {
   "cell_type": "code",
   "execution_count": 140,
   "metadata": {},
   "outputs": [
    {
     "ename": "ValueError",
     "evalue": "assignment destination is read-only",
     "output_type": "error",
     "traceback": [
      "\u001b[1;31m---------------------------------------------------------------------------\u001b[0m",
      "\u001b[1;31mValueError\u001b[0m                                Traceback (most recent call last)",
      "\u001b[1;32m<ipython-input-140-a96832d7052b>\u001b[0m in \u001b[0;36m<module>\u001b[1;34m\u001b[0m\n\u001b[0;32m      2\u001b[0m \u001b[0mZ\u001b[0m \u001b[1;33m=\u001b[0m \u001b[0mnp\u001b[0m\u001b[1;33m.\u001b[0m\u001b[0mzeros\u001b[0m\u001b[1;33m(\u001b[0m\u001b[1;36m10\u001b[0m\u001b[1;33m)\u001b[0m\u001b[1;33m\u001b[0m\u001b[1;33m\u001b[0m\u001b[0m\n\u001b[0;32m      3\u001b[0m \u001b[0mZ\u001b[0m\u001b[1;33m.\u001b[0m\u001b[0mflags\u001b[0m\u001b[1;33m.\u001b[0m\u001b[0mwriteable\u001b[0m \u001b[1;33m=\u001b[0m \u001b[1;32mFalse\u001b[0m\u001b[1;31m#不可修改\u001b[0m\u001b[1;33m\u001b[0m\u001b[1;33m\u001b[0m\u001b[0m\n\u001b[1;32m----> 4\u001b[1;33m \u001b[0mZ\u001b[0m\u001b[1;33m[\u001b[0m\u001b[1;36m0\u001b[0m\u001b[1;33m]\u001b[0m \u001b[1;33m=\u001b[0m \u001b[1;36m1\u001b[0m\u001b[1;33m\u001b[0m\u001b[1;33m\u001b[0m\u001b[0m\n\u001b[0m",
      "\u001b[1;31mValueError\u001b[0m: assignment destination is read-only"
     ]
    }
   ],
   "source": [
    "#43.创建只读数组\n",
    "Z = np.zeros(10)\n",
    "Z.flags.writeable = False#不可修改\n",
    "Z[0] = 1"
   ]
  },
  {
   "cell_type": "code",
   "execution_count": 141,
   "metadata": {},
   "outputs": [
    {
     "name": "stdout",
     "output_type": "stream",
     "text": [
      "X= [0.38428726 0.36589871 0.58152925 0.11310527 0.66326367 0.37084184\n",
      " 0.48214574 0.56407832 0.12084874 0.7849163 ]\n",
      "Y= [0.98131561 0.82484047 0.2279559  0.77110917 0.49901674 0.11900912\n",
      " 0.67874414 0.51335484 0.17122847 0.48639027]\n",
      "R= [1.05387714 0.90235451 0.62461201 0.7793601  0.83002193 0.38946995\n",
      " 0.83256118 0.7627041  0.20957959 0.92340083]\n",
      "T= [1.19754865 1.1532779  0.37358554 1.42515619 0.64501335 0.31053374\n",
      " 0.95315793 0.73835482 0.95620516 0.55475841]\n"
     ]
    }
   ],
   "source": [
    "#44.将笛卡尔坐标下的十乘二矩阵转换为极坐标形式\n",
    "Z = np.random.random((10,2))\n",
    "X,Y = Z[:,0], Z[:,1]\n",
    "print(\"X=\",X)\n",
    "print(\"Y=\",Y)\n",
    "R = np.sqrt(X**2+Y**2)#\n",
    "T = np.arctan2(Y,X)#反正切求辐角\n",
    "print (\"R=\",R)\n",
    "print (\"T=\",T)"
   ]
  },
  {
   "cell_type": "code",
   "execution_count": 142,
   "metadata": {},
   "outputs": [
    {
     "name": "stdout",
     "output_type": "stream",
     "text": [
      "[0.00473177 0.08249391 0.87595726 0.61555502 0.56646821 0.5500494\n",
      " 0.55664619 0.14909617 0.32276855 0.1219056 ]\n",
      "[0.00473177 0.08249391 1.         0.61555502 0.56646821 0.5500494\n",
      " 0.55664619 0.14909617 0.32276855 0.1219056 ]\n"
     ]
    }
   ],
   "source": [
    "#45.创建长度为10的向量，并将向量中最大值替换为1\n",
    "Z=np.random.random(10)\n",
    "print(Z)\n",
    "Z[Z.argmax()]=1\n",
    "print(Z)"
   ]
  },
  {
   "cell_type": "code",
   "execution_count": 143,
   "metadata": {},
   "outputs": [
    {
     "name": "stdout",
     "output_type": "stream",
     "text": [
      "[[(0.  , 0.  ) (0.25, 0.  ) (0.5 , 0.  ) (0.75, 0.  ) (1.  , 0.  )]\n",
      " [(0.  , 0.25) (0.25, 0.25) (0.5 , 0.25) (0.75, 0.25) (1.  , 0.25)]\n",
      " [(0.  , 0.5 ) (0.25, 0.5 ) (0.5 , 0.5 ) (0.75, 0.5 ) (1.  , 0.5 )]\n",
      " [(0.  , 0.75) (0.25, 0.75) (0.5 , 0.75) (0.75, 0.75) (1.  , 0.75)]\n",
      " [(0.  , 1.  ) (0.25, 1.  ) (0.5 , 1.  ) (0.75, 1.  ) (1.  , 1.  )]]\n"
     ]
    }
   ],
   "source": [
    "#46.创建结构化数组，并实现x,y左表覆盖[0,1]*[0,1]区域\n",
    "Z=np.zeros((5,5),[('x',float),('y',float)])\n",
    "Z['x'],Z['y']=np.meshgrid(np.linspace(0,1,5),\n",
    "                            np.linspace(0,1,5))\n",
    "print(Z)"
   ]
  },
  {
   "cell_type": "code",
   "execution_count": 144,
   "metadata": {},
   "outputs": [
    {
     "name": "stdout",
     "output_type": "stream",
     "text": [
      "[0 1 2 3 4 5 6 7 8 9]\n",
      "[0 1 2 3 4 5 6 7 8 9]\n",
      "[0.5 1.5 2.5 3.5 4.5 5.5 6.5 7.5 8.5 9.5]\n",
      "C= [[-2.         -0.66666667 -0.4        -0.28571429 -0.22222222 -0.18181818\n",
      "  -0.15384615 -0.13333333 -0.11764706 -0.10526316]\n",
      " [ 2.         -2.         -0.66666667 -0.4        -0.28571429 -0.22222222\n",
      "  -0.18181818 -0.15384615 -0.13333333 -0.11764706]\n",
      " [ 0.66666667  2.         -2.         -0.66666667 -0.4        -0.28571429\n",
      "  -0.22222222 -0.18181818 -0.15384615 -0.13333333]\n",
      " [ 0.4         0.66666667  2.         -2.         -0.66666667 -0.4\n",
      "  -0.28571429 -0.22222222 -0.18181818 -0.15384615]\n",
      " [ 0.28571429  0.4         0.66666667  2.         -2.         -0.66666667\n",
      "  -0.4        -0.28571429 -0.22222222 -0.18181818]\n",
      " [ 0.22222222  0.28571429  0.4         0.66666667  2.         -2.\n",
      "  -0.66666667 -0.4        -0.28571429 -0.22222222]\n",
      " [ 0.18181818  0.22222222  0.28571429  0.4         0.66666667  2.\n",
      "  -2.         -0.66666667 -0.4        -0.28571429]\n",
      " [ 0.15384615  0.18181818  0.22222222  0.28571429  0.4         0.66666667\n",
      "   2.         -2.         -0.66666667 -0.4       ]\n",
      " [ 0.13333333  0.15384615  0.18181818  0.22222222  0.28571429  0.4\n",
      "   0.66666667  2.         -2.         -0.66666667]\n",
      " [ 0.11764706  0.13333333  0.15384615  0.18181818  0.22222222  0.28571429\n",
      "   0.4         0.66666667  2.         -2.        ]]\n",
      "D= [[        inf -1.         -0.5        -0.33333333 -0.25       -0.2\n",
      "  -0.16666667 -0.14285714 -0.125      -0.11111111]\n",
      " [ 1.                 inf -1.         -0.5        -0.33333333 -0.25\n",
      "  -0.2        -0.16666667 -0.14285714 -0.125     ]\n",
      " [ 0.5         1.                 inf -1.         -0.5        -0.33333333\n",
      "  -0.25       -0.2        -0.16666667 -0.14285714]\n",
      " [ 0.33333333  0.5         1.                 inf -1.         -0.5\n",
      "  -0.33333333 -0.25       -0.2        -0.16666667]\n",
      " [ 0.25        0.33333333  0.5         1.                 inf -1.\n",
      "  -0.5        -0.33333333 -0.25       -0.2       ]\n",
      " [ 0.2         0.25        0.33333333  0.5         1.                 inf\n",
      "  -1.         -0.5        -0.33333333 -0.25      ]\n",
      " [ 0.16666667  0.2         0.25        0.33333333  0.5         1.\n",
      "          inf -1.         -0.5        -0.33333333]\n",
      " [ 0.14285714  0.16666667  0.2         0.25        0.33333333  0.5\n",
      "   1.                 inf -1.         -0.5       ]\n",
      " [ 0.125       0.14285714  0.16666667  0.2         0.25        0.33333333\n",
      "   0.5         1.                 inf -1.        ]\n",
      " [ 0.11111111  0.125       0.14285714  0.16666667  0.2         0.25\n",
      "   0.33333333  0.5         1.                 inf]]\n",
      "33961.93294480225\n"
     ]
    },
    {
     "name": "stderr",
     "output_type": "stream",
     "text": [
      "C:\\ProgramData\\Anaconda3\\lib\\site-packages\\ipykernel_launcher.py:6: RuntimeWarning: divide by zero encountered in true_divide\n",
      "  \n"
     ]
    }
   ],
   "source": [
    "#47.给定两个数组X,Y，构造柯西矩阵C(C_ij=1/x_i-y_i)\n",
    "X = np.arange(10)\n",
    "Y = np.arange(10)\n",
    "Z = X + 0.5\n",
    "C = 1.0 / np.subtract.outer(X, Z)\n",
    "D = 1.0 / np.subtract.outer(X, Y)\n",
    "print(X)\n",
    "print(Y)\n",
    "print(Z)\n",
    "print(\"C=\",C)\n",
    "print(\"D=\",D)\n",
    "print(np.linalg.det(C))"
   ]
  },
  {
   "cell_type": "code",
   "execution_count": 145,
   "metadata": {},
   "outputs": [
    {
     "ename": "IndentationError",
     "evalue": "unexpected indent (<ipython-input-145-81250fc6d796>, line 2)",
     "output_type": "error",
     "traceback": [
      "\u001b[1;36m  File \u001b[1;32m\"<ipython-input-145-81250fc6d796>\"\u001b[1;36m, line \u001b[1;32m2\u001b[0m\n\u001b[1;33m    for dtype in [np.int8, np.int32, np.int64]:\u001b[0m\n\u001b[1;37m    ^\u001b[0m\n\u001b[1;31mIndentationError\u001b[0m\u001b[1;31m:\u001b[0m unexpected indent\n"
     ]
    }
   ],
   "source": [
    "#48.打印每个numpy标量类型的最小值和最大值\n",
    " for dtype in [np.int8, np.int32, np.int64]:\n",
    "     print(np.iinfo(dtype).min)\n",
    "     print(np.iinfo(dtype).max)"
   ]
  },
  {
   "cell_type": "code",
   "execution_count": 146,
   "metadata": {},
   "outputs": [
    {
     "name": "stdout",
     "output_type": "stream",
     "text": [
      "-3.4028235e+38\n",
      "3.4028235e+38\n",
      "1.1920929e-07\n",
      "-1.7976931348623157e+308\n",
      "1.7976931348623157e+308\n",
      "2.220446049250313e-16\n"
     ]
    }
   ],
   "source": [
    " for dtype in [np.float32, np.float64]:\n",
    "     print(np.finfo(dtype).min)\n",
    "     print(np.finfo(dtype).max)\n",
    "     print(np.finfo(dtype).eps)"
   ]
  },
  {
   "cell_type": "code",
   "execution_count": 147,
   "metadata": {},
   "outputs": [
    {
     "ename": "ValueError",
     "evalue": "threshold must be numeric and non-NAN, try sys.maxsize for untruncated representation",
     "output_type": "error",
     "traceback": [
      "\u001b[1;31m---------------------------------------------------------------------------\u001b[0m",
      "\u001b[1;31mValueError\u001b[0m                                Traceback (most recent call last)",
      "\u001b[1;32m<ipython-input-147-7538e327f379>\u001b[0m in \u001b[0;36m<module>\u001b[1;34m\u001b[0m\n\u001b[0;32m      1\u001b[0m \u001b[1;31m#49.打印一个数组中的所有数值#?? 有问题\u001b[0m\u001b[1;33m\u001b[0m\u001b[1;33m\u001b[0m\u001b[1;33m\u001b[0m\u001b[0m\n\u001b[1;32m----> 2\u001b[1;33m \u001b[0mnp\u001b[0m\u001b[1;33m.\u001b[0m\u001b[0mset_printoptions\u001b[0m\u001b[1;33m(\u001b[0m\u001b[0mthreshold\u001b[0m\u001b[1;33m=\u001b[0m\u001b[0mnp\u001b[0m\u001b[1;33m.\u001b[0m\u001b[0mnan\u001b[0m\u001b[1;33m)\u001b[0m\u001b[1;33m\u001b[0m\u001b[1;33m\u001b[0m\u001b[0m\n\u001b[0m\u001b[0;32m      3\u001b[0m \u001b[0mZ\u001b[0m\u001b[1;33m=\u001b[0m\u001b[0mnp\u001b[0m\u001b[1;33m.\u001b[0m\u001b[0mrandom\u001b[0m\u001b[1;33m.\u001b[0m\u001b[0mrandom\u001b[0m\u001b[1;33m(\u001b[0m\u001b[1;33m(\u001b[0m\u001b[1;36m16\u001b[0m\u001b[1;33m,\u001b[0m\u001b[1;36m16\u001b[0m\u001b[1;33m)\u001b[0m\u001b[1;33m)\u001b[0m\u001b[1;33m\u001b[0m\u001b[1;33m\u001b[0m\u001b[0m\n\u001b[0;32m      4\u001b[0m \u001b[0mprint\u001b[0m\u001b[1;33m(\u001b[0m\u001b[0mZ\u001b[0m\u001b[1;33m)\u001b[0m\u001b[1;33m\u001b[0m\u001b[1;33m\u001b[0m\u001b[0m\n\u001b[0;32m      5\u001b[0m \u001b[0mnp\u001b[0m\u001b[1;33m.\u001b[0m\u001b[0mset_printoptions\u001b[0m\u001b[1;33m(\u001b[0m\u001b[0mthreshold\u001b[0m\u001b[1;33m=\u001b[0m\u001b[0mnp\u001b[0m\u001b[1;33m.\u001b[0m\u001b[0minf\u001b[0m\u001b[1;33m)\u001b[0m\u001b[1;33m\u001b[0m\u001b[1;33m\u001b[0m\u001b[0m\n",
      "\u001b[1;32mC:\\ProgramData\\Anaconda3\\lib\\site-packages\\numpy\\core\\arrayprint.py\u001b[0m in \u001b[0;36mset_printoptions\u001b[1;34m(precision, threshold, edgeitems, linewidth, suppress, nanstr, infstr, formatter, sign, floatmode, **kwarg)\u001b[0m\n\u001b[0;32m    244\u001b[0m     opt = _make_options_dict(precision, threshold, edgeitems, linewidth,\n\u001b[0;32m    245\u001b[0m                              \u001b[0msuppress\u001b[0m\u001b[1;33m,\u001b[0m \u001b[0mnanstr\u001b[0m\u001b[1;33m,\u001b[0m \u001b[0minfstr\u001b[0m\u001b[1;33m,\u001b[0m \u001b[0msign\u001b[0m\u001b[1;33m,\u001b[0m \u001b[0mformatter\u001b[0m\u001b[1;33m,\u001b[0m\u001b[1;33m\u001b[0m\u001b[1;33m\u001b[0m\u001b[0m\n\u001b[1;32m--> 246\u001b[1;33m                              floatmode, legacy)\n\u001b[0m\u001b[0;32m    247\u001b[0m     \u001b[1;31m# formatter is always reset\u001b[0m\u001b[1;33m\u001b[0m\u001b[1;33m\u001b[0m\u001b[1;33m\u001b[0m\u001b[0m\n\u001b[0;32m    248\u001b[0m     \u001b[0mopt\u001b[0m\u001b[1;33m[\u001b[0m\u001b[1;34m'formatter'\u001b[0m\u001b[1;33m]\u001b[0m \u001b[1;33m=\u001b[0m \u001b[0mformatter\u001b[0m\u001b[1;33m\u001b[0m\u001b[1;33m\u001b[0m\u001b[0m\n",
      "\u001b[1;32mC:\\ProgramData\\Anaconda3\\lib\\site-packages\\numpy\\core\\arrayprint.py\u001b[0m in \u001b[0;36m_make_options_dict\u001b[1;34m(precision, threshold, edgeitems, linewidth, suppress, nanstr, infstr, sign, formatter, floatmode, legacy)\u001b[0m\n\u001b[0;32m     91\u001b[0m         \u001b[1;31m# forbid the bad threshold arg suggested by stack overflow, gh-12351\u001b[0m\u001b[1;33m\u001b[0m\u001b[1;33m\u001b[0m\u001b[1;33m\u001b[0m\u001b[0m\n\u001b[0;32m     92\u001b[0m         \u001b[1;32mif\u001b[0m \u001b[1;32mnot\u001b[0m \u001b[0misinstance\u001b[0m\u001b[1;33m(\u001b[0m\u001b[0mthreshold\u001b[0m\u001b[1;33m,\u001b[0m \u001b[0mnumbers\u001b[0m\u001b[1;33m.\u001b[0m\u001b[0mNumber\u001b[0m\u001b[1;33m)\u001b[0m \u001b[1;32mor\u001b[0m \u001b[0mnp\u001b[0m\u001b[1;33m.\u001b[0m\u001b[0misnan\u001b[0m\u001b[1;33m(\u001b[0m\u001b[0mthreshold\u001b[0m\u001b[1;33m)\u001b[0m\u001b[1;33m:\u001b[0m\u001b[1;33m\u001b[0m\u001b[1;33m\u001b[0m\u001b[0m\n\u001b[1;32m---> 93\u001b[1;33m             raise ValueError(\"threshold must be numeric and non-NAN, try \"\n\u001b[0m\u001b[0;32m     94\u001b[0m                              \"sys.maxsize for untruncated representation\")\n\u001b[0;32m     95\u001b[0m     \u001b[1;32mreturn\u001b[0m \u001b[0moptions\u001b[0m\u001b[1;33m\u001b[0m\u001b[1;33m\u001b[0m\u001b[0m\n",
      "\u001b[1;31mValueError\u001b[0m: threshold must be numeric and non-NAN, try sys.maxsize for untruncated representation"
     ]
    }
   ],
   "source": [
    "#49.打印一个数组中的所有数值#?? 有问题\n",
    "np.set_printoptions(threshold=np.nan)\n",
    "Z=np.random.random((16,16))\n",
    "print(Z)\n",
    "np.set_printoptions(threshold=np.inf)\n",
    "print(Z)"
   ]
  },
  {
   "cell_type": "code",
   "execution_count": 148,
   "metadata": {},
   "outputs": [
    {
     "name": "stdout",
     "output_type": "stream",
     "text": [
      "[ 0  1  2  3  4  5  6  7  8  9 10 11 12 13 14 15 16 17 18 19 20 21 22 23\n",
      " 24 25 26 27 28 29 30 31 32 33 34 35 36 37 38 39 40 41 42 43 44 45 46 47\n",
      " 48 49 50 51 52 53 54 55 56 57 58 59 60 61 62 63 64 65 66 67 68 69 70 71\n",
      " 72 73 74 75 76 77 78 79 80 81 82 83 84 85 86 87 88 89 90 91 92 93 94 95\n",
      " 96 97 98 99]\n",
      "61.68997080875216\n",
      "62\n"
     ]
    }
   ],
   "source": [
    "#50.给定标量时，如何找到数组中最接近标量的值？\n",
    "Z = np.arange(100)\n",
    "print(Z)\n",
    "v = np.random.uniform(0,100)\n",
    "print(v)\n",
    "index = (np.abs(Z-v)).argmin()\n",
    "print (Z[index])"
   ]
  },
  {
   "cell_type": "code",
   "execution_count": 149,
   "metadata": {},
   "outputs": [
    {
     "name": "stdout",
     "output_type": "stream",
     "text": [
      "[((0., 0.), (0., 0., 0.)) ((0., 0.), (0., 0., 0.))\n",
      " ((0., 0.), (0., 0., 0.)) ((0., 0.), (0., 0., 0.))\n",
      " ((0., 0.), (0., 0., 0.)) ((0., 0.), (0., 0., 0.))\n",
      " ((0., 0.), (0., 0., 0.)) ((0., 0.), (0., 0., 0.))\n",
      " ((0., 0.), (0., 0., 0.)) ((0., 0.), (0., 0., 0.))]\n"
     ]
    }
   ],
   "source": [
    "#51. 创建一个表示位置(x,y)和颜色(r,g,b)的结构化数组\n",
    "Z = np.zeros(10, [ ('position', [ ('x', float, 1),\n",
    "                                  ('y', float, 1)]),\n",
    "                   ('color',    [ ('r', float, 1),\n",
    "                                  ('g', float, 1),\n",
    "                                  ('b', float, 1)])])\n",
    "print (Z)"
   ]
  },
  {
   "cell_type": "code",
   "execution_count": 150,
   "metadata": {},
   "outputs": [
    {
     "name": "stdout",
     "output_type": "stream",
     "text": [
      "[[0.         0.26445881 0.42631844 0.2797539  0.85524779 0.24621822\n",
      "  0.63377241 0.24657728 0.05881904 0.31908655]\n",
      " [0.26445881 0.         0.3329069  0.47955678 0.70097622 0.50583358\n",
      "  0.37047363 0.43394417 0.30316141 0.35099462]\n",
      " [0.42631844 0.3329069  0.         0.70540066 0.43166297 0.56912805\n",
      "  0.46533609 0.66920311 0.48510105 0.17663357]\n",
      " [0.2797539  0.47955678 0.70540066 0.         1.13197548 0.31128896\n",
      "  0.83458467 0.04728457 0.22103414 0.59242286]\n",
      " [0.85524779 0.70097622 0.43166297 1.13197548 0.         0.99310843\n",
      "  0.57931657 1.09336233 0.91368475 0.58735887]\n",
      " [0.24621822 0.50583358 0.56912805 0.31128896 0.99310843 0.\n",
      "  0.86933152 0.31547934 0.23204178 0.40614261]\n",
      " [0.63377241 0.37047363 0.46533609 0.83458467 0.57931657 0.86933152\n",
      "  0.         0.78748479 0.67353897 0.59976212]\n",
      " [0.24657728 0.43394417 0.66920311 0.04728457 1.09336233 0.31547934\n",
      "  0.78748479 0.         0.18900229 0.56376387]\n",
      " [0.05881904 0.30316141 0.48510105 0.22103414 0.91368475 0.23204178\n",
      "  0.67353897 0.18900229 0.         0.37496185]\n",
      " [0.31908655 0.35099462 0.17663357 0.59242286 0.58735887 0.40614261\n",
      "  0.59976212 0.56376387 0.37496185 0.        ]]\n"
     ]
    }
   ],
   "source": [
    "#52.对表示形状（100,2)的随机向量，找到点与点的距离\n",
    "Z = np.random.random((10,2))\n",
    "X,Y = np.atleast_2d(Z[:,0], Z[:,1])\n",
    "D = np.sqrt( (X-X.T)**2 + (Y-Y.T)**2)\n",
    "print (D)"
   ]
  },
  {
   "cell_type": "code",
   "execution_count": 151,
   "metadata": {},
   "outputs": [
    {
     "name": "stdout",
     "output_type": "stream",
     "text": [
      "[0. 1. 2. 3. 4. 5. 6. 7. 8. 9.]\n"
     ]
    }
   ],
   "source": [
    "#53.将32位的浮点数转换为对应的整数\n",
    "Z = np.arange(10, dtype=np.int32)\n",
    "Z = Z.astype(np.float32, copy=False)\n",
    "print (Z)"
   ]
  },
  {
   "cell_type": "code",
   "execution_count": 152,
   "metadata": {},
   "outputs": [],
   "source": [
    "#54.读取文件\n"
   ]
  },
  {
   "cell_type": "code",
   "execution_count": 153,
   "metadata": {},
   "outputs": [
    {
     "name": "stdout",
     "output_type": "stream",
     "text": [
      "(0, 0) 0\n",
      "(0, 1) 1\n",
      "(0, 2) 2\n",
      "(1, 0) 3\n",
      "(1, 1) 4\n",
      "(1, 2) 5\n",
      "(2, 0) 6\n",
      "(2, 1) 7\n",
      "(2, 2) 8\n",
      "(0, 0) 0\n",
      "(0, 1) 1\n",
      "(0, 2) 2\n",
      "(1, 0) 3\n",
      "(1, 1) 4\n",
      "(1, 2) 5\n",
      "(2, 0) 6\n",
      "(2, 1) 7\n",
      "(2, 2) 8\n"
     ]
    }
   ],
   "source": [
    "#55.np数组与enumerate等价的操作是什么？\n",
    "Z = np.arange(9).reshape(3,3)\n",
    "for index, value in np.ndenumerate(Z):\n",
    "    print (index, value)\n",
    "for index in np.ndindex(Z.shape):\n",
    "    print (index, Z[index])"
   ]
  },
  {
   "cell_type": "code",
   "execution_count": 154,
   "metadata": {},
   "outputs": [
    {
     "name": "stdout",
     "output_type": "stream",
     "text": [
      "[[0.36787944 0.44822088 0.51979489 0.57375342 0.60279818 0.60279818\n",
      "  0.57375342 0.51979489 0.44822088 0.36787944]\n",
      " [0.44822088 0.54610814 0.63331324 0.69905581 0.73444367 0.73444367\n",
      "  0.69905581 0.63331324 0.54610814 0.44822088]\n",
      " [0.51979489 0.63331324 0.73444367 0.81068432 0.85172308 0.85172308\n",
      "  0.81068432 0.73444367 0.63331324 0.51979489]\n",
      " [0.57375342 0.69905581 0.81068432 0.89483932 0.9401382  0.9401382\n",
      "  0.89483932 0.81068432 0.69905581 0.57375342]\n",
      " [0.60279818 0.73444367 0.85172308 0.9401382  0.98773022 0.98773022\n",
      "  0.9401382  0.85172308 0.73444367 0.60279818]\n",
      " [0.60279818 0.73444367 0.85172308 0.9401382  0.98773022 0.98773022\n",
      "  0.9401382  0.85172308 0.73444367 0.60279818]\n",
      " [0.57375342 0.69905581 0.81068432 0.89483932 0.9401382  0.9401382\n",
      "  0.89483932 0.81068432 0.69905581 0.57375342]\n",
      " [0.51979489 0.63331324 0.73444367 0.81068432 0.85172308 0.85172308\n",
      "  0.81068432 0.73444367 0.63331324 0.51979489]\n",
      " [0.44822088 0.54610814 0.63331324 0.69905581 0.73444367 0.73444367\n",
      "  0.69905581 0.63331324 0.54610814 0.44822088]\n",
      " [0.36787944 0.44822088 0.51979489 0.57375342 0.60279818 0.60279818\n",
      "  0.57375342 0.51979489 0.44822088 0.36787944]]\n"
     ]
    }
   ],
   "source": [
    "#56.生成一个通用的二维Gaussian-like数组\n",
    "X, Y = np.meshgrid(np.linspace(-1,1,10), np.linspace(-1,1,10))\n",
    "D = np.sqrt(X*X+Y*Y)\n",
    "sigma, mu = 1.0, 0.0\n",
    "G = np.exp(-( (D-mu)**2 / ( 2.0 * sigma**2 ) ) )\n",
    "print (G)"
   ]
  },
  {
   "cell_type": "code",
   "execution_count": 156,
   "metadata": {},
   "outputs": [
    {
     "name": "stdout",
     "output_type": "stream",
     "text": [
      "[[0. 0. 1. 0. 0. 0. 0. 0. 1. 0.]\n",
      " [0. 0. 0. 0. 0. 0. 0. 0. 0. 1.]\n",
      " [0. 0. 0. 0. 0. 0. 0. 0. 0. 0.]\n",
      " [0. 0. 0. 0. 0. 0. 0. 0. 0. 0.]\n",
      " [0. 0. 0. 0. 0. 0. 0. 0. 0. 0.]\n",
      " [0. 0. 0. 0. 0. 0. 0. 0. 0. 0.]\n",
      " [0. 0. 0. 0. 0. 0. 0. 0. 0. 0.]\n",
      " [0. 0. 0. 0. 0. 0. 0. 0. 0. 0.]\n",
      " [0. 0. 0. 0. 0. 0. 0. 0. 0. 0.]\n",
      " [0. 0. 0. 0. 0. 0. 0. 0. 0. 0.]]\n"
     ]
    }
   ],
   "source": [
    "#57.如何在二维数组内部随机放置p个元素？\n",
    "n = 10\n",
    "p = 3\n",
    "Z = np.zeros((n,n))\n",
    "np.put(Z, np.random.choice(range(n*n), p, replace=False),1)\n",
    "print (Z)"
   ]
  },
  {
   "cell_type": "code",
   "execution_count": 159,
   "metadata": {},
   "outputs": [
    {
     "name": "stdout",
     "output_type": "stream",
     "text": [
      "[[-0.42934667 -0.27362583  0.013222   -0.18728974  0.06035143  0.43464782\n",
      "   0.31315068 -0.15293752  0.04362698  0.17820086]\n",
      " [-0.37907616 -0.37828084 -0.20674379  0.29800101 -0.43885375  0.33755402\n",
      "   0.14073058  0.0326851   0.33563639  0.25834744]\n",
      " [-0.33278252  0.12138259  0.2691889   0.0281881   0.37219542 -0.31765745\n",
      "  -0.38965793  0.14634417  0.48196512 -0.37916641]\n",
      " [ 0.48254916 -0.41647612 -0.30761541 -0.20063973  0.50695536 -0.23899411\n",
      "  -0.00534619  0.29076059 -0.38322652  0.27203298]\n",
      " [-0.40554664  0.38270134 -0.3017988   0.00572237 -0.20177329  0.23040628\n",
      "   0.48517317  0.46178626 -0.43046168 -0.226209  ]]\n"
     ]
    }
   ],
   "source": [
    "#58.减去一个矩阵中的每一行的平均值\n",
    "X = np.random.rand(5, 10)\n",
    "Y = X - X.mean(axis=1, keepdims=True)\n",
    "print(Y)"
   ]
  },
  {
   "cell_type": "code",
   "execution_count": 160,
   "metadata": {},
   "outputs": [
    {
     "name": "stdout",
     "output_type": "stream",
     "text": [
      "[[-0.42934667 -0.27362583  0.013222   -0.18728974  0.06035143  0.43464782\n",
      "   0.31315068 -0.15293752  0.04362698  0.17820086]\n",
      " [-0.37907616 -0.37828084 -0.20674379  0.29800101 -0.43885375  0.33755402\n",
      "   0.14073058  0.0326851   0.33563639  0.25834744]\n",
      " [-0.33278252  0.12138259  0.2691889   0.0281881   0.37219542 -0.31765745\n",
      "  -0.38965793  0.14634417  0.48196512 -0.37916641]\n",
      " [ 0.48254916 -0.41647612 -0.30761541 -0.20063973  0.50695536 -0.23899411\n",
      "  -0.00534619  0.29076059 -0.38322652  0.27203298]\n",
      " [-0.40554664  0.38270134 -0.3017988   0.00572237 -0.20177329  0.23040628\n",
      "   0.48517317  0.46178626 -0.43046168 -0.226209  ]]\n"
     ]
    }
   ],
   "source": [
    "# 方法2\n",
    "Y = X - X.mean(axis=1).reshape(-1, 1)\n",
    "print (Y)"
   ]
  },
  {
   "cell_type": "code",
   "execution_count": 161,
   "metadata": {},
   "outputs": [
    {
     "name": "stdout",
     "output_type": "stream",
     "text": [
      "[[0 8 4]\n",
      " [2 2 1]\n",
      " [7 6 1]]\n",
      "[[2 2 1]\n",
      " [7 6 1]\n",
      " [0 8 4]]\n"
     ]
    }
   ],
   "source": [
    "#59.过第n列对数组进行排序\n",
    "Z = np.random.randint(0,10,(3,3))\n",
    "print (Z)\n",
    "print (Z[Z[:,1].argsort()])"
   ]
  },
  {
   "cell_type": "code",
   "execution_count": 162,
   "metadata": {},
   "outputs": [
    {
     "name": "stdout",
     "output_type": "stream",
     "text": [
      "False\n"
     ]
    }
   ],
   "source": [
    "#60.如何检查二维数组是否有空列\n",
    "Z=np.random.randint(0,3,(3,10))\n",
    "print((~Z.any(axis=0)).any())"
   ]
  },
  {
   "cell_type": "code",
   "execution_count": 163,
   "metadata": {},
   "outputs": [
    {
     "name": "stdout",
     "output_type": "stream",
     "text": [
      "0.5563390780933596\n"
     ]
    }
   ],
   "source": [
    "#61.从数组中的给定值中找出最近的值\n",
    "Z = np.random.uniform(0,1,10)\n",
    "z = 0.5\n",
    "m = Z.flat[np.abs(Z - z).argmin()]\n",
    "print (m)"
   ]
  },
  {
   "cell_type": "code",
   "execution_count": 164,
   "metadata": {},
   "outputs": [
    {
     "name": "stdout",
     "output_type": "stream",
     "text": [
      "[[0 1 2]\n",
      " [1 2 3]\n",
      " [2 3 4]]\n"
     ]
    }
   ],
   "source": [
    "#62.用迭代器(iterator)计算两个分别具有形状(1,3)和(3,1)的数组\n",
    "A = np.arange(3).reshape(3,1)\n",
    "B = np.arange(3).reshape(1,3)\n",
    "it = np.nditer([A,B,None])\n",
    "for x,y,z in it: \n",
    "    z[...] = x + y\n",
    "print (it.operands[2])"
   ]
  },
  {
   "cell_type": "code",
   "execution_count": 165,
   "metadata": {},
   "outputs": [
    {
     "name": "stdout",
     "output_type": "stream",
     "text": [
      "range_10\n"
     ]
    }
   ],
   "source": [
    "#63.创建具有name属性的数组类\n",
    "class NamedArray(np.ndarray):\n",
    "    def __new__(cls, array, name=\"no name\"):\n",
    "        obj = np.asarray(array).view(cls)\n",
    "        obj.name = name\n",
    "        return obj\n",
    "    def __array_finalize__(self, obj):\n",
    "        if obj is None: return\n",
    "        self.info = getattr(obj, 'name', \"no name\")\n",
    "Z = NamedArray(np.arange(10), \"range_10\")\n",
    "print (Z.name)"
   ]
  },
  {
   "cell_type": "code",
   "execution_count": 166,
   "metadata": {},
   "outputs": [
    {
     "name": "stdout",
     "output_type": "stream",
     "text": [
      "[3. 3. 3. 1. 2. 4. 6. 3. 3. 2.]\n"
     ]
    }
   ],
   "source": [
    "#64.对给定向量\n",
    "Z=np.ones(10)\n",
    "I=np.random.randint(0,len(Z),20)\n",
    "Z+=np.bincount(I, minlength=len(Z))\n",
    "print(Z)"
   ]
  },
  {
   "cell_type": "code",
   "execution_count": 167,
   "metadata": {},
   "outputs": [
    {
     "name": "stdout",
     "output_type": "stream",
     "text": [
      "[ 5.  5.  5.  1.  3.  7. 11.  5.  5.  3.]\n"
     ]
    }
   ],
   "source": [
    "#方法二\n",
    "np.add.at(Z, I, 1)\n",
    "print(Z)"
   ]
  },
  {
   "cell_type": "code",
   "execution_count": 168,
   "metadata": {},
   "outputs": [
    {
     "name": "stdout",
     "output_type": "stream",
     "text": [
      "[0. 7. 0. 6. 5. 0. 0. 0. 0. 3.]\n"
     ]
    }
   ],
   "source": [
    "#65.根据索引列表将向量的元素累加到数组\n",
    "X = [1,2,3,4,5,6]\n",
    "I = [1,3,9,3,4,1]\n",
    "F = np.bincount(I,X)\n",
    "print (F)"
   ]
  },
  {
   "cell_type": "code",
   "execution_count": 171,
   "metadata": {},
   "outputs": [
    {
     "name": "stdout",
     "output_type": "stream",
     "text": [
      "8\n"
     ]
    }
   ],
   "source": [
    "#66. 考虑一个(dtype=ubyte) 的 (w,h,3)图像，计算其唯一颜色的数量\n",
    "w,h = 16,16\n",
    "I = np.random.randint(0,2,(h,w,3)).astype(np.ubyte)\n",
    "F = I[...,0]*(256*256) + I[...,1]*256 +I[...,2]\n",
    "n = len(np.unique(F))\n",
    "print (n)\n",
    "\n"
   ]
  },
  {
   "cell_type": "code",
   "execution_count": 172,
   "metadata": {},
   "outputs": [
    {
     "name": "stdout",
     "output_type": "stream",
     "text": [
      "[[46 69 48 53]\n",
      " [67 56 68 45]\n",
      " [54 71 56 63]]\n"
     ]
    }
   ],
   "source": [
    "#67. 考虑一个四维数组，如何一次性计算出最后两个轴(axis)的和？ \n",
    "A = np.random.randint(0,10,(3,4,3,4))\n",
    "sum = A.sum(axis=(-2,-1))\n",
    "print (sum)\n",
    "\n"
   ]
  },
  {
   "cell_type": "code",
   "execution_count": 173,
   "metadata": {},
   "outputs": [
    {
     "name": "stdout",
     "output_type": "stream",
     "text": [
      "[[46 69 48 53]\n",
      " [67 56 68 45]\n",
      " [54 71 56 63]]\n"
     ]
    }
   ],
   "source": [
    "# 方法2\n",
    "sum = A.reshape(A.shape[:-2] + (-1,)).sum(axis=-1)\n",
    "print (sum)"
   ]
  },
  {
   "cell_type": "code",
   "execution_count": 174,
   "metadata": {},
   "outputs": [
    {
     "name": "stdout",
     "output_type": "stream",
     "text": [
      "[0.54455876 0.67127673 0.49924847 0.53177327 0.67135754 0.52500208\n",
      " 0.4363891  0.62143096 0.5434076  0.51828886]\n"
     ]
    }
   ],
   "source": [
    "#68. 考虑一个一维向量D，如何使用相同大小的向量S来计算D子集的均值？\n",
    "D = np.random.uniform(0,1,100)\n",
    "S = np.random.randint(0,10,100)\n",
    "D_sums = np.bincount(S, weights=D)\n",
    "D_counts = np.bincount(S)\n",
    "D_means = D_sums / D_counts\n",
    "print (D_means)\n",
    "\n"
   ]
  },
  {
   "cell_type": "code",
   "execution_count": 175,
   "metadata": {},
   "outputs": [
    {
     "name": "stdout",
     "output_type": "stream",
     "text": [
      "0    0.544559\n",
      "1    0.671277\n",
      "2    0.499248\n",
      "3    0.531773\n",
      "4    0.671358\n",
      "5    0.525002\n",
      "6    0.436389\n",
      "7    0.621431\n",
      "8    0.543408\n",
      "9    0.518289\n",
      "dtype: float64\n"
     ]
    }
   ],
   "source": [
    "# 方法2\n",
    "import pandas as pd#pandas\n",
    "print(pd.Series(D).groupby(S).mean())"
   ]
  },
  {
   "cell_type": "code",
   "execution_count": 178,
   "metadata": {},
   "outputs": [
    {
     "data": {
      "text/plain": [
       "array([0.7985787 , 0.99136904, 0.82407208, 1.53933504, 2.04784296])"
      ]
     },
     "execution_count": 178,
     "metadata": {},
     "output_type": "execute_result"
    }
   ],
   "source": [
    "#69. 如何获得点积 dot prodcut的对角线?\n",
    "A = np.random.uniform(0,1,(5,5))\n",
    "B = np.random.uniform(0,1,(5,5))\n",
    "np.diag(np.dot(A, B))\n",
    "#%time np.diag(np.dot(A, B))\n",
    "\n"
   ]
  },
  {
   "cell_type": "code",
   "execution_count": 180,
   "metadata": {},
   "outputs": [
    {
     "data": {
      "text/plain": [
       "array([0.7985787 , 0.99136904, 0.82407208, 1.53933504, 2.04784296])"
      ]
     },
     "execution_count": 180,
     "metadata": {},
     "output_type": "execute_result"
    }
   ],
   "source": [
    "# 方法2\n",
    "np.sum(A * B.T, axis=1)"
   ]
  },
  {
   "cell_type": "code",
   "execution_count": 181,
   "metadata": {},
   "outputs": [
    {
     "data": {
      "text/plain": [
       "array([0.7985787 , 0.99136904, 0.82407208, 1.53933504, 2.04784296])"
      ]
     },
     "execution_count": 181,
     "metadata": {},
     "output_type": "execute_result"
    }
   ],
   "source": [
    "# 方法3\n",
    "np.einsum(\"ij,ji->i\", A, B)"
   ]
  },
  {
   "cell_type": "code",
   "execution_count": 183,
   "metadata": {},
   "outputs": [
    {
     "name": "stdout",
     "output_type": "stream",
     "text": [
      "[1. 0. 0. 0. 2. 0. 0. 0. 3. 0. 0. 0. 4. 0. 0. 0. 5.]\n"
     ]
    }
   ],
   "source": [
    "#70. 对于向量[1,2,3,4,5],建立新的向量，在这个新向量中每个值之间有3个连续的零？\n",
    "Z = np.array([1,2,3,4,5])\n",
    "nz = 3\n",
    "Z0 = np.zeros(len(Z) + (len(Z)-1)*(nz))\n",
    "Z0[::nz+1] = Z\n",
    "print (Z0)\n",
    "\n"
   ]
  },
  {
   "cell_type": "code",
   "execution_count": 188,
   "metadata": {},
   "outputs": [
    {
     "name": "stdout",
     "output_type": "stream",
     "text": [
      "A= [[[1. 1. 1.]\n",
      "  [1. 1. 1.]\n",
      "  [1. 1. 1.]\n",
      "  [1. 1. 1.]\n",
      "  [1. 1. 1.]]\n",
      "\n",
      " [[1. 1. 1.]\n",
      "  [1. 1. 1.]\n",
      "  [1. 1. 1.]\n",
      "  [1. 1. 1.]\n",
      "  [1. 1. 1.]]\n",
      "\n",
      " [[1. 1. 1.]\n",
      "  [1. 1. 1.]\n",
      "  [1. 1. 1.]\n",
      "  [1. 1. 1.]\n",
      "  [1. 1. 1.]]\n",
      "\n",
      " [[1. 1. 1.]\n",
      "  [1. 1. 1.]\n",
      "  [1. 1. 1.]\n",
      "  [1. 1. 1.]\n",
      "  [1. 1. 1.]]\n",
      "\n",
      " [[1. 1. 1.]\n",
      "  [1. 1. 1.]\n",
      "  [1. 1. 1.]\n",
      "  [1. 1. 1.]\n",
      "  [1. 1. 1.]]]\n",
      "B= [[2. 2. 2. 2. 2.]\n",
      " [2. 2. 2. 2. 2.]\n",
      " [2. 2. 2. 2. 2.]\n",
      " [2. 2. 2. 2. 2.]\n",
      " [2. 2. 2. 2. 2.]]\n",
      "A * B= [[[2. 2. 2.]\n",
      "  [2. 2. 2.]\n",
      "  [2. 2. 2.]\n",
      "  [2. 2. 2.]\n",
      "  [2. 2. 2.]]\n",
      "\n",
      " [[2. 2. 2.]\n",
      "  [2. 2. 2.]\n",
      "  [2. 2. 2.]\n",
      "  [2. 2. 2.]\n",
      "  [2. 2. 2.]]\n",
      "\n",
      " [[2. 2. 2.]\n",
      "  [2. 2. 2.]\n",
      "  [2. 2. 2.]\n",
      "  [2. 2. 2.]\n",
      "  [2. 2. 2.]]\n",
      "\n",
      " [[2. 2. 2.]\n",
      "  [2. 2. 2.]\n",
      "  [2. 2. 2.]\n",
      "  [2. 2. 2.]\n",
      "  [2. 2. 2.]]\n",
      "\n",
      " [[2. 2. 2.]\n",
      "  [2. 2. 2.]\n",
      "  [2. 2. 2.]\n",
      "  [2. 2. 2.]\n",
      "  [2. 2. 2.]]]\n"
     ]
    }
   ],
   "source": [
    "#71. 考虑一个维度(5,5,3)的数组，如何将其与一个(5,5)的数组相乘？\n",
    "A = np.ones((5,5,3))\n",
    "print(\"A=\",A)\n",
    "B = 2*np.ones((5,5))\n",
    "print(\"B=\",B)\n",
    "print (\"A * B=\",A * B[:,:,None])\n",
    "\n"
   ]
  },
  {
   "cell_type": "code",
   "execution_count": 189,
   "metadata": {},
   "outputs": [
    {
     "name": "stdout",
     "output_type": "stream",
     "text": [
      "[[ 5  6  7  8  9]\n",
      " [ 0  1  2  3  4]\n",
      " [10 11 12 13 14]\n",
      " [15 16 17 18 19]\n",
      " [20 21 22 23 24]]\n"
     ]
    }
   ],
   "source": [
    "#72. 如何对一个数组中任意两行做交换? \n",
    "A = np.arange(25).reshape(5,5)\n",
    "A[[0,1]] = A[[1,0]]\n",
    "print (A)\n",
    "\n"
   ]
  },
  {
   "cell_type": "code",
   "execution_count": 190,
   "metadata": {},
   "outputs": [
    {
     "name": "stdout",
     "output_type": "stream",
     "text": [
      "[( 0, 42) ( 0, 78) ( 4, 27) ( 4, 77) ( 5,  7) ( 5, 72) ( 7, 72) (10, 55)\n",
      " (10, 78) (19, 26) (19, 83) (22, 46) (22, 61) (26, 83) (27, 77) (36, 49)\n",
      " (36, 61) (40, 66) (40, 69) (42, 78) (46, 61) (49, 61) (55, 78) (57, 61)\n",
      " (57, 66) (61, 66) (62, 85) (62, 94) (66, 69) (85, 94)]\n"
     ]
    }
   ],
   "source": [
    "#73. 考虑一个可以描述10个三角形的triplets，找到可以分割全部三角形的line segment\n",
    "\n",
    "faces = np.random.randint(0,100,(10,3))\n",
    "F = np.roll(faces.repeat(2,axis=1),-1,axis=1)\n",
    "F = F.reshape(len(F)*3,2)\n",
    "F = np.sort(F,axis=1)\n",
    "G = F.view( dtype=[('p0',F.dtype),('p1',F.dtype)] )\n",
    "G = np.unique(G)\n",
    "print (G)\n",
    "\n"
   ]
  },
  {
   "cell_type": "code",
   "execution_count": 191,
   "metadata": {},
   "outputs": [
    {
     "name": "stdout",
     "output_type": "stream",
     "text": [
      "[1 1 2 3 4 4 6]\n"
     ]
    }
   ],
   "source": [
    "#74. 给定一个二进制的数组C，如何产生一个数组A满足np.bincount(A)==C\n",
    "C = np.bincount([1,1,2,3,4,4,6])\n",
    "A = np.repeat(np.arange(len(C)), C)\n",
    "print (A)\n",
    "\n"
   ]
  },
  {
   "cell_type": "code",
   "execution_count": 192,
   "metadata": {},
   "outputs": [
    {
     "name": "stdout",
     "output_type": "stream",
     "text": [
      "[ 1.  2.  3.  4.  5.  6.  7.  8.  9. 10. 11. 12. 13. 14. 15. 16. 17. 18.]\n"
     ]
    }
   ],
   "source": [
    "#75. 如何通过滑动窗口计算一个数组的平均数? \n",
    "def moving_average(a, n=3) :\n",
    "    ret = np.cumsum(a, dtype=float)\n",
    "    ret[n:] = ret[n:] - ret[:-n]\n",
    "    return ret[n - 1:] / n\n",
    "Z = np.arange(20)\n",
    "print(moving_average(Z, n=3))\n",
    "\n"
   ]
  },
  {
   "cell_type": "code",
   "execution_count": 194,
   "metadata": {},
   "outputs": [
    {
     "name": "stdout",
     "output_type": "stream",
     "text": [
      "[[0 1 2]\n",
      " [1 2 3]\n",
      " [2 3 4]\n",
      " [3 4 5]\n",
      " [4 5 6]\n",
      " [5 6 7]\n",
      " [6 7 8]\n",
      " [7 8 9]]\n"
     ]
    }
   ],
   "source": [
    "#76. Consider a one-dimensional array Z, build a two-dimensional array whose first row is (Z[0],Z[1],Z[2]) and each subsequent row is shifted by 1 (last row should be (Z[-3],Z[-2],Z[-1]) (★★★)\n",
    "from numpy.lib import stride_tricks\n",
    "\n",
    "def rolling(a, window):\n",
    "    shape = (a.size - window + 1, window)\n",
    "    strides = (a.itemsize, a.itemsize)\n",
    "    return stride_tricks.as_strided(a, shape=shape, strides=strides)\n",
    "Z = rolling(np.arange(10), 3)\n",
    "\n",
    "print (Z)\n",
    "\n"
   ]
  },
  {
   "cell_type": "code",
   "execution_count": 195,
   "metadata": {},
   "outputs": [
    {
     "name": "stdout",
     "output_type": "stream",
     "text": [
      "[0 1 0 1 1 1 1 0 0 0 0 0 0 1 0 1 0 1 1 1 0 0 1 1 0 1 1 0 0 1 1 0 0 1 0 0 0\n",
      " 0 1 1 0 1 0 0 0 1 0 1 0 0 1 0 1 0 1 1 0 0 1 0 0 0 1 1 1 0 0 0 0 0 0 0 0 0\n",
      " 1 1 0 1 0 1 1 0 0 1 0 0 0 0 0 0 1 1 1 1 1 1 0 1 1 0]\n"
     ]
    },
    {
     "data": {
      "text/plain": [
       "array([1, 0, 1, 0, 0, 0, 0, 1, 1, 1, 1, 1, 1, 0, 1, 0, 1, 0, 0, 0, 1, 1,\n",
       "       0, 0, 1, 0, 0, 1, 1, 0, 0, 1, 1, 0, 1, 1, 1, 1, 0, 0, 1, 0, 1, 1,\n",
       "       1, 0, 1, 0, 1, 1, 0, 1, 0, 1, 0, 0, 1, 1, 0, 1, 1, 1, 0, 0, 0, 1,\n",
       "       1, 1, 1, 1, 1, 1, 1, 1, 0, 0, 1, 0, 1, 0, 0, 1, 1, 0, 1, 1, 1, 1,\n",
       "       1, 1, 0, 0, 0, 0, 0, 0, 1, 0, 0, 1])"
      ]
     },
     "execution_count": 195,
     "metadata": {},
     "output_type": "execute_result"
    }
   ],
   "source": [
    "#77. 如何对布尔值取反，或者原位(in-place)改变浮点数的符号(sign)？\n",
    "Z = np.random.randint(0,2,100)\n",
    "print(Z)\n",
    "np.logical_not(Z, out=Z)\n",
    "\n",
    "\n"
   ]
  },
  {
   "cell_type": "code",
   "execution_count": 197,
   "metadata": {},
   "outputs": [
    {
     "name": "stdout",
     "output_type": "stream",
     "text": [
      "[ 0.35040296  0.28670369 -0.22726981 -0.91078031  0.7889617  -0.0030759\n",
      "  0.2717473   0.83196521 -0.64178006 -0.3154238   0.59882978 -0.59867537\n",
      " -0.55349415 -0.52105231 -0.47853452  0.99655352 -0.69408613  0.93489644\n",
      "  0.64381491  0.76876556 -0.56169012 -0.61410839  0.49356388 -0.39970073\n",
      "  0.66310625 -0.82029501  0.51406647 -0.90298912 -0.87520685 -0.37441765\n",
      " -0.8475918  -0.57986583  0.40923363 -0.62463575  0.2030641   0.23948373\n",
      " -0.67314324  0.13946974  0.29725753  0.83621557  0.53254691  0.39263811\n",
      "  0.70981009  0.26049799  0.54014958  0.91277762 -0.59022631  0.9500936\n",
      "  0.78321005 -0.72683455  0.32058262  0.71141101  0.43833342  0.17771285\n",
      " -0.67680446  0.96070888 -0.73406248  0.53594764 -0.50702259 -0.82513048\n",
      "  0.3130383   0.59653872 -0.78238866  0.60355719 -0.61692726 -0.16181172\n",
      " -0.19406789  0.63904837  0.64830095 -0.98001234 -0.22267251  0.15639545\n",
      " -0.14381069 -0.33444202  0.72260367  0.43087172 -0.01107751  0.90706084\n",
      "  0.66316011  0.60468878 -0.62785364  0.78140282 -0.91847033  0.23615398\n",
      "  0.43617838 -0.21708411 -0.9406713   0.31826886  0.27300575  0.29453036\n",
      " -0.02349298  0.22840743 -0.25137137  0.03728108 -0.2094099   0.44570761\n",
      "  0.31580457  0.33000552 -0.66235995 -0.70687527]\n"
     ]
    },
    {
     "data": {
      "text/plain": [
       "array([-0.35040296, -0.28670369,  0.22726981,  0.91078031, -0.7889617 ,\n",
       "        0.0030759 , -0.2717473 , -0.83196521,  0.64178006,  0.3154238 ,\n",
       "       -0.59882978,  0.59867537,  0.55349415,  0.52105231,  0.47853452,\n",
       "       -0.99655352,  0.69408613, -0.93489644, -0.64381491, -0.76876556,\n",
       "        0.56169012,  0.61410839, -0.49356388,  0.39970073, -0.66310625,\n",
       "        0.82029501, -0.51406647,  0.90298912,  0.87520685,  0.37441765,\n",
       "        0.8475918 ,  0.57986583, -0.40923363,  0.62463575, -0.2030641 ,\n",
       "       -0.23948373,  0.67314324, -0.13946974, -0.29725753, -0.83621557,\n",
       "       -0.53254691, -0.39263811, -0.70981009, -0.26049799, -0.54014958,\n",
       "       -0.91277762,  0.59022631, -0.9500936 , -0.78321005,  0.72683455,\n",
       "       -0.32058262, -0.71141101, -0.43833342, -0.17771285,  0.67680446,\n",
       "       -0.96070888,  0.73406248, -0.53594764,  0.50702259,  0.82513048,\n",
       "       -0.3130383 , -0.59653872,  0.78238866, -0.60355719,  0.61692726,\n",
       "        0.16181172,  0.19406789, -0.63904837, -0.64830095,  0.98001234,\n",
       "        0.22267251, -0.15639545,  0.14381069,  0.33444202, -0.72260367,\n",
       "       -0.43087172,  0.01107751, -0.90706084, -0.66316011, -0.60468878,\n",
       "        0.62785364, -0.78140282,  0.91847033, -0.23615398, -0.43617838,\n",
       "        0.21708411,  0.9406713 , -0.31826886, -0.27300575, -0.29453036,\n",
       "        0.02349298, -0.22840743,  0.25137137, -0.03728108,  0.2094099 ,\n",
       "       -0.44570761, -0.31580457, -0.33000552,  0.66235995,  0.70687527])"
      ]
     },
     "execution_count": 197,
     "metadata": {},
     "output_type": "execute_result"
    }
   ],
   "source": [
    "Z = np.random.uniform(-1.0,1.0,100)\n",
    "print(Z)\n",
    "np.negative(Z, out=Z)"
   ]
  },
  {
   "cell_type": "code",
   "execution_count": 198,
   "metadata": {},
   "outputs": [
    {
     "name": "stdout",
     "output_type": "stream",
     "text": [
      "[ 9.79848123  6.11874831  3.32501786  2.5068641   7.51135178  0.32641616\n",
      "  1.92520119  1.32381966 11.76679562  6.93942879]\n"
     ]
    }
   ],
   "source": [
    "#78. 考虑两组点集P0和P1去描述一组线(二维)和一个点p,如何计算点p到每一条线 i (P0[i],P1[i])的距离？\n",
    "def distance(P0, P1, p):\n",
    "    T = P1 - P0\n",
    "    L = (T**2).sum(axis=1)\n",
    "    U = -((P0[:,0]-p[...,0])*T[:,0] + (P0[:,1]-p[...,1])*T[:,1]) / L\n",
    "    U = U.reshape(len(U),1)\n",
    "    D = P0 + U*T - p\n",
    "    return np.sqrt((D**2).sum(axis=1))\n",
    "P0 = np.random.uniform(-10,10,(10,2))\n",
    "P1 = np.random.uniform(-10,10,(10,2))\n",
    "p  = np.random.uniform(-10,10,( 1,2))\n",
    "print (distance(P0, P1, p))\n"
   ]
  },
  {
   "cell_type": "code",
   "execution_count": 199,
   "metadata": {},
   "outputs": [
    {
     "name": "stdout",
     "output_type": "stream",
     "text": [
      "[[ 9.53446515  0.06314562 13.6598637  11.45543812  9.50566764  2.97761623\n",
      "   9.86763541  7.10462609  0.09037468  2.97386136]\n",
      " [ 4.47998765 13.01087612  4.13472602  2.53811478  3.8353839   2.2460435\n",
      "   0.12563105  5.69853942  1.67233602  3.09903143]\n",
      " [ 1.91595885  9.4782783   0.96854565  8.02225158  2.32525503  4.44727817\n",
      "   4.89495268  9.10008555  5.0130861   3.09392727]\n",
      " [ 7.30588806  0.46576954  2.4014327  15.52083847  1.64090135  6.85572523\n",
      "   1.36406496  3.10662968  8.76138434  9.24112445]\n",
      " [ 9.18517106  0.06033499 11.50751825 12.31084547  7.3509114   1.04969501\n",
      "   7.72191576  5.17882714  1.65927669  4.24400105]\n",
      " [ 3.84894227  4.80611081  6.79658696  9.5255134   4.05202181  0.30996989\n",
      "   2.93521992  0.60576187  2.06974815  2.73638443]\n",
      " [ 9.36604955  0.47019224  9.49256477 13.62906605  5.17624983  1.07288668\n",
      "   5.72319295  3.55031716  3.6770687   5.90937948]\n",
      " [ 1.13197781 10.54183339 10.08185915  2.60218639  9.05044092  6.08234573\n",
      "   6.10150546  0.44068731  4.72469541  4.3737423 ]\n",
      " [ 4.28473166 13.71174985  9.45171713  0.25517436  9.3653034   7.42629244\n",
      "   5.41307251  1.17038929  6.49383313  6.86281626]\n",
      " [ 2.87338139  4.3185247   2.03697663 13.50284041  4.9334238   8.50898362\n",
      "   5.86210738  8.35230868  9.59311605  8.37877396]]\n"
     ]
    }
   ],
   "source": [
    "#79.考虑两组点集P0和P1去描述一组线(二维)和一组点集P，如何计算每一个点 j(P[j]) 到每一条线 i (P0[i],P1[i])的距离？\n",
    "P0 = np.random.uniform(-10, 10, (10,2))\n",
    "P1 = np.random.uniform(-10,10,(10,2))\n",
    "p = np.random.uniform(-10, 10, (10,2))\n",
    "print (np.array([distance(P0,P1,p_i) for p_i in p]))\n",
    "\n"
   ]
  },
  {
   "cell_type": "code",
   "execution_count": 200,
   "metadata": {},
   "outputs": [
    {
     "name": "stdout",
     "output_type": "stream",
     "text": [
      "[[8 8 6 8 4 9 5 0 9 9]\n",
      " [0 7 7 2 6 2 8 3 4 1]\n",
      " [5 2 1 2 5 4 3 9 0 2]\n",
      " [0 3 0 4 4 5 7 6 1 8]\n",
      " [1 3 1 4 5 4 4 6 5 5]\n",
      " [9 8 9 1 6 0 3 0 7 5]\n",
      " [1 7 1 9 8 3 0 7 7 5]\n",
      " [8 4 9 2 8 1 3 6 7 0]\n",
      " [7 6 2 6 9 2 8 7 8 0]\n",
      " [6 5 8 9 9 1 3 2 4 5]]\n",
      "[[0 0 0 0 0]\n",
      " [0 8 8 6 8]\n",
      " [0 0 7 7 2]\n",
      " [0 5 2 1 2]\n",
      " [0 0 3 0 4]]\n"
     ]
    },
    {
     "name": "stderr",
     "output_type": "stream",
     "text": [
      "C:\\ProgramData\\Anaconda3\\lib\\site-packages\\ipykernel_launcher.py:24: FutureWarning: Using a non-tuple sequence for multidimensional indexing is deprecated; use `arr[tuple(seq)]` instead of `arr[seq]`. In the future this will be interpreted as an array index, `arr[np.array(seq)]`, which will result either in an error or a different result.\n"
     ]
    }
   ],
   "source": [
    "#80.Consider an arbitrary array, write a function that extract a subpart with a fixed shape and centered on a given element (pad with a fill value when necessary) (★★★)\n",
    "Z = np.random.randint(0,10,(10,10))\n",
    "shape = (5,5)\n",
    "fill  = 0\n",
    "position = (1,1)\n",
    "\n",
    "R = np.ones(shape, dtype=Z.dtype)*fill\n",
    "P  = np.array(list(position)).astype(int)\n",
    "Rs = np.array(list(R.shape)).astype(int)\n",
    "Zs = np.array(list(Z.shape)).astype(int)\n",
    "\n",
    "R_start = np.zeros((len(shape),)).astype(int)\n",
    "R_stop  = np.array(list(shape)).astype(int)\n",
    "Z_start = (P-Rs//2)\n",
    "Z_stop  = (P+Rs//2)+Rs%2\n",
    "\n",
    "R_start = (R_start - np.minimum(Z_start,0)).tolist()\n",
    "Z_start = (np.maximum(Z_start,0)).tolist()\n",
    "R_stop = np.maximum(R_start, (R_stop - np.maximum(Z_stop-Zs,0))).tolist()\n",
    "Z_stop = (np.minimum(Z_stop,Zs)).tolist()\n",
    "\n",
    "r = [slice(start,stop) for start,stop in zip(R_start,R_stop)]\n",
    "z = [slice(start,stop) for start,stop in zip(Z_start,Z_stop)]\n",
    "R[r] = Z[z]\n",
    "print (Z)\n",
    "print (R)\n",
    "\n"
   ]
  },
  {
   "cell_type": "code",
   "execution_count": 201,
   "metadata": {},
   "outputs": [
    {
     "name": "stdout",
     "output_type": "stream",
     "text": [
      "[[ 1  2  3  4]\n",
      " [ 2  3  4  5]\n",
      " [ 3  4  5  6]\n",
      " [ 4  5  6  7]\n",
      " [ 5  6  7  8]\n",
      " [ 6  7  8  9]\n",
      " [ 7  8  9 10]\n",
      " [ 8  9 10 11]\n",
      " [ 9 10 11 12]\n",
      " [10 11 12 13]\n",
      " [11 12 13 14]]\n"
     ]
    }
   ],
   "source": [
    "#81. 考虑一个数组Z = [1,2,3,4,5,6,7,8,9,10,11,12,13,14],如何生成一个数组R = [[1,2,3,4], [2,3,4,5], [3,4,5,6], ...,[11,12,13,14]]? \n",
    "Z = np.arange(1,15,dtype=np.uint32)\n",
    "R = stride_tricks.as_strided(Z,(11,4),(4,4))\n",
    "print (R)\n",
    "\n"
   ]
  },
  {
   "cell_type": "code",
   "execution_count": 202,
   "metadata": {},
   "outputs": [
    {
     "name": "stdout",
     "output_type": "stream",
     "text": [
      "10\n"
     ]
    }
   ],
   "source": [
    "#82. 计算一个矩阵的秩\n",
    "Z = np.random.uniform(0,1,(10,10))\n",
    "U, S, V = np.linalg.svd(Z) # Singular Value Decomposition\n",
    "rank = np.sum(S > 1e-10)\n",
    "print (rank)\n",
    "\n"
   ]
  },
  {
   "cell_type": "code",
   "execution_count": 203,
   "metadata": {},
   "outputs": [
    {
     "name": "stdout",
     "output_type": "stream",
     "text": [
      "3\n"
     ]
    }
   ],
   "source": [
    "#83. 如何找到一个数组中出现频率最高的值？\n",
    "Z = np.random.randint(0,10,50)\n",
    "print (np.bincount(Z).argmax())\n",
    "\n"
   ]
  },
  {
   "cell_type": "code",
   "execution_count": 204,
   "metadata": {},
   "outputs": [
    {
     "name": "stdout",
     "output_type": "stream",
     "text": [
      "[[[[2 3 3]\n",
      "   [1 1 3]\n",
      "   [2 2 1]]\n",
      "\n",
      "  [[3 3 4]\n",
      "   [1 3 2]\n",
      "   [2 1 4]]\n",
      "\n",
      "  [[3 4 4]\n",
      "   [3 2 0]\n",
      "   [1 4 1]]\n",
      "\n",
      "  [[4 4 1]\n",
      "   [2 0 3]\n",
      "   [4 1 3]]\n",
      "\n",
      "  [[4 1 4]\n",
      "   [0 3 3]\n",
      "   [1 3 2]]\n",
      "\n",
      "  [[1 4 3]\n",
      "   [3 3 1]\n",
      "   [3 2 2]]\n",
      "\n",
      "  [[4 3 2]\n",
      "   [3 1 1]\n",
      "   [2 2 1]]\n",
      "\n",
      "  [[3 2 2]\n",
      "   [1 1 0]\n",
      "   [2 1 3]]]\n",
      "\n",
      "\n",
      " [[[1 1 3]\n",
      "   [2 2 1]\n",
      "   [0 4 1]]\n",
      "\n",
      "  [[1 3 2]\n",
      "   [2 1 4]\n",
      "   [4 1 1]]\n",
      "\n",
      "  [[3 2 0]\n",
      "   [1 4 1]\n",
      "   [1 1 2]]\n",
      "\n",
      "  [[2 0 3]\n",
      "   [4 1 3]\n",
      "   [1 2 2]]\n",
      "\n",
      "  [[0 3 3]\n",
      "   [1 3 2]\n",
      "   [2 2 1]]\n",
      "\n",
      "  [[3 3 1]\n",
      "   [3 2 2]\n",
      "   [2 1 0]]\n",
      "\n",
      "  [[3 1 1]\n",
      "   [2 2 1]\n",
      "   [1 0 1]]\n",
      "\n",
      "  [[1 1 0]\n",
      "   [2 1 3]\n",
      "   [0 1 2]]]\n",
      "\n",
      "\n",
      " [[[2 2 1]\n",
      "   [0 4 1]\n",
      "   [4 3 4]]\n",
      "\n",
      "  [[2 1 4]\n",
      "   [4 1 1]\n",
      "   [3 4 3]]\n",
      "\n",
      "  [[1 4 1]\n",
      "   [1 1 2]\n",
      "   [4 3 1]]\n",
      "\n",
      "  [[4 1 3]\n",
      "   [1 2 2]\n",
      "   [3 1 3]]\n",
      "\n",
      "  [[1 3 2]\n",
      "   [2 2 1]\n",
      "   [1 3 4]]\n",
      "\n",
      "  [[3 2 2]\n",
      "   [2 1 0]\n",
      "   [3 4 3]]\n",
      "\n",
      "  [[2 2 1]\n",
      "   [1 0 1]\n",
      "   [4 3 3]]\n",
      "\n",
      "  [[2 1 3]\n",
      "   [0 1 2]\n",
      "   [3 3 1]]]\n",
      "\n",
      "\n",
      " [[[0 4 1]\n",
      "   [4 3 4]\n",
      "   [3 0 4]]\n",
      "\n",
      "  [[4 1 1]\n",
      "   [3 4 3]\n",
      "   [0 4 4]]\n",
      "\n",
      "  [[1 1 2]\n",
      "   [4 3 1]\n",
      "   [4 4 2]]\n",
      "\n",
      "  [[1 2 2]\n",
      "   [3 1 3]\n",
      "   [4 2 3]]\n",
      "\n",
      "  [[2 2 1]\n",
      "   [1 3 4]\n",
      "   [2 3 2]]\n",
      "\n",
      "  [[2 1 0]\n",
      "   [3 4 3]\n",
      "   [3 2 2]]\n",
      "\n",
      "  [[1 0 1]\n",
      "   [4 3 3]\n",
      "   [2 2 1]]\n",
      "\n",
      "  [[0 1 2]\n",
      "   [3 3 1]\n",
      "   [2 1 3]]]\n",
      "\n",
      "\n",
      " [[[4 3 4]\n",
      "   [3 0 4]\n",
      "   [4 2 3]]\n",
      "\n",
      "  [[3 4 3]\n",
      "   [0 4 4]\n",
      "   [2 3 3]]\n",
      "\n",
      "  [[4 3 1]\n",
      "   [4 4 2]\n",
      "   [3 3 3]]\n",
      "\n",
      "  [[3 1 3]\n",
      "   [4 2 3]\n",
      "   [3 3 2]]\n",
      "\n",
      "  [[1 3 4]\n",
      "   [2 3 2]\n",
      "   [3 2 4]]\n",
      "\n",
      "  [[3 4 3]\n",
      "   [3 2 2]\n",
      "   [2 4 1]]\n",
      "\n",
      "  [[4 3 3]\n",
      "   [2 2 1]\n",
      "   [4 1 1]]\n",
      "\n",
      "  [[3 3 1]\n",
      "   [2 1 3]\n",
      "   [1 1 4]]]\n",
      "\n",
      "\n",
      " [[[3 0 4]\n",
      "   [4 2 3]\n",
      "   [3 2 0]]\n",
      "\n",
      "  [[0 4 4]\n",
      "   [2 3 3]\n",
      "   [2 0 2]]\n",
      "\n",
      "  [[4 4 2]\n",
      "   [3 3 3]\n",
      "   [0 2 3]]\n",
      "\n",
      "  [[4 2 3]\n",
      "   [3 3 2]\n",
      "   [2 3 1]]\n",
      "\n",
      "  [[2 3 2]\n",
      "   [3 2 4]\n",
      "   [3 1 0]]\n",
      "\n",
      "  [[3 2 2]\n",
      "   [2 4 1]\n",
      "   [1 0 1]]\n",
      "\n",
      "  [[2 2 1]\n",
      "   [4 1 1]\n",
      "   [0 1 2]]\n",
      "\n",
      "  [[2 1 3]\n",
      "   [1 1 4]\n",
      "   [1 2 3]]]\n",
      "\n",
      "\n",
      " [[[4 2 3]\n",
      "   [3 2 0]\n",
      "   [2 3 3]]\n",
      "\n",
      "  [[2 3 3]\n",
      "   [2 0 2]\n",
      "   [3 3 2]]\n",
      "\n",
      "  [[3 3 3]\n",
      "   [0 2 3]\n",
      "   [3 2 4]]\n",
      "\n",
      "  [[3 3 2]\n",
      "   [2 3 1]\n",
      "   [2 4 1]]\n",
      "\n",
      "  [[3 2 4]\n",
      "   [3 1 0]\n",
      "   [4 1 1]]\n",
      "\n",
      "  [[2 4 1]\n",
      "   [1 0 1]\n",
      "   [1 1 3]]\n",
      "\n",
      "  [[4 1 1]\n",
      "   [0 1 2]\n",
      "   [1 3 2]]\n",
      "\n",
      "  [[1 1 4]\n",
      "   [1 2 3]\n",
      "   [3 2 4]]]\n",
      "\n",
      "\n",
      " [[[3 2 0]\n",
      "   [2 3 3]\n",
      "   [2 2 3]]\n",
      "\n",
      "  [[2 0 2]\n",
      "   [3 3 2]\n",
      "   [2 3 1]]\n",
      "\n",
      "  [[0 2 3]\n",
      "   [3 2 4]\n",
      "   [3 1 0]]\n",
      "\n",
      "  [[2 3 1]\n",
      "   [2 4 1]\n",
      "   [1 0 0]]\n",
      "\n",
      "  [[3 1 0]\n",
      "   [4 1 1]\n",
      "   [0 0 2]]\n",
      "\n",
      "  [[1 0 1]\n",
      "   [1 1 3]\n",
      "   [0 2 2]]\n",
      "\n",
      "  [[0 1 2]\n",
      "   [1 3 2]\n",
      "   [2 2 0]]\n",
      "\n",
      "  [[1 2 3]\n",
      "   [3 2 4]\n",
      "   [2 0 3]]]]\n"
     ]
    }
   ],
   "source": [
    "#84. 从一个10x10的矩阵中提取出连续的3x3区块\n",
    "Z = np.random.randint(0,5,(10,10))\n",
    "n = 3\n",
    "i = 1 + (Z.shape[0]-3)\n",
    "j = 1 + (Z.shape[1]-3)\n",
    "C = stride_tricks.as_strided(Z, shape=(i, j, n, n), strides=Z.strides + Z.strides)#??\n",
    "print (C)\n",
    "\n"
   ]
  },
  {
   "cell_type": "code",
   "execution_count": 205,
   "metadata": {},
   "outputs": [],
   "source": [
    "#"
   ]
  },
  {
   "cell_type": "code",
   "execution_count": 206,
   "metadata": {},
   "outputs": [
    {
     "name": "stdout",
     "output_type": "stream",
     "text": [
      "[[ 4 11 11  3 11]\n",
      " [11  6 11  7  6]\n",
      " [11 11  8 42 14]\n",
      " [ 3  7 42  4  1]\n",
      " [11  6 14  1  2]]\n"
     ]
    }
   ],
   "source": [
    "#85. 创建一个满足 Z[i,j] == Z[j,i]的子类\n",
    "class Symetric(np.ndarray):\n",
    "    def __setitem__(self, index, value):\n",
    "        i,j = index\n",
    "        super(Symetric, self).__setitem__((i,j), value)\n",
    "        super(Symetric, self).__setitem__((j,i), value)\n",
    "\n",
    "def symetric(Z):\n",
    "    return np.asarray(Z + Z.T - np.diag(Z.diagonal())).view(Symetric)\n",
    "\n",
    "S = symetric(np.random.randint(0,10,(5,5)))\n",
    "S[2,3] = 42\n",
    "print (S)\n",
    "\n"
   ]
  },
  {
   "cell_type": "code",
   "execution_count": 32,
   "metadata": {},
   "outputs": [],
   "source": [
    "#"
   ]
  },
  {
   "cell_type": "code",
   "execution_count": 210,
   "metadata": {},
   "outputs": [
    {
     "name": "stdout",
     "output_type": "stream",
     "text": [
      "[[200.]\n",
      " [200.]\n",
      " [200.]\n",
      " [200.]\n",
      " [200.]\n",
      " [200.]\n",
      " [200.]\n",
      " [200.]\n",
      " [200.]\n",
      " [200.]\n",
      " [200.]\n",
      " [200.]\n",
      " [200.]\n",
      " [200.]\n",
      " [200.]\n",
      " [200.]\n",
      " [200.]\n",
      " [200.]\n",
      " [200.]\n",
      " [200.]]\n"
     ]
    }
   ],
   "source": [
    "#86. 考虑p个 nxn 矩阵和一组形状为(n,1)的向量，如何直接计算p个矩阵的乘积(n,1)？\n",
    "p, n = 10, 20\n",
    "M = np.ones((p,n,n))\n",
    "V = np.ones((p,n,1))\n",
    "S = np.tensordot(M, V, axes=[[0, 2], [0, 1]])\n",
    "print (S)\n",
    "\n"
   ]
  },
  {
   "cell_type": "code",
   "execution_count": 34,
   "metadata": {},
   "outputs": [],
   "source": [
    "#"
   ]
  },
  {
   "cell_type": "code",
   "execution_count": 211,
   "metadata": {},
   "outputs": [
    {
     "name": "stdout",
     "output_type": "stream",
     "text": [
      "[[16. 16. 16. 16.]\n",
      " [16. 16. 16. 16.]\n",
      " [16. 16. 16. 16.]\n",
      " [16. 16. 16. 16.]]\n"
     ]
    }
   ],
   "source": [
    "#87. 对于一个16x16的数组，如何得到一个区域(block-sum)的和(区域大小为4x4)? \n",
    "Z = np.ones((16,16))\n",
    "k = 4\n",
    "S = np.add.reduceat(np.add.reduceat(Z, np.arange(0, Z.shape[0], k), axis=0),\n",
    "                                       np.arange(0, Z.shape[1], k), axis=1)\n",
    "print (S)\n",
    "\n"
   ]
  },
  {
   "cell_type": "code",
   "execution_count": 212,
   "metadata": {},
   "outputs": [
    {
     "name": "stdout",
     "output_type": "stream",
     "text": [
      "[[0 0 0 ... 0 0 0]\n",
      " [0 0 1 ... 0 0 0]\n",
      " [0 1 0 ... 0 0 0]\n",
      " ...\n",
      " [0 0 0 ... 0 0 0]\n",
      " [0 0 0 ... 0 0 0]\n",
      " [0 0 0 ... 0 0 0]]\n"
     ]
    }
   ],
   "source": [
    "#88. 如何利用numpy数组实现Game of Life? \n",
    "def iterate(Z):\n",
    "    # Count neighbours\n",
    "    N = (Z[0:-2,0:-2] + Z[0:-2,1:-1] + Z[0:-2,2:] +\n",
    "         Z[1:-1,0:-2]                + Z[1:-1,2:] +\n",
    "         Z[2:  ,0:-2] + Z[2:  ,1:-1] + Z[2:  ,2:])\n",
    "\n",
    "    birth = (N==3) & (Z[1:-1,1:-1]==0)\n",
    "    survive = ((N==2) | (N==3)) & (Z[1:-1,1:-1]==1)\n",
    "    Z[...] = 0\n",
    "    Z[1:-1,1:-1][birth | survive] = 1\n",
    "    return Z\n",
    "\n",
    "Z = np.random.randint(0,2,(50,50))\n",
    "for i in range(100): Z = iterate(Z)\n",
    "print (Z)\n",
    "\n"
   ]
  },
  {
   "cell_type": "code",
   "execution_count": 213,
   "metadata": {},
   "outputs": [
    {
     "name": "stdout",
     "output_type": "stream",
     "text": [
      "[9995 9996 9997 9998 9999]\n"
     ]
    }
   ],
   "source": [
    "#89. 如何找到一个数组的第n个最大值? \n",
    "Z = np.arange(10000)\n",
    "np.random.shuffle(Z)\n",
    "n = 5\n",
    "\n",
    "print (Z[np.argsort(Z)[-n:]])\n",
    "\n"
   ]
  },
  {
   "cell_type": "code",
   "execution_count": 214,
   "metadata": {},
   "outputs": [
    {
     "name": "stdout",
     "output_type": "stream",
     "text": [
      "[9996 9997 9999 9998 9995]\n"
     ]
    }
   ],
   "source": [
    "# 方法2\n",
    "# 较快\n",
    "print (Z[np.argpartition(-Z,n)[:n]])"
   ]
  },
  {
   "cell_type": "code",
   "execution_count": 39,
   "metadata": {},
   "outputs": [],
   "source": [
    "#"
   ]
  },
  {
   "cell_type": "code",
   "execution_count": 215,
   "metadata": {},
   "outputs": [
    {
     "name": "stdout",
     "output_type": "stream",
     "text": [
      "[[1 4 6]\n",
      " [1 4 7]\n",
      " [1 5 6]\n",
      " [1 5 7]\n",
      " [2 4 6]\n",
      " [2 4 7]\n",
      " [2 5 6]\n",
      " [2 5 7]\n",
      " [3 4 6]\n",
      " [3 4 7]\n",
      " [3 5 6]\n",
      " [3 5 7]]\n"
     ]
    }
   ],
   "source": [
    "#90. 给定任意个数向量，创建笛卡尔积(每一个元素的每一种组合)\n",
    "def cartesian(arrays):\n",
    "    arrays = [np.asarray(a) for a in arrays]\n",
    "    shape = (len(x) for x in arrays)\n",
    "\n",
    "    ix = np.indices(shape, dtype=int)\n",
    "    ix = ix.reshape(len(arrays), -1).T\n",
    "\n",
    "    for n, arr in enumerate(arrays):\n",
    "        ix[:, n] = arrays[n][ix[:, n]]\n",
    "\n",
    "    return ix\n",
    "print (cartesian(([1, 2, 3], [4, 5], [6, 7])))\n",
    "\n"
   ]
  },
  {
   "cell_type": "code",
   "execution_count": 216,
   "metadata": {},
   "outputs": [
    {
     "name": "stdout",
     "output_type": "stream",
     "text": [
      "[(b'Hello', 2.5, 3) (b'World', 3.6, 2)]\n"
     ]
    }
   ],
   "source": [
    "#91. 如何从一个正常数组创建记录数组(record array)? \n",
    "Z = np.array([(\"Hello\", 2.5, 3),\n",
    "              (\"World\", 3.6, 2)])\n",
    "R = np.core.records.fromarrays(Z.T, \n",
    "                               names='col1, col2, col3',\n",
    "                               formats = 'S8, f8, i8')\n",
    "print (R)\n",
    "\n"
   ]
  },
  {
   "cell_type": "code",
   "execution_count": 217,
   "metadata": {},
   "outputs": [
    {
     "data": {
      "text/plain": [
       "0.030461055681506397"
      ]
     },
     "execution_count": 217,
     "metadata": {},
     "output_type": "execute_result"
    }
   ],
   "source": [
    "#92. 考虑一个大向量Z, 用三种不同的方法计算它的立方\n",
    "x = np.random.rand()\n",
    "np.power(x,3)\n",
    "\n"
   ]
  },
  {
   "cell_type": "code",
   "execution_count": 218,
   "metadata": {},
   "outputs": [
    {
     "data": {
      "text/plain": [
       "0.030461055681506397"
      ]
     },
     "execution_count": 218,
     "metadata": {},
     "output_type": "execute_result"
    }
   ],
   "source": [
    "# 方法2\n",
    "x*x*x"
   ]
  },
  {
   "cell_type": "code",
   "execution_count": 238,
   "metadata": {},
   "outputs": [
    {
     "data": {
      "text/plain": [
       "array([ 0.00000000e+00,  9.85087246e-04,  7.53107070e-03,  2.35414312e-02,\n",
       "        5.00086518e-02,  8.44839027e-02,  1.21435457e-01,  1.53465099e-01,\n",
       "        1.73148981e-01,  1.75098102e-01,  1.57728605e-01,  1.24218435e-01,\n",
       "        8.22160139e-02,  4.20528768e-02,  1.34734566e-02,  1.19458595e-03,\n",
       "       -1.01973468e-04, -1.05085879e-02, -6.83997491e-02, -2.31758607e-01,\n",
       "       -5.76540446e-01, -1.19161212e+00, -2.17025076e+00, -3.59870344e+00,\n",
       "       -5.54283590e+00, -8.03435753e+00, -1.10584274e+01, -1.45445589e+01,\n",
       "       -1.83626048e+01, -2.23252098e+01, -2.61974773e+01, -2.97137726e+01,\n",
       "       -3.26006553e+01, -3.46040110e+01, -3.55176514e+01, -3.52100968e+01,\n",
       "       -3.36460345e+01, -3.08991413e+01, -2.71535775e+01, -2.26924920e+01,\n",
       "       -1.78732305e+01, -1.30904967e+01, -8.73030541e+00, -5.11900807e+00,\n",
       "       -2.47277764e+00, -8.53539056e-01, -1.37309531e-01, -1.97408996e-04,\n",
       "        7.40854178e-02,  7.63327938e-01,  2.85308261e+00,  7.16323517e+00,\n",
       "        1.44605622e+01,  2.53651223e+01,  4.02598498e+01,  5.92133727e+01,\n",
       "        8.19257003e+01,  1.07704975e+02,  1.35481000e+02,  1.63857940e+02,\n",
       "        1.91204689e+02,  2.15777324e+02,  2.35864194e+02,  2.49940972e+02,\n",
       "        2.56820845e+02,  2.55784204e+02,  2.46672976e+02,  2.29937100e+02,\n",
       "        2.06624533e+02,  1.78311252e+02,  1.46973571e+02,  1.14811192e+02,\n",
       "        8.40351233e+01,  5.66392908e+01,  3.41778363e+01,  1.75712323e+01,\n",
       "        6.96321856e+00,  1.64712378e+00,  7.45399426e-02, -4.79970973e-02,\n",
       "       -1.57710004e+00, -7.67694065e+00, -2.15097665e+01, -4.58991630e+01,\n",
       "       -8.29973755e+01, -1.33989884e+02, -1.98869135e+02, -2.76304786e+02,\n",
       "       -3.63630245e+02, -4.56955280e+02, -5.51402769e+02, -6.41455476e+02,\n",
       "       -7.21387055e+02, -7.85741640e+02, -8.29819372e+02, -8.50121981e+02,\n",
       "       -8.44713518e+02, -8.13456811e+02, -7.58095855e+02, -6.82167433e+02,\n",
       "       -5.90740784e+02, -4.90000645e+02, -3.86705023e+02, -2.87562927e+02,\n",
       "       -1.98587560e+02, -1.24486037e+02, -6.81465317e+01, -3.02778370e+01,\n",
       "       -9.24464399e+00, -1.12543023e+00,  1.15378099e-04,  1.54889680e+00,\n",
       "        1.17536674e+01,  3.88590935e+01,  9.02648203e+01,  1.71694639e+02,\n",
       "        2.86472647e+02,  4.34981453e+02,  6.14364161e+02,  8.18511981e+02,\n",
       "        1.03835442e+03,  1.26244123e+03,  1.47777724e+03,  1.67084522e+03,\n",
       "        1.82873123e+03,  1.94025267e+03,  1.99698479e+03,  1.99408517e+03,\n",
       "        1.93083076e+03,  1.81080454e+03,  1.64169906e+03,  1.43473874e+03,\n",
       "        1.20375838e+03,  9.64009809e+02,  7.30796593e+02,  5.18058097e+02,\n",
       "        3.37033555e+02,  1.95135340e+02,  9.51463995e+01,  3.48313047e+01,\n",
       "        7.01526899e+00,  1.43822827e-01, -7.08879198e-01, -1.24587131e+01,\n",
       "       -5.23711311e+01, -1.36304781e+02, -2.76999426e+02, -4.82571138e+02,\n",
       "       -7.55365279e+02, -1.09129080e+03, -1.47971960e+03, -1.90398565e+03,\n",
       "       -2.34246397e+03, -2.77015514e+03, -3.16065064e+03, -3.48831438e+03,\n",
       "       -3.73048888e+03, -3.86952491e+03, -3.89444205e+03, -3.80205424e+03,\n",
       "       -3.59743773e+03, -3.29367530e+03, -2.91087474e+03, -2.47452707e+03,\n",
       "       -2.01333324e+03, -1.55668193e+03, -1.13199988e+03, -7.62215818e+02,\n",
       "       -4.63577047e+02, -2.44033257e+02, -1.02357218e+02, -2.81093026e+01,\n",
       "       -2.47826932e+00,  4.96053750e-02,  9.31958168e+00,  5.66319233e+01,\n",
       "        1.71609890e+02,  3.79094947e+02,  6.96359407e+02,  1.13090756e+03,\n",
       "        1.67909155e+03,  2.32570076e+03,  3.04459941e+03,  3.80039260e+03,\n",
       "        4.55100604e+03,  5.25097633e+03,  5.85517666e+03,  6.32265371e+03,\n",
       "        6.62023017e+03,  6.72553825e+03,  6.62919037e+03,  6.33586332e+03,\n",
       "        5.86416475e+03,  5.24525850e+03,  4.52033812e+03,  3.73714671e+03,\n",
       "        2.94583429e+03,  2.19451371e+03,  1.52491426e+03,  9.68535101e+02,\n",
       "        5.43666410e+02,  2.53577029e+02,  8.60688183e+01,  1.44778447e+01,\n",
       "        7.15546291e-02, -4.33914660e+00, -4.98713821e+01, -1.86517252e+02,\n",
       "       -4.58018253e+02, -8.97139488e+02, -1.52179345e+03, -2.33239863e+03,\n",
       "       -3.31075638e+03, -4.42059860e+03, -5.60981027e+03, -6.81417747e+03,\n",
       "       -7.96236757e+03, -8.98172718e+03, -9.80439665e+03, -1.03731967e+04,\n",
       "       -1.06467487e+04, -1.06033436e+04, -1.02431783e+04, -9.58871211e+03,\n",
       "       -8.68306603e+03, -7.58655931e+03, -6.37165308e+03, -5.11672180e+03,\n",
       "       -3.89919135e+03, -2.78865417e+03, -1.84058933e+03, -1.09127602e+03,\n",
       "       -5.54394481e+02, -2.19666485e+02, -5.37092999e+01, -3.07883885e+00,\n",
       "        7.23869136e-01,  3.46945371e+01,  1.76780443e+02,  4.98018057e+02,\n",
       "        1.05506991e+03,  1.88385941e+03,  2.99492001e+03,  4.37093495e+03,\n",
       "        5.96675538e+03,  7.71196677e+03,  9.51584197e+03,  1.12742983e+04,\n",
       "        1.28782831e+04,  1.42228679e+04,  1.52162488e+04,  1.57878395e+04,\n",
       "        1.58947040e+04,  1.55257127e+04,  1.47029929e+04,  1.34804824e+04,\n",
       "        1.19396551e+04,  1.01827418e+04,  8.32400802e+03,  6.47983887e+03,\n",
       "        4.75850372e+03,  3.25052611e+03,  2.02054632e+03,  1.10144891e+03,\n",
       "        4.91338052e+02,  1.53696138e+02,  2.07782982e+01,  8.42637646e-04,\n",
       "       -1.71972098e+01, -1.44778250e+02, -4.90748583e+02, -1.14604497e+03,\n",
       "       -2.17469234e+03, -3.60616773e+03, -5.43072609e+03, -7.59819130e+03,\n",
       "       -1.00204120e+04, -1.25772529e+04, -1.51256678e+04, -1.75111109e+04,\n",
       "       -1.95803119e+04, -2.11942980e+04, -2.22404949e+04, -2.26427996e+04,\n",
       "       -2.23686760e+04, -2.14325737e+04, -1.98952889e+04, -1.78592444e+04,\n",
       "       -1.54600376e+04, -1.28549456e+04, -1.02093711e+04, -7.68241550e+03,\n",
       "       -5.41286938e+03, -3.50689769e+03, -2.02856836e+03, -9.94136515e+02,\n",
       "       -3.70673282e+02, -7.92439055e+01, -2.43001261e+00,  4.40919850e+00,\n",
       "        9.90949514e+01,  4.37037117e+02,  1.15549027e+03,  2.35909800e+03,\n",
       "        4.10807866e+03,  6.41019358e+03,  9.21731904e+03,  1.24270418e+04,\n",
       "        1.58892506e+04,  1.94172431e+04,  2.28024468e+04,  2.58315074e+04,\n",
       "        2.83042591e+04,  3.00509795e+04,  3.09473664e+04])"
      ]
     },
     "execution_count": 238,
     "metadata": {},
     "output_type": "execute_result"
    }
   ],
   "source": [
    "# 方法3\n",
    "np.einsum('i,i,i->i',x,x,x)#？？"
   ]
  },
  {
   "cell_type": "code",
   "execution_count": null,
   "metadata": {},
   "outputs": [],
   "source": []
  },
  {
   "cell_type": "code",
   "execution_count": 223,
   "metadata": {},
   "outputs": [
    {
     "name": "stdout",
     "output_type": "stream",
     "text": [
      "[2 4 5 6]\n"
     ]
    }
   ],
   "source": [
    "#93. 考虑两个形状分别为(8,3) 和(2,2)的数组A和B. 如何在数组A中找到满足包含B中元素的行？(不考虑B中每行元素顺序)？ \n",
    "A = np.random.randint(0,5,(8,3))\n",
    "B = np.random.randint(0,5,(2,2))\n",
    "\n",
    "C = (A[..., np.newaxis, np.newaxis] == B)\n",
    "rows = np.where(C.any((3,1)).all(1))[0]\n",
    "print (rows)\n",
    "\n"
   ]
  },
  {
   "cell_type": "code",
   "execution_count": 241,
   "metadata": {},
   "outputs": [
    {
     "name": "stdout",
     "output_type": "stream",
     "text": [
      "[[1 0 1]\n",
      " [0 4 4]\n",
      " [0 4 2]\n",
      " [0 0 0]\n",
      " [4 0 4]\n",
      " [4 0 2]\n",
      " [0 1 2]\n",
      " [0 2 0]\n",
      " [1 0 1]\n",
      " [3 1 1]]\n",
      "[[1 0 1]\n",
      " [0 4 4]\n",
      " [0 4 2]\n",
      " [4 0 4]\n",
      " [4 0 2]\n",
      " [0 1 2]\n",
      " [0 2 0]\n",
      " [1 0 1]\n",
      " [3 1 1]]\n"
     ]
    }
   ],
   "source": [
    "#94. 考虑一个10乘3的矩阵，分解出有不全相同值的行 (如 [2,2,3]) \n",
    "Z = np.random.randint(0,5,(10,3))\n",
    "print (Z)\n",
    "\n",
    "E = np.all(Z[:,1:] == Z[:,:-1], axis=1)\n",
    "U = Z[~E]\n",
    "print (U)\n",
    "\n"
   ]
  },
  {
   "cell_type": "code",
   "execution_count": 225,
   "metadata": {},
   "outputs": [
    {
     "name": "stdout",
     "output_type": "stream",
     "text": [
      "[[4 0 4]\n",
      " [4 4 3]\n",
      " [0 0 2]\n",
      " [4 0 3]\n",
      " [1 4 0]\n",
      " [1 4 4]\n",
      " [0 1 1]\n",
      " [0 3 4]\n",
      " [3 3 4]\n",
      " [1 4 2]]\n"
     ]
    }
   ],
   "source": [
    "# 方法2\n",
    "U = Z[Z.max(axis=1) != Z.min(axis=1),:]\n",
    "print (U)"
   ]
  },
  {
   "cell_type": "code",
   "execution_count": 226,
   "metadata": {},
   "outputs": [
    {
     "name": "stdout",
     "output_type": "stream",
     "text": [
      "[[0 0 0 0 0 0 0 0]\n",
      " [0 0 0 0 0 0 0 1]\n",
      " [0 0 0 0 0 0 1 0]\n",
      " [0 0 0 0 0 0 1 1]\n",
      " [0 0 0 0 1 1 1 1]\n",
      " [0 0 0 1 0 0 0 0]\n",
      " [0 0 1 0 0 0 0 0]\n",
      " [0 1 0 0 0 0 0 0]\n",
      " [1 0 0 0 0 0 0 0]]\n"
     ]
    }
   ],
   "source": [
    "#95. 将一个整数向量转换为matrix binary的表现形式 \n",
    "I = np.array([0, 1, 2, 3, 15, 16, 32, 64, 128])\n",
    "B = ((I.reshape(-1,1) & (2**np.arange(8))) != 0).astype(int)\n",
    "print(B[:,::-1])\n",
    "\n"
   ]
  },
  {
   "cell_type": "code",
   "execution_count": 240,
   "metadata": {},
   "outputs": [
    {
     "ename": "TypeError",
     "evalue": "Expected an input array of unsigned byte data type",
     "output_type": "error",
     "traceback": [
      "\u001b[1;31m---------------------------------------------------------------------------\u001b[0m",
      "\u001b[1;31mTypeError\u001b[0m                                 Traceback (most recent call last)",
      "\u001b[1;32m<ipython-input-240-12c309af2323>\u001b[0m in \u001b[0;36m<module>\u001b[1;34m\u001b[0m\n\u001b[0;32m      1\u001b[0m \u001b[1;31m# 方法2\u001b[0m\u001b[1;33m\u001b[0m\u001b[1;33m\u001b[0m\u001b[1;33m\u001b[0m\u001b[0m\n\u001b[1;32m----> 2\u001b[1;33m \u001b[0mprint\u001b[0m\u001b[1;33m(\u001b[0m\u001b[0mnp\u001b[0m\u001b[1;33m.\u001b[0m\u001b[0munpackbits\u001b[0m\u001b[1;33m(\u001b[0m\u001b[0mI\u001b[0m\u001b[1;33m[\u001b[0m\u001b[1;33m:\u001b[0m\u001b[1;33m,\u001b[0m \u001b[0mnp\u001b[0m\u001b[1;33m.\u001b[0m\u001b[0mnewaxis\u001b[0m\u001b[1;33m]\u001b[0m\u001b[1;33m,\u001b[0m\u001b[0maxis\u001b[0m\u001b[1;33m=\u001b[0m\u001b[1;36m1\u001b[0m\u001b[1;33m)\u001b[0m\u001b[1;33m)\u001b[0m\u001b[1;33m\u001b[0m\u001b[1;33m\u001b[0m\u001b[0m\n\u001b[0m",
      "\u001b[1;31mTypeError\u001b[0m: Expected an input array of unsigned byte data type"
     ]
    }
   ],
   "source": [
    "# 方法2\n",
    "print(np.unpackbits(I[:, np.newaxis],axis=1))"
   ]
  },
  {
   "cell_type": "code",
   "execution_count": null,
   "metadata": {},
   "outputs": [],
   "source": []
  },
  {
   "cell_type": "code",
   "execution_count": 229,
   "metadata": {},
   "outputs": [
    {
     "name": "stdout",
     "output_type": "stream",
     "text": [
      "[[0 0 0]\n",
      " [0 0 1]\n",
      " [1 1 0]\n",
      " [1 1 1]]\n"
     ]
    }
   ],
   "source": [
    "#96. 给定一个二维数组，如何提取出唯一的(unique)行?\n",
    "Z = np.random.randint(0,2,(6,3))\n",
    "T = np.ascontiguousarray(Z).view(np.dtype((np.void, Z.dtype.itemsize * Z.shape[1])))\n",
    "_, idx = np.unique(T, return_index=True)\n",
    "uZ = Z[idx]\n",
    "print (uZ)\n",
    "\n"
   ]
  },
  {
   "cell_type": "code",
   "execution_count": null,
   "metadata": {},
   "outputs": [],
   "source": []
  },
  {
   "cell_type": "code",
   "execution_count": 230,
   "metadata": {},
   "outputs": [
    {
     "name": "stdout",
     "output_type": "stream",
     "text": [
      "sum\n",
      "5.374074044575163\n"
     ]
    }
   ],
   "source": [
    "#97. 考虑两个向量A和B，写出用einsum等式对应的inner, outer, sum, mul函数\n",
    "A = np.random.uniform(0,1,10)\n",
    "B = np.random.uniform(0,1,10)\n",
    "print ('sum')\n",
    "print (np.einsum('i->', A))# np.sum(A)\n",
    "\n"
   ]
  },
  {
   "cell_type": "code",
   "execution_count": 231,
   "metadata": {},
   "outputs": [
    {
     "name": "stdout",
     "output_type": "stream",
     "text": [
      "A * B\n",
      "[0.80772444 0.48310919 0.01106023 0.12907983 0.12804494 0.14545837\n",
      " 0.32224186 0.00689369 0.04052391 0.28947308]\n"
     ]
    }
   ],
   "source": [
    "print ('A * B')\n",
    "print (np.einsum('i,i->i', A, B)) # A * B"
   ]
  },
  {
   "cell_type": "code",
   "execution_count": 232,
   "metadata": {},
   "outputs": [
    {
     "name": "stdout",
     "output_type": "stream",
     "text": [
      "inner\n",
      "2.3636095257412726\n"
     ]
    }
   ],
   "source": [
    "print ('inner')\n",
    "print (np.einsum('i,i', A, B))    # np.inner(A, B)"
   ]
  },
  {
   "cell_type": "code",
   "execution_count": 233,
   "metadata": {},
   "outputs": [
    {
     "name": "stdout",
     "output_type": "stream",
     "text": [
      "outer\n",
      "[[0.80772444 0.44199385 0.04692068 0.20243746 0.17512043 0.19160283\n",
      "  0.47031062 0.064429   0.05375807 0.65412889]\n",
      " [0.88286092 0.48310919 0.05128536 0.22126869 0.19141056 0.20942619\n",
      "  0.51406005 0.07042234 0.05875877 0.71497754]\n",
      " [0.19039826 0.10418759 0.01106023 0.04771892 0.0412797  0.04516496\n",
      "  0.11086247 0.01518732 0.01267195 0.15419244]\n",
      " [0.51502785 0.28182772 0.02991795 0.12907983 0.11166172 0.12217136\n",
      "  0.29988329 0.04108174 0.03427766 0.417091  ]\n",
      " [0.59059371 0.32317802 0.03430757 0.14801866 0.12804494 0.14009657\n",
      "  0.34388274 0.04710933 0.03930694 0.47828738]\n",
      " [0.61319699 0.33554673 0.03562059 0.15368365 0.13294549 0.14545837\n",
      "  0.35704387 0.04891231 0.0408113  0.49659246]\n",
      " [0.55342707 0.30284011 0.03214856 0.13870371 0.11998695 0.13128016\n",
      "  0.32224186 0.0441447  0.03683332 0.44818829]\n",
      " [0.08642384 0.04729188 0.00502036 0.02166014 0.01873731 0.02050087\n",
      "  0.05032168 0.00689369 0.00575194 0.06998963]\n",
      " [0.60887894 0.33318386 0.03536976 0.15260143 0.13200931 0.14443407\n",
      "  0.35452961 0.04856788 0.04052391 0.49309552]\n",
      " [0.35744405 0.19559649 0.02076391 0.08958509 0.07749642 0.08479041\n",
      "  0.20812758 0.0285119  0.02378967 0.28947308]]\n"
     ]
    }
   ],
   "source": [
    "print ('outer')\n",
    "print (np.einsum('i,j->ij', A, B))    # np.outer(A, B)"
   ]
  },
  {
   "cell_type": "code",
   "execution_count": null,
   "metadata": {},
   "outputs": [],
   "source": []
  },
  {
   "cell_type": "code",
   "execution_count": 234,
   "metadata": {},
   "outputs": [],
   "source": [
    "#98. 考虑一个由两个向量描述的路径(X,Y)，如何用等距样例(equidistant samples)对其进行采样(sample)? \n",
    "phi = np.arange(0, 10*np.pi, 0.1)\n",
    "a = 1\n",
    "x = a*phi*np.cos(phi)\n",
    "y = a*phi*np.sin(phi)\n",
    "\n",
    "dr = (np.diff(x)**2 + np.diff(y)**2)**.5 # segment lengths\n",
    "r = np.zeros_like(x)\n",
    "r[1:] = np.cumsum(dr)                # integrate path\n",
    "r_int = np.linspace(0, r.max(), 200) # regular spaced path\n",
    "x_int = np.interp(r_int, r, x)       # integrate path\n",
    "y_int = np.interp(r_int, r, y)"
   ]
  },
  {
   "cell_type": "code",
   "execution_count": 235,
   "metadata": {},
   "outputs": [
    {
     "name": "stdout",
     "output_type": "stream",
     "text": [
      "[[2. 0. 1. 1.]]\n"
     ]
    }
   ],
   "source": [
    "#99. Given an integer n and a 2D array X, select from X the rows which can be interpreted as draws from a multinomial distribution with n degrees, i.e., the rows which only contain integers and which sum to n.\n",
    "X = np.asarray([[1.0, 0.0, 3.0, 8.0],\n",
    "                [2.0, 0.0, 1.0, 1.0],\n",
    "                [1.5, 2.5, 1.0, 0.0]])\n",
    "n = 4\n",
    "M = np.logical_and.reduce(np.mod(X, 1) == 0, axis=-1)\n",
    "M &= (X.sum(axis=-1) == n)\n",
    "print (X[M])\n",
    "\n"
   ]
  },
  {
   "cell_type": "code",
   "execution_count": null,
   "metadata": {},
   "outputs": [],
   "source": []
  },
  {
   "cell_type": "code",
   "execution_count": 236,
   "metadata": {},
   "outputs": [
    {
     "name": "stdout",
     "output_type": "stream",
     "text": [
      "[-0.35773015  0.04210373]\n"
     ]
    }
   ],
   "source": [
    "#100. 对于一个一维数组X，计算它boostrapped之后的95%置信区间的平均值。\n",
    "X = np.random.randn(100) # random 1D array\n",
    "N = 1000 # number of bootstrap samples\n",
    "idx = np.random.randint(0, X.size, (N, X.size))\n",
    "means = X[idx].mean(axis=1)\n",
    "confint = np.percentile(means, [2.5, 97.5])\n",
    "print (confint)\n",
    "\n"
   ]
  },
  {
   "cell_type": "code",
   "execution_count": null,
   "metadata": {},
   "outputs": [],
   "source": []
  },
  {
   "cell_type": "code",
   "execution_count": null,
   "metadata": {},
   "outputs": [],
   "source": []
  },
  {
   "cell_type": "code",
   "execution_count": null,
   "metadata": {},
   "outputs": [],
   "source": []
  },
  {
   "cell_type": "code",
   "execution_count": null,
   "metadata": {},
   "outputs": [],
   "source": []
  },
  {
   "cell_type": "code",
   "execution_count": null,
   "metadata": {},
   "outputs": [],
   "source": []
  }
 ],
 "metadata": {
  "kernelspec": {
   "display_name": "Python 3",
   "language": "python",
   "name": "python3"
  },
  "language_info": {
   "codemirror_mode": {
    "name": "ipython",
    "version": 3
   },
   "file_extension": ".py",
   "mimetype": "text/x-python",
   "name": "python",
   "nbconvert_exporter": "python",
   "pygments_lexer": "ipython3",
   "version": "3.7.3"
  }
 },
 "nbformat": 4,
 "nbformat_minor": 2
}
