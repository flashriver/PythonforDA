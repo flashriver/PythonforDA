{
 "cells": [
  {
   "cell_type": "markdown",
   "metadata": {},
   "source": [
    "# 第11章 时间序列"
   ]
  },
  {
   "cell_type": "markdown",
   "metadata": {},
   "source": [
    "### 11.1 日期和时间数据类型及工具"
   ]
  },
  {
   "cell_type": "code",
   "execution_count": 1,
   "metadata": {},
   "outputs": [],
   "source": [
    "from datetime import datetime"
   ]
  },
  {
   "cell_type": "code",
   "execution_count": 2,
   "metadata": {},
   "outputs": [],
   "source": [
    "now=datetime.now()"
   ]
  },
  {
   "cell_type": "code",
   "execution_count": 3,
   "metadata": {},
   "outputs": [
    {
     "data": {
      "text/plain": [
       "datetime.datetime(2019, 7, 17, 21, 49, 42, 797165)"
      ]
     },
     "execution_count": 3,
     "metadata": {},
     "output_type": "execute_result"
    }
   ],
   "source": [
    "now"
   ]
  },
  {
   "cell_type": "code",
   "execution_count": 4,
   "metadata": {},
   "outputs": [
    {
     "data": {
      "text/plain": [
       "(2019, 7, 17)"
      ]
     },
     "execution_count": 4,
     "metadata": {},
     "output_type": "execute_result"
    }
   ],
   "source": [
    "now.year,now.month,now.day"
   ]
  },
  {
   "cell_type": "code",
   "execution_count": 5,
   "metadata": {},
   "outputs": [],
   "source": [
    "delta=datetime(2010,9,5)-datetime(2006,7,1,11,12)"
   ]
  },
  {
   "cell_type": "code",
   "execution_count": 6,
   "metadata": {},
   "outputs": [
    {
     "data": {
      "text/plain": [
       "datetime.timedelta(days=1526, seconds=46080)"
      ]
     },
     "execution_count": 6,
     "metadata": {},
     "output_type": "execute_result"
    }
   ],
   "source": [
    "delta"
   ]
  },
  {
   "cell_type": "code",
   "execution_count": 7,
   "metadata": {},
   "outputs": [
    {
     "data": {
      "text/plain": [
       "1526"
      ]
     },
     "execution_count": 7,
     "metadata": {},
     "output_type": "execute_result"
    }
   ],
   "source": [
    "delta.days"
   ]
  },
  {
   "cell_type": "code",
   "execution_count": 8,
   "metadata": {},
   "outputs": [
    {
     "data": {
      "text/plain": [
       "46080"
      ]
     },
     "execution_count": 8,
     "metadata": {},
     "output_type": "execute_result"
    }
   ],
   "source": [
    "delta.seconds"
   ]
  },
  {
   "cell_type": "code",
   "execution_count": 9,
   "metadata": {},
   "outputs": [],
   "source": [
    "from datetime import timedelta"
   ]
  },
  {
   "cell_type": "code",
   "execution_count": 10,
   "metadata": {},
   "outputs": [],
   "source": [
    "start=datetime(2011,1,3)\n",
    "#月和日如果是个位数，前边的0必须去掉"
   ]
  },
  {
   "cell_type": "code",
   "execution_count": 11,
   "metadata": {},
   "outputs": [
    {
     "data": {
      "text/plain": [
       "datetime.datetime(2011, 1, 15, 0, 0)"
      ]
     },
     "execution_count": 11,
     "metadata": {},
     "output_type": "execute_result"
    }
   ],
   "source": [
    "start+timedelta(12)"
   ]
  },
  {
   "cell_type": "code",
   "execution_count": 12,
   "metadata": {},
   "outputs": [
    {
     "data": {
      "text/plain": [
       "datetime.datetime(2010, 12, 10, 0, 0)"
      ]
     },
     "execution_count": 12,
     "metadata": {},
     "output_type": "execute_result"
    }
   ],
   "source": [
    "start-2*timedelta(12)"
   ]
  },
  {
   "cell_type": "code",
   "execution_count": 13,
   "metadata": {},
   "outputs": [
    {
     "data": {
      "text/plain": [
       "datetime.datetime(9999, 12, 31, 23, 59, 59, 999999)"
      ]
     },
     "execution_count": 13,
     "metadata": {},
     "output_type": "execute_result"
    }
   ],
   "source": [
    "datetime.max"
   ]
  },
  {
   "cell_type": "code",
   "execution_count": 14,
   "metadata": {},
   "outputs": [
    {
     "data": {
      "text/plain": [
       "(2019, 21, 42)"
      ]
     },
     "execution_count": 14,
     "metadata": {},
     "output_type": "execute_result"
    }
   ],
   "source": [
    "datetime.now().year,datetime.now().hour,datetime.now().second"
   ]
  },
  {
   "cell_type": "markdown",
   "metadata": {},
   "source": [
    "### 字符串和datetime的相互转换"
   ]
  },
  {
   "cell_type": "code",
   "execution_count": 15,
   "metadata": {},
   "outputs": [],
   "source": [
    "stamp=datetime(2011,1,3,21,32,25)"
   ]
  },
  {
   "cell_type": "code",
   "execution_count": 16,
   "metadata": {},
   "outputs": [
    {
     "data": {
      "text/plain": [
       "datetime.datetime(2011, 1, 3, 21, 32, 25)"
      ]
     },
     "execution_count": 16,
     "metadata": {},
     "output_type": "execute_result"
    }
   ],
   "source": [
    "stamp"
   ]
  },
  {
   "cell_type": "code",
   "execution_count": 17,
   "metadata": {},
   "outputs": [
    {
     "data": {
      "text/plain": [
       "'2011-01-03 21:32:25'"
      ]
     },
     "execution_count": 17,
     "metadata": {},
     "output_type": "execute_result"
    }
   ],
   "source": [
    "str(stamp)"
   ]
  },
  {
   "cell_type": "code",
   "execution_count": 18,
   "metadata": {},
   "outputs": [
    {
     "data": {
      "text/plain": [
       "'2011-01-03-21-32-25'"
      ]
     },
     "execution_count": 18,
     "metadata": {},
     "output_type": "execute_result"
    }
   ],
   "source": [
    "stamp.strftime('%Y-%m-%d-%H-%M-%S')"
   ]
  },
  {
   "cell_type": "code",
   "execution_count": 19,
   "metadata": {},
   "outputs": [
    {
     "data": {
      "text/plain": [
       "'20110103213225'"
      ]
     },
     "execution_count": 19,
     "metadata": {},
     "output_type": "execute_result"
    }
   ],
   "source": [
    "stamp.strftime('%Y%m%d%H%M%S')\n",
    "#反过来如何实现？"
   ]
  },
  {
   "cell_type": "code",
   "execution_count": 20,
   "metadata": {},
   "outputs": [],
   "source": [
    "value='2010-09-05'"
   ]
  },
  {
   "cell_type": "code",
   "execution_count": 21,
   "metadata": {},
   "outputs": [
    {
     "data": {
      "text/plain": [
       "'2010-09-05'"
      ]
     },
     "execution_count": 21,
     "metadata": {},
     "output_type": "execute_result"
    }
   ],
   "source": [
    "value"
   ]
  },
  {
   "cell_type": "code",
   "execution_count": 22,
   "metadata": {},
   "outputs": [
    {
     "data": {
      "text/plain": [
       "str"
      ]
     },
     "execution_count": 22,
     "metadata": {},
     "output_type": "execute_result"
    }
   ],
   "source": [
    "type(value)"
   ]
  },
  {
   "cell_type": "code",
   "execution_count": 23,
   "metadata": {},
   "outputs": [
    {
     "data": {
      "text/plain": [
       "datetime.datetime(2010, 9, 5, 0, 0)"
      ]
     },
     "execution_count": 23,
     "metadata": {},
     "output_type": "execute_result"
    }
   ],
   "source": [
    "datetime.strptime(value,'%Y-%m-%d')"
   ]
  },
  {
   "cell_type": "code",
   "execution_count": 24,
   "metadata": {},
   "outputs": [],
   "source": [
    "value1='201603021205'"
   ]
  },
  {
   "cell_type": "code",
   "execution_count": 25,
   "metadata": {},
   "outputs": [
    {
     "data": {
      "text/plain": [
       "datetime.datetime(2016, 3, 2, 12, 0, 5)"
      ]
     },
     "execution_count": 25,
     "metadata": {},
     "output_type": "execute_result"
    }
   ],
   "source": [
    "datetime.strptime(value1,'%Y%m%d%H%M%S')\n",
    "#将201012311321形式保存的日期转换为datetime"
   ]
  },
  {
   "cell_type": "code",
   "execution_count": 26,
   "metadata": {},
   "outputs": [],
   "source": [
    "v1=['201901021254','201405060806']\n",
    "#将一个列表里的字符串转换成时间"
   ]
  },
  {
   "cell_type": "code",
   "execution_count": 27,
   "metadata": {},
   "outputs": [
    {
     "name": "stdout",
     "output_type": "stream",
     "text": [
      "2019-01-02 12:05:04\n",
      "2014-05-06 08:00:06\n"
     ]
    }
   ],
   "source": [
    "for i in range(len(v1)):\n",
    "    print(datetime.strptime(v1[i],'%Y%m%d%H%M%S'))"
   ]
  },
  {
   "cell_type": "code",
   "execution_count": 28,
   "metadata": {},
   "outputs": [],
   "source": [
    "from dateutil.parser import parse"
   ]
  },
  {
   "cell_type": "code",
   "execution_count": 29,
   "metadata": {},
   "outputs": [
    {
     "data": {
      "text/plain": [
       "datetime.datetime(2015, 3, 25, 0, 0)"
      ]
     },
     "execution_count": 29,
     "metadata": {},
     "output_type": "execute_result"
    }
   ],
   "source": [
    "parse('2015-03-25')"
   ]
  },
  {
   "cell_type": "code",
   "execution_count": 30,
   "metadata": {},
   "outputs": [
    {
     "data": {
      "text/plain": [
       "datetime.datetime(2019, 1, 31, 23, 31)"
      ]
     },
     "execution_count": 30,
     "metadata": {},
     "output_type": "execute_result"
    }
   ],
   "source": [
    "parse('Jan 31,1982 23:31')"
   ]
  },
  {
   "cell_type": "code",
   "execution_count": 31,
   "metadata": {},
   "outputs": [
    {
     "data": {
      "text/plain": [
       "datetime.datetime(2019, 1, 31, 23, 31)"
      ]
     },
     "execution_count": 31,
     "metadata": {},
     "output_type": "execute_result"
    }
   ],
   "source": [
    "parse('Jan 31,1982 11:31 PM')"
   ]
  },
  {
   "cell_type": "code",
   "execution_count": 32,
   "metadata": {},
   "outputs": [
    {
     "data": {
      "text/plain": [
       "datetime.datetime(2019, 6, 7, 21, 32)"
      ]
     },
     "execution_count": 32,
     "metadata": {},
     "output_type": "execute_result"
    }
   ],
   "source": [
    "parse('201906072132')\n",
    "#使用parse更方便"
   ]
  },
  {
   "cell_type": "code",
   "execution_count": 33,
   "metadata": {},
   "outputs": [],
   "source": [
    "#'201906072132'.parse() #'201906072132'\n",
    "#要是有上边这种实例方法就更好了。"
   ]
  },
  {
   "cell_type": "code",
   "execution_count": 34,
   "metadata": {},
   "outputs": [
    {
     "data": {
      "text/plain": [
       "datetime.datetime(2014, 11, 6, 0, 0)"
      ]
     },
     "execution_count": 34,
     "metadata": {},
     "output_type": "execute_result"
    }
   ],
   "source": [
    "parse('6/11/2014',dayfirst=True)"
   ]
  },
  {
   "cell_type": "code",
   "execution_count": 35,
   "metadata": {},
   "outputs": [
    {
     "data": {
      "text/plain": [
       "datetime.datetime(2014, 6, 11, 0, 0)"
      ]
     },
     "execution_count": 35,
     "metadata": {},
     "output_type": "execute_result"
    }
   ],
   "source": [
    "parse('6/11/2014')\n",
    "#dayfirst 默认是False"
   ]
  },
  {
   "cell_type": "code",
   "execution_count": 36,
   "metadata": {},
   "outputs": [],
   "source": [
    "datestr=['2011-07-06 12:14:23','2019-06-30 15:35:42']"
   ]
  },
  {
   "cell_type": "markdown",
   "metadata": {},
   "source": [
    "pandas的to_datetime方法同样可以解析多种不同的日期表示形式，对标准日期格式（如ISO8601）的解析非常快。"
   ]
  },
  {
   "cell_type": "code",
   "execution_count": 37,
   "metadata": {},
   "outputs": [],
   "source": [
    "import pandas as pd"
   ]
  },
  {
   "cell_type": "code",
   "execution_count": 38,
   "metadata": {},
   "outputs": [
    {
     "data": {
      "text/plain": [
       "DatetimeIndex(['2011-07-06 12:14:23', '2019-06-30 15:35:42'], dtype='datetime64[ns]', freq=None)"
      ]
     },
     "execution_count": 38,
     "metadata": {},
     "output_type": "execute_result"
    }
   ],
   "source": [
    "pd.to_datetime(datestr)"
   ]
  },
  {
   "cell_type": "code",
   "execution_count": 39,
   "metadata": {},
   "outputs": [],
   "source": [
    "idx=pd.to_datetime(datestr+[None])"
   ]
  },
  {
   "cell_type": "code",
   "execution_count": 40,
   "metadata": {},
   "outputs": [
    {
     "data": {
      "text/plain": [
       "DatetimeIndex(['2011-07-06 12:14:23', '2019-06-30 15:35:42', 'NaT'], dtype='datetime64[ns]', freq=None)"
      ]
     },
     "execution_count": 40,
     "metadata": {},
     "output_type": "execute_result"
    }
   ],
   "source": [
    "idx"
   ]
  },
  {
   "cell_type": "code",
   "execution_count": 41,
   "metadata": {},
   "outputs": [
    {
     "data": {
      "text/plain": [
       "array([False, False,  True])"
      ]
     },
     "execution_count": 41,
     "metadata": {},
     "output_type": "execute_result"
    }
   ],
   "source": [
    "pd.isnull(idx)"
   ]
  },
  {
   "cell_type": "markdown",
   "metadata": {},
   "source": [
    "对于缺失值，将其记为NaT。"
   ]
  },
  {
   "cell_type": "code",
   "execution_count": 42,
   "metadata": {},
   "outputs": [
    {
     "data": {
      "text/plain": [
       "datetime.datetime(2042, 7, 17, 0, 0)"
      ]
     },
     "execution_count": 42,
     "metadata": {},
     "output_type": "execute_result"
    }
   ],
   "source": [
    "parse('42')\n",
    "#一些解析可能是不符合本意的"
   ]
  },
  {
   "cell_type": "code",
   "execution_count": 43,
   "metadata": {},
   "outputs": [
    {
     "data": {
      "text/plain": [
       "datetime.datetime(2019, 7, 12, 0, 0)"
      ]
     },
     "execution_count": 43,
     "metadata": {},
     "output_type": "execute_result"
    }
   ],
   "source": [
    "parse('12')"
   ]
  },
  {
   "cell_type": "code",
   "execution_count": 44,
   "metadata": {},
   "outputs": [
    {
     "data": {
      "text/plain": [
       "datetime.datetime(2054, 7, 17, 0, 0)"
      ]
     },
     "execution_count": 44,
     "metadata": {},
     "output_type": "execute_result"
    }
   ],
   "source": [
    "parse('54')"
   ]
  },
  {
   "cell_type": "markdown",
   "metadata": {},
   "source": [
    "## 11.2 时间序列基础"
   ]
  },
  {
   "cell_type": "code",
   "execution_count": 45,
   "metadata": {},
   "outputs": [],
   "source": [
    "from datetime import datetime"
   ]
  },
  {
   "cell_type": "code",
   "execution_count": 46,
   "metadata": {},
   "outputs": [],
   "source": [
    "dates= [datetime(2011, 1, 2), datetime(2011, 1, 5),datetime(2011, 1, 7), datetime(2011, 1, 8),datetime(2011, 1, 10), datetime(2011, 1, 12)]"
   ]
  },
  {
   "cell_type": "code",
   "execution_count": 47,
   "metadata": {},
   "outputs": [],
   "source": [
    "import numpy as np"
   ]
  },
  {
   "cell_type": "code",
   "execution_count": 48,
   "metadata": {},
   "outputs": [],
   "source": [
    "ts=pd.Series(np.random.randn(6),index=dates)"
   ]
  },
  {
   "cell_type": "code",
   "execution_count": 49,
   "metadata": {},
   "outputs": [
    {
     "data": {
      "text/plain": [
       "2011-01-02   -0.793950\n",
       "2011-01-05   -0.398554\n",
       "2011-01-07    1.826066\n",
       "2011-01-08    1.667461\n",
       "2011-01-10    0.343949\n",
       "2011-01-12    0.393507\n",
       "dtype: float64"
      ]
     },
     "execution_count": 49,
     "metadata": {},
     "output_type": "execute_result"
    }
   ],
   "source": [
    "ts"
   ]
  },
  {
   "cell_type": "code",
   "execution_count": 50,
   "metadata": {},
   "outputs": [
    {
     "data": {
      "text/plain": [
       "DatetimeIndex(['2011-01-02', '2011-01-05', '2011-01-07', '2011-01-08',\n",
       "               '2011-01-10', '2011-01-12'],\n",
       "              dtype='datetime64[ns]', freq=None)"
      ]
     },
     "execution_count": 50,
     "metadata": {},
     "output_type": "execute_result"
    }
   ],
   "source": [
    "ts.index"
   ]
  },
  {
   "cell_type": "code",
   "execution_count": 51,
   "metadata": {},
   "outputs": [
    {
     "data": {
      "text/plain": [
       "2011-01-02   -0.793950\n",
       "2011-01-07    1.826066\n",
       "2011-01-10    0.343949\n",
       "dtype: float64"
      ]
     },
     "execution_count": 51,
     "metadata": {},
     "output_type": "execute_result"
    }
   ],
   "source": [
    "ts[::2]\n",
    "#书上说是每隔两个取一个，实际应该是每隔一个取一个"
   ]
  },
  {
   "cell_type": "code",
   "execution_count": 52,
   "metadata": {},
   "outputs": [
    {
     "data": {
      "text/plain": [
       "2011-01-02   -1.587899\n",
       "2011-01-05         NaN\n",
       "2011-01-07    3.652132\n",
       "2011-01-08         NaN\n",
       "2011-01-10    0.687898\n",
       "2011-01-12         NaN\n",
       "dtype: float64"
      ]
     },
     "execution_count": 52,
     "metadata": {},
     "output_type": "execute_result"
    }
   ],
   "source": [
    "ts+ts[::2]"
   ]
  },
  {
   "cell_type": "code",
   "execution_count": 53,
   "metadata": {},
   "outputs": [
    {
     "data": {
      "text/plain": [
       "2011-01-02   -0.793950\n",
       "2011-01-05   -0.398554\n",
       "2011-01-07    1.826066\n",
       "2011-01-08    1.667461\n",
       "2011-01-10    0.343949\n",
       "2011-01-12    0.393507\n",
       "dtype: float64"
      ]
     },
     "execution_count": 53,
     "metadata": {},
     "output_type": "execute_result"
    }
   ],
   "source": [
    "ts[::1]\n",
    "#ts[::n]可以理解为，每n个分为一组，每组取第一个"
   ]
  },
  {
   "cell_type": "code",
   "execution_count": 54,
   "metadata": {},
   "outputs": [
    {
     "data": {
      "text/plain": [
       "2011-01-02   -0.793950\n",
       "2011-01-10    0.343949\n",
       "dtype: float64"
      ]
     },
     "execution_count": 54,
     "metadata": {},
     "output_type": "execute_result"
    }
   ],
   "source": [
    "ts[::4]"
   ]
  },
  {
   "cell_type": "code",
   "execution_count": 55,
   "metadata": {},
   "outputs": [
    {
     "data": {
      "text/plain": [
       "dtype('<M8[ns]')"
      ]
     },
     "execution_count": 55,
     "metadata": {},
     "output_type": "execute_result"
    }
   ],
   "source": [
    "ts.index.dtype\n",
    "#pandas用numpy的datetime64数据类型以纳秒形式存储时间戳"
   ]
  },
  {
   "cell_type": "code",
   "execution_count": 56,
   "metadata": {},
   "outputs": [
    {
     "data": {
      "text/plain": [
       "Timestamp('2011-01-02 00:00:00')"
      ]
     },
     "execution_count": 56,
     "metadata": {},
     "output_type": "execute_result"
    }
   ],
   "source": [
    "ts.index[0]\n",
    "#DatetimeIndex中的各个标量值是pandas的Timestamp对象"
   ]
  },
  {
   "cell_type": "code",
   "execution_count": 57,
   "metadata": {},
   "outputs": [
    {
     "data": {
      "text/plain": [
       "Timestamp('2011-01-12 00:00:00')"
      ]
     },
     "execution_count": 57,
     "metadata": {},
     "output_type": "execute_result"
    }
   ],
   "source": [
    "ts.index[0]+timedelta(10)\n",
    "#如果需要，Timestamp随时可以自动转换为datetime对象\n",
    "#这种转换是自动的，无需使用parse解析\n",
    "#鸭子类型"
   ]
  },
  {
   "cell_type": "markdown",
   "metadata": {},
   "source": [
    "### 索引、选取、子集构造"
   ]
  },
  {
   "cell_type": "code",
   "execution_count": 58,
   "metadata": {},
   "outputs": [],
   "source": [
    "stamp=ts.index[2]"
   ]
  },
  {
   "cell_type": "code",
   "execution_count": 59,
   "metadata": {},
   "outputs": [
    {
     "data": {
      "text/plain": [
       "1.8260658619591406"
      ]
     },
     "execution_count": 59,
     "metadata": {},
     "output_type": "execute_result"
    }
   ],
   "source": [
    "ts[stamp]\n",
    "#为什么显示的精度和ts中的不一致？"
   ]
  },
  {
   "cell_type": "code",
   "execution_count": 60,
   "metadata": {},
   "outputs": [
    {
     "data": {
      "text/plain": [
       "2011-01-02   -0.793950\n",
       "2011-01-05   -0.398554\n",
       "2011-01-07    1.826066\n",
       "2011-01-08    1.667461\n",
       "2011-01-10    0.343949\n",
       "2011-01-12    0.393507\n",
       "dtype: float64"
      ]
     },
     "execution_count": 60,
     "metadata": {},
     "output_type": "execute_result"
    }
   ],
   "source": [
    "ts"
   ]
  },
  {
   "cell_type": "code",
   "execution_count": 61,
   "metadata": {},
   "outputs": [
    {
     "data": {
      "text/plain": [
       "0.3439490459618257"
      ]
     },
     "execution_count": 61,
     "metadata": {},
     "output_type": "execute_result"
    }
   ],
   "source": [
    "ts['1/10/2011']"
   ]
  },
  {
   "cell_type": "code",
   "execution_count": 62,
   "metadata": {},
   "outputs": [
    {
     "data": {
      "text/plain": [
       "0.3935072892821762"
      ]
     },
     "execution_count": 62,
     "metadata": {},
     "output_type": "execute_result"
    }
   ],
   "source": [
    "ts['2011-01-12']"
   ]
  },
  {
   "cell_type": "code",
   "execution_count": 63,
   "metadata": {},
   "outputs": [
    {
     "data": {
      "text/plain": [
       "0.3439490459618257"
      ]
     },
     "execution_count": 63,
     "metadata": {},
     "output_type": "execute_result"
    }
   ],
   "source": [
    "ts['20110110']\n",
    "#ts里一定隐藏了个parse"
   ]
  },
  {
   "cell_type": "code",
   "execution_count": 64,
   "metadata": {},
   "outputs": [],
   "source": [
    "longer_ts=pd.Series(np.random.randn(1000),index=pd.date_range('20000101',periods=1000))\n",
    "#传递给pd.date_range的是一个可以被解析成日期的字符串，因此长度必须符合日期的要求\n",
    "#书上传递的是1/1/2000\n",
    "#periods指定的是多少个周期，而不是每个周期的长度"
   ]
  },
  {
   "cell_type": "code",
   "execution_count": 65,
   "metadata": {},
   "outputs": [
    {
     "data": {
      "text/plain": [
       "2000-01-01    0.117201\n",
       "2000-01-02    0.386762\n",
       "2000-01-03   -0.455730\n",
       "2000-01-04    0.478351\n",
       "2000-01-05   -0.456174\n",
       "2000-01-06    0.113727\n",
       "2000-01-07    1.522935\n",
       "2000-01-08    0.604696\n",
       "2000-01-09   -1.818326\n",
       "2000-01-10    2.087045\n",
       "2000-01-11    0.967458\n",
       "2000-01-12    0.652531\n",
       "2000-01-13   -0.104578\n",
       "2000-01-14    0.666827\n",
       "2000-01-15   -1.277433\n",
       "2000-01-16    0.339618\n",
       "2000-01-17   -0.136853\n",
       "2000-01-18   -0.511823\n",
       "2000-01-19    0.988967\n",
       "2000-01-20    1.345215\n",
       "2000-01-21   -0.496206\n",
       "2000-01-22   -1.474474\n",
       "2000-01-23   -1.846697\n",
       "2000-01-24   -1.428805\n",
       "2000-01-25   -1.567645\n",
       "2000-01-26   -0.190704\n",
       "2000-01-27    0.462093\n",
       "2000-01-28   -0.885684\n",
       "2000-01-29    0.827738\n",
       "2000-01-30    1.112529\n",
       "                ...   \n",
       "2002-08-28    2.746880\n",
       "2002-08-29   -0.081506\n",
       "2002-08-30   -0.208938\n",
       "2002-08-31   -1.436743\n",
       "2002-09-01   -0.458719\n",
       "2002-09-02    2.192406\n",
       "2002-09-03   -1.057567\n",
       "2002-09-04   -0.563922\n",
       "2002-09-05   -0.095242\n",
       "2002-09-06   -0.988202\n",
       "2002-09-07   -0.871328\n",
       "2002-09-08   -0.750613\n",
       "2002-09-09   -0.912897\n",
       "2002-09-10   -0.331583\n",
       "2002-09-11    0.363396\n",
       "2002-09-12    0.213982\n",
       "2002-09-13    0.145706\n",
       "2002-09-14   -2.162033\n",
       "2002-09-15   -1.493040\n",
       "2002-09-16    0.271664\n",
       "2002-09-17   -0.235238\n",
       "2002-09-18    1.092275\n",
       "2002-09-19   -0.358438\n",
       "2002-09-20    0.669560\n",
       "2002-09-21    1.133528\n",
       "2002-09-22    0.744835\n",
       "2002-09-23    0.263724\n",
       "2002-09-24   -0.639329\n",
       "2002-09-25    0.466826\n",
       "2002-09-26    0.359828\n",
       "Freq: D, Length: 1000, dtype: float64"
      ]
     },
     "execution_count": 65,
     "metadata": {},
     "output_type": "execute_result"
    }
   ],
   "source": [
    "longer_ts"
   ]
  },
  {
   "cell_type": "code",
   "execution_count": 66,
   "metadata": {},
   "outputs": [],
   "source": [
    "time_ts=pd.Series(np.random.randn(1000),index=pd.date_range('200001011201',periods=1000))\n",
    "#如果传入的是时间格式长度的，还是会按日递增\n",
    "#如何指定按小时或分钟递增？"
   ]
  },
  {
   "cell_type": "code",
   "execution_count": 67,
   "metadata": {},
   "outputs": [
    {
     "data": {
      "text/plain": [
       "2000-01-01 12:01:00    0.174158\n",
       "2000-01-02 12:01:00   -0.316324\n",
       "2000-01-03 12:01:00   -0.001285\n",
       "2000-01-04 12:01:00   -2.117921\n",
       "2000-01-05 12:01:00   -1.194427\n",
       "2000-01-06 12:01:00   -0.115860\n",
       "2000-01-07 12:01:00    0.155225\n",
       "2000-01-08 12:01:00   -0.961636\n",
       "2000-01-09 12:01:00    1.067096\n",
       "2000-01-10 12:01:00    0.064140\n",
       "2000-01-11 12:01:00    1.567247\n",
       "2000-01-12 12:01:00    0.947375\n",
       "2000-01-13 12:01:00    0.654323\n",
       "2000-01-14 12:01:00    0.651262\n",
       "2000-01-15 12:01:00    0.477045\n",
       "2000-01-16 12:01:00   -0.490349\n",
       "2000-01-17 12:01:00   -1.895618\n",
       "2000-01-18 12:01:00   -0.141583\n",
       "2000-01-19 12:01:00   -0.556323\n",
       "2000-01-20 12:01:00   -0.280414\n",
       "2000-01-21 12:01:00    0.673933\n",
       "2000-01-22 12:01:00   -2.879877\n",
       "2000-01-23 12:01:00   -0.924138\n",
       "2000-01-24 12:01:00   -0.686100\n",
       "2000-01-25 12:01:00   -0.798151\n",
       "2000-01-26 12:01:00   -0.584788\n",
       "2000-01-27 12:01:00   -1.211048\n",
       "2000-01-28 12:01:00    0.268943\n",
       "2000-01-29 12:01:00    0.058033\n",
       "2000-01-30 12:01:00   -0.905600\n",
       "                         ...   \n",
       "2002-08-28 12:01:00   -0.524283\n",
       "2002-08-29 12:01:00   -1.321608\n",
       "2002-08-30 12:01:00   -0.961301\n",
       "2002-08-31 12:01:00    0.968583\n",
       "2002-09-01 12:01:00   -1.110915\n",
       "2002-09-02 12:01:00    1.094057\n",
       "2002-09-03 12:01:00   -0.859937\n",
       "2002-09-04 12:01:00    2.518916\n",
       "2002-09-05 12:01:00    0.379124\n",
       "2002-09-06 12:01:00   -0.463726\n",
       "2002-09-07 12:01:00    0.312767\n",
       "2002-09-08 12:01:00    1.093213\n",
       "2002-09-09 12:01:00    0.769445\n",
       "2002-09-10 12:01:00   -0.278886\n",
       "2002-09-11 12:01:00    1.081197\n",
       "2002-09-12 12:01:00   -0.917495\n",
       "2002-09-13 12:01:00   -0.647730\n",
       "2002-09-14 12:01:00   -0.542527\n",
       "2002-09-15 12:01:00    0.558248\n",
       "2002-09-16 12:01:00   -0.278769\n",
       "2002-09-17 12:01:00    0.618763\n",
       "2002-09-18 12:01:00    0.050120\n",
       "2002-09-19 12:01:00   -0.639790\n",
       "2002-09-20 12:01:00    1.783402\n",
       "2002-09-21 12:01:00    0.134852\n",
       "2002-09-22 12:01:00   -0.383299\n",
       "2002-09-23 12:01:00    0.581914\n",
       "2002-09-24 12:01:00   -0.194144\n",
       "2002-09-25 12:01:00    0.067436\n",
       "2002-09-26 12:01:00    0.611430\n",
       "Freq: D, Length: 1000, dtype: float64"
      ]
     },
     "execution_count": 67,
     "metadata": {},
     "output_type": "execute_result"
    }
   ],
   "source": [
    "time_ts"
   ]
  },
  {
   "cell_type": "markdown",
   "metadata": {},
   "source": [
    "pd.date_range??\n",
    "    Parameters\n",
    "    ----------\n",
    "    start : str or datetime-like, optional\n",
    "        Left bound for generating dates.\n",
    "    end : str or datetime-like, optional\n",
    "        Right bound for generating dates.\n",
    "    periods : integer, optional\n",
    "        Number of periods to generate.\n",
    "    freq : str or DateOffset, default 'D' (calendar daily)\n",
    "        Frequency strings can have multiples, e.g. '5H'. See\n",
    "        :ref:`here <timeseries.offset_aliases>` for a list of\n",
    "        frequency aliases.\n",
    "    tz : str or tzinfo, optional\n",
    "        Time zone name for returning localized DatetimeIndex, for example\n",
    "        'Asia/Hong_Kong'. By default, the resulting DatetimeIndex is\n",
    "        timezone-naive.\n",
    "    normalize : bool, default False\n",
    "        Normalize start/end dates to midnight before generating date range.\n",
    "    name : str, default None\n",
    "        Name of the resulting DatetimeIndex.\n",
    "    closed : {None, 'left', 'right'}, optional\n",
    "        Make the interval closed with respect to the given frequency to\n",
    "        the 'left', 'right', or both sides (None, the default).\n",
    "    **kwargs\n",
    "        For compatibility. Has no effect on the result.\n",
    "#### freq可以用来指定间隔的长度，默认按天递增"
   ]
  },
  {
   "cell_type": "code",
   "execution_count": 68,
   "metadata": {},
   "outputs": [
    {
     "data": {
      "text/plain": [
       "2001-01-01   -0.649827\n",
       "2001-01-02   -0.130668\n",
       "2001-01-03   -0.185911\n",
       "2001-01-04    1.208198\n",
       "2001-01-05   -0.018891\n",
       "2001-01-06    0.879896\n",
       "2001-01-07   -0.779634\n",
       "2001-01-08    0.230284\n",
       "2001-01-09    0.046466\n",
       "2001-01-10   -0.290906\n",
       "2001-01-11   -1.757621\n",
       "2001-01-12   -0.567316\n",
       "2001-01-13   -0.288026\n",
       "2001-01-14   -0.135096\n",
       "2001-01-15   -0.133679\n",
       "2001-01-16    0.676527\n",
       "2001-01-17    0.012965\n",
       "2001-01-18   -0.818557\n",
       "2001-01-19    0.625531\n",
       "2001-01-20    0.688228\n",
       "2001-01-21   -0.373066\n",
       "2001-01-22   -1.080107\n",
       "2001-01-23    0.221685\n",
       "2001-01-24   -0.333504\n",
       "2001-01-25    0.880892\n",
       "2001-01-26    0.030386\n",
       "2001-01-27    0.168638\n",
       "2001-01-28   -1.010288\n",
       "2001-01-29   -0.770817\n",
       "2001-01-30   -1.698648\n",
       "                ...   \n",
       "2001-12-02    0.032032\n",
       "2001-12-03    0.826251\n",
       "2001-12-04    0.322984\n",
       "2001-12-05   -0.168402\n",
       "2001-12-06   -0.215015\n",
       "2001-12-07   -1.863019\n",
       "2001-12-08   -0.492224\n",
       "2001-12-09   -0.951812\n",
       "2001-12-10    0.959352\n",
       "2001-12-11    0.511790\n",
       "2001-12-12   -0.547187\n",
       "2001-12-13    0.264266\n",
       "2001-12-14   -0.580990\n",
       "2001-12-15    1.212469\n",
       "2001-12-16    0.553436\n",
       "2001-12-17   -1.045914\n",
       "2001-12-18    0.937883\n",
       "2001-12-19    0.596853\n",
       "2001-12-20    1.115388\n",
       "2001-12-21   -0.153973\n",
       "2001-12-22   -0.277744\n",
       "2001-12-23   -1.295095\n",
       "2001-12-24   -0.183748\n",
       "2001-12-25    0.349940\n",
       "2001-12-26   -0.633171\n",
       "2001-12-27    1.953839\n",
       "2001-12-28    0.783101\n",
       "2001-12-29    0.111629\n",
       "2001-12-30    0.742197\n",
       "2001-12-31    0.231489\n",
       "Freq: D, Length: 365, dtype: float64"
      ]
     },
     "execution_count": 68,
     "metadata": {},
     "output_type": "execute_result"
    }
   ],
   "source": [
    "longer_ts['2001']\n",
    "#只选取了2001年的\n",
    "#类似于多重索引的第一层"
   ]
  },
  {
   "cell_type": "code",
   "execution_count": 69,
   "metadata": {},
   "outputs": [
    {
     "data": {
      "text/plain": [
       "0.6882280509271049"
      ]
     },
     "execution_count": 69,
     "metadata": {},
     "output_type": "execute_result"
    }
   ],
   "source": [
    "longer_ts['200101']"
   ]
  },
  {
   "cell_type": "code",
   "execution_count": 70,
   "metadata": {},
   "outputs": [
    {
     "data": {
      "text/plain": [
       "Series([], dtype: float64)"
      ]
     },
     "execution_count": 70,
     "metadata": {},
     "output_type": "execute_result"
    }
   ],
   "source": [
    "longer_ts[longer_ts>=-0.2920511945203664][longer_ts<=-0.2920511945203664]\n",
    "#发现longer_ts['200101']选出来的是2001-01-20 所对应的值\n",
    "#为什么？np.mod(200101,365)，并不是取余"
   ]
  },
  {
   "cell_type": "code",
   "execution_count": 71,
   "metadata": {},
   "outputs": [
    {
     "data": {
      "text/plain": [
       "81"
      ]
     },
     "execution_count": 71,
     "metadata": {},
     "output_type": "execute_result"
    }
   ],
   "source": [
    "np.mod(200101,365)"
   ]
  },
  {
   "cell_type": "code",
   "execution_count": 72,
   "metadata": {},
   "outputs": [
    {
     "data": {
      "text/plain": [
       "2001-01-01   -0.649827\n",
       "2001-01-02   -0.130668\n",
       "2001-01-03   -0.185911\n",
       "2001-01-04    1.208198\n",
       "2001-01-05   -0.018891\n",
       "2001-01-06    0.879896\n",
       "2001-01-07   -0.779634\n",
       "2001-01-08    0.230284\n",
       "2001-01-09    0.046466\n",
       "2001-01-10   -0.290906\n",
       "2001-01-11   -1.757621\n",
       "2001-01-12   -0.567316\n",
       "2001-01-13   -0.288026\n",
       "2001-01-14   -0.135096\n",
       "2001-01-15   -0.133679\n",
       "2001-01-16    0.676527\n",
       "2001-01-17    0.012965\n",
       "2001-01-18   -0.818557\n",
       "2001-01-19    0.625531\n",
       "2001-01-20    0.688228\n",
       "2001-01-21   -0.373066\n",
       "2001-01-22   -1.080107\n",
       "2001-01-23    0.221685\n",
       "2001-01-24   -0.333504\n",
       "2001-01-25    0.880892\n",
       "2001-01-26    0.030386\n",
       "2001-01-27    0.168638\n",
       "2001-01-28   -1.010288\n",
       "2001-01-29   -0.770817\n",
       "2001-01-30   -1.698648\n",
       "2001-01-31   -1.081844\n",
       "Freq: D, dtype: float64"
      ]
     },
     "execution_count": 72,
     "metadata": {},
     "output_type": "execute_result"
    }
   ],
   "source": [
    "longer_ts['2001-01']\n",
    "#按照实际的日期格式指定月"
   ]
  },
  {
   "cell_type": "code",
   "execution_count": 73,
   "metadata": {},
   "outputs": [
    {
     "data": {
      "text/plain": [
       "2000-01-01    0.117201\n",
       "2000-01-02    0.386762\n",
       "2000-01-03   -0.455730\n",
       "2000-01-04    0.478351\n",
       "2000-01-05   -0.456174\n",
       "Freq: D, dtype: float64"
      ]
     },
     "execution_count": 73,
     "metadata": {},
     "output_type": "execute_result"
    }
   ],
   "source": [
    "longer_ts[:5]\n",
    "#切片"
   ]
  },
  {
   "cell_type": "code",
   "execution_count": 74,
   "metadata": {},
   "outputs": [
    {
     "data": {
      "text/plain": [
       "2011-01-07    1.826066\n",
       "2011-01-08    1.667461\n",
       "2011-01-10    0.343949\n",
       "2011-01-12    0.393507\n",
       "dtype: float64"
      ]
     },
     "execution_count": 74,
     "metadata": {},
     "output_type": "execute_result"
    }
   ],
   "source": [
    "ts[datetime(2011,1,7):]\n",
    "#另一种切片"
   ]
  },
  {
   "cell_type": "code",
   "execution_count": 75,
   "metadata": {},
   "outputs": [
    {
     "data": {
      "text/plain": [
       "2011-01-02   -0.793950\n",
       "2011-01-05   -0.398554\n",
       "2011-01-07    1.826066\n",
       "2011-01-08    1.667461\n",
       "2011-01-10    0.343949\n",
       "2011-01-12    0.393507\n",
       "dtype: float64"
      ]
     },
     "execution_count": 75,
     "metadata": {},
     "output_type": "execute_result"
    }
   ],
   "source": [
    "ts[:parse('20110112')]\n",
    "#切片"
   ]
  },
  {
   "cell_type": "code",
   "execution_count": 76,
   "metadata": {},
   "outputs": [
    {
     "data": {
      "text/plain": [
       "2011-01-02   -0.793950\n",
       "2011-01-05   -0.398554\n",
       "2011-01-07    1.826066\n",
       "2011-01-08    1.667461\n",
       "2011-01-10    0.343949\n",
       "2011-01-12    0.393507\n",
       "dtype: float64"
      ]
     },
     "execution_count": 76,
     "metadata": {},
     "output_type": "execute_result"
    }
   ],
   "source": [
    "ts"
   ]
  },
  {
   "cell_type": "markdown",
   "metadata": {},
   "source": [
    "由于大部分时间序列数据都是按照时间先后顺序排列的，因此也可以用不存在于该时间序列的时间戳进行切片。\n",
    "类似于使用区间选取离散的点。"
   ]
  },
  {
   "cell_type": "code",
   "execution_count": 77,
   "metadata": {},
   "outputs": [
    {
     "data": {
      "text/plain": [
       "2011-01-02   -0.793950\n",
       "2011-01-05   -0.398554\n",
       "2011-01-07    1.826066\n",
       "2011-01-08    1.667461\n",
       "2011-01-10    0.343949\n",
       "dtype: float64"
      ]
     },
     "execution_count": 77,
     "metadata": {},
     "output_type": "execute_result"
    }
   ],
   "source": [
    "ts['20100101':'20110111']\n",
    "#和numpy数组的切片一样，数据并没有被复制，而只是一个视图\n",
    "#对切片的修改会反映到原始数据上"
   ]
  },
  {
   "cell_type": "code",
   "execution_count": 78,
   "metadata": {},
   "outputs": [
    {
     "data": {
      "text/plain": [
       "2011-01-02   -0.793950\n",
       "2011-01-05   -0.398554\n",
       "2011-01-07    1.826066\n",
       "2011-01-08    1.667461\n",
       "dtype: float64"
      ]
     },
     "execution_count": 78,
     "metadata": {},
     "output_type": "execute_result"
    }
   ],
   "source": [
    "ts.truncate(after='20110109')"
   ]
  },
  {
   "cell_type": "markdown",
   "metadata": {},
   "source": [
    "ts.truncate??\n",
    "\n",
    "        Parameters\n",
    "        ----------\n",
    "        before : date, string, int\n",
    "            Truncate all rows before this index value.\n",
    "        after : date, string, int\n",
    "            Truncate all rows after this index value.\n",
    "        axis : {0 or 'index', 1 or 'columns'}, optional\n",
    "            Axis to truncate. Truncates the index (rows) by default.\n",
    "        copy : boolean, default is True,\n",
    "            Return a copy of the truncated section."
   ]
  },
  {
   "cell_type": "code",
   "execution_count": 79,
   "metadata": {},
   "outputs": [
    {
     "data": {
      "text/plain": [
       "2011-01-02   -0.793950\n",
       "2011-01-05   -0.398554\n",
       "2011-01-07    1.826066\n",
       "2011-01-08    1.667461\n",
       "2011-01-10    0.343949\n",
       "2011-01-12    0.393507\n",
       "dtype: float64"
      ]
     },
     "execution_count": 79,
     "metadata": {},
     "output_type": "execute_result"
    }
   ],
   "source": [
    "ts.truncate()\n",
    "#观察参数，由于有axis，可以对高维数组使用"
   ]
  },
  {
   "cell_type": "code",
   "execution_count": 80,
   "metadata": {},
   "outputs": [],
   "source": [
    "dates=pd.date_range('20000101',periods=100,freq='W-WED')\n",
    "#使用feq指定周期为week，选择每周的周三？"
   ]
  },
  {
   "cell_type": "code",
   "execution_count": 81,
   "metadata": {},
   "outputs": [
    {
     "data": {
      "text/plain": [
       "DatetimeIndex(['2000-01-05', '2000-01-12', '2000-01-19', '2000-01-26',\n",
       "               '2000-02-02', '2000-02-09', '2000-02-16', '2000-02-23',\n",
       "               '2000-03-01', '2000-03-08', '2000-03-15', '2000-03-22',\n",
       "               '2000-03-29', '2000-04-05', '2000-04-12', '2000-04-19',\n",
       "               '2000-04-26', '2000-05-03', '2000-05-10', '2000-05-17',\n",
       "               '2000-05-24', '2000-05-31', '2000-06-07', '2000-06-14',\n",
       "               '2000-06-21', '2000-06-28', '2000-07-05', '2000-07-12',\n",
       "               '2000-07-19', '2000-07-26', '2000-08-02', '2000-08-09',\n",
       "               '2000-08-16', '2000-08-23', '2000-08-30', '2000-09-06',\n",
       "               '2000-09-13', '2000-09-20', '2000-09-27', '2000-10-04',\n",
       "               '2000-10-11', '2000-10-18', '2000-10-25', '2000-11-01',\n",
       "               '2000-11-08', '2000-11-15', '2000-11-22', '2000-11-29',\n",
       "               '2000-12-06', '2000-12-13', '2000-12-20', '2000-12-27',\n",
       "               '2001-01-03', '2001-01-10', '2001-01-17', '2001-01-24',\n",
       "               '2001-01-31', '2001-02-07', '2001-02-14', '2001-02-21',\n",
       "               '2001-02-28', '2001-03-07', '2001-03-14', '2001-03-21',\n",
       "               '2001-03-28', '2001-04-04', '2001-04-11', '2001-04-18',\n",
       "               '2001-04-25', '2001-05-02', '2001-05-09', '2001-05-16',\n",
       "               '2001-05-23', '2001-05-30', '2001-06-06', '2001-06-13',\n",
       "               '2001-06-20', '2001-06-27', '2001-07-04', '2001-07-11',\n",
       "               '2001-07-18', '2001-07-25', '2001-08-01', '2001-08-08',\n",
       "               '2001-08-15', '2001-08-22', '2001-08-29', '2001-09-05',\n",
       "               '2001-09-12', '2001-09-19', '2001-09-26', '2001-10-03',\n",
       "               '2001-10-10', '2001-10-17', '2001-10-24', '2001-10-31',\n",
       "               '2001-11-07', '2001-11-14', '2001-11-21', '2001-11-28'],\n",
       "              dtype='datetime64[ns]', freq='W-WED')"
      ]
     },
     "execution_count": 81,
     "metadata": {},
     "output_type": "execute_result"
    }
   ],
   "source": [
    "dates"
   ]
  },
  {
   "cell_type": "code",
   "execution_count": 82,
   "metadata": {},
   "outputs": [],
   "source": [
    "long_df=pd.DataFrame(np.random.randn(100,4),index=dates,columns=['Colorado','Texas','New York','Ohio'])"
   ]
  },
  {
   "cell_type": "code",
   "execution_count": 83,
   "metadata": {},
   "outputs": [
    {
     "data": {
      "text/html": [
       "<div>\n",
       "<style scoped>\n",
       "    .dataframe tbody tr th:only-of-type {\n",
       "        vertical-align: middle;\n",
       "    }\n",
       "\n",
       "    .dataframe tbody tr th {\n",
       "        vertical-align: top;\n",
       "    }\n",
       "\n",
       "    .dataframe thead th {\n",
       "        text-align: right;\n",
       "    }\n",
       "</style>\n",
       "<table border=\"1\" class=\"dataframe\">\n",
       "  <thead>\n",
       "    <tr style=\"text-align: right;\">\n",
       "      <th></th>\n",
       "      <th>Colorado</th>\n",
       "      <th>Texas</th>\n",
       "      <th>New York</th>\n",
       "      <th>Ohio</th>\n",
       "    </tr>\n",
       "  </thead>\n",
       "  <tbody>\n",
       "    <tr>\n",
       "      <th>2001-05-02</th>\n",
       "      <td>-1.221006</td>\n",
       "      <td>0.937571</td>\n",
       "      <td>0.473064</td>\n",
       "      <td>1.175658</td>\n",
       "    </tr>\n",
       "    <tr>\n",
       "      <th>2001-05-09</th>\n",
       "      <td>-0.498704</td>\n",
       "      <td>0.721786</td>\n",
       "      <td>0.437220</td>\n",
       "      <td>-0.547811</td>\n",
       "    </tr>\n",
       "    <tr>\n",
       "      <th>2001-05-16</th>\n",
       "      <td>-0.035984</td>\n",
       "      <td>0.303593</td>\n",
       "      <td>-0.460046</td>\n",
       "      <td>-0.044726</td>\n",
       "    </tr>\n",
       "    <tr>\n",
       "      <th>2001-05-23</th>\n",
       "      <td>0.741753</td>\n",
       "      <td>1.793440</td>\n",
       "      <td>0.806608</td>\n",
       "      <td>0.916155</td>\n",
       "    </tr>\n",
       "    <tr>\n",
       "      <th>2001-05-30</th>\n",
       "      <td>-0.227443</td>\n",
       "      <td>0.197256</td>\n",
       "      <td>0.780551</td>\n",
       "      <td>-0.754943</td>\n",
       "    </tr>\n",
       "  </tbody>\n",
       "</table>\n",
       "</div>"
      ],
      "text/plain": [
       "            Colorado     Texas  New York      Ohio\n",
       "2001-05-02 -1.221006  0.937571  0.473064  1.175658\n",
       "2001-05-09 -0.498704  0.721786  0.437220 -0.547811\n",
       "2001-05-16 -0.035984  0.303593 -0.460046 -0.044726\n",
       "2001-05-23  0.741753  1.793440  0.806608  0.916155\n",
       "2001-05-30 -0.227443  0.197256  0.780551 -0.754943"
      ]
     },
     "execution_count": 83,
     "metadata": {},
     "output_type": "execute_result"
    }
   ],
   "source": [
    "long_df.loc['2001-05']\n",
    "#传入'200105'是会报错的，这不科学\n",
    "#选出了2001年5月的周三"
   ]
  },
  {
   "cell_type": "markdown",
   "metadata": {},
   "source": [
    "### 带有重复索引的时间序列"
   ]
  },
  {
   "cell_type": "code",
   "execution_count": 84,
   "metadata": {},
   "outputs": [],
   "source": [
    "dates=pd.DatetimeIndex(['1/1/2000','1/2/2000','1/2/2000','1/2/2000','1/3/2000',])"
   ]
  },
  {
   "cell_type": "code",
   "execution_count": 85,
   "metadata": {},
   "outputs": [
    {
     "data": {
      "text/plain": [
       "DatetimeIndex(['2000-01-01', '2000-01-02', '2000-01-02', '2000-01-02',\n",
       "               '2000-01-03'],\n",
       "              dtype='datetime64[ns]', freq=None)"
      ]
     },
     "execution_count": 85,
     "metadata": {},
     "output_type": "execute_result"
    }
   ],
   "source": [
    "dates"
   ]
  },
  {
   "cell_type": "code",
   "execution_count": 86,
   "metadata": {},
   "outputs": [],
   "source": [
    "dup_ts=pd.Series(np.arange(5),index=dates)"
   ]
  },
  {
   "cell_type": "code",
   "execution_count": 87,
   "metadata": {},
   "outputs": [
    {
     "data": {
      "text/plain": [
       "2000-01-01    0\n",
       "2000-01-02    1\n",
       "2000-01-02    2\n",
       "2000-01-02    3\n",
       "2000-01-03    4\n",
       "dtype: int32"
      ]
     },
     "execution_count": 87,
     "metadata": {},
     "output_type": "execute_result"
    }
   ],
   "source": [
    "dup_ts"
   ]
  },
  {
   "cell_type": "code",
   "execution_count": 88,
   "metadata": {},
   "outputs": [
    {
     "data": {
      "text/plain": [
       "False"
      ]
     },
     "execution_count": 88,
     "metadata": {},
     "output_type": "execute_result"
    }
   ],
   "source": [
    "dup_ts.index.is_unique"
   ]
  },
  {
   "cell_type": "code",
   "execution_count": 89,
   "metadata": {},
   "outputs": [
    {
     "data": {
      "text/plain": [
       "DatetimeIndex(['2000-01-01', '2000-01-02', '2000-01-03'], dtype='datetime64[ns]', freq=None)"
      ]
     },
     "execution_count": 89,
     "metadata": {},
     "output_type": "execute_result"
    }
   ],
   "source": [
    "dup_ts.index.unique()"
   ]
  },
  {
   "cell_type": "code",
   "execution_count": 90,
   "metadata": {},
   "outputs": [
    {
     "data": {
      "text/plain": [
       "4"
      ]
     },
     "execution_count": 90,
     "metadata": {},
     "output_type": "execute_result"
    }
   ],
   "source": [
    "dup_ts['20000103']"
   ]
  },
  {
   "cell_type": "code",
   "execution_count": 91,
   "metadata": {},
   "outputs": [
    {
     "data": {
      "text/plain": [
       "2000-01-02    1\n",
       "2000-01-02    2\n",
       "2000-01-02    3\n",
       "dtype: int32"
      ]
     },
     "execution_count": 91,
     "metadata": {},
     "output_type": "execute_result"
    }
   ],
   "source": [
    "dup_ts['20000102']\n",
    "#用重复索引选取，相当于切片"
   ]
  },
  {
   "cell_type": "code",
   "execution_count": 92,
   "metadata": {},
   "outputs": [
    {
     "data": {
      "text/plain": [
       "0"
      ]
     },
     "execution_count": 92,
     "metadata": {},
     "output_type": "execute_result"
    }
   ],
   "source": [
    "dup_ts['20000101']"
   ]
  },
  {
   "cell_type": "code",
   "execution_count": 93,
   "metadata": {},
   "outputs": [],
   "source": [
    "grouped=dup_ts.groupby(level=0)"
   ]
  },
  {
   "cell_type": "code",
   "execution_count": 94,
   "metadata": {},
   "outputs": [
    {
     "data": {
      "text/html": [
       "<div>\n",
       "<style scoped>\n",
       "    .dataframe tbody tr th:only-of-type {\n",
       "        vertical-align: middle;\n",
       "    }\n",
       "\n",
       "    .dataframe tbody tr th {\n",
       "        vertical-align: top;\n",
       "    }\n",
       "\n",
       "    .dataframe thead th {\n",
       "        text-align: right;\n",
       "    }\n",
       "</style>\n",
       "<table border=\"1\" class=\"dataframe\">\n",
       "  <thead>\n",
       "    <tr style=\"text-align: right;\">\n",
       "      <th></th>\n",
       "      <th>count</th>\n",
       "      <th>mean</th>\n",
       "      <th>std</th>\n",
       "      <th>min</th>\n",
       "      <th>25%</th>\n",
       "      <th>50%</th>\n",
       "      <th>75%</th>\n",
       "      <th>max</th>\n",
       "    </tr>\n",
       "  </thead>\n",
       "  <tbody>\n",
       "    <tr>\n",
       "      <th>2000-01-01</th>\n",
       "      <td>1.0</td>\n",
       "      <td>0.0</td>\n",
       "      <td>NaN</td>\n",
       "      <td>0.0</td>\n",
       "      <td>0.0</td>\n",
       "      <td>0.0</td>\n",
       "      <td>0.0</td>\n",
       "      <td>0.0</td>\n",
       "    </tr>\n",
       "    <tr>\n",
       "      <th>2000-01-02</th>\n",
       "      <td>3.0</td>\n",
       "      <td>2.0</td>\n",
       "      <td>1.0</td>\n",
       "      <td>1.0</td>\n",
       "      <td>1.5</td>\n",
       "      <td>2.0</td>\n",
       "      <td>2.5</td>\n",
       "      <td>3.0</td>\n",
       "    </tr>\n",
       "    <tr>\n",
       "      <th>2000-01-03</th>\n",
       "      <td>1.0</td>\n",
       "      <td>4.0</td>\n",
       "      <td>NaN</td>\n",
       "      <td>4.0</td>\n",
       "      <td>4.0</td>\n",
       "      <td>4.0</td>\n",
       "      <td>4.0</td>\n",
       "      <td>4.0</td>\n",
       "    </tr>\n",
       "  </tbody>\n",
       "</table>\n",
       "</div>"
      ],
      "text/plain": [
       "            count  mean  std  min  25%  50%  75%  max\n",
       "2000-01-01    1.0   0.0  NaN  0.0  0.0  0.0  0.0  0.0\n",
       "2000-01-02    3.0   2.0  1.0  1.0  1.5  2.0  2.5  3.0\n",
       "2000-01-03    1.0   4.0  NaN  4.0  4.0  4.0  4.0  4.0"
      ]
     },
     "execution_count": 94,
     "metadata": {},
     "output_type": "execute_result"
    }
   ],
   "source": [
    "grouped.describe()"
   ]
  },
  {
   "cell_type": "markdown",
   "metadata": {},
   "source": [
    "## 11.3日期的范围、频率以及移动"
   ]
  },
  {
   "cell_type": "markdown",
   "metadata": {},
   "source": [
    "pandas中的原生时间序列一般被认为是不规则的——它们没有固定的频率。\n",
    "\n",
    "由于经常需要以某种固定的频率进行分析，因而会引入缺失值。pandas有一套标准时间序列频率，以及重采样、频率推断、生成固定频率日期范围的工具。\n",
    "\n",
    "例如，使用resample将时间序列转换为固定频率的时间序列。"
   ]
  },
  {
   "cell_type": "code",
   "execution_count": 95,
   "metadata": {},
   "outputs": [
    {
     "data": {
      "text/plain": [
       "2011-01-02   -0.793950\n",
       "2011-01-05   -0.398554\n",
       "2011-01-07    1.826066\n",
       "2011-01-08    1.667461\n",
       "2011-01-10    0.343949\n",
       "2011-01-12    0.393507\n",
       "dtype: float64"
      ]
     },
     "execution_count": 95,
     "metadata": {},
     "output_type": "execute_result"
    }
   ],
   "source": [
    "ts"
   ]
  },
  {
   "cell_type": "code",
   "execution_count": 96,
   "metadata": {},
   "outputs": [
    {
     "data": {
      "text/plain": [
       "DatetimeIndex(['2011-01-02', '2011-01-05', '2011-01-07', '2011-01-08',\n",
       "               '2011-01-10', '2011-01-12'],\n",
       "              dtype='datetime64[ns]', freq=None)"
      ]
     },
     "execution_count": 96,
     "metadata": {},
     "output_type": "execute_result"
    }
   ],
   "source": [
    "ts.index"
   ]
  },
  {
   "cell_type": "code",
   "execution_count": 97,
   "metadata": {},
   "outputs": [],
   "source": [
    "resampler=ts.resample('D')"
   ]
  },
  {
   "cell_type": "code",
   "execution_count": 98,
   "metadata": {},
   "outputs": [
    {
     "data": {
      "text/plain": [
       "DatetimeIndex(['2011-01-02', '2011-01-05', '2011-01-07', '2011-01-08',\n",
       "               '2011-01-10', '2011-01-12'],\n",
       "              dtype='datetime64[ns]', freq=None)"
      ]
     },
     "execution_count": 98,
     "metadata": {},
     "output_type": "execute_result"
    }
   ],
   "source": [
    "ts.index\n",
    "#并没有变啊"
   ]
  },
  {
   "cell_type": "code",
   "execution_count": 99,
   "metadata": {},
   "outputs": [
    {
     "data": {
      "text/plain": [
       "DatetimeIndexResampler [freq=<Day>, axis=0, closed=left, label=left, convention=start, base=0]"
      ]
     },
     "execution_count": 99,
     "metadata": {},
     "output_type": "execute_result"
    }
   ],
   "source": [
    "resampler"
   ]
  },
  {
   "cell_type": "code",
   "execution_count": 100,
   "metadata": {},
   "outputs": [],
   "source": [
    "#ts.reindex(index=resampler)\n",
    "#还需要把resampler设置为ts的索引"
   ]
  },
  {
   "cell_type": "markdown",
   "metadata": {},
   "source": [
    "### 生成日期范围"
   ]
  },
  {
   "cell_type": "code",
   "execution_count": 101,
   "metadata": {},
   "outputs": [],
   "source": [
    "index=pd.date_range('20120401','20120601')\n",
    "#pd.date_range用于根据指定的频率生成指定的长度的DatetimeIndex\n",
    "#没指定频率，默认是day"
   ]
  },
  {
   "cell_type": "code",
   "execution_count": 102,
   "metadata": {},
   "outputs": [
    {
     "data": {
      "text/plain": [
       "DatetimeIndex(['2012-04-01', '2012-04-02', '2012-04-03', '2012-04-04',\n",
       "               '2012-04-05', '2012-04-06', '2012-04-07', '2012-04-08',\n",
       "               '2012-04-09', '2012-04-10', '2012-04-11', '2012-04-12',\n",
       "               '2012-04-13', '2012-04-14', '2012-04-15', '2012-04-16',\n",
       "               '2012-04-17', '2012-04-18', '2012-04-19', '2012-04-20',\n",
       "               '2012-04-21', '2012-04-22', '2012-04-23', '2012-04-24',\n",
       "               '2012-04-25', '2012-04-26', '2012-04-27', '2012-04-28',\n",
       "               '2012-04-29', '2012-04-30', '2012-05-01', '2012-05-02',\n",
       "               '2012-05-03', '2012-05-04', '2012-05-05', '2012-05-06',\n",
       "               '2012-05-07', '2012-05-08', '2012-05-09', '2012-05-10',\n",
       "               '2012-05-11', '2012-05-12', '2012-05-13', '2012-05-14',\n",
       "               '2012-05-15', '2012-05-16', '2012-05-17', '2012-05-18',\n",
       "               '2012-05-19', '2012-05-20', '2012-05-21', '2012-05-22',\n",
       "               '2012-05-23', '2012-05-24', '2012-05-25', '2012-05-26',\n",
       "               '2012-05-27', '2012-05-28', '2012-05-29', '2012-05-30',\n",
       "               '2012-05-31', '2012-06-01'],\n",
       "              dtype='datetime64[ns]', freq='D')"
      ]
     },
     "execution_count": 102,
     "metadata": {},
     "output_type": "execute_result"
    }
   ],
   "source": [
    "index"
   ]
  },
  {
   "cell_type": "code",
   "execution_count": 103,
   "metadata": {},
   "outputs": [
    {
     "data": {
      "text/plain": [
       "DatetimeIndex(['2012-04-01', '2012-04-02', '2012-04-03', '2012-04-04',\n",
       "               '2012-04-05', '2012-04-06', '2012-04-07', '2012-04-08',\n",
       "               '2012-04-09', '2012-04-10', '2012-04-11', '2012-04-12',\n",
       "               '2012-04-13', '2012-04-14', '2012-04-15', '2012-04-16',\n",
       "               '2012-04-17', '2012-04-18', '2012-04-19', '2012-04-20'],\n",
       "              dtype='datetime64[ns]', freq='D')"
      ]
     },
     "execution_count": 103,
     "metadata": {},
     "output_type": "execute_result"
    }
   ],
   "source": [
    "pd.date_range(start='2012-04-01',periods=20)\n",
    "#显式指定了起始日期\n",
    "#没指定结束日期，只指定了采样个数"
   ]
  },
  {
   "cell_type": "code",
   "execution_count": 104,
   "metadata": {},
   "outputs": [
    {
     "data": {
      "text/plain": [
       "DatetimeIndex(['2012-04-01', '2012-04-02', '2012-04-03', '2012-04-04',\n",
       "               '2012-04-05', '2012-04-06', '2012-04-07', '2012-04-08',\n",
       "               '2012-04-09', '2012-04-10', '2012-04-11', '2012-04-12',\n",
       "               '2012-04-13', '2012-04-14', '2012-04-15', '2012-04-16',\n",
       "               '2012-04-17', '2012-04-18', '2012-04-19', '2012-04-20'],\n",
       "              dtype='datetime64[ns]', freq='D')"
      ]
     },
     "execution_count": 104,
     "metadata": {},
     "output_type": "execute_result"
    }
   ],
   "source": [
    "pd.date_range(start='2012-04-01',end='2012-04-20')\n",
    "#指定了起始和结束日期，默认freq='D'——按天逐个取样"
   ]
  },
  {
   "cell_type": "code",
   "execution_count": 105,
   "metadata": {},
   "outputs": [
    {
     "data": {
      "text/plain": [
       "DatetimeIndex(['2012-04-01', '2012-04-02', '2012-04-03', '2012-04-04',\n",
       "               '2012-04-05', '2012-04-06', '2012-04-07', '2012-04-08',\n",
       "               '2012-04-09', '2012-04-10', '2012-04-11', '2012-04-12',\n",
       "               '2012-04-13', '2012-04-14', '2012-04-15', '2012-04-16',\n",
       "               '2012-04-17', '2012-04-18', '2012-04-19', '2012-04-20'],\n",
       "              dtype='datetime64[ns]', freq='D')"
      ]
     },
     "execution_count": 105,
     "metadata": {},
     "output_type": "execute_result"
    }
   ],
   "source": [
    "pd.date_range(end='2012-04-20',periods=20)\n",
    "#指定了借书日期和取样个数"
   ]
  },
  {
   "cell_type": "code",
   "execution_count": 106,
   "metadata": {},
   "outputs": [
    {
     "data": {
      "text/plain": [
       "DatetimeIndex(['2010-01-29', '2010-02-26', '2010-03-31', '2010-04-30',\n",
       "               '2010-05-31', '2010-06-30', '2010-07-30', '2010-08-31',\n",
       "               '2010-09-30', '2010-10-29', '2010-11-30'],\n",
       "              dtype='datetime64[ns]', freq='BM')"
      ]
     },
     "execution_count": 106,
     "metadata": {},
     "output_type": "execute_result"
    }
   ],
   "source": [
    "pd.date_range(start='2010-01-01',end='2010-12-01',freq='BM')"
   ]
  },
  {
   "cell_type": "markdown",
   "metadata": {},
   "source": [
    "freq的取值：\n",
    "\n",
    "·BM表示business end of month，最后一个工作日。\n",
    "其他可选参数及意义：\n",
    "Alias Offset type Description\n",
    "D Day Calendar daily\n",
    "B BusinessDay Business daily\n",
    "H Hour Hourly\n",
    "T or min Minute Minutely\n",
    "S Second Secondly\n",
    "L or ms Milli Millisecond (1/1,000 of 1 second)\n",
    "U Micro Microsecond (1/1,000,000 of 1 second)\n",
    "M MonthEnd Last calendar day of month\n",
    "BM BusinessMonthEnd Last business day (weekday) of month\n",
    "MS MonthBegin First calendar day of month\n",
    "BMS BusinessMonthBegin First weekday of month\n",
    "W-MON, W-TUE, ... Week Weekly on given day of week (MON, TUE, WED, THU,\n",
    "FRI, SAT, or SUN)\n",
    "WOM-1MON, WOM-2MON, ... WeekOfMonth Generate weekly dates in the first, second, third, or\n",
    "fourth week of the month (e.g., WOM-3FRI for the\n",
    "third Friday of each month)\n",
    "Q-JAN, Q-FEB, ... QuarterEnd Quarterly dates anchored on last calendar day of each\n",
    "month, for year ending in indicated month (JAN, FEB,\n",
    "MAR, APR, MAY, JUN, JUL, AUG, SEP, OCT, NOV, or DEC)\n",
    "BQ-JAN, BQ-FEB, ... BusinessQuarterEnd Quarterly dates anchored on last weekday day of each\n",
    "month, for year ending in indicated month\n",
    "QS-JAN, QS-FEB, ... QuarterBegin Quarterly dates anchored on first calendar day of each\n",
    "month, for year ending in indicated month\n",
    "BQS-JAN, BQS-FEB, ... BusinessQuarterBegin Quarterly dates anchored on first weekday day of each\n",
    "month, for year ending in indicated month\n",
    "A-JAN, A-FEB, ... YearEnd Annual dates anchored on last calendar day of given\n",
    "month (JAN, FEB, MAR, APR, MAY, JUN, JUL, AUG, SEP,\n",
    "OCT, NOV, or DEC)\n",
    "BA-JAN, BA-FEB, ... BusinessYearEnd Annual dates anchored on last weekday of given\n",
    "month\n",
    "AS-JAN, AS-FEB, ... YearBegin Annual dates anchored on first day of given month\n",
    "BAS-JAN, BAS-FEB, ... BusinessYearBegin Annual dates anchored on first weekday of given\n",
    "month"
   ]
  },
  {
   "cell_type": "code",
   "execution_count": 107,
   "metadata": {},
   "outputs": [
    {
     "data": {
      "text/plain": [
       "DatetimeIndex(['2012-05-02 12:56:31', '2012-05-03 12:56:31',\n",
       "               '2012-05-04 12:56:31', '2012-05-05 12:56:31',\n",
       "               '2012-05-06 12:56:31'],\n",
       "              dtype='datetime64[ns]', freq='D')"
      ]
     },
     "execution_count": 107,
     "metadata": {},
     "output_type": "execute_result"
    }
   ],
   "source": [
    "pd.date_range('2012-05-02 12:56:31',periods=5)\n",
    "#保留了时间戳的时间信息"
   ]
  },
  {
   "cell_type": "code",
   "execution_count": 108,
   "metadata": {},
   "outputs": [
    {
     "data": {
      "text/plain": [
       "DatetimeIndex(['2012-05-02', '2012-05-03', '2012-05-04', '2012-05-05',\n",
       "               '2012-05-06'],\n",
       "              dtype='datetime64[ns]', freq='D')"
      ]
     },
     "execution_count": 108,
     "metadata": {},
     "output_type": "execute_result"
    }
   ],
   "source": [
    "pd.date_range('2012-05-02 12:56:31',periods=5,normalize=True)\n",
    "#normalize将带有时间信息的时间规范为只保留日期"
   ]
  },
  {
   "cell_type": "markdown",
   "metadata": {},
   "source": [
    "### 频率和日期偏移量"
   ]
  },
  {
   "cell_type": "code",
   "execution_count": 109,
   "metadata": {},
   "outputs": [],
   "source": [
    "from pandas.tseries.offsets import Hour,Minute"
   ]
  },
  {
   "cell_type": "code",
   "execution_count": 110,
   "metadata": {},
   "outputs": [],
   "source": [
    "hour=Hour()"
   ]
  },
  {
   "cell_type": "code",
   "execution_count": 111,
   "metadata": {},
   "outputs": [
    {
     "data": {
      "text/plain": [
       "<Hour>"
      ]
     },
     "execution_count": 111,
     "metadata": {},
     "output_type": "execute_result"
    }
   ],
   "source": [
    "hour"
   ]
  },
  {
   "cell_type": "code",
   "execution_count": 112,
   "metadata": {},
   "outputs": [],
   "source": [
    "four_hours=Hour(4)"
   ]
  },
  {
   "cell_type": "code",
   "execution_count": 113,
   "metadata": {},
   "outputs": [
    {
     "data": {
      "text/plain": [
       "<4 * Hours>"
      ]
     },
     "execution_count": 113,
     "metadata": {},
     "output_type": "execute_result"
    }
   ],
   "source": [
    "four_hours"
   ]
  },
  {
   "cell_type": "markdown",
   "metadata": {},
   "source": [
    "pandas中的频率是由一个基础频率和一个乘数组成的。基础频率主要有： M表示每月，H表示每小时，等等。\n",
    "创建指定频率的时间序列，只需要对基础频率乘以一个乘数，并传递给freq参数。"
   ]
  },
  {
   "cell_type": "code",
   "execution_count": 114,
   "metadata": {},
   "outputs": [
    {
     "data": {
      "text/plain": [
       "DatetimeIndex(['2000-01-01 00:00:00', '2000-01-01 04:00:00',\n",
       "               '2000-01-01 08:00:00', '2000-01-01 12:00:00',\n",
       "               '2000-01-01 16:00:00', '2000-01-01 20:00:00',\n",
       "               '2000-01-02 00:00:00', '2000-01-02 04:00:00',\n",
       "               '2000-01-02 08:00:00', '2000-01-02 12:00:00',\n",
       "               '2000-01-02 16:00:00', '2000-01-02 20:00:00',\n",
       "               '2000-01-03 00:00:00', '2000-01-03 04:00:00',\n",
       "               '2000-01-03 08:00:00', '2000-01-03 12:00:00',\n",
       "               '2000-01-03 16:00:00', '2000-01-03 20:00:00'],\n",
       "              dtype='datetime64[ns]', freq='4H')"
      ]
     },
     "execution_count": 114,
     "metadata": {},
     "output_type": "execute_result"
    }
   ],
   "source": [
    "pd.date_range('2000-01-01','2000-01-03 23:59',freq='4h')\n",
    "#频率为4小时"
   ]
  },
  {
   "cell_type": "code",
   "execution_count": 115,
   "metadata": {},
   "outputs": [
    {
     "data": {
      "text/plain": [
       "DatetimeIndex(['2000-01-31', '2000-06-30', '2000-11-30', '2001-04-30',\n",
       "               '2001-09-30'],\n",
       "              dtype='datetime64[ns]', freq='5M')"
      ]
     },
     "execution_count": 115,
     "metadata": {},
     "output_type": "execute_result"
    }
   ],
   "source": [
    "pd.date_range('2000-01-01','2001-12-03 23:59',freq='5M')\n",
    "#频率为5个月\n",
    "#注意自动取消了时间信息\n",
    "#选取了每个周期内的每个月的最后一天——这是为什么——因为M就表示每个月的最后一个日历日\n",
    "#如果想选取每个周期内的每个月的第一天，该怎么做？——用MS"
   ]
  },
  {
   "cell_type": "code",
   "execution_count": 116,
   "metadata": {},
   "outputs": [
    {
     "data": {
      "text/plain": [
       "DatetimeIndex(['2000-01-01', '2000-06-01', '2000-11-01', '2001-04-01',\n",
       "               '2001-09-01'],\n",
       "              dtype='datetime64[ns]', freq='5MS')"
      ]
     },
     "execution_count": 116,
     "metadata": {},
     "output_type": "execute_result"
    }
   ],
   "source": [
    "pd.date_range('2000-01-01','2001-12-03 23:59',freq='5MS')\n",
    "#参表11-4"
   ]
  },
  {
   "cell_type": "code",
   "execution_count": 117,
   "metadata": {},
   "outputs": [
    {
     "data": {
      "text/plain": [
       "DatetimeIndex(['2000-01-01 00:00:00', '2000-01-01 01:23:00',\n",
       "               '2000-01-01 02:46:00', '2000-01-01 04:09:00',\n",
       "               '2000-01-01 05:32:00', '2000-01-01 06:55:00',\n",
       "               '2000-01-01 08:18:00', '2000-01-01 09:41:00',\n",
       "               '2000-01-01 11:04:00', '2000-01-01 12:27:00',\n",
       "               ...\n",
       "               '2001-12-03 10:41:00', '2001-12-03 12:04:00',\n",
       "               '2001-12-03 13:27:00', '2001-12-03 14:50:00',\n",
       "               '2001-12-03 16:13:00', '2001-12-03 17:36:00',\n",
       "               '2001-12-03 18:59:00', '2001-12-03 20:22:00',\n",
       "               '2001-12-03 21:45:00', '2001-12-03 23:08:00'],\n",
       "              dtype='datetime64[ns]', length=12197, freq='83T')"
      ]
     },
     "execution_count": 117,
     "metadata": {},
     "output_type": "execute_result"
    }
   ],
   "source": [
    "pd.date_range('2000-01-01','2001-12-03 23:59',freq='1h23min')\n",
    "#偏移对象可以用加法连接"
   ]
  },
  {
   "cell_type": "code",
   "execution_count": 118,
   "metadata": {},
   "outputs": [
    {
     "data": {
      "text/plain": [
       "DatetimeIndex(['2000-01-01', '2000-01-13', '2000-01-25', '2000-02-06',\n",
       "               '2000-02-18', '2000-03-01', '2000-03-13', '2000-03-25',\n",
       "               '2000-04-06', '2000-04-18', '2000-04-30', '2000-05-12',\n",
       "               '2000-05-24', '2000-06-05', '2000-06-17', '2000-06-29',\n",
       "               '2000-07-11', '2000-07-23', '2000-08-04', '2000-08-16',\n",
       "               '2000-08-28', '2000-09-09', '2000-09-21', '2000-10-03',\n",
       "               '2000-10-15', '2000-10-27', '2000-11-08', '2000-11-20',\n",
       "               '2000-12-02', '2000-12-14', '2000-12-26', '2001-01-07',\n",
       "               '2001-01-19', '2001-01-31', '2001-02-12', '2001-02-24',\n",
       "               '2001-03-08', '2001-03-20', '2001-04-01', '2001-04-13',\n",
       "               '2001-04-25', '2001-05-07', '2001-05-19', '2001-05-31',\n",
       "               '2001-06-12', '2001-06-24', '2001-07-06', '2001-07-18',\n",
       "               '2001-07-30', '2001-08-11', '2001-08-23', '2001-09-04',\n",
       "               '2001-09-16', '2001-09-28', '2001-10-10', '2001-10-22',\n",
       "               '2001-11-03', '2001-11-15', '2001-11-27'],\n",
       "              dtype='datetime64[ns]', freq='12D')"
      ]
     },
     "execution_count": 118,
     "metadata": {},
     "output_type": "execute_result"
    }
   ],
   "source": [
    "pd.date_range('2000-01-01','2001-12-03 23:59',freq='12d')"
   ]
  },
  {
   "cell_type": "code",
   "execution_count": 119,
   "metadata": {},
   "outputs": [
    {
     "data": {
      "text/plain": [
       "<1400 * Minutes>"
      ]
     },
     "execution_count": 119,
     "metadata": {},
     "output_type": "execute_result"
    }
   ],
   "source": [
    "Hour(23)+Minute(20)"
   ]
  },
  {
   "cell_type": "code",
   "execution_count": 120,
   "metadata": {
    "scrolled": true
   },
   "outputs": [
    {
     "data": {
      "text/plain": [
       "DatetimeIndex([       '2000-01-01 00:00:00', '2000-01-13 00:00:00.001000',\n",
       "               '2000-01-25 00:00:00.002000', '2000-02-06 00:00:00.003000',\n",
       "               '2000-02-18 00:00:00.004000', '2000-03-01 00:00:00.005000',\n",
       "               '2000-03-13 00:00:00.006000', '2000-03-25 00:00:00.007000',\n",
       "               '2000-04-06 00:00:00.008000', '2000-04-18 00:00:00.009000',\n",
       "               '2000-04-30 00:00:00.010000', '2000-05-12 00:00:00.011000',\n",
       "               '2000-05-24 00:00:00.012000', '2000-06-05 00:00:00.013000',\n",
       "               '2000-06-17 00:00:00.014000', '2000-06-29 00:00:00.015000',\n",
       "               '2000-07-11 00:00:00.016000', '2000-07-23 00:00:00.017000',\n",
       "               '2000-08-04 00:00:00.018000', '2000-08-16 00:00:00.019000',\n",
       "               '2000-08-28 00:00:00.020000', '2000-09-09 00:00:00.021000',\n",
       "               '2000-09-21 00:00:00.022000', '2000-10-03 00:00:00.023000',\n",
       "               '2000-10-15 00:00:00.024000', '2000-10-27 00:00:00.025000',\n",
       "               '2000-11-08 00:00:00.026000', '2000-11-20 00:00:00.027000',\n",
       "               '2000-12-02 00:00:00.028000', '2000-12-14 00:00:00.029000',\n",
       "               '2000-12-26 00:00:00.030000', '2001-01-07 00:00:00.031000',\n",
       "               '2001-01-19 00:00:00.032000', '2001-01-31 00:00:00.033000',\n",
       "               '2001-02-12 00:00:00.034000', '2001-02-24 00:00:00.035000',\n",
       "               '2001-03-08 00:00:00.036000', '2001-03-20 00:00:00.037000',\n",
       "               '2001-04-01 00:00:00.038000', '2001-04-13 00:00:00.039000',\n",
       "               '2001-04-25 00:00:00.040000', '2001-05-07 00:00:00.041000',\n",
       "               '2001-05-19 00:00:00.042000', '2001-05-31 00:00:00.043000',\n",
       "               '2001-06-12 00:00:00.044000', '2001-06-24 00:00:00.045000',\n",
       "               '2001-07-06 00:00:00.046000', '2001-07-18 00:00:00.047000',\n",
       "               '2001-07-30 00:00:00.048000', '2001-08-11 00:00:00.049000',\n",
       "               '2001-08-23 00:00:00.050000', '2001-09-04 00:00:00.051000',\n",
       "               '2001-09-16 00:00:00.052000', '2001-09-28 00:00:00.053000',\n",
       "               '2001-10-10 00:00:00.054000', '2001-10-22 00:00:00.055000',\n",
       "               '2001-11-03 00:00:00.056000', '2001-11-15 00:00:00.057000',\n",
       "               '2001-11-27 00:00:00.058000'],\n",
       "              dtype='datetime64[ns]', freq='1036800001L')"
      ]
     },
     "execution_count": 120,
     "metadata": {},
     "output_type": "execute_result"
    }
   ],
   "source": [
    "pd.date_range('2000-01-01','2001-12-03 23:59',freq='1ms+12d')\n",
    "#从每月的第一天开始，以12天为周期？"
   ]
  },
  {
   "cell_type": "markdown",
   "metadata": {},
   "source": [
    "### WOM日期"
   ]
  },
  {
   "cell_type": "markdown",
   "metadata": {},
   "source": [
    "wom是指week of month，可以获得每月第n个星期m"
   ]
  },
  {
   "cell_type": "code",
   "execution_count": 121,
   "metadata": {},
   "outputs": [],
   "source": [
    "rng=pd.date_range('2012-01-01','2012-09-01',freq='WOM-3FRI')\n",
    "#获得指定范围内的每月的第三个周五"
   ]
  },
  {
   "cell_type": "code",
   "execution_count": 122,
   "metadata": {},
   "outputs": [
    {
     "data": {
      "text/plain": [
       "DatetimeIndex(['2012-01-20', '2012-02-17', '2012-03-16', '2012-04-20',\n",
       "               '2012-05-18', '2012-06-15', '2012-07-20', '2012-08-17'],\n",
       "              dtype='datetime64[ns]', freq='WOM-3FRI')"
      ]
     },
     "execution_count": 122,
     "metadata": {},
     "output_type": "execute_result"
    }
   ],
   "source": [
    "rng"
   ]
  },
  {
   "cell_type": "markdown",
   "metadata": {},
   "source": [
    "### 移动（超前和滞后）数据"
   ]
  },
  {
   "cell_type": "code",
   "execution_count": 123,
   "metadata": {},
   "outputs": [],
   "source": [
    "ts=pd.Series(np.random.randn(24),index=pd.date_range('1/1/2000',periods=24,freq='M'))"
   ]
  },
  {
   "cell_type": "code",
   "execution_count": 124,
   "metadata": {},
   "outputs": [
    {
     "data": {
      "text/plain": [
       "2000-01-31   -1.248938\n",
       "2000-02-29    0.173154\n",
       "2000-03-31   -0.121501\n",
       "2000-04-30    1.513845\n",
       "2000-05-31   -1.118182\n",
       "2000-06-30    1.251626\n",
       "2000-07-31   -0.220351\n",
       "2000-08-31    0.675343\n",
       "2000-09-30   -1.838747\n",
       "2000-10-31    1.218337\n",
       "2000-11-30    1.575931\n",
       "2000-12-31   -0.794589\n",
       "2001-01-31    0.649591\n",
       "2001-02-28    2.209224\n",
       "2001-03-31    0.359855\n",
       "2001-04-30   -0.371933\n",
       "2001-05-31   -0.183372\n",
       "2001-06-30   -0.254947\n",
       "2001-07-31   -0.452267\n",
       "2001-08-31   -0.685858\n",
       "2001-09-30   -0.812774\n",
       "2001-10-31   -1.790305\n",
       "2001-11-30   -0.410138\n",
       "2001-12-31    1.487131\n",
       "Freq: M, dtype: float64"
      ]
     },
     "execution_count": 124,
     "metadata": {},
     "output_type": "execute_result"
    }
   ],
   "source": [
    "ts"
   ]
  },
  {
   "cell_type": "code",
   "execution_count": 125,
   "metadata": {},
   "outputs": [
    {
     "data": {
      "text/plain": [
       "2000-01-31         NaN\n",
       "2000-02-29         NaN\n",
       "2000-03-31   -1.248938\n",
       "2000-04-30    0.173154\n",
       "2000-05-31   -0.121501\n",
       "2000-06-30    1.513845\n",
       "2000-07-31   -1.118182\n",
       "2000-08-31    1.251626\n",
       "2000-09-30   -0.220351\n",
       "2000-10-31    0.675343\n",
       "2000-11-30   -1.838747\n",
       "2000-12-31    1.218337\n",
       "2001-01-31    1.575931\n",
       "2001-02-28   -0.794589\n",
       "2001-03-31    0.649591\n",
       "2001-04-30    2.209224\n",
       "2001-05-31    0.359855\n",
       "2001-06-30   -0.371933\n",
       "2001-07-31   -0.183372\n",
       "2001-08-31   -0.254947\n",
       "2001-09-30   -0.452267\n",
       "2001-10-31   -0.685858\n",
       "2001-11-30   -0.812774\n",
       "2001-12-31   -1.790305\n",
       "Freq: M, dtype: float64"
      ]
     },
     "execution_count": 125,
     "metadata": {},
     "output_type": "execute_result"
    }
   ],
   "source": [
    "ts.shift(2)\n",
    "#shift方法保持索引不变，将数据向后移动指定的位数"
   ]
  },
  {
   "cell_type": "code",
   "execution_count": 126,
   "metadata": {},
   "outputs": [
    {
     "data": {
      "text/plain": [
       "2000-01-31   -0.121501\n",
       "2000-02-29    1.513845\n",
       "2000-03-31   -1.118182\n",
       "2000-04-30    1.251626\n",
       "2000-05-31   -0.220351\n",
       "2000-06-30    0.675343\n",
       "2000-07-31   -1.838747\n",
       "2000-08-31    1.218337\n",
       "2000-09-30    1.575931\n",
       "2000-10-31   -0.794589\n",
       "2000-11-30    0.649591\n",
       "2000-12-31    2.209224\n",
       "2001-01-31    0.359855\n",
       "2001-02-28   -0.371933\n",
       "2001-03-31   -0.183372\n",
       "2001-04-30   -0.254947\n",
       "2001-05-31   -0.452267\n",
       "2001-06-30   -0.685858\n",
       "2001-07-31   -0.812774\n",
       "2001-08-31   -1.790305\n",
       "2001-09-30   -0.410138\n",
       "2001-10-31    1.487131\n",
       "2001-11-30         NaN\n",
       "2001-12-31         NaN\n",
       "Freq: M, dtype: float64"
      ]
     },
     "execution_count": 126,
     "metadata": {},
     "output_type": "execute_result"
    }
   ],
   "source": [
    "ts.shift(-2)\n",
    "#向前移动两个位数"
   ]
  },
  {
   "cell_type": "code",
   "execution_count": 127,
   "metadata": {
    "scrolled": true
   },
   "outputs": [
    {
     "data": {
      "text/plain": [
       "2000-01-31          NaN\n",
       "2000-02-29    -1.138641\n",
       "2000-03-31    -1.701690\n",
       "2000-04-30   -13.459569\n",
       "2000-05-31    -1.738637\n",
       "2000-06-30    -2.119340\n",
       "2000-07-31    -1.176052\n",
       "2000-08-31    -4.064855\n",
       "2000-09-30    -3.722688\n",
       "2000-10-31    -1.662591\n",
       "2000-11-30     0.293510\n",
       "2000-12-31    -1.504203\n",
       "2001-01-31    -1.817518\n",
       "2001-02-28     2.400945\n",
       "2001-03-31    -0.837112\n",
       "2001-04-30    -2.033562\n",
       "2001-05-31    -0.506975\n",
       "2001-06-30     0.390322\n",
       "2001-07-31     0.773966\n",
       "2001-08-31     0.516492\n",
       "2001-09-30     0.185046\n",
       "2001-10-31     1.202709\n",
       "2001-11-30    -0.770911\n",
       "2001-12-31    -4.625924\n",
       "Freq: M, dtype: float64"
      ]
     },
     "execution_count": 127,
     "metadata": {},
     "output_type": "execute_result"
    }
   ],
   "source": [
    "ts/ts.shift(1)-1\n",
    "#上式用于计算一个或多个时间序列的百分比变化\n",
    "#负数的百分比变化是负的？"
   ]
  },
  {
   "cell_type": "code",
   "execution_count": 128,
   "metadata": {},
   "outputs": [
    {
     "data": {
      "text/plain": [
       "2000-03-31   -1.248938\n",
       "2000-04-30    0.173154\n",
       "2000-05-31   -0.121501\n",
       "2000-06-30    1.513845\n",
       "2000-07-31   -1.118182\n",
       "2000-08-31    1.251626\n",
       "2000-09-30   -0.220351\n",
       "2000-10-31    0.675343\n",
       "2000-11-30   -1.838747\n",
       "2000-12-31    1.218337\n",
       "2001-01-31    1.575931\n",
       "2001-02-28   -0.794589\n",
       "2001-03-31    0.649591\n",
       "2001-04-30    2.209224\n",
       "2001-05-31    0.359855\n",
       "2001-06-30   -0.371933\n",
       "2001-07-31   -0.183372\n",
       "2001-08-31   -0.254947\n",
       "2001-09-30   -0.452267\n",
       "2001-10-31   -0.685858\n",
       "2001-11-30   -0.812774\n",
       "2001-12-31   -1.790305\n",
       "2002-01-31   -0.410138\n",
       "2002-02-28    1.487131\n",
       "Freq: M, dtype: float64"
      ]
     },
     "execution_count": 128,
     "metadata": {},
     "output_type": "execute_result"
    }
   ],
   "source": [
    "ts.shift(2,freq='M')"
   ]
  },
  {
   "cell_type": "code",
   "execution_count": 129,
   "metadata": {},
   "outputs": [],
   "source": [
    "ts1=pd.Series(np.arange(24),index=pd.date_range('1/1/2000',periods=24,freq='M'))+1"
   ]
  },
  {
   "cell_type": "code",
   "execution_count": 130,
   "metadata": {},
   "outputs": [
    {
     "data": {
      "text/plain": [
       "2000-01-31     1\n",
       "2000-02-29     2\n",
       "2000-03-31     3\n",
       "2000-04-30     4\n",
       "2000-05-31     5\n",
       "2000-06-30     6\n",
       "2000-07-31     7\n",
       "2000-08-31     8\n",
       "2000-09-30     9\n",
       "2000-10-31    10\n",
       "2000-11-30    11\n",
       "2000-12-31    12\n",
       "2001-01-31    13\n",
       "2001-02-28    14\n",
       "2001-03-31    15\n",
       "2001-04-30    16\n",
       "2001-05-31    17\n",
       "2001-06-30    18\n",
       "2001-07-31    19\n",
       "2001-08-31    20\n",
       "2001-09-30    21\n",
       "2001-10-31    22\n",
       "2001-11-30    23\n",
       "2001-12-31    24\n",
       "Freq: M, dtype: int32"
      ]
     },
     "execution_count": 130,
     "metadata": {},
     "output_type": "execute_result"
    }
   ],
   "source": [
    "ts1"
   ]
  },
  {
   "cell_type": "code",
   "execution_count": 131,
   "metadata": {},
   "outputs": [
    {
     "data": {
      "text/plain": [
       "2000-03-31     1\n",
       "2000-04-30     2\n",
       "2000-05-31     3\n",
       "2000-06-30     4\n",
       "2000-07-31     5\n",
       "2000-08-31     6\n",
       "2000-09-30     7\n",
       "2000-10-31     8\n",
       "2000-11-30     9\n",
       "2000-12-31    10\n",
       "2001-01-31    11\n",
       "2001-02-28    12\n",
       "2001-03-31    13\n",
       "2001-04-30    14\n",
       "2001-05-31    15\n",
       "2001-06-30    16\n",
       "2001-07-31    17\n",
       "2001-08-31    18\n",
       "2001-09-30    19\n",
       "2001-10-31    20\n",
       "2001-11-30    21\n",
       "2001-12-31    22\n",
       "2002-01-31    23\n",
       "2002-02-28    24\n",
       "Freq: M, dtype: int32"
      ]
     },
     "execution_count": 131,
     "metadata": {},
     "output_type": "execute_result"
    }
   ],
   "source": [
    "ts1.shift(2,freq='M')\n",
    "#在频率已知的前提下，将频率传递给shift方法，就可实现对时间戳进行位移，而不是对数据位移\n",
    "#这样不会出现缺失值，也不会丢失数据\n",
    "#注意结尾的23与24并没有丢失"
   ]
  },
  {
   "cell_type": "code",
   "execution_count": 132,
   "metadata": {},
   "outputs": [
    {
     "data": {
      "text/plain": [
       "2000-01-31     NaN\n",
       "2000-02-29     NaN\n",
       "2000-03-31     1.0\n",
       "2000-04-30     2.0\n",
       "2000-05-31     3.0\n",
       "2000-06-30     4.0\n",
       "2000-07-31     5.0\n",
       "2000-08-31     6.0\n",
       "2000-09-30     7.0\n",
       "2000-10-31     8.0\n",
       "2000-11-30     9.0\n",
       "2000-12-31    10.0\n",
       "2001-01-31    11.0\n",
       "2001-02-28    12.0\n",
       "2001-03-31    13.0\n",
       "2001-04-30    14.0\n",
       "2001-05-31    15.0\n",
       "2001-06-30    16.0\n",
       "2001-07-31    17.0\n",
       "2001-08-31    18.0\n",
       "2001-09-30    19.0\n",
       "2001-10-31    20.0\n",
       "2001-11-30    21.0\n",
       "2001-12-31    22.0\n",
       "Freq: M, dtype: float64"
      ]
     },
     "execution_count": 132,
     "metadata": {},
     "output_type": "execute_result"
    }
   ],
   "source": [
    "ts1.shift(2)"
   ]
  },
  {
   "cell_type": "code",
   "execution_count": 133,
   "metadata": {},
   "outputs": [
    {
     "data": {
      "text/plain": [
       "2000-03-31     1.0\n",
       "2000-04-30     2.0\n",
       "2000-05-31     3.0\n",
       "2000-06-30     4.0\n",
       "2000-07-31     5.0\n",
       "2000-08-31     6.0\n",
       "2000-09-30     7.0\n",
       "2000-10-31     8.0\n",
       "2000-11-30     9.0\n",
       "2000-12-31    10.0\n",
       "2001-01-31    11.0\n",
       "2001-02-28    12.0\n",
       "2001-03-31    13.0\n",
       "2001-04-30    14.0\n",
       "2001-05-31    15.0\n",
       "2001-06-30    16.0\n",
       "2001-07-31    17.0\n",
       "2001-08-31    18.0\n",
       "2001-09-30    19.0\n",
       "2001-10-31    20.0\n",
       "2001-11-30    21.0\n",
       "2001-12-31    22.0\n",
       "Freq: M, dtype: float64"
      ]
     },
     "execution_count": 133,
     "metadata": {},
     "output_type": "execute_result"
    }
   ],
   "source": [
    "ts1.shift(2).dropna()"
   ]
  },
  {
   "cell_type": "code",
   "execution_count": 134,
   "metadata": {},
   "outputs": [
    {
     "data": {
      "text/plain": [
       "2000-02-03   -1.248938\n",
       "2000-03-03    0.173154\n",
       "2000-04-03   -0.121501\n",
       "2000-05-03    1.513845\n",
       "2000-06-03   -1.118182\n",
       "2000-07-03    1.251626\n",
       "2000-08-03   -0.220351\n",
       "2000-09-03    0.675343\n",
       "2000-10-03   -1.838747\n",
       "2000-11-03    1.218337\n",
       "2000-12-03    1.575931\n",
       "2001-01-03   -0.794589\n",
       "2001-02-03    0.649591\n",
       "2001-03-03    2.209224\n",
       "2001-04-03    0.359855\n",
       "2001-05-03   -0.371933\n",
       "2001-06-03   -0.183372\n",
       "2001-07-03   -0.254947\n",
       "2001-08-03   -0.452267\n",
       "2001-09-03   -0.685858\n",
       "2001-10-03   -0.812774\n",
       "2001-11-03   -1.790305\n",
       "2001-12-03   -0.410138\n",
       "2002-01-03    1.487131\n",
       "dtype: float64"
      ]
     },
     "execution_count": 134,
     "metadata": {},
     "output_type": "execute_result"
    }
   ],
   "source": [
    "ts.shift(3,freq='D')"
   ]
  },
  {
   "cell_type": "code",
   "execution_count": 135,
   "metadata": {},
   "outputs": [
    {
     "data": {
      "text/plain": [
       "2000-02-03     1\n",
       "2000-03-03     2\n",
       "2000-04-03     3\n",
       "2000-05-03     4\n",
       "2000-06-03     5\n",
       "2000-07-03     6\n",
       "2000-08-03     7\n",
       "2000-09-03     8\n",
       "2000-10-03     9\n",
       "2000-11-03    10\n",
       "2000-12-03    11\n",
       "2001-01-03    12\n",
       "2001-02-03    13\n",
       "2001-03-03    14\n",
       "2001-04-03    15\n",
       "2001-05-03    16\n",
       "2001-06-03    17\n",
       "2001-07-03    18\n",
       "2001-08-03    19\n",
       "2001-09-03    20\n",
       "2001-10-03    21\n",
       "2001-11-03    22\n",
       "2001-12-03    23\n",
       "2002-01-03    24\n",
       "dtype: int32"
      ]
     },
     "execution_count": 135,
     "metadata": {},
     "output_type": "execute_result"
    }
   ],
   "source": [
    "ts1.shift(3,freq='D')\n",
    "#数据不动，将时间戳往后移动了三天"
   ]
  },
  {
   "cell_type": "code",
   "execution_count": 136,
   "metadata": {},
   "outputs": [
    {
     "data": {
      "text/plain": [
       "2000-01-31 01:30:00   -1.248938\n",
       "2000-02-29 01:30:00    0.173154\n",
       "2000-03-31 01:30:00   -0.121501\n",
       "2000-04-30 01:30:00    1.513845\n",
       "2000-05-31 01:30:00   -1.118182\n",
       "2000-06-30 01:30:00    1.251626\n",
       "2000-07-31 01:30:00   -0.220351\n",
       "2000-08-31 01:30:00    0.675343\n",
       "2000-09-30 01:30:00   -1.838747\n",
       "2000-10-31 01:30:00    1.218337\n",
       "2000-11-30 01:30:00    1.575931\n",
       "2000-12-31 01:30:00   -0.794589\n",
       "2001-01-31 01:30:00    0.649591\n",
       "2001-02-28 01:30:00    2.209224\n",
       "2001-03-31 01:30:00    0.359855\n",
       "2001-04-30 01:30:00   -0.371933\n",
       "2001-05-31 01:30:00   -0.183372\n",
       "2001-06-30 01:30:00   -0.254947\n",
       "2001-07-31 01:30:00   -0.452267\n",
       "2001-08-31 01:30:00   -0.685858\n",
       "2001-09-30 01:30:00   -0.812774\n",
       "2001-10-31 01:30:00   -1.790305\n",
       "2001-11-30 01:30:00   -0.410138\n",
       "2001-12-31 01:30:00    1.487131\n",
       "Freq: M, dtype: float64"
      ]
     },
     "execution_count": 136,
     "metadata": {},
     "output_type": "execute_result"
    }
   ],
   "source": [
    "ts.shift(1,freq='90T')\n",
    "#T或者min表示分钟"
   ]
  },
  {
   "cell_type": "markdown",
   "metadata": {},
   "source": [
    "### 通过偏移量对日期进行位移"
   ]
  },
  {
   "cell_type": "code",
   "execution_count": 137,
   "metadata": {},
   "outputs": [],
   "source": [
    "from pandas.tseries.offsets import Day,MonthEnd"
   ]
  },
  {
   "cell_type": "code",
   "execution_count": 138,
   "metadata": {},
   "outputs": [],
   "source": [
    "now=datetime(2011,11,17)"
   ]
  },
  {
   "cell_type": "code",
   "execution_count": 139,
   "metadata": {},
   "outputs": [
    {
     "data": {
      "text/plain": [
       "Timestamp('2011-11-20 00:00:00')"
      ]
     },
     "execution_count": 139,
     "metadata": {},
     "output_type": "execute_result"
    }
   ],
   "source": [
    "now+3*Day()"
   ]
  },
  {
   "cell_type": "code",
   "execution_count": 140,
   "metadata": {},
   "outputs": [
    {
     "data": {
      "text/plain": [
       "datetime.datetime(2011, 11, 17, 0, 0)"
      ]
     },
     "execution_count": 140,
     "metadata": {},
     "output_type": "execute_result"
    }
   ],
   "source": [
    "now\n",
    "#datetime对象"
   ]
  },
  {
   "cell_type": "code",
   "execution_count": 141,
   "metadata": {},
   "outputs": [
    {
     "data": {
      "text/plain": [
       "Timestamp('2011-11-17 00:00:00')"
      ]
     },
     "execution_count": 141,
     "metadata": {},
     "output_type": "execute_result"
    }
   ],
   "source": [
    "now+3*Day()-3*Day()\n",
    "#日期的偏移量可以用在datetime对象上，以及Timestamp对象上\n",
    "#参与运算后，转化为Timstamp"
   ]
  },
  {
   "cell_type": "code",
   "execution_count": 142,
   "metadata": {},
   "outputs": [
    {
     "data": {
      "text/plain": [
       "Timestamp('2011-11-17 00:00:00')"
      ]
     },
     "execution_count": 142,
     "metadata": {},
     "output_type": "execute_result"
    }
   ],
   "source": [
    "now+0*Day()"
   ]
  },
  {
   "cell_type": "code",
   "execution_count": 143,
   "metadata": {},
   "outputs": [
    {
     "data": {
      "text/plain": [
       "Timestamp('2011-11-30 00:00:00')"
      ]
     },
     "execution_count": 143,
     "metadata": {},
     "output_type": "execute_result"
    }
   ],
   "source": [
    "now+MonthEnd()\n",
    "#MonthEnd是锚点偏移量（定点，而不是定长）\n",
    "#跳转到下一个最近的月末"
   ]
  },
  {
   "cell_type": "code",
   "execution_count": 144,
   "metadata": {},
   "outputs": [
    {
     "data": {
      "text/plain": [
       "Timestamp('2011-12-31 00:00:00')"
      ]
     },
     "execution_count": 144,
     "metadata": {},
     "output_type": "execute_result"
    }
   ],
   "source": [
    "now+MonthEnd(2)\n",
    "#传入参数2，跳转到后边的第二个月末"
   ]
  },
  {
   "cell_type": "code",
   "execution_count": 145,
   "metadata": {},
   "outputs": [],
   "source": [
    "offset=MonthEnd()"
   ]
  },
  {
   "cell_type": "code",
   "execution_count": 146,
   "metadata": {},
   "outputs": [
    {
     "data": {
      "text/plain": [
       "<MonthEnd>"
      ]
     },
     "execution_count": 146,
     "metadata": {},
     "output_type": "execute_result"
    }
   ],
   "source": [
    "offset"
   ]
  },
  {
   "cell_type": "code",
   "execution_count": 147,
   "metadata": {},
   "outputs": [
    {
     "data": {
      "text/plain": [
       "Timestamp('2011-11-30 00:00:00')"
      ]
     },
     "execution_count": 147,
     "metadata": {},
     "output_type": "execute_result"
    }
   ],
   "source": [
    "offset.rollforward(now)\n",
    "#使用MonthnEnd对象的rollforward实例方法，可以将传入的时间往前（往未来）滚动，滚动到实例对象的锚点"
   ]
  },
  {
   "cell_type": "code",
   "execution_count": 148,
   "metadata": {},
   "outputs": [],
   "source": [
    "ts=pd.Series(np.random.randn(20),index=pd.date_range('1/15/2000',periods=20,freq='4d'))"
   ]
  },
  {
   "cell_type": "code",
   "execution_count": 149,
   "metadata": {},
   "outputs": [
    {
     "data": {
      "text/plain": [
       "2000-01-15   -0.641661\n",
       "2000-01-19   -2.174393\n",
       "2000-01-23   -0.351571\n",
       "2000-01-27    0.501875\n",
       "2000-01-31    0.700923\n",
       "2000-02-04    0.330233\n",
       "2000-02-08    0.526120\n",
       "2000-02-12    0.706671\n",
       "2000-02-16    0.019626\n",
       "2000-02-20   -1.911890\n",
       "2000-02-24    1.081023\n",
       "2000-02-28   -1.618974\n",
       "2000-03-03    0.609761\n",
       "2000-03-07    0.365143\n",
       "2000-03-11   -1.444300\n",
       "2000-03-15    0.184306\n",
       "2000-03-19    0.168223\n",
       "2000-03-23   -0.447141\n",
       "2000-03-27    0.821218\n",
       "2000-03-31    0.367363\n",
       "Freq: 4D, dtype: float64"
      ]
     },
     "execution_count": 149,
     "metadata": {},
     "output_type": "execute_result"
    }
   ],
   "source": [
    "ts"
   ]
  },
  {
   "cell_type": "code",
   "execution_count": 150,
   "metadata": {},
   "outputs": [
    {
     "data": {
      "text/html": [
       "<div>\n",
       "<style scoped>\n",
       "    .dataframe tbody tr th:only-of-type {\n",
       "        vertical-align: middle;\n",
       "    }\n",
       "\n",
       "    .dataframe tbody tr th {\n",
       "        vertical-align: top;\n",
       "    }\n",
       "\n",
       "    .dataframe thead th {\n",
       "        text-align: right;\n",
       "    }\n",
       "</style>\n",
       "<table border=\"1\" class=\"dataframe\">\n",
       "  <thead>\n",
       "    <tr style=\"text-align: right;\">\n",
       "      <th></th>\n",
       "      <th>count</th>\n",
       "      <th>mean</th>\n",
       "      <th>std</th>\n",
       "      <th>min</th>\n",
       "      <th>25%</th>\n",
       "      <th>50%</th>\n",
       "      <th>75%</th>\n",
       "      <th>max</th>\n",
       "    </tr>\n",
       "  </thead>\n",
       "  <tbody>\n",
       "    <tr>\n",
       "      <th>2000-01-31</th>\n",
       "      <td>5.0</td>\n",
       "      <td>-0.392966</td>\n",
       "      <td>1.143938</td>\n",
       "      <td>-2.174393</td>\n",
       "      <td>-0.641661</td>\n",
       "      <td>-0.351571</td>\n",
       "      <td>0.501875</td>\n",
       "      <td>0.700923</td>\n",
       "    </tr>\n",
       "    <tr>\n",
       "      <th>2000-02-29</th>\n",
       "      <td>7.0</td>\n",
       "      <td>-0.123884</td>\n",
       "      <td>1.170698</td>\n",
       "      <td>-1.911890</td>\n",
       "      <td>-0.799674</td>\n",
       "      <td>0.330233</td>\n",
       "      <td>0.616396</td>\n",
       "      <td>1.081023</td>\n",
       "    </tr>\n",
       "    <tr>\n",
       "      <th>2000-03-31</th>\n",
       "      <td>8.0</td>\n",
       "      <td>0.078072</td>\n",
       "      <td>0.718524</td>\n",
       "      <td>-1.444300</td>\n",
       "      <td>0.014382</td>\n",
       "      <td>0.274724</td>\n",
       "      <td>0.427962</td>\n",
       "      <td>0.821218</td>\n",
       "    </tr>\n",
       "  </tbody>\n",
       "</table>\n",
       "</div>"
      ],
      "text/plain": [
       "            count      mean       std       min       25%       50%       75%  \\\n",
       "2000-01-31    5.0 -0.392966  1.143938 -2.174393 -0.641661 -0.351571  0.501875   \n",
       "2000-02-29    7.0 -0.123884  1.170698 -1.911890 -0.799674  0.330233  0.616396   \n",
       "2000-03-31    8.0  0.078072  0.718524 -1.444300  0.014382  0.274724  0.427962   \n",
       "\n",
       "                 max  \n",
       "2000-01-31  0.700923  \n",
       "2000-02-29  1.081023  \n",
       "2000-03-31  0.821218  "
      ]
     },
     "execution_count": 150,
     "metadata": {},
     "output_type": "execute_result"
    }
   ],
   "source": [
    "ts.groupby(offset.rollforward).describe()\n",
    "#首先对ts的每一个索引执行offset.rollforward方法，将日期索引的时间戳改为日期所在月的月末那天\n",
    "#这样在同一个月的日期，就具有了相同的索引\n",
    "#然后使用groupby方法，按照索引分组\n",
    "#分组后就可以调用各种聚合函数了\n",
    "#使用日期偏移量，结合groupby，可以实现按时间区段（月，周等）对数据进行分组\n",
    "#这个写法非常简洁，如果使用常规方法，可能需要些循环？"
   ]
  },
  {
   "cell_type": "code",
   "execution_count": 151,
   "metadata": {},
   "outputs": [
    {
     "data": {
      "text/plain": [
       "Timestamp('2000-01-31 00:00:00')"
      ]
     },
     "execution_count": 151,
     "metadata": {},
     "output_type": "execute_result"
    }
   ],
   "source": [
    "MonthEnd().rollforward(ts.index[0])"
   ]
  },
  {
   "cell_type": "code",
   "execution_count": 152,
   "metadata": {},
   "outputs": [
    {
     "data": {
      "text/plain": [
       "Timestamp('2011-11-30 00:00:00')"
      ]
     },
     "execution_count": 152,
     "metadata": {},
     "output_type": "execute_result"
    }
   ],
   "source": [
    "MonthEnd().rollforward(now)"
   ]
  },
  {
   "cell_type": "code",
   "execution_count": 153,
   "metadata": {},
   "outputs": [
    {
     "name": "stdout",
     "output_type": "stream",
     "text": [
      "2000-01-31 00:00:00\n",
      "2000-01-31 00:00:00\n",
      "2000-01-31 00:00:00\n",
      "2000-01-31 00:00:00\n",
      "2000-01-31 00:00:00\n",
      "2000-02-29 00:00:00\n",
      "2000-02-29 00:00:00\n",
      "2000-02-29 00:00:00\n",
      "2000-02-29 00:00:00\n",
      "2000-02-29 00:00:00\n",
      "2000-02-29 00:00:00\n",
      "2000-02-29 00:00:00\n",
      "2000-03-31 00:00:00\n",
      "2000-03-31 00:00:00\n",
      "2000-03-31 00:00:00\n",
      "2000-03-31 00:00:00\n",
      "2000-03-31 00:00:00\n",
      "2000-03-31 00:00:00\n",
      "2000-03-31 00:00:00\n",
      "2000-03-31 00:00:00\n"
     ]
    }
   ],
   "source": [
    "#index1=\n",
    "for i in np.arange(len(ts.index)):\n",
    "    print(MonthEnd().rollforward(ts.index[i]))\n",
    "#该怎么构造循环？"
   ]
  },
  {
   "cell_type": "code",
   "execution_count": 154,
   "metadata": {},
   "outputs": [
    {
     "data": {
      "text/plain": [
       "2000-01-31    5\n",
       "2000-02-29    7\n",
       "2000-03-31    8\n",
       "Freq: M, dtype: int64"
      ]
     },
     "execution_count": 154,
     "metadata": {},
     "output_type": "execute_result"
    }
   ],
   "source": [
    "ts.resample('M').count()\n",
    "#这里不能用describe？"
   ]
  },
  {
   "cell_type": "markdown",
   "metadata": {},
   "source": [
    "## 11.4 时区处理"
   ]
  },
  {
   "cell_type": "code",
   "execution_count": 155,
   "metadata": {},
   "outputs": [],
   "source": [
    "import pytz"
   ]
  },
  {
   "cell_type": "code",
   "execution_count": 156,
   "metadata": {},
   "outputs": [
    {
     "data": {
      "text/plain": [
       "['Africa/Abidjan', 'Africa/Accra', 'Africa/Addis_Ababa', 'Africa/Algiers', 'Africa/Asmara', 'Africa/Bamako', 'Africa/Bangui', 'Africa/Banjul', 'Africa/Bissau', 'Africa/Blantyre', 'Africa/Brazzaville', 'Africa/Bujumbura', 'Africa/Cairo', 'Africa/Casablanca', 'Africa/Ceuta', 'Africa/Conakry', 'Africa/Dakar', 'Africa/Dar_es_Salaam', 'Africa/Djibouti', 'Africa/Douala', 'Africa/El_Aaiun', 'Africa/Freetown', 'Africa/Gaborone', 'Africa/Harare', 'Africa/Johannesburg', 'Africa/Juba', 'Africa/Kampala', 'Africa/Khartoum', 'Africa/Kigali', 'Africa/Kinshasa', 'Africa/Lagos', 'Africa/Libreville', 'Africa/Lome', 'Africa/Luanda', 'Africa/Lubumbashi', 'Africa/Lusaka', 'Africa/Malabo', 'Africa/Maputo', 'Africa/Maseru', 'Africa/Mbabane', 'Africa/Mogadishu', 'Africa/Monrovia', 'Africa/Nairobi', 'Africa/Ndjamena', 'Africa/Niamey', 'Africa/Nouakchott', 'Africa/Ouagadougou', 'Africa/Porto-Novo', 'Africa/Sao_Tome', 'Africa/Tripoli', 'Africa/Tunis', 'Africa/Windhoek', 'America/Adak', 'America/Anchorage', 'America/Anguilla', 'America/Antigua', 'America/Araguaina', 'America/Argentina/Buenos_Aires', 'America/Argentina/Catamarca', 'America/Argentina/Cordoba', 'America/Argentina/Jujuy', 'America/Argentina/La_Rioja', 'America/Argentina/Mendoza', 'America/Argentina/Rio_Gallegos', 'America/Argentina/Salta', 'America/Argentina/San_Juan', 'America/Argentina/San_Luis', 'America/Argentina/Tucuman', 'America/Argentina/Ushuaia', 'America/Aruba', 'America/Asuncion', 'America/Atikokan', 'America/Bahia', 'America/Bahia_Banderas', 'America/Barbados', 'America/Belem', 'America/Belize', 'America/Blanc-Sablon', 'America/Boa_Vista', 'America/Bogota', 'America/Boise', 'America/Cambridge_Bay', 'America/Campo_Grande', 'America/Cancun', 'America/Caracas', 'America/Cayenne', 'America/Cayman', 'America/Chicago', 'America/Chihuahua', 'America/Costa_Rica', 'America/Creston', 'America/Cuiaba', 'America/Curacao', 'America/Danmarkshavn', 'America/Dawson', 'America/Dawson_Creek', 'America/Denver', 'America/Detroit', 'America/Dominica', 'America/Edmonton', 'America/Eirunepe', 'America/El_Salvador', 'America/Fort_Nelson', 'America/Fortaleza', 'America/Glace_Bay', 'America/Godthab', 'America/Goose_Bay', 'America/Grand_Turk', 'America/Grenada', 'America/Guadeloupe', 'America/Guatemala', 'America/Guayaquil', 'America/Guyana', 'America/Halifax', 'America/Havana', 'America/Hermosillo', 'America/Indiana/Indianapolis', 'America/Indiana/Knox', 'America/Indiana/Marengo', 'America/Indiana/Petersburg', 'America/Indiana/Tell_City', 'America/Indiana/Vevay', 'America/Indiana/Vincennes', 'America/Indiana/Winamac', 'America/Inuvik', 'America/Iqaluit', 'America/Jamaica', 'America/Juneau', 'America/Kentucky/Louisville', 'America/Kentucky/Monticello', 'America/Kralendijk', 'America/La_Paz', 'America/Lima', 'America/Los_Angeles', 'America/Lower_Princes', 'America/Maceio', 'America/Managua', 'America/Manaus', 'America/Marigot', 'America/Martinique', 'America/Matamoros', 'America/Mazatlan', 'America/Menominee', 'America/Merida', 'America/Metlakatla', 'America/Mexico_City', 'America/Miquelon', 'America/Moncton', 'America/Monterrey', 'America/Montevideo', 'America/Montserrat', 'America/Nassau', 'America/New_York', 'America/Nipigon', 'America/Nome', 'America/Noronha', 'America/North_Dakota/Beulah', 'America/North_Dakota/Center', 'America/North_Dakota/New_Salem', 'America/Ojinaga', 'America/Panama', 'America/Pangnirtung', 'America/Paramaribo', 'America/Phoenix', 'America/Port-au-Prince', 'America/Port_of_Spain', 'America/Porto_Velho', 'America/Puerto_Rico', 'America/Punta_Arenas', 'America/Rainy_River', 'America/Rankin_Inlet', 'America/Recife', 'America/Regina', 'America/Resolute', 'America/Rio_Branco', 'America/Santarem', 'America/Santiago', 'America/Santo_Domingo', 'America/Sao_Paulo', 'America/Scoresbysund', 'America/Sitka', 'America/St_Barthelemy', 'America/St_Johns', 'America/St_Kitts', 'America/St_Lucia', 'America/St_Thomas', 'America/St_Vincent', 'America/Swift_Current', 'America/Tegucigalpa', 'America/Thule', 'America/Thunder_Bay', 'America/Tijuana', 'America/Toronto', 'America/Tortola', 'America/Vancouver', 'America/Whitehorse', 'America/Winnipeg', 'America/Yakutat', 'America/Yellowknife', 'Antarctica/Casey', 'Antarctica/Davis', 'Antarctica/DumontDUrville', 'Antarctica/Macquarie', 'Antarctica/Mawson', 'Antarctica/McMurdo', 'Antarctica/Palmer', 'Antarctica/Rothera', 'Antarctica/Syowa', 'Antarctica/Troll', 'Antarctica/Vostok', 'Arctic/Longyearbyen', 'Asia/Aden', 'Asia/Almaty', 'Asia/Amman', 'Asia/Anadyr', 'Asia/Aqtau', 'Asia/Aqtobe', 'Asia/Ashgabat', 'Asia/Atyrau', 'Asia/Baghdad', 'Asia/Bahrain', 'Asia/Baku', 'Asia/Bangkok', 'Asia/Barnaul', 'Asia/Beirut', 'Asia/Bishkek', 'Asia/Brunei', 'Asia/Chita', 'Asia/Choibalsan', 'Asia/Colombo', 'Asia/Damascus', 'Asia/Dhaka', 'Asia/Dili', 'Asia/Dubai', 'Asia/Dushanbe', 'Asia/Famagusta', 'Asia/Gaza', 'Asia/Hebron', 'Asia/Ho_Chi_Minh', 'Asia/Hong_Kong', 'Asia/Hovd', 'Asia/Irkutsk', 'Asia/Jakarta', 'Asia/Jayapura', 'Asia/Jerusalem', 'Asia/Kabul', 'Asia/Kamchatka', 'Asia/Karachi', 'Asia/Kathmandu', 'Asia/Khandyga', 'Asia/Kolkata', 'Asia/Krasnoyarsk', 'Asia/Kuala_Lumpur', 'Asia/Kuching', 'Asia/Kuwait', 'Asia/Macau', 'Asia/Magadan', 'Asia/Makassar', 'Asia/Manila', 'Asia/Muscat', 'Asia/Nicosia', 'Asia/Novokuznetsk', 'Asia/Novosibirsk', 'Asia/Omsk', 'Asia/Oral', 'Asia/Phnom_Penh', 'Asia/Pontianak', 'Asia/Pyongyang', 'Asia/Qatar', 'Asia/Qyzylorda', 'Asia/Riyadh', 'Asia/Sakhalin', 'Asia/Samarkand', 'Asia/Seoul', 'Asia/Shanghai', 'Asia/Singapore', 'Asia/Srednekolymsk', 'Asia/Taipei', 'Asia/Tashkent', 'Asia/Tbilisi', 'Asia/Tehran', 'Asia/Thimphu', 'Asia/Tokyo', 'Asia/Tomsk', 'Asia/Ulaanbaatar', 'Asia/Urumqi', 'Asia/Ust-Nera', 'Asia/Vientiane', 'Asia/Vladivostok', 'Asia/Yakutsk', 'Asia/Yangon', 'Asia/Yekaterinburg', 'Asia/Yerevan', 'Atlantic/Azores', 'Atlantic/Bermuda', 'Atlantic/Canary', 'Atlantic/Cape_Verde', 'Atlantic/Faroe', 'Atlantic/Madeira', 'Atlantic/Reykjavik', 'Atlantic/South_Georgia', 'Atlantic/St_Helena', 'Atlantic/Stanley', 'Australia/Adelaide', 'Australia/Brisbane', 'Australia/Broken_Hill', 'Australia/Currie', 'Australia/Darwin', 'Australia/Eucla', 'Australia/Hobart', 'Australia/Lindeman', 'Australia/Lord_Howe', 'Australia/Melbourne', 'Australia/Perth', 'Australia/Sydney', 'Canada/Atlantic', 'Canada/Central', 'Canada/Eastern', 'Canada/Mountain', 'Canada/Newfoundland', 'Canada/Pacific', 'Europe/Amsterdam', 'Europe/Andorra', 'Europe/Astrakhan', 'Europe/Athens', 'Europe/Belgrade', 'Europe/Berlin', 'Europe/Bratislava', 'Europe/Brussels', 'Europe/Bucharest', 'Europe/Budapest', 'Europe/Busingen', 'Europe/Chisinau', 'Europe/Copenhagen', 'Europe/Dublin', 'Europe/Gibraltar', 'Europe/Guernsey', 'Europe/Helsinki', 'Europe/Isle_of_Man', 'Europe/Istanbul', 'Europe/Jersey', 'Europe/Kaliningrad', 'Europe/Kiev', 'Europe/Kirov', 'Europe/Lisbon', 'Europe/Ljubljana', 'Europe/London', 'Europe/Luxembourg', 'Europe/Madrid', 'Europe/Malta', 'Europe/Mariehamn', 'Europe/Minsk', 'Europe/Monaco', 'Europe/Moscow', 'Europe/Oslo', 'Europe/Paris', 'Europe/Podgorica', 'Europe/Prague', 'Europe/Riga', 'Europe/Rome', 'Europe/Samara', 'Europe/San_Marino', 'Europe/Sarajevo', 'Europe/Saratov', 'Europe/Simferopol', 'Europe/Skopje', 'Europe/Sofia', 'Europe/Stockholm', 'Europe/Tallinn', 'Europe/Tirane', 'Europe/Ulyanovsk', 'Europe/Uzhgorod', 'Europe/Vaduz', 'Europe/Vatican', 'Europe/Vienna', 'Europe/Vilnius', 'Europe/Volgograd', 'Europe/Warsaw', 'Europe/Zagreb', 'Europe/Zaporozhye', 'Europe/Zurich', 'GMT', 'Indian/Antananarivo', 'Indian/Chagos', 'Indian/Christmas', 'Indian/Cocos', 'Indian/Comoro', 'Indian/Kerguelen', 'Indian/Mahe', 'Indian/Maldives', 'Indian/Mauritius', 'Indian/Mayotte', 'Indian/Reunion', 'Pacific/Apia', 'Pacific/Auckland', 'Pacific/Bougainville', 'Pacific/Chatham', 'Pacific/Chuuk', 'Pacific/Easter', 'Pacific/Efate', 'Pacific/Enderbury', 'Pacific/Fakaofo', 'Pacific/Fiji', 'Pacific/Funafuti', 'Pacific/Galapagos', 'Pacific/Gambier', 'Pacific/Guadalcanal', 'Pacific/Guam', 'Pacific/Honolulu', 'Pacific/Kiritimati', 'Pacific/Kosrae', 'Pacific/Kwajalein', 'Pacific/Majuro', 'Pacific/Marquesas', 'Pacific/Midway', 'Pacific/Nauru', 'Pacific/Niue', 'Pacific/Norfolk', 'Pacific/Noumea', 'Pacific/Pago_Pago', 'Pacific/Palau', 'Pacific/Pitcairn', 'Pacific/Pohnpei', 'Pacific/Port_Moresby', 'Pacific/Rarotonga', 'Pacific/Saipan', 'Pacific/Tahiti', 'Pacific/Tarawa', 'Pacific/Tongatapu', 'Pacific/Wake', 'Pacific/Wallis', 'US/Alaska', 'US/Arizona', 'US/Central', 'US/Eastern', 'US/Hawaii', 'US/Mountain', 'US/Pacific', 'UTC']"
      ]
     },
     "execution_count": 156,
     "metadata": {},
     "output_type": "execute_result"
    }
   ],
   "source": [
    "pytz.common_timezones"
   ]
  },
  {
   "cell_type": "code",
   "execution_count": 157,
   "metadata": {},
   "outputs": [],
   "source": [
    "tz=pytz.timezone('America/New_York')"
   ]
  },
  {
   "cell_type": "code",
   "execution_count": 158,
   "metadata": {},
   "outputs": [
    {
     "data": {
      "text/plain": [
       "<DstTzInfo 'America/New_York' LMT-1 day, 19:04:00 STD>"
      ]
     },
     "execution_count": 158,
     "metadata": {},
     "output_type": "execute_result"
    }
   ],
   "source": [
    "tz"
   ]
  },
  {
   "cell_type": "code",
   "execution_count": 159,
   "metadata": {},
   "outputs": [],
   "source": [
    "tz1=pytz.timezone('Asia/Hong_Kong')"
   ]
  },
  {
   "cell_type": "code",
   "execution_count": 160,
   "metadata": {},
   "outputs": [
    {
     "data": {
      "text/plain": [
       "<DstTzInfo 'Asia/Hong_Kong' LMT+7:37:00 STD>"
      ]
     },
     "execution_count": 160,
     "metadata": {},
     "output_type": "execute_result"
    }
   ],
   "source": [
    "tz1"
   ]
  },
  {
   "cell_type": "markdown",
   "metadata": {},
   "source": [
    "### 时区本地化和转换"
   ]
  },
  {
   "cell_type": "code",
   "execution_count": 161,
   "metadata": {},
   "outputs": [],
   "source": [
    "rng=pd.date_range('3/9/2012 9:30',periods=6,freq='D')"
   ]
  },
  {
   "cell_type": "code",
   "execution_count": 162,
   "metadata": {},
   "outputs": [],
   "source": [
    "ts=pd.Series(np.arange(len(rng)),index=rng)+1"
   ]
  },
  {
   "cell_type": "code",
   "execution_count": 163,
   "metadata": {},
   "outputs": [
    {
     "data": {
      "text/plain": [
       "2012-03-09 09:30:00    1\n",
       "2012-03-10 09:30:00    2\n",
       "2012-03-11 09:30:00    3\n",
       "2012-03-12 09:30:00    4\n",
       "2012-03-13 09:30:00    5\n",
       "2012-03-14 09:30:00    6\n",
       "Freq: D, dtype: int32"
      ]
     },
     "execution_count": 163,
     "metadata": {},
     "output_type": "execute_result"
    }
   ],
   "source": [
    "ts"
   ]
  },
  {
   "cell_type": "code",
   "execution_count": 164,
   "metadata": {},
   "outputs": [
    {
     "name": "stdout",
     "output_type": "stream",
     "text": [
      "None\n"
     ]
    }
   ],
   "source": [
    "print(ts.index.tz)\n",
    "#默认情况下，pandas的时间序列是单纯的（native）时区——应该是本地的吧？"
   ]
  },
  {
   "cell_type": "code",
   "execution_count": 165,
   "metadata": {},
   "outputs": [
    {
     "data": {
      "text/plain": [
       "DatetimeIndex(['2013-03-09 09:30:00+08:00', '2013-03-10 09:30:00+08:00',\n",
       "               '2013-03-11 09:30:00+08:00', '2013-03-12 09:30:00+08:00',\n",
       "               '2013-03-13 09:30:00+08:00', '2013-03-14 09:30:00+08:00',\n",
       "               '2013-03-15 09:30:00+08:00', '2013-03-16 09:30:00+08:00',\n",
       "               '2013-03-17 09:30:00+08:00', '2013-03-18 09:30:00+08:00'],\n",
       "              dtype='datetime64[ns, Asia/Hong_Kong]', freq='D')"
      ]
     },
     "execution_count": 165,
     "metadata": {},
     "output_type": "execute_result"
    }
   ],
   "source": [
    "pd.date_range('3/9/2013 9:30',periods=10,freq='D',tz='Asia/Hong_Kong')\n",
    "#使用tz参数传递时区"
   ]
  },
  {
   "cell_type": "code",
   "execution_count": 166,
   "metadata": {},
   "outputs": [],
   "source": [
    "ts_Asia_Hong_Kong=ts.tz_localize('Asia/Hong_Kong')\n",
    "#使用tz_localize方法，将native时区转化为本地时区"
   ]
  },
  {
   "cell_type": "code",
   "execution_count": 167,
   "metadata": {},
   "outputs": [
    {
     "data": {
      "text/plain": [
       "2012-03-09 09:30:00+08:00    1\n",
       "2012-03-10 09:30:00+08:00    2\n",
       "2012-03-11 09:30:00+08:00    3\n",
       "2012-03-12 09:30:00+08:00    4\n",
       "2012-03-13 09:30:00+08:00    5\n",
       "2012-03-14 09:30:00+08:00    6\n",
       "Freq: D, dtype: int32"
      ]
     },
     "execution_count": 167,
     "metadata": {},
     "output_type": "execute_result"
    }
   ],
   "source": [
    "ts_Asia_Hong_Kong"
   ]
  },
  {
   "cell_type": "code",
   "execution_count": 168,
   "metadata": {},
   "outputs": [
    {
     "data": {
      "text/plain": [
       "DatetimeIndex(['2012-03-09 09:30:00+08:00', '2012-03-10 09:30:00+08:00',\n",
       "               '2012-03-11 09:30:00+08:00', '2012-03-12 09:30:00+08:00',\n",
       "               '2012-03-13 09:30:00+08:00', '2012-03-14 09:30:00+08:00'],\n",
       "              dtype='datetime64[ns, Asia/Hong_Kong]', freq='D')"
      ]
     },
     "execution_count": 168,
     "metadata": {},
     "output_type": "execute_result"
    }
   ],
   "source": [
    "ts_Asia_Hong_Kong.index"
   ]
  },
  {
   "cell_type": "code",
   "execution_count": 169,
   "metadata": {},
   "outputs": [
    {
     "data": {
      "text/plain": [
       "2012-03-09 01:30:00+00:00    1\n",
       "2012-03-10 01:30:00+00:00    2\n",
       "2012-03-11 01:30:00+00:00    3\n",
       "2012-03-12 01:30:00+00:00    4\n",
       "2012-03-13 01:30:00+00:00    5\n",
       "2012-03-14 01:30:00+00:00    6\n",
       "Freq: D, dtype: int32"
      ]
     },
     "execution_count": 169,
     "metadata": {},
     "output_type": "execute_result"
    }
   ],
   "source": [
    "ts_Asia_Hong_Kong.tz_convert('UTC')\n",
    "#本地化到特定时区的时间序列，可以使用tz_convert方法转换到其他时区，只需要传入相应的时区名称"
   ]
  },
  {
   "cell_type": "code",
   "execution_count": 170,
   "metadata": {},
   "outputs": [
    {
     "data": {
      "text/plain": [
       "DatetimeIndex(['2012-03-09 01:30:00+00:00', '2012-03-10 01:30:00+00:00',\n",
       "               '2012-03-11 01:30:00+00:00', '2012-03-12 01:30:00+00:00',\n",
       "               '2012-03-13 01:30:00+00:00', '2012-03-14 01:30:00+00:00'],\n",
       "              dtype='datetime64[ns, UTC]', freq='D')"
      ]
     },
     "execution_count": 170,
     "metadata": {},
     "output_type": "execute_result"
    }
   ],
   "source": [
    "ts.index.tz_localize('Asia/Hong_Kong').tz_convert('UTC')\n",
    "#tz_localize方法和tz_convert方法也是DatetimeIndex对象的实例方法"
   ]
  },
  {
   "cell_type": "markdown",
   "metadata": {},
   "source": [
    "### 操作时区意识型Timestamp对象"
   ]
  },
  {
   "cell_type": "code",
   "execution_count": 171,
   "metadata": {},
   "outputs": [],
   "source": [
    "stamp=pd.Timestamp('20110312 04:00')"
   ]
  },
  {
   "cell_type": "code",
   "execution_count": 172,
   "metadata": {},
   "outputs": [],
   "source": [
    "stamp_utc=stamp.tz_localize('utc')"
   ]
  },
  {
   "cell_type": "code",
   "execution_count": 173,
   "metadata": {},
   "outputs": [
    {
     "data": {
      "text/plain": [
       "Timestamp('2011-03-11 23:00:00-0500', tz='America/New_York')"
      ]
     },
     "execution_count": 173,
     "metadata": {},
     "output_type": "execute_result"
    }
   ],
   "source": [
    "stamp_utc.tz_convert('America/New_York')"
   ]
  },
  {
   "cell_type": "code",
   "execution_count": 174,
   "metadata": {},
   "outputs": [],
   "source": [
    "stamp_moscow=pd.Timestamp('20110312 04:00',tz='Europe/Moscow')\n",
    "#创建pandas的Timestamp对象时，可以通过tz参数指定时区"
   ]
  },
  {
   "cell_type": "code",
   "execution_count": 175,
   "metadata": {},
   "outputs": [
    {
     "data": {
      "text/plain": [
       "Timestamp('2011-03-12 04:00:00+0300', tz='Europe/Moscow')"
      ]
     },
     "execution_count": 175,
     "metadata": {},
     "output_type": "execute_result"
    }
   ],
   "source": [
    "stamp_moscow"
   ]
  },
  {
   "cell_type": "code",
   "execution_count": 176,
   "metadata": {},
   "outputs": [
    {
     "data": {
      "text/plain": [
       "1299902400000000000"
      ]
     },
     "execution_count": 176,
     "metadata": {},
     "output_type": "execute_result"
    }
   ],
   "source": [
    "stamp_utc.value\n",
    "#这个值是自UNIX纪元（1970.1.1）以来的纳秒数"
   ]
  },
  {
   "cell_type": "code",
   "execution_count": 177,
   "metadata": {},
   "outputs": [
    {
     "data": {
      "text/plain": [
       "1299902400000000000"
      ]
     },
     "execution_count": 177,
     "metadata": {},
     "output_type": "execute_result"
    }
   ],
   "source": [
    "stamp_utc.tz_convert('America/New_York').value\n",
    "#转换时区不会改变这个纳秒数"
   ]
  },
  {
   "cell_type": "code",
   "execution_count": 178,
   "metadata": {},
   "outputs": [],
   "source": [
    "from pandas.tseries.offsets import Hour"
   ]
  },
  {
   "cell_type": "code",
   "execution_count": 179,
   "metadata": {},
   "outputs": [],
   "source": [
    "stamp=pd.Timestamp('20120312 01:30',tz='US/Eastern')"
   ]
  },
  {
   "cell_type": "code",
   "execution_count": 180,
   "metadata": {},
   "outputs": [
    {
     "data": {
      "text/plain": [
       "Timestamp('2012-03-12 01:30:00-0400', tz='US/Eastern')"
      ]
     },
     "execution_count": 180,
     "metadata": {},
     "output_type": "execute_result"
    }
   ],
   "source": [
    "stamp"
   ]
  },
  {
   "cell_type": "code",
   "execution_count": 181,
   "metadata": {},
   "outputs": [
    {
     "data": {
      "text/plain": [
       "Timestamp('2012-03-12 02:30:00-0400', tz='US/Eastern')"
      ]
     },
     "execution_count": 181,
     "metadata": {},
     "output_type": "execute_result"
    }
   ],
   "source": [
    "stamp+Hour()"
   ]
  },
  {
   "cell_type": "code",
   "execution_count": 182,
   "metadata": {},
   "outputs": [],
   "source": [
    "stamp=pd.Timestamp('20121104 00:30',tz='US/Eastern')"
   ]
  },
  {
   "cell_type": "code",
   "execution_count": 183,
   "metadata": {},
   "outputs": [
    {
     "data": {
      "text/plain": [
       "Timestamp('2012-11-04 00:30:00-0400', tz='US/Eastern')"
      ]
     },
     "execution_count": 183,
     "metadata": {},
     "output_type": "execute_result"
    }
   ],
   "source": [
    "stamp"
   ]
  },
  {
   "cell_type": "code",
   "execution_count": 184,
   "metadata": {},
   "outputs": [
    {
     "data": {
      "text/plain": [
       "Timestamp('2012-11-04 01:30:00-0500', tz='US/Eastern')"
      ]
     },
     "execution_count": 184,
     "metadata": {},
     "output_type": "execute_result"
    }
   ],
   "source": [
    "stamp+2*Hour()\n",
    "#在夏令时转换期内，执行的时间算数运算会自动考虑到夏令时转换"
   ]
  },
  {
   "cell_type": "markdown",
   "metadata": {},
   "source": [
    "### 不同时区之间的运算"
   ]
  },
  {
   "cell_type": "code",
   "execution_count": 185,
   "metadata": {},
   "outputs": [],
   "source": [
    "rng=pd.date_range('3/7/2012 9:30',periods=10,freq='B')"
   ]
  },
  {
   "cell_type": "code",
   "execution_count": 186,
   "metadata": {},
   "outputs": [
    {
     "data": {
      "text/plain": [
       "DatetimeIndex(['2012-03-07 09:30:00', '2012-03-08 09:30:00',\n",
       "               '2012-03-09 09:30:00', '2012-03-12 09:30:00',\n",
       "               '2012-03-13 09:30:00', '2012-03-14 09:30:00',\n",
       "               '2012-03-15 09:30:00', '2012-03-16 09:30:00',\n",
       "               '2012-03-19 09:30:00', '2012-03-20 09:30:00'],\n",
       "              dtype='datetime64[ns]', freq='B')"
      ]
     },
     "execution_count": 186,
     "metadata": {},
     "output_type": "execute_result"
    }
   ],
   "source": [
    "rng"
   ]
  },
  {
   "cell_type": "code",
   "execution_count": 187,
   "metadata": {},
   "outputs": [],
   "source": [
    "ts=pd.Series(np.arange(len(rng)),index=rng)+1"
   ]
  },
  {
   "cell_type": "code",
   "execution_count": 188,
   "metadata": {},
   "outputs": [
    {
     "data": {
      "text/plain": [
       "2012-03-07 09:30:00     1\n",
       "2012-03-08 09:30:00     2\n",
       "2012-03-09 09:30:00     3\n",
       "2012-03-12 09:30:00     4\n",
       "2012-03-13 09:30:00     5\n",
       "2012-03-14 09:30:00     6\n",
       "2012-03-15 09:30:00     7\n",
       "2012-03-16 09:30:00     8\n",
       "2012-03-19 09:30:00     9\n",
       "2012-03-20 09:30:00    10\n",
       "Freq: B, dtype: int32"
      ]
     },
     "execution_count": 188,
     "metadata": {},
     "output_type": "execute_result"
    }
   ],
   "source": [
    "ts"
   ]
  },
  {
   "cell_type": "code",
   "execution_count": 189,
   "metadata": {},
   "outputs": [],
   "source": [
    "ts1=ts[:7].tz_localize('Europe/London')"
   ]
  },
  {
   "cell_type": "code",
   "execution_count": 190,
   "metadata": {},
   "outputs": [
    {
     "data": {
      "text/plain": [
       "2012-03-07 09:30:00+00:00    1\n",
       "2012-03-08 09:30:00+00:00    2\n",
       "2012-03-09 09:30:00+00:00    3\n",
       "2012-03-12 09:30:00+00:00    4\n",
       "2012-03-13 09:30:00+00:00    5\n",
       "2012-03-14 09:30:00+00:00    6\n",
       "2012-03-15 09:30:00+00:00    7\n",
       "Freq: B, dtype: int32"
      ]
     },
     "execution_count": 190,
     "metadata": {},
     "output_type": "execute_result"
    }
   ],
   "source": [
    "ts1"
   ]
  },
  {
   "cell_type": "code",
   "execution_count": 191,
   "metadata": {},
   "outputs": [],
   "source": [
    "ts2=ts1[2:].tz_convert('Europe/Moscow')"
   ]
  },
  {
   "cell_type": "code",
   "execution_count": 192,
   "metadata": {},
   "outputs": [
    {
     "data": {
      "text/plain": [
       "2012-03-09 13:30:00+04:00    3\n",
       "2012-03-12 13:30:00+04:00    4\n",
       "2012-03-13 13:30:00+04:00    5\n",
       "2012-03-14 13:30:00+04:00    6\n",
       "2012-03-15 13:30:00+04:00    7\n",
       "Freq: B, dtype: int32"
      ]
     },
     "execution_count": 192,
     "metadata": {},
     "output_type": "execute_result"
    }
   ],
   "source": [
    "ts2"
   ]
  },
  {
   "cell_type": "code",
   "execution_count": 193,
   "metadata": {},
   "outputs": [
    {
     "data": {
      "text/plain": [
       "DatetimeIndex(['2012-03-07 09:30:00+00:00', '2012-03-08 09:30:00+00:00',\n",
       "               '2012-03-09 09:30:00+00:00', '2012-03-12 09:30:00+00:00',\n",
       "               '2012-03-13 09:30:00+00:00', '2012-03-14 09:30:00+00:00',\n",
       "               '2012-03-15 09:30:00+00:00'],\n",
       "              dtype='datetime64[ns, UTC]', freq='B')"
      ]
     },
     "execution_count": 193,
     "metadata": {},
     "output_type": "execute_result"
    }
   ],
   "source": [
    "(ts1+ts2).index\n",
    "#将两个不同时区的时间序列合并时，和的时间序列会统一转换为UTC"
   ]
  },
  {
   "cell_type": "code",
   "execution_count": 194,
   "metadata": {},
   "outputs": [],
   "source": [
    "ts3=ts.tz_localize('Europe/Moscow')"
   ]
  },
  {
   "cell_type": "code",
   "execution_count": 195,
   "metadata": {},
   "outputs": [],
   "source": [
    "ts4=ts.tz_localize('America/New_York')"
   ]
  },
  {
   "cell_type": "code",
   "execution_count": 196,
   "metadata": {},
   "outputs": [
    {
     "data": {
      "text/plain": [
       "2012-03-07 09:30:00+04:00     1\n",
       "2012-03-08 09:30:00+04:00     2\n",
       "2012-03-09 09:30:00+04:00     3\n",
       "2012-03-12 09:30:00+04:00     4\n",
       "2012-03-13 09:30:00+04:00     5\n",
       "2012-03-14 09:30:00+04:00     6\n",
       "2012-03-15 09:30:00+04:00     7\n",
       "2012-03-16 09:30:00+04:00     8\n",
       "2012-03-19 09:30:00+04:00     9\n",
       "2012-03-20 09:30:00+04:00    10\n",
       "Freq: B, dtype: int32"
      ]
     },
     "execution_count": 196,
     "metadata": {},
     "output_type": "execute_result"
    }
   ],
   "source": [
    "ts3"
   ]
  },
  {
   "cell_type": "code",
   "execution_count": 197,
   "metadata": {},
   "outputs": [
    {
     "data": {
      "text/plain": [
       "2012-03-07 09:30:00-05:00     1\n",
       "2012-03-08 09:30:00-05:00     2\n",
       "2012-03-09 09:30:00-05:00     3\n",
       "2012-03-12 09:30:00-04:00     4\n",
       "2012-03-13 09:30:00-04:00     5\n",
       "2012-03-14 09:30:00-04:00     6\n",
       "2012-03-15 09:30:00-04:00     7\n",
       "2012-03-16 09:30:00-04:00     8\n",
       "2012-03-19 09:30:00-04:00     9\n",
       "2012-03-20 09:30:00-04:00    10\n",
       "Freq: B, dtype: int32"
      ]
     },
     "execution_count": 197,
     "metadata": {},
     "output_type": "execute_result"
    }
   ],
   "source": [
    "ts4"
   ]
  },
  {
   "cell_type": "code",
   "execution_count": 198,
   "metadata": {},
   "outputs": [
    {
     "data": {
      "text/html": [
       "<div>\n",
       "<style scoped>\n",
       "    .dataframe tbody tr th:only-of-type {\n",
       "        vertical-align: middle;\n",
       "    }\n",
       "\n",
       "    .dataframe tbody tr th {\n",
       "        vertical-align: top;\n",
       "    }\n",
       "\n",
       "    .dataframe thead th {\n",
       "        text-align: right;\n",
       "    }\n",
       "</style>\n",
       "<table border=\"1\" class=\"dataframe\">\n",
       "  <thead>\n",
       "    <tr style=\"text-align: right;\">\n",
       "      <th></th>\n",
       "      <th>0_x</th>\n",
       "      <th>0_y</th>\n",
       "    </tr>\n",
       "  </thead>\n",
       "  <tbody>\n",
       "    <tr>\n",
       "      <th>2012-03-07 05:30:00+00:00</th>\n",
       "      <td>1.0</td>\n",
       "      <td>NaN</td>\n",
       "    </tr>\n",
       "    <tr>\n",
       "      <th>2012-03-07 14:30:00+00:00</th>\n",
       "      <td>NaN</td>\n",
       "      <td>1.0</td>\n",
       "    </tr>\n",
       "    <tr>\n",
       "      <th>2012-03-08 05:30:00+00:00</th>\n",
       "      <td>2.0</td>\n",
       "      <td>NaN</td>\n",
       "    </tr>\n",
       "    <tr>\n",
       "      <th>2012-03-08 14:30:00+00:00</th>\n",
       "      <td>NaN</td>\n",
       "      <td>2.0</td>\n",
       "    </tr>\n",
       "    <tr>\n",
       "      <th>2012-03-09 05:30:00+00:00</th>\n",
       "      <td>3.0</td>\n",
       "      <td>NaN</td>\n",
       "    </tr>\n",
       "    <tr>\n",
       "      <th>2012-03-09 14:30:00+00:00</th>\n",
       "      <td>NaN</td>\n",
       "      <td>3.0</td>\n",
       "    </tr>\n",
       "    <tr>\n",
       "      <th>2012-03-12 05:30:00+00:00</th>\n",
       "      <td>4.0</td>\n",
       "      <td>NaN</td>\n",
       "    </tr>\n",
       "    <tr>\n",
       "      <th>2012-03-12 13:30:00+00:00</th>\n",
       "      <td>NaN</td>\n",
       "      <td>4.0</td>\n",
       "    </tr>\n",
       "    <tr>\n",
       "      <th>2012-03-13 05:30:00+00:00</th>\n",
       "      <td>5.0</td>\n",
       "      <td>NaN</td>\n",
       "    </tr>\n",
       "    <tr>\n",
       "      <th>2012-03-13 13:30:00+00:00</th>\n",
       "      <td>NaN</td>\n",
       "      <td>5.0</td>\n",
       "    </tr>\n",
       "    <tr>\n",
       "      <th>2012-03-14 05:30:00+00:00</th>\n",
       "      <td>6.0</td>\n",
       "      <td>NaN</td>\n",
       "    </tr>\n",
       "    <tr>\n",
       "      <th>2012-03-14 13:30:00+00:00</th>\n",
       "      <td>NaN</td>\n",
       "      <td>6.0</td>\n",
       "    </tr>\n",
       "    <tr>\n",
       "      <th>2012-03-15 05:30:00+00:00</th>\n",
       "      <td>7.0</td>\n",
       "      <td>NaN</td>\n",
       "    </tr>\n",
       "    <tr>\n",
       "      <th>2012-03-15 13:30:00+00:00</th>\n",
       "      <td>NaN</td>\n",
       "      <td>7.0</td>\n",
       "    </tr>\n",
       "    <tr>\n",
       "      <th>2012-03-16 05:30:00+00:00</th>\n",
       "      <td>8.0</td>\n",
       "      <td>NaN</td>\n",
       "    </tr>\n",
       "    <tr>\n",
       "      <th>2012-03-16 13:30:00+00:00</th>\n",
       "      <td>NaN</td>\n",
       "      <td>8.0</td>\n",
       "    </tr>\n",
       "    <tr>\n",
       "      <th>2012-03-19 05:30:00+00:00</th>\n",
       "      <td>9.0</td>\n",
       "      <td>NaN</td>\n",
       "    </tr>\n",
       "    <tr>\n",
       "      <th>2012-03-19 13:30:00+00:00</th>\n",
       "      <td>NaN</td>\n",
       "      <td>9.0</td>\n",
       "    </tr>\n",
       "    <tr>\n",
       "      <th>2012-03-20 05:30:00+00:00</th>\n",
       "      <td>10.0</td>\n",
       "      <td>NaN</td>\n",
       "    </tr>\n",
       "    <tr>\n",
       "      <th>2012-03-20 13:30:00+00:00</th>\n",
       "      <td>NaN</td>\n",
       "      <td>10.0</td>\n",
       "    </tr>\n",
       "  </tbody>\n",
       "</table>\n",
       "</div>"
      ],
      "text/plain": [
       "                            0_x   0_y\n",
       "2012-03-07 05:30:00+00:00   1.0   NaN\n",
       "2012-03-07 14:30:00+00:00   NaN   1.0\n",
       "2012-03-08 05:30:00+00:00   2.0   NaN\n",
       "2012-03-08 14:30:00+00:00   NaN   2.0\n",
       "2012-03-09 05:30:00+00:00   3.0   NaN\n",
       "2012-03-09 14:30:00+00:00   NaN   3.0\n",
       "2012-03-12 05:30:00+00:00   4.0   NaN\n",
       "2012-03-12 13:30:00+00:00   NaN   4.0\n",
       "2012-03-13 05:30:00+00:00   5.0   NaN\n",
       "2012-03-13 13:30:00+00:00   NaN   5.0\n",
       "2012-03-14 05:30:00+00:00   6.0   NaN\n",
       "2012-03-14 13:30:00+00:00   NaN   6.0\n",
       "2012-03-15 05:30:00+00:00   7.0   NaN\n",
       "2012-03-15 13:30:00+00:00   NaN   7.0\n",
       "2012-03-16 05:30:00+00:00   8.0   NaN\n",
       "2012-03-16 13:30:00+00:00   NaN   8.0\n",
       "2012-03-19 05:30:00+00:00   9.0   NaN\n",
       "2012-03-19 13:30:00+00:00   NaN   9.0\n",
       "2012-03-20 05:30:00+00:00  10.0   NaN\n",
       "2012-03-20 13:30:00+00:00   NaN  10.0"
      ]
     },
     "execution_count": 198,
     "metadata": {},
     "output_type": "execute_result"
    }
   ],
   "source": [
    "pd.merge(pd.DataFrame(ts3),pd.DataFrame(ts4),how='outer',left_index=True,right_index=True)\n",
    "#分别用不同的时区本地化同一组数据，得到的结果的index不一样。\n",
    "#本地化不改变时间戳，只是附加了时区\n",
    "#因此当两个不同时区的相同的值合并的时候，首先都转化为UTC，但由于时区不同，转化为UTC后值不一样"
   ]
  },
  {
   "cell_type": "markdown",
   "metadata": {},
   "source": [
    "## 11.5 时期及其算数运算"
   ]
  },
  {
   "cell_type": "code",
   "execution_count": 199,
   "metadata": {},
   "outputs": [],
   "source": [
    "p=pd.Period(2007,freq='A-DEC')\n",
    "#时间区间用Period定义\n",
    "#freq='A-DEC'表示的是20070101到20071231的整个区间"
   ]
  },
  {
   "cell_type": "code",
   "execution_count": 200,
   "metadata": {},
   "outputs": [
    {
     "data": {
      "text/plain": [
       "Period('2007', 'A-DEC')"
      ]
     },
     "execution_count": 200,
     "metadata": {},
     "output_type": "execute_result"
    }
   ],
   "source": [
    "p"
   ]
  },
  {
   "cell_type": "code",
   "execution_count": 201,
   "metadata": {},
   "outputs": [
    {
     "data": {
      "text/plain": [
       "Period('2012', 'A-DEC')"
      ]
     },
     "execution_count": 201,
     "metadata": {},
     "output_type": "execute_result"
    }
   ],
   "source": [
    "p+5\n",
    "#时间区间可以通过算数运算进行位移\n",
    "#运算结果的频率保持不变"
   ]
  },
  {
   "cell_type": "code",
   "execution_count": 202,
   "metadata": {},
   "outputs": [
    {
     "data": {
      "text/plain": [
       "Period('2005', 'A-DEC')"
      ]
     },
     "execution_count": 202,
     "metadata": {},
     "output_type": "execute_result"
    }
   ],
   "source": [
    "p-2"
   ]
  },
  {
   "cell_type": "code",
   "execution_count": 203,
   "metadata": {},
   "outputs": [
    {
     "data": {
      "text/plain": [
       "7"
      ]
     },
     "execution_count": 203,
     "metadata": {},
     "output_type": "execute_result"
    }
   ],
   "source": [
    "pd.Period('2014',freq='A-DEC')-p\n",
    "#两个时间区间也可以相减，但要求有相同的频率\n",
    "#相减的结果就是他们之间的单位数量"
   ]
  },
  {
   "cell_type": "code",
   "execution_count": 204,
   "metadata": {},
   "outputs": [
    {
     "data": {
      "text/plain": [
       "5"
      ]
     },
     "execution_count": 204,
     "metadata": {},
     "output_type": "execute_result"
    }
   ],
   "source": [
    "p+5-p"
   ]
  },
  {
   "cell_type": "code",
   "execution_count": 205,
   "metadata": {},
   "outputs": [],
   "source": [
    "rng=pd.period_range('2000-01-01','2000-06-30',freq='M')\n",
    "#period_range创建规则的时间范围\n",
    "#freq指定频率"
   ]
  },
  {
   "cell_type": "code",
   "execution_count": 206,
   "metadata": {},
   "outputs": [
    {
     "data": {
      "text/plain": [
       "PeriodIndex(['2000-01', '2000-02', '2000-03', '2000-04', '2000-05', '2000-06'], dtype='period[M]', freq='M')"
      ]
     },
     "execution_count": 206,
     "metadata": {},
     "output_type": "execute_result"
    }
   ],
   "source": [
    "rng"
   ]
  },
  {
   "cell_type": "code",
   "execution_count": 207,
   "metadata": {},
   "outputs": [
    {
     "data": {
      "text/plain": [
       "2000-01   -0.622140\n",
       "2000-02    0.733092\n",
       "2000-03    0.487580\n",
       "2000-04    0.499020\n",
       "2000-05    0.110310\n",
       "2000-06   -0.258711\n",
       "Freq: M, dtype: float64"
      ]
     },
     "execution_count": 207,
     "metadata": {},
     "output_type": "execute_result"
    }
   ],
   "source": [
    "#Periodndex保存了一组Period，可以在任何pandas数据结构中被用作轴索引\n",
    "pd.Series(np.random.randn(6),index=rng)"
   ]
  },
  {
   "cell_type": "code",
   "execution_count": 208,
   "metadata": {},
   "outputs": [],
   "source": [
    "values=['2001Q3','2002Q2','2003Q1']"
   ]
  },
  {
   "cell_type": "code",
   "execution_count": 209,
   "metadata": {},
   "outputs": [],
   "source": [
    "index=pd.PeriodIndex(values,freq='Q-DEC')\n",
    "#PeriodIndex方法将一个字符串数组转化为PeriodIndex类型的数据"
   ]
  },
  {
   "cell_type": "code",
   "execution_count": 210,
   "metadata": {},
   "outputs": [
    {
     "data": {
      "text/plain": [
       "PeriodIndex(['2001Q3', '2002Q2', '2003Q1'], dtype='period[Q-DEC]', freq='Q-DEC')"
      ]
     },
     "execution_count": 210,
     "metadata": {},
     "output_type": "execute_result"
    }
   ],
   "source": [
    "index"
   ]
  },
  {
   "cell_type": "markdown",
   "metadata": {},
   "source": [
    "### 时期的频率转换"
   ]
  },
  {
   "cell_type": "code",
   "execution_count": 211,
   "metadata": {},
   "outputs": [],
   "source": [
    "p=pd.Period('2007',freq='A-DEC')"
   ]
  },
  {
   "cell_type": "code",
   "execution_count": 212,
   "metadata": {},
   "outputs": [
    {
     "data": {
      "text/plain": [
       "Period('2007', 'A-DEC')"
      ]
     },
     "execution_count": 212,
     "metadata": {},
     "output_type": "execute_result"
    }
   ],
   "source": [
    "p"
   ]
  },
  {
   "cell_type": "code",
   "execution_count": 213,
   "metadata": {},
   "outputs": [
    {
     "data": {
      "text/plain": [
       "Period('2007-01', 'M')"
      ]
     },
     "execution_count": 213,
     "metadata": {},
     "output_type": "execute_result"
    }
   ],
   "source": [
    "p.asfreq('M',how='start')\n",
    "#Period对象的asfreq实例方法可以改变频率\n",
    "#使用how='stard'将年度区间改为当年第一个月"
   ]
  },
  {
   "cell_type": "code",
   "execution_count": 214,
   "metadata": {},
   "outputs": [
    {
     "data": {
      "text/plain": [
       "Period('2007-12', 'M')"
      ]
     },
     "execution_count": 214,
     "metadata": {},
     "output_type": "execute_result"
    }
   ],
   "source": [
    "p.asfreq('M',how='end')"
   ]
  },
  {
   "cell_type": "code",
   "execution_count": 215,
   "metadata": {},
   "outputs": [],
   "source": [
    "p=pd.Period('2007',freq='A-JUN')"
   ]
  },
  {
   "cell_type": "code",
   "execution_count": 216,
   "metadata": {},
   "outputs": [
    {
     "data": {
      "text/plain": [
       "Period('2007', 'A-JUN')"
      ]
     },
     "execution_count": 216,
     "metadata": {},
     "output_type": "execute_result"
    }
   ],
   "source": [
    "p"
   ]
  },
  {
   "cell_type": "code",
   "execution_count": 217,
   "metadata": {},
   "outputs": [
    {
     "data": {
      "text/plain": [
       "Period('2006-07', 'M')"
      ]
     },
     "execution_count": 217,
     "metadata": {},
     "output_type": "execute_result"
    }
   ],
   "source": [
    "p.asfreq('M','start')"
   ]
  },
  {
   "cell_type": "code",
   "execution_count": 218,
   "metadata": {},
   "outputs": [
    {
     "data": {
      "text/plain": [
       "Period('2007-06', 'M')"
      ]
     },
     "execution_count": 218,
     "metadata": {},
     "output_type": "execute_result"
    }
   ],
   "source": [
    "p.asfreq('M','end')\n",
    "#对于财政年度A-JUN类型（以JUN为结束月份的一年）的时间区间，其开始月和结束月按照A-JUN的定义"
   ]
  },
  {
   "cell_type": "code",
   "execution_count": 219,
   "metadata": {},
   "outputs": [],
   "source": [
    "p=pd.Period('Aug-2007','M')"
   ]
  },
  {
   "cell_type": "code",
   "execution_count": 220,
   "metadata": {},
   "outputs": [
    {
     "data": {
      "text/plain": [
       "Period('2007-08', 'M')"
      ]
     },
     "execution_count": 220,
     "metadata": {},
     "output_type": "execute_result"
    }
   ],
   "source": [
    "p"
   ]
  },
  {
   "cell_type": "code",
   "execution_count": 221,
   "metadata": {},
   "outputs": [
    {
     "data": {
      "text/plain": [
       "Period('2008', 'A-JUN')"
      ]
     },
     "execution_count": 221,
     "metadata": {},
     "output_type": "execute_result"
    }
   ],
   "source": [
    "p.asfreq('A-JUN')\n",
    "#在将高频率转换为低频率时，转换成的超时期是由子时期所属位置决定的\n",
    "#因此2007-08月度周期转换为财年周期时，应属于2008财年"
   ]
  },
  {
   "cell_type": "code",
   "execution_count": 222,
   "metadata": {},
   "outputs": [
    {
     "data": {
      "text/plain": [
       "Period('2007', 'A-DEC')"
      ]
     },
     "execution_count": 222,
     "metadata": {},
     "output_type": "execute_result"
    }
   ],
   "source": [
    "p.asfreq('A-DEC')\n",
    "#但如果转换为年度周期，则应属于2007年"
   ]
  },
  {
   "cell_type": "code",
   "execution_count": 223,
   "metadata": {},
   "outputs": [],
   "source": [
    "rng=pd.period_range('2006','2009',freq='A-DEC')"
   ]
  },
  {
   "cell_type": "code",
   "execution_count": 224,
   "metadata": {},
   "outputs": [],
   "source": [
    "ts=pd.Series(np.random.randn(len(rng)),index=rng)"
   ]
  },
  {
   "cell_type": "code",
   "execution_count": 225,
   "metadata": {},
   "outputs": [
    {
     "data": {
      "text/plain": [
       "2006   -0.255128\n",
       "2007   -1.319375\n",
       "2008    1.222404\n",
       "2009    2.027645\n",
       "Freq: A-DEC, dtype: float64"
      ]
     },
     "execution_count": 225,
     "metadata": {},
     "output_type": "execute_result"
    }
   ],
   "source": [
    "ts"
   ]
  },
  {
   "cell_type": "code",
   "execution_count": 226,
   "metadata": {},
   "outputs": [
    {
     "data": {
      "text/plain": [
       "2006-01   -0.255128\n",
       "2007-01   -1.319375\n",
       "2008-01    1.222404\n",
       "2009-01    2.027645\n",
       "Freq: M, dtype: float64"
      ]
     },
     "execution_count": 226,
     "metadata": {},
     "output_type": "execute_result"
    }
   ],
   "source": [
    "ts.asfreq('M',how='start')\n",
    "#将年度周期转换为月度，指定第一个月\n",
    "#如何指定年份中的某一个月，比如五月?"
   ]
  },
  {
   "cell_type": "code",
   "execution_count": 227,
   "metadata": {},
   "outputs": [
    {
     "data": {
      "text/plain": [
       "2006-12-29   -0.255128\n",
       "2007-12-31   -1.319375\n",
       "2008-12-31    1.222404\n",
       "2009-12-31    2.027645\n",
       "Freq: B, dtype: float64"
      ]
     },
     "execution_count": 227,
     "metadata": {},
     "output_type": "execute_result"
    }
   ],
   "source": [
    "ts.asfreq('B',how='end')\n",
    "#使用周期'B'(BusinessDay,工作日)，选定每年的最后一个工作日"
   ]
  },
  {
   "cell_type": "markdown",
   "metadata": {},
   "source": [
    "### 按季度计算的时期频率"
   ]
  },
  {
   "cell_type": "code",
   "execution_count": 228,
   "metadata": {},
   "outputs": [],
   "source": [
    "p=pd.Period('2012Q4',freq='Q-JAN')\n",
    "#freq='Q-JAN'表示以一月为结束的一个财年的第四个季度，即2011年11月到2012年1月"
   ]
  },
  {
   "cell_type": "code",
   "execution_count": 229,
   "metadata": {},
   "outputs": [
    {
     "data": {
      "text/plain": [
       "Period('2012Q4', 'Q-JAN')"
      ]
     },
     "execution_count": 229,
     "metadata": {},
     "output_type": "execute_result"
    }
   ],
   "source": [
    "p"
   ]
  },
  {
   "cell_type": "code",
   "execution_count": 230,
   "metadata": {},
   "outputs": [
    {
     "data": {
      "text/plain": [
       "Period('2013Q1', 'Q-JAN')"
      ]
     },
     "execution_count": 230,
     "metadata": {},
     "output_type": "execute_result"
    }
   ],
   "source": [
    "p+1"
   ]
  },
  {
   "cell_type": "code",
   "execution_count": 231,
   "metadata": {},
   "outputs": [
    {
     "data": {
      "text/plain": [
       "Period('2012', 'A-JAN')"
      ]
     },
     "execution_count": 231,
     "metadata": {},
     "output_type": "execute_result"
    }
   ],
   "source": [
    "p.asfreq('A-JAN',how='end')"
   ]
  },
  {
   "cell_type": "code",
   "execution_count": 232,
   "metadata": {},
   "outputs": [
    {
     "data": {
      "text/plain": [
       "Period('2011-11-01', 'D')"
      ]
     },
     "execution_count": 232,
     "metadata": {},
     "output_type": "execute_result"
    }
   ],
   "source": [
    "p.asfreq('D','start')\n",
    "#转换为日为周期，选取第一天"
   ]
  },
  {
   "cell_type": "code",
   "execution_count": 233,
   "metadata": {},
   "outputs": [
    {
     "data": {
      "text/plain": [
       "Period('2012-01-31', 'D')"
      ]
     },
     "execution_count": 233,
     "metadata": {},
     "output_type": "execute_result"
    }
   ],
   "source": [
    "p.asfreq('D','end')\n",
    "#转换为日为周期，选取最后一天\n",
    "#这样就得到了2012Q4的精确时间范围了。"
   ]
  },
  {
   "cell_type": "code",
   "execution_count": 234,
   "metadata": {},
   "outputs": [],
   "source": [
    "p4pm=(p.asfreq('B','e')-1).asfreq('T','s')+16*60\n",
    "#p.asfreq('B','e')转换为工作日，e表示end，获取最后一个工作日\n",
    "#再减一，获取倒数第二个工作日\n",
    "#.asfreq('T','s')转换为分钟，s表示start，获取第一个分钟\n",
    "#再加16*60，表示获取第16个小时的时间戳"
   ]
  },
  {
   "cell_type": "code",
   "execution_count": 235,
   "metadata": {},
   "outputs": [
    {
     "data": {
      "text/plain": [
       "Period('2012-01-30 16:00', 'T')"
      ]
     },
     "execution_count": 235,
     "metadata": {},
     "output_type": "execute_result"
    }
   ],
   "source": [
    "p4pm"
   ]
  },
  {
   "cell_type": "code",
   "execution_count": 236,
   "metadata": {},
   "outputs": [
    {
     "data": {
      "text/plain": [
       "Period('2012-01-27', 'B')"
      ]
     },
     "execution_count": 236,
     "metadata": {},
     "output_type": "execute_result"
    }
   ],
   "source": [
    "p.asfreq('B','e')-2\n",
    "#减去一个数，表示往过去回溯\n",
    "#加上一个数，表示往未来延伸"
   ]
  },
  {
   "cell_type": "code",
   "execution_count": 237,
   "metadata": {},
   "outputs": [
    {
     "data": {
      "text/plain": [
       "Timestamp('2012-01-30 16:00:00')"
      ]
     },
     "execution_count": 237,
     "metadata": {},
     "output_type": "execute_result"
    }
   ],
   "source": [
    "p4pm.to_timestamp()"
   ]
  },
  {
   "cell_type": "code",
   "execution_count": 238,
   "metadata": {},
   "outputs": [
    {
     "data": {
      "text/plain": [
       "Period('2012-01-30 16:01', 'T')"
      ]
     },
     "execution_count": 238,
     "metadata": {},
     "output_type": "execute_result"
    }
   ],
   "source": [
    "p4pm+1\n",
    "#注意这时候的freq是分钟，因此加1就加的是一分钟"
   ]
  },
  {
   "cell_type": "code",
   "execution_count": 239,
   "metadata": {},
   "outputs": [
    {
     "data": {
      "text/plain": [
       "Period('2012-01-30 16:00', 'H')"
      ]
     },
     "execution_count": 239,
     "metadata": {},
     "output_type": "execute_result"
    }
   ],
   "source": [
    "(p.asfreq('B','e')-1).asfreq('H','s')+16\n",
    "#p4pm也可以把最后一步转换为freq=H，小时，直接加16就可以"
   ]
  },
  {
   "cell_type": "code",
   "execution_count": 240,
   "metadata": {},
   "outputs": [],
   "source": [
    "rng=pd.period_range('2011Q3','2012Q4',freq='Q-JAN')\n",
    "#指定了起点和终点，以及频率（也就是通常意义上的周期）"
   ]
  },
  {
   "cell_type": "code",
   "execution_count": 241,
   "metadata": {},
   "outputs": [],
   "source": [
    "ts=pd.Series(np.arange(len(rng)),index=rng)"
   ]
  },
  {
   "cell_type": "code",
   "execution_count": 242,
   "metadata": {},
   "outputs": [
    {
     "data": {
      "text/plain": [
       "2011Q3    0\n",
       "2011Q4    1\n",
       "2012Q1    2\n",
       "2012Q2    3\n",
       "2012Q3    4\n",
       "2012Q4    5\n",
       "Freq: Q-JAN, dtype: int32"
      ]
     },
     "execution_count": 242,
     "metadata": {},
     "output_type": "execute_result"
    }
   ],
   "source": [
    "ts"
   ]
  },
  {
   "cell_type": "code",
   "execution_count": 243,
   "metadata": {},
   "outputs": [
    {
     "data": {
      "text/plain": [
       "PeriodIndex(['2011Q3', '2011Q4', '2012Q1', '2012Q2', '2012Q3', '2012Q4'], dtype='period[Q-JAN]', freq='Q-JAN')"
      ]
     },
     "execution_count": 243,
     "metadata": {},
     "output_type": "execute_result"
    }
   ],
   "source": [
    "rng"
   ]
  },
  {
   "cell_type": "code",
   "execution_count": 244,
   "metadata": {},
   "outputs": [],
   "source": [
    "new_rng=(rng.asfreq('B','e')-1).asfreq('T','s')+16*60"
   ]
  },
  {
   "cell_type": "code",
   "execution_count": 245,
   "metadata": {},
   "outputs": [
    {
     "data": {
      "text/plain": [
       "PeriodIndex(['2010-10-28 16:00', '2011-01-28 16:00', '2011-04-28 16:00',\n",
       "             '2011-07-28 16:00', '2011-10-28 16:00', '2012-01-30 16:00'],\n",
       "            dtype='period[T]', freq='T')"
      ]
     },
     "execution_count": 245,
     "metadata": {},
     "output_type": "execute_result"
    }
   ],
   "source": [
    "new_rng\n",
    "#PeriodIndex包含的个数不变，但是把时间戳都改为了倒数第二个工作日的下午四点"
   ]
  },
  {
   "cell_type": "code",
   "execution_count": 246,
   "metadata": {},
   "outputs": [],
   "source": [
    "ts.index=new_rng.to_timestamp()\n",
    "#为索引重新赋值"
   ]
  },
  {
   "cell_type": "code",
   "execution_count": 247,
   "metadata": {},
   "outputs": [
    {
     "data": {
      "text/plain": [
       "2010-10-28 16:00:00    0\n",
       "2011-01-28 16:00:00    1\n",
       "2011-04-28 16:00:00    2\n",
       "2011-07-28 16:00:00    3\n",
       "2011-10-28 16:00:00    4\n",
       "2012-01-30 16:00:00    5\n",
       "dtype: int32"
      ]
     },
     "execution_count": 247,
     "metadata": {},
     "output_type": "execute_result"
    }
   ],
   "source": [
    "ts"
   ]
  },
  {
   "cell_type": "markdown",
   "metadata": {},
   "source": [
    "### 将Timestamp转换为Period（及其反向过程）"
   ]
  },
  {
   "cell_type": "code",
   "execution_count": 248,
   "metadata": {},
   "outputs": [],
   "source": [
    "rng=pd.date_range('2000-01-01',periods=3,freq='M')"
   ]
  },
  {
   "cell_type": "code",
   "execution_count": 249,
   "metadata": {},
   "outputs": [
    {
     "data": {
      "text/plain": [
       "DatetimeIndex(['2000-01-31', '2000-02-29', '2000-03-31'], dtype='datetime64[ns]', freq='M')"
      ]
     },
     "execution_count": 249,
     "metadata": {},
     "output_type": "execute_result"
    }
   ],
   "source": [
    "rng\n",
    "#具体的时间，而不是时间范围"
   ]
  },
  {
   "cell_type": "code",
   "execution_count": 250,
   "metadata": {},
   "outputs": [],
   "source": [
    "ts=pd.Series(np.arange(3),index=rng)"
   ]
  },
  {
   "cell_type": "code",
   "execution_count": 251,
   "metadata": {},
   "outputs": [
    {
     "data": {
      "text/plain": [
       "2000-01-31    0\n",
       "2000-02-29    1\n",
       "2000-03-31    2\n",
       "Freq: M, dtype: int32"
      ]
     },
     "execution_count": 251,
     "metadata": {},
     "output_type": "execute_result"
    }
   ],
   "source": [
    "ts"
   ]
  },
  {
   "cell_type": "code",
   "execution_count": 252,
   "metadata": {},
   "outputs": [],
   "source": [
    "pts=ts.to_period()"
   ]
  },
  {
   "cell_type": "code",
   "execution_count": 253,
   "metadata": {},
   "outputs": [
    {
     "data": {
      "text/plain": [
       "2000-01    0\n",
       "2000-02    1\n",
       "2000-03    2\n",
       "Freq: M, dtype: int32"
      ]
     },
     "execution_count": 253,
     "metadata": {},
     "output_type": "execute_result"
    }
   ],
   "source": [
    "pts\n",
    "#to_period方法转换为period\n",
    "#转换得到的新的PeriodIndex的频率默认是从时间戳推断而来的\n",
    "#也可以指定别的频率"
   ]
  },
  {
   "cell_type": "code",
   "execution_count": 254,
   "metadata": {},
   "outputs": [],
   "source": [
    "#ts.to_period??"
   ]
  },
  {
   "cell_type": "code",
   "execution_count": 255,
   "metadata": {},
   "outputs": [],
   "source": [
    "rng=pd.date_range('1/29/2000',periods=6,freq='D')"
   ]
  },
  {
   "cell_type": "code",
   "execution_count": 256,
   "metadata": {},
   "outputs": [],
   "source": [
    "ts2=pd.Series(np.random.randn(6),index=rng)"
   ]
  },
  {
   "cell_type": "code",
   "execution_count": 257,
   "metadata": {},
   "outputs": [
    {
     "data": {
      "text/plain": [
       "2000-01-29   -1.129578\n",
       "2000-01-30   -1.240650\n",
       "2000-01-31    0.712378\n",
       "2000-02-01    1.237698\n",
       "2000-02-02    1.103211\n",
       "2000-02-03   -0.987116\n",
       "Freq: D, dtype: float64"
      ]
     },
     "execution_count": 257,
     "metadata": {},
     "output_type": "execute_result"
    }
   ],
   "source": [
    "ts2"
   ]
  },
  {
   "cell_type": "code",
   "execution_count": 258,
   "metadata": {},
   "outputs": [
    {
     "data": {
      "text/plain": [
       "2000-01   -1.129578\n",
       "2000-01   -1.240650\n",
       "2000-01    0.712378\n",
       "2000-02    1.237698\n",
       "2000-02    1.103211\n",
       "2000-02   -0.987116\n",
       "Freq: M, dtype: float64"
      ]
     },
     "execution_count": 258,
     "metadata": {},
     "output_type": "execute_result"
    }
   ],
   "source": [
    "ts2.to_period('M')\n",
    "#传入参数指定别的频率\n",
    "#如果几个时间戳在同一个period，结果就会有重复值。"
   ]
  },
  {
   "cell_type": "code",
   "execution_count": 259,
   "metadata": {},
   "outputs": [
    {
     "data": {
      "text/plain": [
       "2000-01   -1.129578\n",
       "2000-01   -1.240650\n",
       "2000-01    0.712378\n",
       "2000-02    1.237698\n",
       "2000-02    1.103211\n",
       "2000-02   -0.987116\n",
       "Freq: M, dtype: float64"
      ]
     },
     "execution_count": 259,
     "metadata": {},
     "output_type": "execute_result"
    }
   ],
   "source": [
    "ts2.to_period('M')"
   ]
  },
  {
   "cell_type": "code",
   "execution_count": 260,
   "metadata": {},
   "outputs": [
    {
     "data": {
      "text/plain": [
       "2000-01-31   -1.129578\n",
       "2000-01-31   -1.240650\n",
       "2000-01-31    0.712378\n",
       "2000-02-29    1.237698\n",
       "2000-02-29    1.103211\n",
       "2000-02-29   -0.987116\n",
       "dtype: float64"
      ]
     },
     "execution_count": 260,
     "metadata": {},
     "output_type": "execute_result"
    }
   ],
   "source": [
    "ts2.to_period('M').to_timestamp(how='end')\n",
    "#timestamp类型的to_period方法和period类型的to_timestamp方法互逆\n",
    "#使用how指定，将时间区间转换为时间戳后，选择区间的最后一天"
   ]
  },
  {
   "cell_type": "markdown",
   "metadata": {},
   "source": [
    "### 通过数组创建PeriodIndex"
   ]
  },
  {
   "cell_type": "code",
   "execution_count": 261,
   "metadata": {},
   "outputs": [],
   "source": [
    "data=pd.read_csv('examples/macrodata.csv')"
   ]
  },
  {
   "cell_type": "code",
   "execution_count": 262,
   "metadata": {},
   "outputs": [
    {
     "data": {
      "text/html": [
       "<div>\n",
       "<style scoped>\n",
       "    .dataframe tbody tr th:only-of-type {\n",
       "        vertical-align: middle;\n",
       "    }\n",
       "\n",
       "    .dataframe tbody tr th {\n",
       "        vertical-align: top;\n",
       "    }\n",
       "\n",
       "    .dataframe thead th {\n",
       "        text-align: right;\n",
       "    }\n",
       "</style>\n",
       "<table border=\"1\" class=\"dataframe\">\n",
       "  <thead>\n",
       "    <tr style=\"text-align: right;\">\n",
       "      <th></th>\n",
       "      <th>year</th>\n",
       "      <th>quarter</th>\n",
       "      <th>realgdp</th>\n",
       "      <th>realcons</th>\n",
       "      <th>realinv</th>\n",
       "      <th>realgovt</th>\n",
       "      <th>realdpi</th>\n",
       "      <th>cpi</th>\n",
       "      <th>m1</th>\n",
       "      <th>tbilrate</th>\n",
       "      <th>unemp</th>\n",
       "      <th>pop</th>\n",
       "      <th>infl</th>\n",
       "      <th>realint</th>\n",
       "    </tr>\n",
       "  </thead>\n",
       "  <tbody>\n",
       "    <tr>\n",
       "      <th>0</th>\n",
       "      <td>1959.0</td>\n",
       "      <td>1.0</td>\n",
       "      <td>2710.349</td>\n",
       "      <td>1707.4</td>\n",
       "      <td>286.898</td>\n",
       "      <td>470.045</td>\n",
       "      <td>1886.9</td>\n",
       "      <td>28.98</td>\n",
       "      <td>139.7</td>\n",
       "      <td>2.82</td>\n",
       "      <td>5.8</td>\n",
       "      <td>177.146</td>\n",
       "      <td>0.00</td>\n",
       "      <td>0.00</td>\n",
       "    </tr>\n",
       "    <tr>\n",
       "      <th>1</th>\n",
       "      <td>1959.0</td>\n",
       "      <td>2.0</td>\n",
       "      <td>2778.801</td>\n",
       "      <td>1733.7</td>\n",
       "      <td>310.859</td>\n",
       "      <td>481.301</td>\n",
       "      <td>1919.7</td>\n",
       "      <td>29.15</td>\n",
       "      <td>141.7</td>\n",
       "      <td>3.08</td>\n",
       "      <td>5.1</td>\n",
       "      <td>177.830</td>\n",
       "      <td>2.34</td>\n",
       "      <td>0.74</td>\n",
       "    </tr>\n",
       "    <tr>\n",
       "      <th>2</th>\n",
       "      <td>1959.0</td>\n",
       "      <td>3.0</td>\n",
       "      <td>2775.488</td>\n",
       "      <td>1751.8</td>\n",
       "      <td>289.226</td>\n",
       "      <td>491.260</td>\n",
       "      <td>1916.4</td>\n",
       "      <td>29.35</td>\n",
       "      <td>140.5</td>\n",
       "      <td>3.82</td>\n",
       "      <td>5.3</td>\n",
       "      <td>178.657</td>\n",
       "      <td>2.74</td>\n",
       "      <td>1.09</td>\n",
       "    </tr>\n",
       "    <tr>\n",
       "      <th>3</th>\n",
       "      <td>1959.0</td>\n",
       "      <td>4.0</td>\n",
       "      <td>2785.204</td>\n",
       "      <td>1753.7</td>\n",
       "      <td>299.356</td>\n",
       "      <td>484.052</td>\n",
       "      <td>1931.3</td>\n",
       "      <td>29.37</td>\n",
       "      <td>140.0</td>\n",
       "      <td>4.33</td>\n",
       "      <td>5.6</td>\n",
       "      <td>179.386</td>\n",
       "      <td>0.27</td>\n",
       "      <td>4.06</td>\n",
       "    </tr>\n",
       "    <tr>\n",
       "      <th>4</th>\n",
       "      <td>1960.0</td>\n",
       "      <td>1.0</td>\n",
       "      <td>2847.699</td>\n",
       "      <td>1770.5</td>\n",
       "      <td>331.722</td>\n",
       "      <td>462.199</td>\n",
       "      <td>1955.5</td>\n",
       "      <td>29.54</td>\n",
       "      <td>139.6</td>\n",
       "      <td>3.50</td>\n",
       "      <td>5.2</td>\n",
       "      <td>180.007</td>\n",
       "      <td>2.31</td>\n",
       "      <td>1.19</td>\n",
       "    </tr>\n",
       "  </tbody>\n",
       "</table>\n",
       "</div>"
      ],
      "text/plain": [
       "     year  quarter   realgdp  realcons  realinv  realgovt  realdpi    cpi  \\\n",
       "0  1959.0      1.0  2710.349    1707.4  286.898   470.045   1886.9  28.98   \n",
       "1  1959.0      2.0  2778.801    1733.7  310.859   481.301   1919.7  29.15   \n",
       "2  1959.0      3.0  2775.488    1751.8  289.226   491.260   1916.4  29.35   \n",
       "3  1959.0      4.0  2785.204    1753.7  299.356   484.052   1931.3  29.37   \n",
       "4  1960.0      1.0  2847.699    1770.5  331.722   462.199   1955.5  29.54   \n",
       "\n",
       "      m1  tbilrate  unemp      pop  infl  realint  \n",
       "0  139.7      2.82    5.8  177.146  0.00     0.00  \n",
       "1  141.7      3.08    5.1  177.830  2.34     0.74  \n",
       "2  140.5      3.82    5.3  178.657  2.74     1.09  \n",
       "3  140.0      4.33    5.6  179.386  0.27     4.06  \n",
       "4  139.6      3.50    5.2  180.007  2.31     1.19  "
      ]
     },
     "execution_count": 262,
     "metadata": {},
     "output_type": "execute_result"
    }
   ],
   "source": [
    "data.head()\n",
    "#固定频率的数据通常会将时间信息分开存放在多列，例如年份和季度是分开的"
   ]
  },
  {
   "cell_type": "code",
   "execution_count": 263,
   "metadata": {},
   "outputs": [
    {
     "data": {
      "text/plain": [
       "0      1959.0\n",
       "1      1959.0\n",
       "2      1959.0\n",
       "3      1959.0\n",
       "4      1960.0\n",
       "5      1960.0\n",
       "6      1960.0\n",
       "7      1960.0\n",
       "8      1961.0\n",
       "9      1961.0\n",
       "10     1961.0\n",
       "11     1961.0\n",
       "12     1962.0\n",
       "13     1962.0\n",
       "14     1962.0\n",
       "15     1962.0\n",
       "16     1963.0\n",
       "17     1963.0\n",
       "18     1963.0\n",
       "19     1963.0\n",
       "20     1964.0\n",
       "21     1964.0\n",
       "22     1964.0\n",
       "23     1964.0\n",
       "24     1965.0\n",
       "25     1965.0\n",
       "26     1965.0\n",
       "27     1965.0\n",
       "28     1966.0\n",
       "29     1966.0\n",
       "        ...  \n",
       "173    2002.0\n",
       "174    2002.0\n",
       "175    2002.0\n",
       "176    2003.0\n",
       "177    2003.0\n",
       "178    2003.0\n",
       "179    2003.0\n",
       "180    2004.0\n",
       "181    2004.0\n",
       "182    2004.0\n",
       "183    2004.0\n",
       "184    2005.0\n",
       "185    2005.0\n",
       "186    2005.0\n",
       "187    2005.0\n",
       "188    2006.0\n",
       "189    2006.0\n",
       "190    2006.0\n",
       "191    2006.0\n",
       "192    2007.0\n",
       "193    2007.0\n",
       "194    2007.0\n",
       "195    2007.0\n",
       "196    2008.0\n",
       "197    2008.0\n",
       "198    2008.0\n",
       "199    2008.0\n",
       "200    2009.0\n",
       "201    2009.0\n",
       "202    2009.0\n",
       "Name: year, Length: 203, dtype: float64"
      ]
     },
     "execution_count": 263,
     "metadata": {},
     "output_type": "execute_result"
    }
   ],
   "source": [
    "data.year"
   ]
  },
  {
   "cell_type": "code",
   "execution_count": 264,
   "metadata": {},
   "outputs": [
    {
     "data": {
      "text/plain": [
       "0      1.0\n",
       "1      2.0\n",
       "2      3.0\n",
       "3      4.0\n",
       "4      1.0\n",
       "5      2.0\n",
       "6      3.0\n",
       "7      4.0\n",
       "8      1.0\n",
       "9      2.0\n",
       "10     3.0\n",
       "11     4.0\n",
       "12     1.0\n",
       "13     2.0\n",
       "14     3.0\n",
       "15     4.0\n",
       "16     1.0\n",
       "17     2.0\n",
       "18     3.0\n",
       "19     4.0\n",
       "20     1.0\n",
       "21     2.0\n",
       "22     3.0\n",
       "23     4.0\n",
       "24     1.0\n",
       "25     2.0\n",
       "26     3.0\n",
       "27     4.0\n",
       "28     1.0\n",
       "29     2.0\n",
       "      ... \n",
       "173    2.0\n",
       "174    3.0\n",
       "175    4.0\n",
       "176    1.0\n",
       "177    2.0\n",
       "178    3.0\n",
       "179    4.0\n",
       "180    1.0\n",
       "181    2.0\n",
       "182    3.0\n",
       "183    4.0\n",
       "184    1.0\n",
       "185    2.0\n",
       "186    3.0\n",
       "187    4.0\n",
       "188    1.0\n",
       "189    2.0\n",
       "190    3.0\n",
       "191    4.0\n",
       "192    1.0\n",
       "193    2.0\n",
       "194    3.0\n",
       "195    4.0\n",
       "196    1.0\n",
       "197    2.0\n",
       "198    3.0\n",
       "199    4.0\n",
       "200    1.0\n",
       "201    2.0\n",
       "202    3.0\n",
       "Name: quarter, Length: 203, dtype: float64"
      ]
     },
     "execution_count": 264,
     "metadata": {},
     "output_type": "execute_result"
    }
   ],
   "source": [
    "data.quarter"
   ]
  },
  {
   "cell_type": "code",
   "execution_count": 265,
   "metadata": {},
   "outputs": [],
   "source": [
    "index=pd.PeriodIndex(year=data.year,quarter=data.quarter,freq='Q-DEC')\n",
    "#将df中分开的年份和季度，传给PeriodIndex方法，并指定频率，就可以将他们合并为DF的一个索引"
   ]
  },
  {
   "cell_type": "code",
   "execution_count": 266,
   "metadata": {},
   "outputs": [
    {
     "data": {
      "text/plain": [
       "PeriodIndex(['1959Q1', '1959Q2', '1959Q3', '1959Q4', '1960Q1', '1960Q2',\n",
       "             '1960Q3', '1960Q4', '1961Q1', '1961Q2',\n",
       "             ...\n",
       "             '2007Q2', '2007Q3', '2007Q4', '2008Q1', '2008Q2', '2008Q3',\n",
       "             '2008Q4', '2009Q1', '2009Q2', '2009Q3'],\n",
       "            dtype='period[Q-DEC]', length=203, freq='Q-DEC')"
      ]
     },
     "execution_count": 266,
     "metadata": {},
     "output_type": "execute_result"
    }
   ],
   "source": [
    "index"
   ]
  },
  {
   "cell_type": "code",
   "execution_count": 267,
   "metadata": {},
   "outputs": [],
   "source": [
    "data.index=index"
   ]
  },
  {
   "cell_type": "code",
   "execution_count": 268,
   "metadata": {},
   "outputs": [
    {
     "data": {
      "text/html": [
       "<div>\n",
       "<style scoped>\n",
       "    .dataframe tbody tr th:only-of-type {\n",
       "        vertical-align: middle;\n",
       "    }\n",
       "\n",
       "    .dataframe tbody tr th {\n",
       "        vertical-align: top;\n",
       "    }\n",
       "\n",
       "    .dataframe thead th {\n",
       "        text-align: right;\n",
       "    }\n",
       "</style>\n",
       "<table border=\"1\" class=\"dataframe\">\n",
       "  <thead>\n",
       "    <tr style=\"text-align: right;\">\n",
       "      <th></th>\n",
       "      <th>year</th>\n",
       "      <th>quarter</th>\n",
       "      <th>realgdp</th>\n",
       "      <th>realcons</th>\n",
       "      <th>realinv</th>\n",
       "      <th>realgovt</th>\n",
       "      <th>realdpi</th>\n",
       "      <th>cpi</th>\n",
       "      <th>m1</th>\n",
       "      <th>tbilrate</th>\n",
       "      <th>unemp</th>\n",
       "      <th>pop</th>\n",
       "      <th>infl</th>\n",
       "      <th>realint</th>\n",
       "    </tr>\n",
       "  </thead>\n",
       "  <tbody>\n",
       "    <tr>\n",
       "      <th>1959Q1</th>\n",
       "      <td>1959.0</td>\n",
       "      <td>1.0</td>\n",
       "      <td>2710.349</td>\n",
       "      <td>1707.4</td>\n",
       "      <td>286.898</td>\n",
       "      <td>470.045</td>\n",
       "      <td>1886.9</td>\n",
       "      <td>28.980</td>\n",
       "      <td>139.7</td>\n",
       "      <td>2.82</td>\n",
       "      <td>5.8</td>\n",
       "      <td>177.146</td>\n",
       "      <td>0.00</td>\n",
       "      <td>0.00</td>\n",
       "    </tr>\n",
       "    <tr>\n",
       "      <th>1959Q2</th>\n",
       "      <td>1959.0</td>\n",
       "      <td>2.0</td>\n",
       "      <td>2778.801</td>\n",
       "      <td>1733.7</td>\n",
       "      <td>310.859</td>\n",
       "      <td>481.301</td>\n",
       "      <td>1919.7</td>\n",
       "      <td>29.150</td>\n",
       "      <td>141.7</td>\n",
       "      <td>3.08</td>\n",
       "      <td>5.1</td>\n",
       "      <td>177.830</td>\n",
       "      <td>2.34</td>\n",
       "      <td>0.74</td>\n",
       "    </tr>\n",
       "    <tr>\n",
       "      <th>1959Q3</th>\n",
       "      <td>1959.0</td>\n",
       "      <td>3.0</td>\n",
       "      <td>2775.488</td>\n",
       "      <td>1751.8</td>\n",
       "      <td>289.226</td>\n",
       "      <td>491.260</td>\n",
       "      <td>1916.4</td>\n",
       "      <td>29.350</td>\n",
       "      <td>140.5</td>\n",
       "      <td>3.82</td>\n",
       "      <td>5.3</td>\n",
       "      <td>178.657</td>\n",
       "      <td>2.74</td>\n",
       "      <td>1.09</td>\n",
       "    </tr>\n",
       "    <tr>\n",
       "      <th>1959Q4</th>\n",
       "      <td>1959.0</td>\n",
       "      <td>4.0</td>\n",
       "      <td>2785.204</td>\n",
       "      <td>1753.7</td>\n",
       "      <td>299.356</td>\n",
       "      <td>484.052</td>\n",
       "      <td>1931.3</td>\n",
       "      <td>29.370</td>\n",
       "      <td>140.0</td>\n",
       "      <td>4.33</td>\n",
       "      <td>5.6</td>\n",
       "      <td>179.386</td>\n",
       "      <td>0.27</td>\n",
       "      <td>4.06</td>\n",
       "    </tr>\n",
       "    <tr>\n",
       "      <th>1960Q1</th>\n",
       "      <td>1960.0</td>\n",
       "      <td>1.0</td>\n",
       "      <td>2847.699</td>\n",
       "      <td>1770.5</td>\n",
       "      <td>331.722</td>\n",
       "      <td>462.199</td>\n",
       "      <td>1955.5</td>\n",
       "      <td>29.540</td>\n",
       "      <td>139.6</td>\n",
       "      <td>3.50</td>\n",
       "      <td>5.2</td>\n",
       "      <td>180.007</td>\n",
       "      <td>2.31</td>\n",
       "      <td>1.19</td>\n",
       "    </tr>\n",
       "    <tr>\n",
       "      <th>1960Q2</th>\n",
       "      <td>1960.0</td>\n",
       "      <td>2.0</td>\n",
       "      <td>2834.390</td>\n",
       "      <td>1792.9</td>\n",
       "      <td>298.152</td>\n",
       "      <td>460.400</td>\n",
       "      <td>1966.1</td>\n",
       "      <td>29.550</td>\n",
       "      <td>140.2</td>\n",
       "      <td>2.68</td>\n",
       "      <td>5.2</td>\n",
       "      <td>180.671</td>\n",
       "      <td>0.14</td>\n",
       "      <td>2.55</td>\n",
       "    </tr>\n",
       "    <tr>\n",
       "      <th>1960Q3</th>\n",
       "      <td>1960.0</td>\n",
       "      <td>3.0</td>\n",
       "      <td>2839.022</td>\n",
       "      <td>1785.8</td>\n",
       "      <td>296.375</td>\n",
       "      <td>474.676</td>\n",
       "      <td>1967.8</td>\n",
       "      <td>29.750</td>\n",
       "      <td>140.9</td>\n",
       "      <td>2.36</td>\n",
       "      <td>5.6</td>\n",
       "      <td>181.528</td>\n",
       "      <td>2.70</td>\n",
       "      <td>-0.34</td>\n",
       "    </tr>\n",
       "    <tr>\n",
       "      <th>1960Q4</th>\n",
       "      <td>1960.0</td>\n",
       "      <td>4.0</td>\n",
       "      <td>2802.616</td>\n",
       "      <td>1788.2</td>\n",
       "      <td>259.764</td>\n",
       "      <td>476.434</td>\n",
       "      <td>1966.6</td>\n",
       "      <td>29.840</td>\n",
       "      <td>141.1</td>\n",
       "      <td>2.29</td>\n",
       "      <td>6.3</td>\n",
       "      <td>182.287</td>\n",
       "      <td>1.21</td>\n",
       "      <td>1.08</td>\n",
       "    </tr>\n",
       "    <tr>\n",
       "      <th>1961Q1</th>\n",
       "      <td>1961.0</td>\n",
       "      <td>1.0</td>\n",
       "      <td>2819.264</td>\n",
       "      <td>1787.7</td>\n",
       "      <td>266.405</td>\n",
       "      <td>475.854</td>\n",
       "      <td>1984.5</td>\n",
       "      <td>29.810</td>\n",
       "      <td>142.1</td>\n",
       "      <td>2.37</td>\n",
       "      <td>6.8</td>\n",
       "      <td>182.992</td>\n",
       "      <td>-0.40</td>\n",
       "      <td>2.77</td>\n",
       "    </tr>\n",
       "    <tr>\n",
       "      <th>1961Q2</th>\n",
       "      <td>1961.0</td>\n",
       "      <td>2.0</td>\n",
       "      <td>2872.005</td>\n",
       "      <td>1814.3</td>\n",
       "      <td>286.246</td>\n",
       "      <td>480.328</td>\n",
       "      <td>2014.4</td>\n",
       "      <td>29.920</td>\n",
       "      <td>142.9</td>\n",
       "      <td>2.29</td>\n",
       "      <td>7.0</td>\n",
       "      <td>183.691</td>\n",
       "      <td>1.47</td>\n",
       "      <td>0.81</td>\n",
       "    </tr>\n",
       "    <tr>\n",
       "      <th>1961Q3</th>\n",
       "      <td>1961.0</td>\n",
       "      <td>3.0</td>\n",
       "      <td>2918.419</td>\n",
       "      <td>1823.1</td>\n",
       "      <td>310.227</td>\n",
       "      <td>493.828</td>\n",
       "      <td>2041.9</td>\n",
       "      <td>29.980</td>\n",
       "      <td>144.1</td>\n",
       "      <td>2.32</td>\n",
       "      <td>6.8</td>\n",
       "      <td>184.524</td>\n",
       "      <td>0.80</td>\n",
       "      <td>1.52</td>\n",
       "    </tr>\n",
       "    <tr>\n",
       "      <th>1961Q4</th>\n",
       "      <td>1961.0</td>\n",
       "      <td>4.0</td>\n",
       "      <td>2977.830</td>\n",
       "      <td>1859.6</td>\n",
       "      <td>315.463</td>\n",
       "      <td>502.521</td>\n",
       "      <td>2082.0</td>\n",
       "      <td>30.040</td>\n",
       "      <td>145.2</td>\n",
       "      <td>2.60</td>\n",
       "      <td>6.2</td>\n",
       "      <td>185.242</td>\n",
       "      <td>0.80</td>\n",
       "      <td>1.80</td>\n",
       "    </tr>\n",
       "    <tr>\n",
       "      <th>1962Q1</th>\n",
       "      <td>1962.0</td>\n",
       "      <td>1.0</td>\n",
       "      <td>3031.241</td>\n",
       "      <td>1879.4</td>\n",
       "      <td>334.271</td>\n",
       "      <td>520.960</td>\n",
       "      <td>2101.7</td>\n",
       "      <td>30.210</td>\n",
       "      <td>146.4</td>\n",
       "      <td>2.73</td>\n",
       "      <td>5.6</td>\n",
       "      <td>185.874</td>\n",
       "      <td>2.26</td>\n",
       "      <td>0.47</td>\n",
       "    </tr>\n",
       "    <tr>\n",
       "      <th>1962Q2</th>\n",
       "      <td>1962.0</td>\n",
       "      <td>2.0</td>\n",
       "      <td>3064.709</td>\n",
       "      <td>1902.5</td>\n",
       "      <td>331.039</td>\n",
       "      <td>523.066</td>\n",
       "      <td>2125.2</td>\n",
       "      <td>30.220</td>\n",
       "      <td>146.5</td>\n",
       "      <td>2.78</td>\n",
       "      <td>5.5</td>\n",
       "      <td>186.538</td>\n",
       "      <td>0.13</td>\n",
       "      <td>2.65</td>\n",
       "    </tr>\n",
       "    <tr>\n",
       "      <th>1962Q3</th>\n",
       "      <td>1962.0</td>\n",
       "      <td>3.0</td>\n",
       "      <td>3093.047</td>\n",
       "      <td>1917.9</td>\n",
       "      <td>336.962</td>\n",
       "      <td>538.838</td>\n",
       "      <td>2137.0</td>\n",
       "      <td>30.380</td>\n",
       "      <td>146.7</td>\n",
       "      <td>2.78</td>\n",
       "      <td>5.6</td>\n",
       "      <td>187.323</td>\n",
       "      <td>2.11</td>\n",
       "      <td>0.67</td>\n",
       "    </tr>\n",
       "    <tr>\n",
       "      <th>1962Q4</th>\n",
       "      <td>1962.0</td>\n",
       "      <td>4.0</td>\n",
       "      <td>3100.563</td>\n",
       "      <td>1945.1</td>\n",
       "      <td>325.650</td>\n",
       "      <td>535.912</td>\n",
       "      <td>2154.6</td>\n",
       "      <td>30.440</td>\n",
       "      <td>148.3</td>\n",
       "      <td>2.87</td>\n",
       "      <td>5.5</td>\n",
       "      <td>188.013</td>\n",
       "      <td>0.79</td>\n",
       "      <td>2.08</td>\n",
       "    </tr>\n",
       "    <tr>\n",
       "      <th>1963Q1</th>\n",
       "      <td>1963.0</td>\n",
       "      <td>1.0</td>\n",
       "      <td>3141.087</td>\n",
       "      <td>1958.2</td>\n",
       "      <td>343.721</td>\n",
       "      <td>522.917</td>\n",
       "      <td>2172.5</td>\n",
       "      <td>30.480</td>\n",
       "      <td>149.7</td>\n",
       "      <td>2.90</td>\n",
       "      <td>5.8</td>\n",
       "      <td>188.580</td>\n",
       "      <td>0.53</td>\n",
       "      <td>2.38</td>\n",
       "    </tr>\n",
       "    <tr>\n",
       "      <th>1963Q2</th>\n",
       "      <td>1963.0</td>\n",
       "      <td>2.0</td>\n",
       "      <td>3180.447</td>\n",
       "      <td>1976.9</td>\n",
       "      <td>348.730</td>\n",
       "      <td>518.108</td>\n",
       "      <td>2193.1</td>\n",
       "      <td>30.690</td>\n",
       "      <td>151.3</td>\n",
       "      <td>3.03</td>\n",
       "      <td>5.7</td>\n",
       "      <td>189.242</td>\n",
       "      <td>2.75</td>\n",
       "      <td>0.29</td>\n",
       "    </tr>\n",
       "    <tr>\n",
       "      <th>1963Q3</th>\n",
       "      <td>1963.0</td>\n",
       "      <td>3.0</td>\n",
       "      <td>3240.332</td>\n",
       "      <td>2003.8</td>\n",
       "      <td>360.102</td>\n",
       "      <td>546.893</td>\n",
       "      <td>2217.9</td>\n",
       "      <td>30.750</td>\n",
       "      <td>152.6</td>\n",
       "      <td>3.38</td>\n",
       "      <td>5.5</td>\n",
       "      <td>190.028</td>\n",
       "      <td>0.78</td>\n",
       "      <td>2.60</td>\n",
       "    </tr>\n",
       "    <tr>\n",
       "      <th>1963Q4</th>\n",
       "      <td>1963.0</td>\n",
       "      <td>4.0</td>\n",
       "      <td>3264.967</td>\n",
       "      <td>2020.6</td>\n",
       "      <td>364.534</td>\n",
       "      <td>532.383</td>\n",
       "      <td>2254.6</td>\n",
       "      <td>30.940</td>\n",
       "      <td>153.7</td>\n",
       "      <td>3.52</td>\n",
       "      <td>5.6</td>\n",
       "      <td>190.668</td>\n",
       "      <td>2.46</td>\n",
       "      <td>1.06</td>\n",
       "    </tr>\n",
       "    <tr>\n",
       "      <th>1964Q1</th>\n",
       "      <td>1964.0</td>\n",
       "      <td>1.0</td>\n",
       "      <td>3338.246</td>\n",
       "      <td>2060.5</td>\n",
       "      <td>379.523</td>\n",
       "      <td>529.686</td>\n",
       "      <td>2299.6</td>\n",
       "      <td>30.950</td>\n",
       "      <td>154.8</td>\n",
       "      <td>3.51</td>\n",
       "      <td>5.5</td>\n",
       "      <td>191.245</td>\n",
       "      <td>0.13</td>\n",
       "      <td>3.38</td>\n",
       "    </tr>\n",
       "    <tr>\n",
       "      <th>1964Q2</th>\n",
       "      <td>1964.0</td>\n",
       "      <td>2.0</td>\n",
       "      <td>3376.587</td>\n",
       "      <td>2096.7</td>\n",
       "      <td>377.778</td>\n",
       "      <td>526.175</td>\n",
       "      <td>2362.1</td>\n",
       "      <td>31.020</td>\n",
       "      <td>156.8</td>\n",
       "      <td>3.47</td>\n",
       "      <td>5.2</td>\n",
       "      <td>191.889</td>\n",
       "      <td>0.90</td>\n",
       "      <td>2.57</td>\n",
       "    </tr>\n",
       "    <tr>\n",
       "      <th>1964Q3</th>\n",
       "      <td>1964.0</td>\n",
       "      <td>3.0</td>\n",
       "      <td>3422.469</td>\n",
       "      <td>2135.2</td>\n",
       "      <td>386.754</td>\n",
       "      <td>522.008</td>\n",
       "      <td>2392.7</td>\n",
       "      <td>31.120</td>\n",
       "      <td>159.2</td>\n",
       "      <td>3.53</td>\n",
       "      <td>5.0</td>\n",
       "      <td>192.631</td>\n",
       "      <td>1.29</td>\n",
       "      <td>2.25</td>\n",
       "    </tr>\n",
       "    <tr>\n",
       "      <th>1964Q4</th>\n",
       "      <td>1964.0</td>\n",
       "      <td>4.0</td>\n",
       "      <td>3431.957</td>\n",
       "      <td>2141.2</td>\n",
       "      <td>389.910</td>\n",
       "      <td>514.603</td>\n",
       "      <td>2420.4</td>\n",
       "      <td>31.280</td>\n",
       "      <td>160.7</td>\n",
       "      <td>3.76</td>\n",
       "      <td>5.0</td>\n",
       "      <td>193.223</td>\n",
       "      <td>2.05</td>\n",
       "      <td>1.71</td>\n",
       "    </tr>\n",
       "    <tr>\n",
       "      <th>1965Q1</th>\n",
       "      <td>1965.0</td>\n",
       "      <td>1.0</td>\n",
       "      <td>3516.251</td>\n",
       "      <td>2188.8</td>\n",
       "      <td>429.145</td>\n",
       "      <td>508.006</td>\n",
       "      <td>2447.4</td>\n",
       "      <td>31.380</td>\n",
       "      <td>162.0</td>\n",
       "      <td>3.93</td>\n",
       "      <td>4.9</td>\n",
       "      <td>193.709</td>\n",
       "      <td>1.28</td>\n",
       "      <td>2.65</td>\n",
       "    </tr>\n",
       "    <tr>\n",
       "      <th>1965Q2</th>\n",
       "      <td>1965.0</td>\n",
       "      <td>2.0</td>\n",
       "      <td>3563.960</td>\n",
       "      <td>2213.0</td>\n",
       "      <td>429.119</td>\n",
       "      <td>508.931</td>\n",
       "      <td>2474.5</td>\n",
       "      <td>31.580</td>\n",
       "      <td>163.1</td>\n",
       "      <td>3.84</td>\n",
       "      <td>4.7</td>\n",
       "      <td>194.303</td>\n",
       "      <td>2.54</td>\n",
       "      <td>1.30</td>\n",
       "    </tr>\n",
       "    <tr>\n",
       "      <th>1965Q3</th>\n",
       "      <td>1965.0</td>\n",
       "      <td>3.0</td>\n",
       "      <td>3636.285</td>\n",
       "      <td>2251.0</td>\n",
       "      <td>444.444</td>\n",
       "      <td>529.446</td>\n",
       "      <td>2542.6</td>\n",
       "      <td>31.650</td>\n",
       "      <td>166.0</td>\n",
       "      <td>3.93</td>\n",
       "      <td>4.4</td>\n",
       "      <td>194.997</td>\n",
       "      <td>0.89</td>\n",
       "      <td>3.04</td>\n",
       "    </tr>\n",
       "    <tr>\n",
       "      <th>1965Q4</th>\n",
       "      <td>1965.0</td>\n",
       "      <td>4.0</td>\n",
       "      <td>3724.014</td>\n",
       "      <td>2314.3</td>\n",
       "      <td>446.493</td>\n",
       "      <td>544.121</td>\n",
       "      <td>2594.1</td>\n",
       "      <td>31.880</td>\n",
       "      <td>169.1</td>\n",
       "      <td>4.35</td>\n",
       "      <td>4.1</td>\n",
       "      <td>195.539</td>\n",
       "      <td>2.90</td>\n",
       "      <td>1.46</td>\n",
       "    </tr>\n",
       "    <tr>\n",
       "      <th>1966Q1</th>\n",
       "      <td>1966.0</td>\n",
       "      <td>1.0</td>\n",
       "      <td>3815.423</td>\n",
       "      <td>2348.5</td>\n",
       "      <td>484.244</td>\n",
       "      <td>556.593</td>\n",
       "      <td>2618.4</td>\n",
       "      <td>32.280</td>\n",
       "      <td>171.8</td>\n",
       "      <td>4.62</td>\n",
       "      <td>3.9</td>\n",
       "      <td>195.999</td>\n",
       "      <td>4.99</td>\n",
       "      <td>-0.37</td>\n",
       "    </tr>\n",
       "    <tr>\n",
       "      <th>1966Q2</th>\n",
       "      <td>1966.0</td>\n",
       "      <td>2.0</td>\n",
       "      <td>3828.124</td>\n",
       "      <td>2354.5</td>\n",
       "      <td>475.408</td>\n",
       "      <td>571.371</td>\n",
       "      <td>2624.7</td>\n",
       "      <td>32.450</td>\n",
       "      <td>170.3</td>\n",
       "      <td>4.65</td>\n",
       "      <td>3.8</td>\n",
       "      <td>196.560</td>\n",
       "      <td>2.10</td>\n",
       "      <td>2.55</td>\n",
       "    </tr>\n",
       "    <tr>\n",
       "      <th>...</th>\n",
       "      <td>...</td>\n",
       "      <td>...</td>\n",
       "      <td>...</td>\n",
       "      <td>...</td>\n",
       "      <td>...</td>\n",
       "      <td>...</td>\n",
       "      <td>...</td>\n",
       "      <td>...</td>\n",
       "      <td>...</td>\n",
       "      <td>...</td>\n",
       "      <td>...</td>\n",
       "      <td>...</td>\n",
       "      <td>...</td>\n",
       "      <td>...</td>\n",
       "    </tr>\n",
       "    <tr>\n",
       "      <th>2002Q2</th>\n",
       "      <td>2002.0</td>\n",
       "      <td>2.0</td>\n",
       "      <td>11538.770</td>\n",
       "      <td>7997.8</td>\n",
       "      <td>1810.779</td>\n",
       "      <td>774.408</td>\n",
       "      <td>8658.9</td>\n",
       "      <td>180.000</td>\n",
       "      <td>1199.5</td>\n",
       "      <td>1.70</td>\n",
       "      <td>5.8</td>\n",
       "      <td>288.028</td>\n",
       "      <td>1.56</td>\n",
       "      <td>0.14</td>\n",
       "    </tr>\n",
       "    <tr>\n",
       "      <th>2002Q3</th>\n",
       "      <td>2002.0</td>\n",
       "      <td>3.0</td>\n",
       "      <td>11596.430</td>\n",
       "      <td>8052.0</td>\n",
       "      <td>1814.531</td>\n",
       "      <td>786.673</td>\n",
       "      <td>8629.2</td>\n",
       "      <td>181.200</td>\n",
       "      <td>1204.0</td>\n",
       "      <td>1.61</td>\n",
       "      <td>5.7</td>\n",
       "      <td>288.783</td>\n",
       "      <td>2.66</td>\n",
       "      <td>-1.05</td>\n",
       "    </tr>\n",
       "    <tr>\n",
       "      <th>2002Q4</th>\n",
       "      <td>2002.0</td>\n",
       "      <td>4.0</td>\n",
       "      <td>11598.824</td>\n",
       "      <td>8080.6</td>\n",
       "      <td>1813.219</td>\n",
       "      <td>799.967</td>\n",
       "      <td>8649.6</td>\n",
       "      <td>182.600</td>\n",
       "      <td>1226.8</td>\n",
       "      <td>1.20</td>\n",
       "      <td>5.8</td>\n",
       "      <td>289.421</td>\n",
       "      <td>3.08</td>\n",
       "      <td>-1.88</td>\n",
       "    </tr>\n",
       "    <tr>\n",
       "      <th>2003Q1</th>\n",
       "      <td>2003.0</td>\n",
       "      <td>1.0</td>\n",
       "      <td>11645.819</td>\n",
       "      <td>8122.3</td>\n",
       "      <td>1813.141</td>\n",
       "      <td>800.196</td>\n",
       "      <td>8681.3</td>\n",
       "      <td>183.200</td>\n",
       "      <td>1248.4</td>\n",
       "      <td>1.14</td>\n",
       "      <td>5.9</td>\n",
       "      <td>290.019</td>\n",
       "      <td>1.31</td>\n",
       "      <td>-0.17</td>\n",
       "    </tr>\n",
       "    <tr>\n",
       "      <th>2003Q2</th>\n",
       "      <td>2003.0</td>\n",
       "      <td>2.0</td>\n",
       "      <td>11738.706</td>\n",
       "      <td>8197.8</td>\n",
       "      <td>1823.698</td>\n",
       "      <td>838.775</td>\n",
       "      <td>8812.5</td>\n",
       "      <td>183.700</td>\n",
       "      <td>1287.9</td>\n",
       "      <td>0.96</td>\n",
       "      <td>6.2</td>\n",
       "      <td>290.704</td>\n",
       "      <td>1.09</td>\n",
       "      <td>-0.13</td>\n",
       "    </tr>\n",
       "    <tr>\n",
       "      <th>2003Q3</th>\n",
       "      <td>2003.0</td>\n",
       "      <td>3.0</td>\n",
       "      <td>11935.461</td>\n",
       "      <td>8312.1</td>\n",
       "      <td>1889.883</td>\n",
       "      <td>839.598</td>\n",
       "      <td>8935.4</td>\n",
       "      <td>184.900</td>\n",
       "      <td>1297.3</td>\n",
       "      <td>0.94</td>\n",
       "      <td>6.1</td>\n",
       "      <td>291.449</td>\n",
       "      <td>2.60</td>\n",
       "      <td>-1.67</td>\n",
       "    </tr>\n",
       "    <tr>\n",
       "      <th>2003Q4</th>\n",
       "      <td>2003.0</td>\n",
       "      <td>4.0</td>\n",
       "      <td>12042.817</td>\n",
       "      <td>8358.0</td>\n",
       "      <td>1959.783</td>\n",
       "      <td>845.722</td>\n",
       "      <td>8986.4</td>\n",
       "      <td>186.300</td>\n",
       "      <td>1306.1</td>\n",
       "      <td>0.90</td>\n",
       "      <td>5.8</td>\n",
       "      <td>292.057</td>\n",
       "      <td>3.02</td>\n",
       "      <td>-2.11</td>\n",
       "    </tr>\n",
       "    <tr>\n",
       "      <th>2004Q1</th>\n",
       "      <td>2004.0</td>\n",
       "      <td>1.0</td>\n",
       "      <td>12127.623</td>\n",
       "      <td>8437.6</td>\n",
       "      <td>1970.015</td>\n",
       "      <td>856.570</td>\n",
       "      <td>9025.9</td>\n",
       "      <td>187.400</td>\n",
       "      <td>1332.1</td>\n",
       "      <td>0.94</td>\n",
       "      <td>5.7</td>\n",
       "      <td>292.635</td>\n",
       "      <td>2.35</td>\n",
       "      <td>-1.42</td>\n",
       "    </tr>\n",
       "    <tr>\n",
       "      <th>2004Q2</th>\n",
       "      <td>2004.0</td>\n",
       "      <td>2.0</td>\n",
       "      <td>12213.818</td>\n",
       "      <td>8483.2</td>\n",
       "      <td>2055.580</td>\n",
       "      <td>861.440</td>\n",
       "      <td>9115.0</td>\n",
       "      <td>189.100</td>\n",
       "      <td>1340.5</td>\n",
       "      <td>1.21</td>\n",
       "      <td>5.6</td>\n",
       "      <td>293.310</td>\n",
       "      <td>3.61</td>\n",
       "      <td>-2.41</td>\n",
       "    </tr>\n",
       "    <tr>\n",
       "      <th>2004Q3</th>\n",
       "      <td>2004.0</td>\n",
       "      <td>3.0</td>\n",
       "      <td>12303.533</td>\n",
       "      <td>8555.8</td>\n",
       "      <td>2082.231</td>\n",
       "      <td>876.385</td>\n",
       "      <td>9175.9</td>\n",
       "      <td>190.800</td>\n",
       "      <td>1361.0</td>\n",
       "      <td>1.63</td>\n",
       "      <td>5.4</td>\n",
       "      <td>294.066</td>\n",
       "      <td>3.58</td>\n",
       "      <td>-1.95</td>\n",
       "    </tr>\n",
       "    <tr>\n",
       "      <th>2004Q4</th>\n",
       "      <td>2004.0</td>\n",
       "      <td>4.0</td>\n",
       "      <td>12410.282</td>\n",
       "      <td>8654.2</td>\n",
       "      <td>2125.152</td>\n",
       "      <td>865.596</td>\n",
       "      <td>9303.4</td>\n",
       "      <td>191.800</td>\n",
       "      <td>1366.6</td>\n",
       "      <td>2.20</td>\n",
       "      <td>5.4</td>\n",
       "      <td>294.741</td>\n",
       "      <td>2.09</td>\n",
       "      <td>0.11</td>\n",
       "    </tr>\n",
       "    <tr>\n",
       "      <th>2005Q1</th>\n",
       "      <td>2005.0</td>\n",
       "      <td>1.0</td>\n",
       "      <td>12534.113</td>\n",
       "      <td>8719.0</td>\n",
       "      <td>2170.299</td>\n",
       "      <td>869.204</td>\n",
       "      <td>9189.6</td>\n",
       "      <td>193.800</td>\n",
       "      <td>1357.8</td>\n",
       "      <td>2.69</td>\n",
       "      <td>5.3</td>\n",
       "      <td>295.308</td>\n",
       "      <td>4.15</td>\n",
       "      <td>-1.46</td>\n",
       "    </tr>\n",
       "    <tr>\n",
       "      <th>2005Q2</th>\n",
       "      <td>2005.0</td>\n",
       "      <td>2.0</td>\n",
       "      <td>12587.535</td>\n",
       "      <td>8802.9</td>\n",
       "      <td>2131.468</td>\n",
       "      <td>870.044</td>\n",
       "      <td>9253.0</td>\n",
       "      <td>194.700</td>\n",
       "      <td>1366.6</td>\n",
       "      <td>3.01</td>\n",
       "      <td>5.1</td>\n",
       "      <td>295.994</td>\n",
       "      <td>1.85</td>\n",
       "      <td>1.16</td>\n",
       "    </tr>\n",
       "    <tr>\n",
       "      <th>2005Q3</th>\n",
       "      <td>2005.0</td>\n",
       "      <td>3.0</td>\n",
       "      <td>12683.153</td>\n",
       "      <td>8865.6</td>\n",
       "      <td>2154.949</td>\n",
       "      <td>890.394</td>\n",
       "      <td>9308.0</td>\n",
       "      <td>199.200</td>\n",
       "      <td>1375.0</td>\n",
       "      <td>3.52</td>\n",
       "      <td>5.0</td>\n",
       "      <td>296.770</td>\n",
       "      <td>9.14</td>\n",
       "      <td>-5.62</td>\n",
       "    </tr>\n",
       "    <tr>\n",
       "      <th>2005Q4</th>\n",
       "      <td>2005.0</td>\n",
       "      <td>4.0</td>\n",
       "      <td>12748.699</td>\n",
       "      <td>8888.5</td>\n",
       "      <td>2232.193</td>\n",
       "      <td>875.557</td>\n",
       "      <td>9358.7</td>\n",
       "      <td>199.400</td>\n",
       "      <td>1380.6</td>\n",
       "      <td>4.00</td>\n",
       "      <td>4.9</td>\n",
       "      <td>297.435</td>\n",
       "      <td>0.40</td>\n",
       "      <td>3.60</td>\n",
       "    </tr>\n",
       "    <tr>\n",
       "      <th>2006Q1</th>\n",
       "      <td>2006.0</td>\n",
       "      <td>1.0</td>\n",
       "      <td>12915.938</td>\n",
       "      <td>8986.6</td>\n",
       "      <td>2264.721</td>\n",
       "      <td>900.511</td>\n",
       "      <td>9533.8</td>\n",
       "      <td>200.700</td>\n",
       "      <td>1380.5</td>\n",
       "      <td>4.51</td>\n",
       "      <td>4.7</td>\n",
       "      <td>298.061</td>\n",
       "      <td>2.60</td>\n",
       "      <td>1.91</td>\n",
       "    </tr>\n",
       "    <tr>\n",
       "      <th>2006Q2</th>\n",
       "      <td>2006.0</td>\n",
       "      <td>2.0</td>\n",
       "      <td>12962.462</td>\n",
       "      <td>9035.0</td>\n",
       "      <td>2261.247</td>\n",
       "      <td>892.839</td>\n",
       "      <td>9617.3</td>\n",
       "      <td>202.700</td>\n",
       "      <td>1369.2</td>\n",
       "      <td>4.82</td>\n",
       "      <td>4.7</td>\n",
       "      <td>298.766</td>\n",
       "      <td>3.97</td>\n",
       "      <td>0.85</td>\n",
       "    </tr>\n",
       "    <tr>\n",
       "      <th>2006Q3</th>\n",
       "      <td>2006.0</td>\n",
       "      <td>3.0</td>\n",
       "      <td>12965.916</td>\n",
       "      <td>9090.7</td>\n",
       "      <td>2229.636</td>\n",
       "      <td>892.002</td>\n",
       "      <td>9662.5</td>\n",
       "      <td>201.900</td>\n",
       "      <td>1369.4</td>\n",
       "      <td>4.90</td>\n",
       "      <td>4.7</td>\n",
       "      <td>299.593</td>\n",
       "      <td>-1.58</td>\n",
       "      <td>6.48</td>\n",
       "    </tr>\n",
       "    <tr>\n",
       "      <th>2006Q4</th>\n",
       "      <td>2006.0</td>\n",
       "      <td>4.0</td>\n",
       "      <td>13060.679</td>\n",
       "      <td>9181.6</td>\n",
       "      <td>2165.966</td>\n",
       "      <td>894.404</td>\n",
       "      <td>9788.8</td>\n",
       "      <td>203.574</td>\n",
       "      <td>1373.6</td>\n",
       "      <td>4.92</td>\n",
       "      <td>4.4</td>\n",
       "      <td>300.320</td>\n",
       "      <td>3.30</td>\n",
       "      <td>1.62</td>\n",
       "    </tr>\n",
       "    <tr>\n",
       "      <th>2007Q1</th>\n",
       "      <td>2007.0</td>\n",
       "      <td>1.0</td>\n",
       "      <td>13099.901</td>\n",
       "      <td>9265.1</td>\n",
       "      <td>2132.609</td>\n",
       "      <td>882.766</td>\n",
       "      <td>9830.2</td>\n",
       "      <td>205.920</td>\n",
       "      <td>1379.7</td>\n",
       "      <td>4.95</td>\n",
       "      <td>4.5</td>\n",
       "      <td>300.977</td>\n",
       "      <td>4.58</td>\n",
       "      <td>0.36</td>\n",
       "    </tr>\n",
       "    <tr>\n",
       "      <th>2007Q2</th>\n",
       "      <td>2007.0</td>\n",
       "      <td>2.0</td>\n",
       "      <td>13203.977</td>\n",
       "      <td>9291.5</td>\n",
       "      <td>2162.214</td>\n",
       "      <td>898.713</td>\n",
       "      <td>9842.7</td>\n",
       "      <td>207.338</td>\n",
       "      <td>1370.0</td>\n",
       "      <td>4.72</td>\n",
       "      <td>4.5</td>\n",
       "      <td>301.714</td>\n",
       "      <td>2.75</td>\n",
       "      <td>1.97</td>\n",
       "    </tr>\n",
       "    <tr>\n",
       "      <th>2007Q3</th>\n",
       "      <td>2007.0</td>\n",
       "      <td>3.0</td>\n",
       "      <td>13321.109</td>\n",
       "      <td>9335.6</td>\n",
       "      <td>2166.491</td>\n",
       "      <td>918.983</td>\n",
       "      <td>9883.9</td>\n",
       "      <td>209.133</td>\n",
       "      <td>1379.2</td>\n",
       "      <td>4.00</td>\n",
       "      <td>4.7</td>\n",
       "      <td>302.509</td>\n",
       "      <td>3.45</td>\n",
       "      <td>0.55</td>\n",
       "    </tr>\n",
       "    <tr>\n",
       "      <th>2007Q4</th>\n",
       "      <td>2007.0</td>\n",
       "      <td>4.0</td>\n",
       "      <td>13391.249</td>\n",
       "      <td>9363.6</td>\n",
       "      <td>2123.426</td>\n",
       "      <td>925.110</td>\n",
       "      <td>9886.2</td>\n",
       "      <td>212.495</td>\n",
       "      <td>1377.4</td>\n",
       "      <td>3.01</td>\n",
       "      <td>4.8</td>\n",
       "      <td>303.204</td>\n",
       "      <td>6.38</td>\n",
       "      <td>-3.37</td>\n",
       "    </tr>\n",
       "    <tr>\n",
       "      <th>2008Q1</th>\n",
       "      <td>2008.0</td>\n",
       "      <td>1.0</td>\n",
       "      <td>13366.865</td>\n",
       "      <td>9349.6</td>\n",
       "      <td>2082.886</td>\n",
       "      <td>943.372</td>\n",
       "      <td>9826.8</td>\n",
       "      <td>213.997</td>\n",
       "      <td>1384.0</td>\n",
       "      <td>1.56</td>\n",
       "      <td>4.9</td>\n",
       "      <td>303.803</td>\n",
       "      <td>2.82</td>\n",
       "      <td>-1.26</td>\n",
       "    </tr>\n",
       "    <tr>\n",
       "      <th>2008Q2</th>\n",
       "      <td>2008.0</td>\n",
       "      <td>2.0</td>\n",
       "      <td>13415.266</td>\n",
       "      <td>9351.0</td>\n",
       "      <td>2026.518</td>\n",
       "      <td>961.280</td>\n",
       "      <td>10059.0</td>\n",
       "      <td>218.610</td>\n",
       "      <td>1409.3</td>\n",
       "      <td>1.74</td>\n",
       "      <td>5.4</td>\n",
       "      <td>304.483</td>\n",
       "      <td>8.53</td>\n",
       "      <td>-6.79</td>\n",
       "    </tr>\n",
       "    <tr>\n",
       "      <th>2008Q3</th>\n",
       "      <td>2008.0</td>\n",
       "      <td>3.0</td>\n",
       "      <td>13324.600</td>\n",
       "      <td>9267.7</td>\n",
       "      <td>1990.693</td>\n",
       "      <td>991.551</td>\n",
       "      <td>9838.3</td>\n",
       "      <td>216.889</td>\n",
       "      <td>1474.7</td>\n",
       "      <td>1.17</td>\n",
       "      <td>6.0</td>\n",
       "      <td>305.270</td>\n",
       "      <td>-3.16</td>\n",
       "      <td>4.33</td>\n",
       "    </tr>\n",
       "    <tr>\n",
       "      <th>2008Q4</th>\n",
       "      <td>2008.0</td>\n",
       "      <td>4.0</td>\n",
       "      <td>13141.920</td>\n",
       "      <td>9195.3</td>\n",
       "      <td>1857.661</td>\n",
       "      <td>1007.273</td>\n",
       "      <td>9920.4</td>\n",
       "      <td>212.174</td>\n",
       "      <td>1576.5</td>\n",
       "      <td>0.12</td>\n",
       "      <td>6.9</td>\n",
       "      <td>305.952</td>\n",
       "      <td>-8.79</td>\n",
       "      <td>8.91</td>\n",
       "    </tr>\n",
       "    <tr>\n",
       "      <th>2009Q1</th>\n",
       "      <td>2009.0</td>\n",
       "      <td>1.0</td>\n",
       "      <td>12925.410</td>\n",
       "      <td>9209.2</td>\n",
       "      <td>1558.494</td>\n",
       "      <td>996.287</td>\n",
       "      <td>9926.4</td>\n",
       "      <td>212.671</td>\n",
       "      <td>1592.8</td>\n",
       "      <td>0.22</td>\n",
       "      <td>8.1</td>\n",
       "      <td>306.547</td>\n",
       "      <td>0.94</td>\n",
       "      <td>-0.71</td>\n",
       "    </tr>\n",
       "    <tr>\n",
       "      <th>2009Q2</th>\n",
       "      <td>2009.0</td>\n",
       "      <td>2.0</td>\n",
       "      <td>12901.504</td>\n",
       "      <td>9189.0</td>\n",
       "      <td>1456.678</td>\n",
       "      <td>1023.528</td>\n",
       "      <td>10077.5</td>\n",
       "      <td>214.469</td>\n",
       "      <td>1653.6</td>\n",
       "      <td>0.18</td>\n",
       "      <td>9.2</td>\n",
       "      <td>307.226</td>\n",
       "      <td>3.37</td>\n",
       "      <td>-3.19</td>\n",
       "    </tr>\n",
       "    <tr>\n",
       "      <th>2009Q3</th>\n",
       "      <td>2009.0</td>\n",
       "      <td>3.0</td>\n",
       "      <td>12990.341</td>\n",
       "      <td>9256.0</td>\n",
       "      <td>1486.398</td>\n",
       "      <td>1044.088</td>\n",
       "      <td>10040.6</td>\n",
       "      <td>216.385</td>\n",
       "      <td>1673.9</td>\n",
       "      <td>0.12</td>\n",
       "      <td>9.6</td>\n",
       "      <td>308.013</td>\n",
       "      <td>3.56</td>\n",
       "      <td>-3.44</td>\n",
       "    </tr>\n",
       "  </tbody>\n",
       "</table>\n",
       "<p>203 rows × 14 columns</p>\n",
       "</div>"
      ],
      "text/plain": [
       "          year  quarter    realgdp  realcons   realinv  realgovt  realdpi  \\\n",
       "1959Q1  1959.0      1.0   2710.349    1707.4   286.898   470.045   1886.9   \n",
       "1959Q2  1959.0      2.0   2778.801    1733.7   310.859   481.301   1919.7   \n",
       "1959Q3  1959.0      3.0   2775.488    1751.8   289.226   491.260   1916.4   \n",
       "1959Q4  1959.0      4.0   2785.204    1753.7   299.356   484.052   1931.3   \n",
       "1960Q1  1960.0      1.0   2847.699    1770.5   331.722   462.199   1955.5   \n",
       "1960Q2  1960.0      2.0   2834.390    1792.9   298.152   460.400   1966.1   \n",
       "1960Q3  1960.0      3.0   2839.022    1785.8   296.375   474.676   1967.8   \n",
       "1960Q4  1960.0      4.0   2802.616    1788.2   259.764   476.434   1966.6   \n",
       "1961Q1  1961.0      1.0   2819.264    1787.7   266.405   475.854   1984.5   \n",
       "1961Q2  1961.0      2.0   2872.005    1814.3   286.246   480.328   2014.4   \n",
       "1961Q3  1961.0      3.0   2918.419    1823.1   310.227   493.828   2041.9   \n",
       "1961Q4  1961.0      4.0   2977.830    1859.6   315.463   502.521   2082.0   \n",
       "1962Q1  1962.0      1.0   3031.241    1879.4   334.271   520.960   2101.7   \n",
       "1962Q2  1962.0      2.0   3064.709    1902.5   331.039   523.066   2125.2   \n",
       "1962Q3  1962.0      3.0   3093.047    1917.9   336.962   538.838   2137.0   \n",
       "1962Q4  1962.0      4.0   3100.563    1945.1   325.650   535.912   2154.6   \n",
       "1963Q1  1963.0      1.0   3141.087    1958.2   343.721   522.917   2172.5   \n",
       "1963Q2  1963.0      2.0   3180.447    1976.9   348.730   518.108   2193.1   \n",
       "1963Q3  1963.0      3.0   3240.332    2003.8   360.102   546.893   2217.9   \n",
       "1963Q4  1963.0      4.0   3264.967    2020.6   364.534   532.383   2254.6   \n",
       "1964Q1  1964.0      1.0   3338.246    2060.5   379.523   529.686   2299.6   \n",
       "1964Q2  1964.0      2.0   3376.587    2096.7   377.778   526.175   2362.1   \n",
       "1964Q3  1964.0      3.0   3422.469    2135.2   386.754   522.008   2392.7   \n",
       "1964Q4  1964.0      4.0   3431.957    2141.2   389.910   514.603   2420.4   \n",
       "1965Q1  1965.0      1.0   3516.251    2188.8   429.145   508.006   2447.4   \n",
       "1965Q2  1965.0      2.0   3563.960    2213.0   429.119   508.931   2474.5   \n",
       "1965Q3  1965.0      3.0   3636.285    2251.0   444.444   529.446   2542.6   \n",
       "1965Q4  1965.0      4.0   3724.014    2314.3   446.493   544.121   2594.1   \n",
       "1966Q1  1966.0      1.0   3815.423    2348.5   484.244   556.593   2618.4   \n",
       "1966Q2  1966.0      2.0   3828.124    2354.5   475.408   571.371   2624.7   \n",
       "...        ...      ...        ...       ...       ...       ...      ...   \n",
       "2002Q2  2002.0      2.0  11538.770    7997.8  1810.779   774.408   8658.9   \n",
       "2002Q3  2002.0      3.0  11596.430    8052.0  1814.531   786.673   8629.2   \n",
       "2002Q4  2002.0      4.0  11598.824    8080.6  1813.219   799.967   8649.6   \n",
       "2003Q1  2003.0      1.0  11645.819    8122.3  1813.141   800.196   8681.3   \n",
       "2003Q2  2003.0      2.0  11738.706    8197.8  1823.698   838.775   8812.5   \n",
       "2003Q3  2003.0      3.0  11935.461    8312.1  1889.883   839.598   8935.4   \n",
       "2003Q4  2003.0      4.0  12042.817    8358.0  1959.783   845.722   8986.4   \n",
       "2004Q1  2004.0      1.0  12127.623    8437.6  1970.015   856.570   9025.9   \n",
       "2004Q2  2004.0      2.0  12213.818    8483.2  2055.580   861.440   9115.0   \n",
       "2004Q3  2004.0      3.0  12303.533    8555.8  2082.231   876.385   9175.9   \n",
       "2004Q4  2004.0      4.0  12410.282    8654.2  2125.152   865.596   9303.4   \n",
       "2005Q1  2005.0      1.0  12534.113    8719.0  2170.299   869.204   9189.6   \n",
       "2005Q2  2005.0      2.0  12587.535    8802.9  2131.468   870.044   9253.0   \n",
       "2005Q3  2005.0      3.0  12683.153    8865.6  2154.949   890.394   9308.0   \n",
       "2005Q4  2005.0      4.0  12748.699    8888.5  2232.193   875.557   9358.7   \n",
       "2006Q1  2006.0      1.0  12915.938    8986.6  2264.721   900.511   9533.8   \n",
       "2006Q2  2006.0      2.0  12962.462    9035.0  2261.247   892.839   9617.3   \n",
       "2006Q3  2006.0      3.0  12965.916    9090.7  2229.636   892.002   9662.5   \n",
       "2006Q4  2006.0      4.0  13060.679    9181.6  2165.966   894.404   9788.8   \n",
       "2007Q1  2007.0      1.0  13099.901    9265.1  2132.609   882.766   9830.2   \n",
       "2007Q2  2007.0      2.0  13203.977    9291.5  2162.214   898.713   9842.7   \n",
       "2007Q3  2007.0      3.0  13321.109    9335.6  2166.491   918.983   9883.9   \n",
       "2007Q4  2007.0      4.0  13391.249    9363.6  2123.426   925.110   9886.2   \n",
       "2008Q1  2008.0      1.0  13366.865    9349.6  2082.886   943.372   9826.8   \n",
       "2008Q2  2008.0      2.0  13415.266    9351.0  2026.518   961.280  10059.0   \n",
       "2008Q3  2008.0      3.0  13324.600    9267.7  1990.693   991.551   9838.3   \n",
       "2008Q4  2008.0      4.0  13141.920    9195.3  1857.661  1007.273   9920.4   \n",
       "2009Q1  2009.0      1.0  12925.410    9209.2  1558.494   996.287   9926.4   \n",
       "2009Q2  2009.0      2.0  12901.504    9189.0  1456.678  1023.528  10077.5   \n",
       "2009Q3  2009.0      3.0  12990.341    9256.0  1486.398  1044.088  10040.6   \n",
       "\n",
       "            cpi      m1  tbilrate  unemp      pop  infl  realint  \n",
       "1959Q1   28.980   139.7      2.82    5.8  177.146  0.00     0.00  \n",
       "1959Q2   29.150   141.7      3.08    5.1  177.830  2.34     0.74  \n",
       "1959Q3   29.350   140.5      3.82    5.3  178.657  2.74     1.09  \n",
       "1959Q4   29.370   140.0      4.33    5.6  179.386  0.27     4.06  \n",
       "1960Q1   29.540   139.6      3.50    5.2  180.007  2.31     1.19  \n",
       "1960Q2   29.550   140.2      2.68    5.2  180.671  0.14     2.55  \n",
       "1960Q3   29.750   140.9      2.36    5.6  181.528  2.70    -0.34  \n",
       "1960Q4   29.840   141.1      2.29    6.3  182.287  1.21     1.08  \n",
       "1961Q1   29.810   142.1      2.37    6.8  182.992 -0.40     2.77  \n",
       "1961Q2   29.920   142.9      2.29    7.0  183.691  1.47     0.81  \n",
       "1961Q3   29.980   144.1      2.32    6.8  184.524  0.80     1.52  \n",
       "1961Q4   30.040   145.2      2.60    6.2  185.242  0.80     1.80  \n",
       "1962Q1   30.210   146.4      2.73    5.6  185.874  2.26     0.47  \n",
       "1962Q2   30.220   146.5      2.78    5.5  186.538  0.13     2.65  \n",
       "1962Q3   30.380   146.7      2.78    5.6  187.323  2.11     0.67  \n",
       "1962Q4   30.440   148.3      2.87    5.5  188.013  0.79     2.08  \n",
       "1963Q1   30.480   149.7      2.90    5.8  188.580  0.53     2.38  \n",
       "1963Q2   30.690   151.3      3.03    5.7  189.242  2.75     0.29  \n",
       "1963Q3   30.750   152.6      3.38    5.5  190.028  0.78     2.60  \n",
       "1963Q4   30.940   153.7      3.52    5.6  190.668  2.46     1.06  \n",
       "1964Q1   30.950   154.8      3.51    5.5  191.245  0.13     3.38  \n",
       "1964Q2   31.020   156.8      3.47    5.2  191.889  0.90     2.57  \n",
       "1964Q3   31.120   159.2      3.53    5.0  192.631  1.29     2.25  \n",
       "1964Q4   31.280   160.7      3.76    5.0  193.223  2.05     1.71  \n",
       "1965Q1   31.380   162.0      3.93    4.9  193.709  1.28     2.65  \n",
       "1965Q2   31.580   163.1      3.84    4.7  194.303  2.54     1.30  \n",
       "1965Q3   31.650   166.0      3.93    4.4  194.997  0.89     3.04  \n",
       "1965Q4   31.880   169.1      4.35    4.1  195.539  2.90     1.46  \n",
       "1966Q1   32.280   171.8      4.62    3.9  195.999  4.99    -0.37  \n",
       "1966Q2   32.450   170.3      4.65    3.8  196.560  2.10     2.55  \n",
       "...         ...     ...       ...    ...      ...   ...      ...  \n",
       "2002Q2  180.000  1199.5      1.70    5.8  288.028  1.56     0.14  \n",
       "2002Q3  181.200  1204.0      1.61    5.7  288.783  2.66    -1.05  \n",
       "2002Q4  182.600  1226.8      1.20    5.8  289.421  3.08    -1.88  \n",
       "2003Q1  183.200  1248.4      1.14    5.9  290.019  1.31    -0.17  \n",
       "2003Q2  183.700  1287.9      0.96    6.2  290.704  1.09    -0.13  \n",
       "2003Q3  184.900  1297.3      0.94    6.1  291.449  2.60    -1.67  \n",
       "2003Q4  186.300  1306.1      0.90    5.8  292.057  3.02    -2.11  \n",
       "2004Q1  187.400  1332.1      0.94    5.7  292.635  2.35    -1.42  \n",
       "2004Q2  189.100  1340.5      1.21    5.6  293.310  3.61    -2.41  \n",
       "2004Q3  190.800  1361.0      1.63    5.4  294.066  3.58    -1.95  \n",
       "2004Q4  191.800  1366.6      2.20    5.4  294.741  2.09     0.11  \n",
       "2005Q1  193.800  1357.8      2.69    5.3  295.308  4.15    -1.46  \n",
       "2005Q2  194.700  1366.6      3.01    5.1  295.994  1.85     1.16  \n",
       "2005Q3  199.200  1375.0      3.52    5.0  296.770  9.14    -5.62  \n",
       "2005Q4  199.400  1380.6      4.00    4.9  297.435  0.40     3.60  \n",
       "2006Q1  200.700  1380.5      4.51    4.7  298.061  2.60     1.91  \n",
       "2006Q2  202.700  1369.2      4.82    4.7  298.766  3.97     0.85  \n",
       "2006Q3  201.900  1369.4      4.90    4.7  299.593 -1.58     6.48  \n",
       "2006Q4  203.574  1373.6      4.92    4.4  300.320  3.30     1.62  \n",
       "2007Q1  205.920  1379.7      4.95    4.5  300.977  4.58     0.36  \n",
       "2007Q2  207.338  1370.0      4.72    4.5  301.714  2.75     1.97  \n",
       "2007Q3  209.133  1379.2      4.00    4.7  302.509  3.45     0.55  \n",
       "2007Q4  212.495  1377.4      3.01    4.8  303.204  6.38    -3.37  \n",
       "2008Q1  213.997  1384.0      1.56    4.9  303.803  2.82    -1.26  \n",
       "2008Q2  218.610  1409.3      1.74    5.4  304.483  8.53    -6.79  \n",
       "2008Q3  216.889  1474.7      1.17    6.0  305.270 -3.16     4.33  \n",
       "2008Q4  212.174  1576.5      0.12    6.9  305.952 -8.79     8.91  \n",
       "2009Q1  212.671  1592.8      0.22    8.1  306.547  0.94    -0.71  \n",
       "2009Q2  214.469  1653.6      0.18    9.2  307.226  3.37    -3.19  \n",
       "2009Q3  216.385  1673.9      0.12    9.6  308.013  3.56    -3.44  \n",
       "\n",
       "[203 rows x 14 columns]"
      ]
     },
     "execution_count": 268,
     "metadata": {},
     "output_type": "execute_result"
    }
   ],
   "source": [
    "data"
   ]
  },
  {
   "cell_type": "markdown",
   "metadata": {},
   "source": [
    "## 11.6重采样及频率转换"
   ]
  },
  {
   "cell_type": "markdown",
   "metadata": {},
   "source": [
    "重采样，指的是将时间序列从一个频率转换到另一个频率的处理过程。\n",
    "\n",
    "将高频数据聚合到低频，称为降采样，将低频数据转换为高频，称为升采样。\n",
    "\n",
    "但还有别的采样方式。\n",
    "\n",
    "pandas对象的resample方法是各种频率转换的主要函数工具。resample有一个类似于groupby的API，调用resample可以分组数据，然后会可以调用聚合函数。"
   ]
  },
  {
   "cell_type": "code",
   "execution_count": 269,
   "metadata": {},
   "outputs": [],
   "source": [
    "rng=pd.date_range('20000101',periods=100,freq='D')"
   ]
  },
  {
   "cell_type": "code",
   "execution_count": 270,
   "metadata": {},
   "outputs": [
    {
     "data": {
      "text/plain": [
       "DatetimeIndex(['2000-01-01', '2000-01-02', '2000-01-03', '2000-01-04',\n",
       "               '2000-01-05', '2000-01-06', '2000-01-07', '2000-01-08',\n",
       "               '2000-01-09', '2000-01-10', '2000-01-11', '2000-01-12',\n",
       "               '2000-01-13', '2000-01-14', '2000-01-15', '2000-01-16',\n",
       "               '2000-01-17', '2000-01-18', '2000-01-19', '2000-01-20',\n",
       "               '2000-01-21', '2000-01-22', '2000-01-23', '2000-01-24',\n",
       "               '2000-01-25', '2000-01-26', '2000-01-27', '2000-01-28',\n",
       "               '2000-01-29', '2000-01-30', '2000-01-31', '2000-02-01',\n",
       "               '2000-02-02', '2000-02-03', '2000-02-04', '2000-02-05',\n",
       "               '2000-02-06', '2000-02-07', '2000-02-08', '2000-02-09',\n",
       "               '2000-02-10', '2000-02-11', '2000-02-12', '2000-02-13',\n",
       "               '2000-02-14', '2000-02-15', '2000-02-16', '2000-02-17',\n",
       "               '2000-02-18', '2000-02-19', '2000-02-20', '2000-02-21',\n",
       "               '2000-02-22', '2000-02-23', '2000-02-24', '2000-02-25',\n",
       "               '2000-02-26', '2000-02-27', '2000-02-28', '2000-02-29',\n",
       "               '2000-03-01', '2000-03-02', '2000-03-03', '2000-03-04',\n",
       "               '2000-03-05', '2000-03-06', '2000-03-07', '2000-03-08',\n",
       "               '2000-03-09', '2000-03-10', '2000-03-11', '2000-03-12',\n",
       "               '2000-03-13', '2000-03-14', '2000-03-15', '2000-03-16',\n",
       "               '2000-03-17', '2000-03-18', '2000-03-19', '2000-03-20',\n",
       "               '2000-03-21', '2000-03-22', '2000-03-23', '2000-03-24',\n",
       "               '2000-03-25', '2000-03-26', '2000-03-27', '2000-03-28',\n",
       "               '2000-03-29', '2000-03-30', '2000-03-31', '2000-04-01',\n",
       "               '2000-04-02', '2000-04-03', '2000-04-04', '2000-04-05',\n",
       "               '2000-04-06', '2000-04-07', '2000-04-08', '2000-04-09'],\n",
       "              dtype='datetime64[ns]', freq='D')"
      ]
     },
     "execution_count": 270,
     "metadata": {},
     "output_type": "execute_result"
    }
   ],
   "source": [
    "rng"
   ]
  },
  {
   "cell_type": "code",
   "execution_count": 271,
   "metadata": {},
   "outputs": [],
   "source": [
    "ts=pd.Series(np.arange(len(rng)),index=rng)+1"
   ]
  },
  {
   "cell_type": "code",
   "execution_count": 272,
   "metadata": {},
   "outputs": [
    {
     "data": {
      "text/plain": [
       "2000-01-01      1\n",
       "2000-01-02      2\n",
       "2000-01-03      3\n",
       "2000-01-04      4\n",
       "2000-01-05      5\n",
       "2000-01-06      6\n",
       "2000-01-07      7\n",
       "2000-01-08      8\n",
       "2000-01-09      9\n",
       "2000-01-10     10\n",
       "2000-01-11     11\n",
       "2000-01-12     12\n",
       "2000-01-13     13\n",
       "2000-01-14     14\n",
       "2000-01-15     15\n",
       "2000-01-16     16\n",
       "2000-01-17     17\n",
       "2000-01-18     18\n",
       "2000-01-19     19\n",
       "2000-01-20     20\n",
       "2000-01-21     21\n",
       "2000-01-22     22\n",
       "2000-01-23     23\n",
       "2000-01-24     24\n",
       "2000-01-25     25\n",
       "2000-01-26     26\n",
       "2000-01-27     27\n",
       "2000-01-28     28\n",
       "2000-01-29     29\n",
       "2000-01-30     30\n",
       "             ... \n",
       "2000-03-11     71\n",
       "2000-03-12     72\n",
       "2000-03-13     73\n",
       "2000-03-14     74\n",
       "2000-03-15     75\n",
       "2000-03-16     76\n",
       "2000-03-17     77\n",
       "2000-03-18     78\n",
       "2000-03-19     79\n",
       "2000-03-20     80\n",
       "2000-03-21     81\n",
       "2000-03-22     82\n",
       "2000-03-23     83\n",
       "2000-03-24     84\n",
       "2000-03-25     85\n",
       "2000-03-26     86\n",
       "2000-03-27     87\n",
       "2000-03-28     88\n",
       "2000-03-29     89\n",
       "2000-03-30     90\n",
       "2000-03-31     91\n",
       "2000-04-01     92\n",
       "2000-04-02     93\n",
       "2000-04-03     94\n",
       "2000-04-04     95\n",
       "2000-04-05     96\n",
       "2000-04-06     97\n",
       "2000-04-07     98\n",
       "2000-04-08     99\n",
       "2000-04-09    100\n",
       "Freq: D, Length: 100, dtype: int32"
      ]
     },
     "execution_count": 272,
     "metadata": {},
     "output_type": "execute_result"
    }
   ],
   "source": [
    "ts"
   ]
  },
  {
   "cell_type": "code",
   "execution_count": 273,
   "metadata": {},
   "outputs": [
    {
     "data": {
      "text/plain": [
       "DatetimeIndexResampler [freq=<MonthEnd>, axis=0, closed=right, label=right, convention=start, base=0]"
      ]
     },
     "execution_count": 273,
     "metadata": {},
     "output_type": "execute_result"
    }
   ],
   "source": [
    "ts.resample('M')\n",
    "#类似于groupby"
   ]
  },
  {
   "cell_type": "code",
   "execution_count": 274,
   "metadata": {},
   "outputs": [
    {
     "data": {
      "text/plain": [
       "2000-01-31    16\n",
       "2000-02-29    46\n",
       "2000-03-31    76\n",
       "2000-04-30    96\n",
       "Freq: M, dtype: int32"
      ]
     },
     "execution_count": 274,
     "metadata": {},
     "output_type": "execute_result"
    }
   ],
   "source": [
    "ts.resample('M').mean()\n",
    "#M指定了freq"
   ]
  },
  {
   "cell_type": "code",
   "execution_count": 275,
   "metadata": {},
   "outputs": [
    {
     "data": {
      "text/plain": [
       "2000-01    16\n",
       "2000-02    46\n",
       "2000-03    76\n",
       "2000-04    96\n",
       "Freq: M, dtype: int32"
      ]
     },
     "execution_count": 275,
     "metadata": {},
     "output_type": "execute_result"
    }
   ],
   "source": [
    "ts.resample('M',kind='period').mean()\n",
    "#kind指定了聚合到以月份为单位的时间区间"
   ]
  },
  {
   "cell_type": "markdown",
   "metadata": {},
   "source": [
    "ts.resample??\n",
    "        Parameters\n",
    "        ----------\n",
    "        rule : string\n",
    "            the offset string or object representing target conversion\n",
    "        axis : int, optional, default 0\n",
    "        closed : {'right', 'left'}\n",
    "            Which side of bin interval is closed. The default is 'left'\n",
    "            for all frequency offsets except for 'M', 'A', 'Q', 'BM',\n",
    "            'BA', 'BQ', and 'W' which all have a default of 'right'.\n",
    "        label : {'right', 'left'}\n",
    "            Which bin edge label to label bucket with. The default is 'left'\n",
    "            for all frequency offsets except for 'M', 'A', 'Q', 'BM',\n",
    "            'BA', 'BQ', and 'W' which all have a default of 'right'.\n",
    "        convention : {'start', 'end', 's', 'e'}\n",
    "            For PeriodIndex only, controls whether to use the start or end of\n",
    "            `rule`\n",
    "        kind: {'timestamp', 'period'}, optional\n",
    "            Pass 'timestamp' to convert the resulting index to a\n",
    "            ``DateTimeIndex`` or 'period' to convert it to a ``PeriodIndex``.\n",
    "            By default the input representation is retained.\n",
    "        loffset : timedelta\n",
    "            Adjust the resampled time labels\n",
    "        base : int, default 0\n",
    "            For frequencies that evenly subdivide 1 day, the \"origin\" of the\n",
    "            aggregated intervals. For example, for '5min' frequency, base could\n",
    "            range from 0 through 4. Defaults to 0\n",
    "        on : string, optional\n",
    "            For a DataFrame, column to use instead of index for resampling.\n",
    "            Column must be datetime-like.\n",
    "\n",
    "            .. versionadded:: 0.19.0\n",
    "\n",
    "        level : string or int, optional\n",
    "            For a MultiIndex, level (name or number) to use for\n",
    "            resampling.  Level must be datetime-like.\n",
    "\n",
    "            .. versionadded:: 0.19.0\n"
   ]
  },
  {
   "cell_type": "markdown",
   "metadata": {},
   "source": [
    "### 降采样"
   ]
  },
  {
   "cell_type": "code",
   "execution_count": 276,
   "metadata": {},
   "outputs": [],
   "source": [
    "rng=pd.date_range('20000101',periods=12,freq='T')"
   ]
  },
  {
   "cell_type": "code",
   "execution_count": 277,
   "metadata": {},
   "outputs": [],
   "source": [
    "ts=pd.Series(np.arange(12),index=rng)"
   ]
  },
  {
   "cell_type": "code",
   "execution_count": 278,
   "metadata": {},
   "outputs": [
    {
     "data": {
      "text/plain": [
       "2000-01-01 00:00:00     0\n",
       "2000-01-01 00:01:00     1\n",
       "2000-01-01 00:02:00     2\n",
       "2000-01-01 00:03:00     3\n",
       "2000-01-01 00:04:00     4\n",
       "2000-01-01 00:05:00     5\n",
       "2000-01-01 00:06:00     6\n",
       "2000-01-01 00:07:00     7\n",
       "2000-01-01 00:08:00     8\n",
       "2000-01-01 00:09:00     9\n",
       "2000-01-01 00:10:00    10\n",
       "2000-01-01 00:11:00    11\n",
       "Freq: T, dtype: int32"
      ]
     },
     "execution_count": 278,
     "metadata": {},
     "output_type": "execute_result"
    }
   ],
   "source": [
    "ts"
   ]
  },
  {
   "cell_type": "code",
   "execution_count": 279,
   "metadata": {},
   "outputs": [
    {
     "data": {
      "text/plain": [
       "1999-12-31 23:55:00     0\n",
       "2000-01-01 00:00:00    15\n",
       "2000-01-01 00:05:00    40\n",
       "2000-01-01 00:10:00    11\n",
       "Freq: 5T, dtype: int32"
      ]
     },
     "execution_count": 279,
     "metadata": {},
     "output_type": "execute_result"
    }
   ],
   "source": [
    "ts.resample('5min',closed='right').sum()\n",
    "#使用closed='right'指定了面元是左开右闭区间，这导致了2000-01-01 00:00:00这种边界值被分划到了上一个面元\n",
    "#将周期为分钟的数据，按照5分钟的面元来聚合，然后调用sum方法对分组求和\n",
    "#最终的时间戳是以面元的左边界的时间戳进行标记的\n",
    "#重采样，实现了聚合功能\n",
    "#与groupby的区别在于：\n",
    "#groupby可以通过非时间类型数据分组，但按照指定的时间周期分组，需要事先对时间数据进行分割和舍入\n",
    "#但resample不需要事先处理时间数据"
   ]
  },
  {
   "cell_type": "code",
   "execution_count": 280,
   "metadata": {},
   "outputs": [
    {
     "data": {
      "text/plain": [
       "2000-01-01 00:00:00     0\n",
       "2000-01-01 00:05:00    15\n",
       "2000-01-01 00:10:00    40\n",
       "2000-01-01 00:15:00    11\n",
       "Freq: 5T, dtype: int32"
      ]
     },
     "execution_count": 280,
     "metadata": {},
     "output_type": "execute_result"
    }
   ],
   "source": [
    "ts.resample('5min',closed='right',label='right').sum()\n",
    "#传入label='left',指定以面元的右边界进行标记"
   ]
  },
  {
   "cell_type": "code",
   "execution_count": 281,
   "metadata": {},
   "outputs": [
    {
     "data": {
      "text/plain": [
       "1999-12-31 23:59:59     0\n",
       "2000-01-01 00:04:59    15\n",
       "2000-01-01 00:09:59    40\n",
       "2000-01-01 00:14:59    11\n",
       "Freq: 5T, dtype: int32"
      ]
     },
     "execution_count": 281,
     "metadata": {},
     "output_type": "execute_result"
    }
   ],
   "source": [
    "ts.resample('5min',closed='right',label='right',loffset='-1s').sum()\n",
    "#通过loffset='-1s'对边界减一秒，使得容易看出来所表示的区间"
   ]
  },
  {
   "cell_type": "code",
   "execution_count": 282,
   "metadata": {},
   "outputs": [
    {
     "data": {
      "text/plain": [
       "2000-01-01 00:05:00    10\n",
       "2000-01-01 00:10:00    35\n",
       "2000-01-01 00:15:00    21\n",
       "Freq: 5T, dtype: int32"
      ]
     },
     "execution_count": 282,
     "metadata": {},
     "output_type": "execute_result"
    }
   ],
   "source": [
    "ts.resample('5min',closed='left',label='right').sum()\n",
    "#采用左闭右开区间"
   ]
  },
  {
   "cell_type": "code",
   "execution_count": 283,
   "metadata": {},
   "outputs": [
    {
     "data": {
      "text/plain": [
       "2000-01-01 00:05:01    10\n",
       "2000-01-01 00:10:01    35\n",
       "2000-01-01 00:15:01    21\n",
       "Freq: 5T, dtype: int32"
      ]
     },
     "execution_count": 283,
     "metadata": {},
     "output_type": "execute_result"
    }
   ],
   "source": [
    "ts.resample('5min',closed='left',label='right',loffset='+1s').sum()\n",
    "#加一秒，使得能看出来时间戳所代表的区间"
   ]
  },
  {
   "cell_type": "markdown",
   "metadata": {},
   "source": [
    "### OHLC重采样"
   ]
  },
  {
   "cell_type": "markdown",
   "metadata": {},
   "source": [
    "金融领域的OHLC重采样，计算第一个值，最后一个值，最大值，最小值。传入how='ohlc'即可得到这样的结果，整个过程很高效。——类似于describe？"
   ]
  },
  {
   "cell_type": "code",
   "execution_count": 284,
   "metadata": {},
   "outputs": [
    {
     "data": {
      "text/html": [
       "<div>\n",
       "<style scoped>\n",
       "    .dataframe tbody tr th:only-of-type {\n",
       "        vertical-align: middle;\n",
       "    }\n",
       "\n",
       "    .dataframe tbody tr th {\n",
       "        vertical-align: top;\n",
       "    }\n",
       "\n",
       "    .dataframe thead th {\n",
       "        text-align: right;\n",
       "    }\n",
       "</style>\n",
       "<table border=\"1\" class=\"dataframe\">\n",
       "  <thead>\n",
       "    <tr style=\"text-align: right;\">\n",
       "      <th></th>\n",
       "      <th>open</th>\n",
       "      <th>high</th>\n",
       "      <th>low</th>\n",
       "      <th>close</th>\n",
       "    </tr>\n",
       "  </thead>\n",
       "  <tbody>\n",
       "    <tr>\n",
       "      <th>2000-01-01 00:00:00</th>\n",
       "      <td>0</td>\n",
       "      <td>4</td>\n",
       "      <td>0</td>\n",
       "      <td>4</td>\n",
       "    </tr>\n",
       "    <tr>\n",
       "      <th>2000-01-01 00:05:00</th>\n",
       "      <td>5</td>\n",
       "      <td>9</td>\n",
       "      <td>5</td>\n",
       "      <td>9</td>\n",
       "    </tr>\n",
       "    <tr>\n",
       "      <th>2000-01-01 00:10:00</th>\n",
       "      <td>10</td>\n",
       "      <td>11</td>\n",
       "      <td>10</td>\n",
       "      <td>11</td>\n",
       "    </tr>\n",
       "  </tbody>\n",
       "</table>\n",
       "</div>"
      ],
      "text/plain": [
       "                     open  high  low  close\n",
       "2000-01-01 00:00:00     0     4    0      4\n",
       "2000-01-01 00:05:00     5     9    5      9\n",
       "2000-01-01 00:10:00    10    11   10     11"
      ]
     },
     "execution_count": 284,
     "metadata": {},
     "output_type": "execute_result"
    }
   ],
   "source": [
    "ts.resample('5min').ohlc()"
   ]
  },
  {
   "cell_type": "code",
   "execution_count": 285,
   "metadata": {},
   "outputs": [
    {
     "data": {
      "text/plain": [
       "2012-03-07 09:30:00+00:00    1\n",
       "2012-03-08 09:30:00+00:00    2\n",
       "2012-03-09 09:30:00+00:00    3\n",
       "2012-03-12 09:30:00+00:00    4\n",
       "2012-03-13 09:30:00+00:00    5\n",
       "2012-03-14 09:30:00+00:00    6\n",
       "2012-03-15 09:30:00+00:00    7\n",
       "Freq: B, dtype: int32"
      ]
     },
     "execution_count": 285,
     "metadata": {},
     "output_type": "execute_result"
    }
   ],
   "source": [
    "ts1"
   ]
  },
  {
   "cell_type": "code",
   "execution_count": 286,
   "metadata": {},
   "outputs": [
    {
     "data": {
      "text/html": [
       "<div>\n",
       "<style scoped>\n",
       "    .dataframe tbody tr th:only-of-type {\n",
       "        vertical-align: middle;\n",
       "    }\n",
       "\n",
       "    .dataframe tbody tr th {\n",
       "        vertical-align: top;\n",
       "    }\n",
       "\n",
       "    .dataframe thead th {\n",
       "        text-align: right;\n",
       "    }\n",
       "</style>\n",
       "<table border=\"1\" class=\"dataframe\">\n",
       "  <thead>\n",
       "    <tr style=\"text-align: right;\">\n",
       "      <th></th>\n",
       "      <th>open</th>\n",
       "      <th>high</th>\n",
       "      <th>low</th>\n",
       "      <th>close</th>\n",
       "    </tr>\n",
       "  </thead>\n",
       "  <tbody>\n",
       "    <tr>\n",
       "      <th>2012-03-07 09:30:00+00:00</th>\n",
       "      <td>1</td>\n",
       "      <td>3</td>\n",
       "      <td>1</td>\n",
       "      <td>3</td>\n",
       "    </tr>\n",
       "    <tr>\n",
       "      <th>2012-03-10 09:30:00+00:00</th>\n",
       "      <td>4</td>\n",
       "      <td>4</td>\n",
       "      <td>4</td>\n",
       "      <td>4</td>\n",
       "    </tr>\n",
       "    <tr>\n",
       "      <th>2012-03-13 09:30:00+00:00</th>\n",
       "      <td>5</td>\n",
       "      <td>7</td>\n",
       "      <td>5</td>\n",
       "      <td>7</td>\n",
       "    </tr>\n",
       "  </tbody>\n",
       "</table>\n",
       "</div>"
      ],
      "text/plain": [
       "                           open  high  low  close\n",
       "2012-03-07 09:30:00+00:00     1     3    1      3\n",
       "2012-03-10 09:30:00+00:00     4     4    4      4\n",
       "2012-03-13 09:30:00+00:00     5     7    5      7"
      ]
     },
     "execution_count": 286,
     "metadata": {},
     "output_type": "execute_result"
    }
   ],
   "source": [
    "ts1.resample('3d').ohlc()"
   ]
  },
  {
   "cell_type": "markdown",
   "metadata": {},
   "source": [
    "### 升采样和插值"
   ]
  },
  {
   "cell_type": "code",
   "execution_count": 287,
   "metadata": {},
   "outputs": [],
   "source": [
    "frame=pd.DataFrame(np.random.randn(2,4),\n",
    "                   index=pd.date_range('1/1/2000',periods=2,freq='W-WED'),\n",
    "                   columns=['Colorado','Texas','New York','Ohio'])"
   ]
  },
  {
   "cell_type": "code",
   "execution_count": 288,
   "metadata": {},
   "outputs": [
    {
     "data": {
      "text/html": [
       "<div>\n",
       "<style scoped>\n",
       "    .dataframe tbody tr th:only-of-type {\n",
       "        vertical-align: middle;\n",
       "    }\n",
       "\n",
       "    .dataframe tbody tr th {\n",
       "        vertical-align: top;\n",
       "    }\n",
       "\n",
       "    .dataframe thead th {\n",
       "        text-align: right;\n",
       "    }\n",
       "</style>\n",
       "<table border=\"1\" class=\"dataframe\">\n",
       "  <thead>\n",
       "    <tr style=\"text-align: right;\">\n",
       "      <th></th>\n",
       "      <th>Colorado</th>\n",
       "      <th>Texas</th>\n",
       "      <th>New York</th>\n",
       "      <th>Ohio</th>\n",
       "    </tr>\n",
       "  </thead>\n",
       "  <tbody>\n",
       "    <tr>\n",
       "      <th>2000-01-05</th>\n",
       "      <td>-0.058542</td>\n",
       "      <td>0.297694</td>\n",
       "      <td>0.023862</td>\n",
       "      <td>0.546709</td>\n",
       "    </tr>\n",
       "    <tr>\n",
       "      <th>2000-01-12</th>\n",
       "      <td>-0.679369</td>\n",
       "      <td>-0.891060</td>\n",
       "      <td>-1.855278</td>\n",
       "      <td>0.957798</td>\n",
       "    </tr>\n",
       "  </tbody>\n",
       "</table>\n",
       "</div>"
      ],
      "text/plain": [
       "            Colorado     Texas  New York      Ohio\n",
       "2000-01-05 -0.058542  0.297694  0.023862  0.546709\n",
       "2000-01-12 -0.679369 -0.891060 -1.855278  0.957798"
      ]
     },
     "execution_count": 288,
     "metadata": {},
     "output_type": "execute_result"
    }
   ],
   "source": [
    "frame"
   ]
  },
  {
   "cell_type": "code",
   "execution_count": 289,
   "metadata": {},
   "outputs": [],
   "source": [
    "df_daily=frame.resample('D').asfreq()\n",
    "#将原本是按周的数据，按天重采样，升采样\n",
    "#.asfreq()方法转换为高频"
   ]
  },
  {
   "cell_type": "code",
   "execution_count": 290,
   "metadata": {},
   "outputs": [
    {
     "data": {
      "text/html": [
       "<div>\n",
       "<style scoped>\n",
       "    .dataframe tbody tr th:only-of-type {\n",
       "        vertical-align: middle;\n",
       "    }\n",
       "\n",
       "    .dataframe tbody tr th {\n",
       "        vertical-align: top;\n",
       "    }\n",
       "\n",
       "    .dataframe thead th {\n",
       "        text-align: right;\n",
       "    }\n",
       "</style>\n",
       "<table border=\"1\" class=\"dataframe\">\n",
       "  <thead>\n",
       "    <tr style=\"text-align: right;\">\n",
       "      <th></th>\n",
       "      <th>Colorado</th>\n",
       "      <th>Texas</th>\n",
       "      <th>New York</th>\n",
       "      <th>Ohio</th>\n",
       "    </tr>\n",
       "  </thead>\n",
       "  <tbody>\n",
       "    <tr>\n",
       "      <th>2000-01-05</th>\n",
       "      <td>-0.058542</td>\n",
       "      <td>0.297694</td>\n",
       "      <td>0.023862</td>\n",
       "      <td>0.546709</td>\n",
       "    </tr>\n",
       "    <tr>\n",
       "      <th>2000-01-06</th>\n",
       "      <td>NaN</td>\n",
       "      <td>NaN</td>\n",
       "      <td>NaN</td>\n",
       "      <td>NaN</td>\n",
       "    </tr>\n",
       "    <tr>\n",
       "      <th>2000-01-07</th>\n",
       "      <td>NaN</td>\n",
       "      <td>NaN</td>\n",
       "      <td>NaN</td>\n",
       "      <td>NaN</td>\n",
       "    </tr>\n",
       "    <tr>\n",
       "      <th>2000-01-08</th>\n",
       "      <td>NaN</td>\n",
       "      <td>NaN</td>\n",
       "      <td>NaN</td>\n",
       "      <td>NaN</td>\n",
       "    </tr>\n",
       "    <tr>\n",
       "      <th>2000-01-09</th>\n",
       "      <td>NaN</td>\n",
       "      <td>NaN</td>\n",
       "      <td>NaN</td>\n",
       "      <td>NaN</td>\n",
       "    </tr>\n",
       "    <tr>\n",
       "      <th>2000-01-10</th>\n",
       "      <td>NaN</td>\n",
       "      <td>NaN</td>\n",
       "      <td>NaN</td>\n",
       "      <td>NaN</td>\n",
       "    </tr>\n",
       "    <tr>\n",
       "      <th>2000-01-11</th>\n",
       "      <td>NaN</td>\n",
       "      <td>NaN</td>\n",
       "      <td>NaN</td>\n",
       "      <td>NaN</td>\n",
       "    </tr>\n",
       "    <tr>\n",
       "      <th>2000-01-12</th>\n",
       "      <td>-0.679369</td>\n",
       "      <td>-0.891060</td>\n",
       "      <td>-1.855278</td>\n",
       "      <td>0.957798</td>\n",
       "    </tr>\n",
       "  </tbody>\n",
       "</table>\n",
       "</div>"
      ],
      "text/plain": [
       "            Colorado     Texas  New York      Ohio\n",
       "2000-01-05 -0.058542  0.297694  0.023862  0.546709\n",
       "2000-01-06       NaN       NaN       NaN       NaN\n",
       "2000-01-07       NaN       NaN       NaN       NaN\n",
       "2000-01-08       NaN       NaN       NaN       NaN\n",
       "2000-01-09       NaN       NaN       NaN       NaN\n",
       "2000-01-10       NaN       NaN       NaN       NaN\n",
       "2000-01-11       NaN       NaN       NaN       NaN\n",
       "2000-01-12 -0.679369 -0.891060 -1.855278  0.957798"
      ]
     },
     "execution_count": 290,
     "metadata": {},
     "output_type": "execute_result"
    }
   ],
   "source": [
    "df_daily\n",
    "#.asfreq()方法默认使用缺失值进行插值"
   ]
  },
  {
   "cell_type": "code",
   "execution_count": 291,
   "metadata": {},
   "outputs": [
    {
     "data": {
      "text/html": [
       "<div>\n",
       "<style scoped>\n",
       "    .dataframe tbody tr th:only-of-type {\n",
       "        vertical-align: middle;\n",
       "    }\n",
       "\n",
       "    .dataframe tbody tr th {\n",
       "        vertical-align: top;\n",
       "    }\n",
       "\n",
       "    .dataframe thead th {\n",
       "        text-align: right;\n",
       "    }\n",
       "</style>\n",
       "<table border=\"1\" class=\"dataframe\">\n",
       "  <thead>\n",
       "    <tr style=\"text-align: right;\">\n",
       "      <th></th>\n",
       "      <th>Colorado</th>\n",
       "      <th>Texas</th>\n",
       "      <th>New York</th>\n",
       "      <th>Ohio</th>\n",
       "    </tr>\n",
       "  </thead>\n",
       "  <tbody>\n",
       "    <tr>\n",
       "      <th>2000-01-05</th>\n",
       "      <td>-0.058542</td>\n",
       "      <td>0.297694</td>\n",
       "      <td>0.023862</td>\n",
       "      <td>0.546709</td>\n",
       "    </tr>\n",
       "    <tr>\n",
       "      <th>2000-01-06</th>\n",
       "      <td>-0.058542</td>\n",
       "      <td>0.297694</td>\n",
       "      <td>0.023862</td>\n",
       "      <td>0.546709</td>\n",
       "    </tr>\n",
       "    <tr>\n",
       "      <th>2000-01-07</th>\n",
       "      <td>-0.058542</td>\n",
       "      <td>0.297694</td>\n",
       "      <td>0.023862</td>\n",
       "      <td>0.546709</td>\n",
       "    </tr>\n",
       "    <tr>\n",
       "      <th>2000-01-08</th>\n",
       "      <td>-0.058542</td>\n",
       "      <td>0.297694</td>\n",
       "      <td>0.023862</td>\n",
       "      <td>0.546709</td>\n",
       "    </tr>\n",
       "    <tr>\n",
       "      <th>2000-01-09</th>\n",
       "      <td>-0.058542</td>\n",
       "      <td>0.297694</td>\n",
       "      <td>0.023862</td>\n",
       "      <td>0.546709</td>\n",
       "    </tr>\n",
       "    <tr>\n",
       "      <th>2000-01-10</th>\n",
       "      <td>-0.058542</td>\n",
       "      <td>0.297694</td>\n",
       "      <td>0.023862</td>\n",
       "      <td>0.546709</td>\n",
       "    </tr>\n",
       "    <tr>\n",
       "      <th>2000-01-11</th>\n",
       "      <td>-0.058542</td>\n",
       "      <td>0.297694</td>\n",
       "      <td>0.023862</td>\n",
       "      <td>0.546709</td>\n",
       "    </tr>\n",
       "    <tr>\n",
       "      <th>2000-01-12</th>\n",
       "      <td>-0.679369</td>\n",
       "      <td>-0.891060</td>\n",
       "      <td>-1.855278</td>\n",
       "      <td>0.957798</td>\n",
       "    </tr>\n",
       "  </tbody>\n",
       "</table>\n",
       "</div>"
      ],
      "text/plain": [
       "            Colorado     Texas  New York      Ohio\n",
       "2000-01-05 -0.058542  0.297694  0.023862  0.546709\n",
       "2000-01-06 -0.058542  0.297694  0.023862  0.546709\n",
       "2000-01-07 -0.058542  0.297694  0.023862  0.546709\n",
       "2000-01-08 -0.058542  0.297694  0.023862  0.546709\n",
       "2000-01-09 -0.058542  0.297694  0.023862  0.546709\n",
       "2000-01-10 -0.058542  0.297694  0.023862  0.546709\n",
       "2000-01-11 -0.058542  0.297694  0.023862  0.546709\n",
       "2000-01-12 -0.679369 -0.891060 -1.855278  0.957798"
      ]
     },
     "execution_count": 291,
     "metadata": {},
     "output_type": "execute_result"
    }
   ],
   "source": [
    "frame.resample('D').ffill()\n",
    "#.ffill()方法使用前向填充"
   ]
  },
  {
   "cell_type": "code",
   "execution_count": 292,
   "metadata": {},
   "outputs": [
    {
     "data": {
      "text/html": [
       "<div>\n",
       "<style scoped>\n",
       "    .dataframe tbody tr th:only-of-type {\n",
       "        vertical-align: middle;\n",
       "    }\n",
       "\n",
       "    .dataframe tbody tr th {\n",
       "        vertical-align: top;\n",
       "    }\n",
       "\n",
       "    .dataframe thead th {\n",
       "        text-align: right;\n",
       "    }\n",
       "</style>\n",
       "<table border=\"1\" class=\"dataframe\">\n",
       "  <thead>\n",
       "    <tr style=\"text-align: right;\">\n",
       "      <th></th>\n",
       "      <th>Colorado</th>\n",
       "      <th>Texas</th>\n",
       "      <th>New York</th>\n",
       "      <th>Ohio</th>\n",
       "    </tr>\n",
       "  </thead>\n",
       "  <tbody>\n",
       "    <tr>\n",
       "      <th>2000-01-05</th>\n",
       "      <td>-0.058542</td>\n",
       "      <td>0.297694</td>\n",
       "      <td>0.023862</td>\n",
       "      <td>0.546709</td>\n",
       "    </tr>\n",
       "    <tr>\n",
       "      <th>2000-01-06</th>\n",
       "      <td>-0.058542</td>\n",
       "      <td>0.297694</td>\n",
       "      <td>0.023862</td>\n",
       "      <td>0.546709</td>\n",
       "    </tr>\n",
       "    <tr>\n",
       "      <th>2000-01-07</th>\n",
       "      <td>-0.058542</td>\n",
       "      <td>0.297694</td>\n",
       "      <td>0.023862</td>\n",
       "      <td>0.546709</td>\n",
       "    </tr>\n",
       "    <tr>\n",
       "      <th>2000-01-08</th>\n",
       "      <td>NaN</td>\n",
       "      <td>NaN</td>\n",
       "      <td>NaN</td>\n",
       "      <td>NaN</td>\n",
       "    </tr>\n",
       "    <tr>\n",
       "      <th>2000-01-09</th>\n",
       "      <td>NaN</td>\n",
       "      <td>NaN</td>\n",
       "      <td>NaN</td>\n",
       "      <td>NaN</td>\n",
       "    </tr>\n",
       "    <tr>\n",
       "      <th>2000-01-10</th>\n",
       "      <td>NaN</td>\n",
       "      <td>NaN</td>\n",
       "      <td>NaN</td>\n",
       "      <td>NaN</td>\n",
       "    </tr>\n",
       "    <tr>\n",
       "      <th>2000-01-11</th>\n",
       "      <td>NaN</td>\n",
       "      <td>NaN</td>\n",
       "      <td>NaN</td>\n",
       "      <td>NaN</td>\n",
       "    </tr>\n",
       "    <tr>\n",
       "      <th>2000-01-12</th>\n",
       "      <td>-0.679369</td>\n",
       "      <td>-0.891060</td>\n",
       "      <td>-1.855278</td>\n",
       "      <td>0.957798</td>\n",
       "    </tr>\n",
       "  </tbody>\n",
       "</table>\n",
       "</div>"
      ],
      "text/plain": [
       "            Colorado     Texas  New York      Ohio\n",
       "2000-01-05 -0.058542  0.297694  0.023862  0.546709\n",
       "2000-01-06 -0.058542  0.297694  0.023862  0.546709\n",
       "2000-01-07 -0.058542  0.297694  0.023862  0.546709\n",
       "2000-01-08       NaN       NaN       NaN       NaN\n",
       "2000-01-09       NaN       NaN       NaN       NaN\n",
       "2000-01-10       NaN       NaN       NaN       NaN\n",
       "2000-01-11       NaN       NaN       NaN       NaN\n",
       "2000-01-12 -0.679369 -0.891060 -1.855278  0.957798"
      ]
     },
     "execution_count": 292,
     "metadata": {},
     "output_type": "execute_result"
    }
   ],
   "source": [
    "frame.resample('D').ffill(limit=2)\n",
    "#limit=2指定了填充次数"
   ]
  },
  {
   "cell_type": "code",
   "execution_count": 293,
   "metadata": {},
   "outputs": [
    {
     "data": {
      "text/html": [
       "<div>\n",
       "<style scoped>\n",
       "    .dataframe tbody tr th:only-of-type {\n",
       "        vertical-align: middle;\n",
       "    }\n",
       "\n",
       "    .dataframe tbody tr th {\n",
       "        vertical-align: top;\n",
       "    }\n",
       "\n",
       "    .dataframe thead th {\n",
       "        text-align: right;\n",
       "    }\n",
       "</style>\n",
       "<table border=\"1\" class=\"dataframe\">\n",
       "  <thead>\n",
       "    <tr style=\"text-align: right;\">\n",
       "      <th></th>\n",
       "      <th>Colorado</th>\n",
       "      <th>Texas</th>\n",
       "      <th>New York</th>\n",
       "      <th>Ohio</th>\n",
       "    </tr>\n",
       "  </thead>\n",
       "  <tbody>\n",
       "    <tr>\n",
       "      <th>2000-01-06</th>\n",
       "      <td>-0.058542</td>\n",
       "      <td>0.297694</td>\n",
       "      <td>0.023862</td>\n",
       "      <td>0.546709</td>\n",
       "    </tr>\n",
       "    <tr>\n",
       "      <th>2000-01-13</th>\n",
       "      <td>-0.679369</td>\n",
       "      <td>-0.891060</td>\n",
       "      <td>-1.855278</td>\n",
       "      <td>0.957798</td>\n",
       "    </tr>\n",
       "  </tbody>\n",
       "</table>\n",
       "</div>"
      ],
      "text/plain": [
       "            Colorado     Texas  New York      Ohio\n",
       "2000-01-06 -0.058542  0.297694  0.023862  0.546709\n",
       "2000-01-13 -0.679369 -0.891060 -1.855278  0.957798"
      ]
     },
     "execution_count": 293,
     "metadata": {},
     "output_type": "execute_result"
    }
   ],
   "source": [
    "frame.resample('W-THU').ffill(limit=2)\n",
    "#重采样后，新的日期索引可能和原始索引无交集"
   ]
  },
  {
   "cell_type": "markdown",
   "metadata": {},
   "source": [
    "### 通过时期进行重采样"
   ]
  },
  {
   "cell_type": "code",
   "execution_count": 294,
   "metadata": {},
   "outputs": [],
   "source": [
    "frame=pd.DataFrame(np.random.randn(24,4),\n",
    "                   index=pd.period_range('1-2000','12-2001',freq='M'),#索引是时间区间\n",
    "                   columns=['Colorado','Texas','New York','Ohio'])"
   ]
  },
  {
   "cell_type": "code",
   "execution_count": 295,
   "metadata": {},
   "outputs": [
    {
     "data": {
      "text/html": [
       "<div>\n",
       "<style scoped>\n",
       "    .dataframe tbody tr th:only-of-type {\n",
       "        vertical-align: middle;\n",
       "    }\n",
       "\n",
       "    .dataframe tbody tr th {\n",
       "        vertical-align: top;\n",
       "    }\n",
       "\n",
       "    .dataframe thead th {\n",
       "        text-align: right;\n",
       "    }\n",
       "</style>\n",
       "<table border=\"1\" class=\"dataframe\">\n",
       "  <thead>\n",
       "    <tr style=\"text-align: right;\">\n",
       "      <th></th>\n",
       "      <th>Colorado</th>\n",
       "      <th>Texas</th>\n",
       "      <th>New York</th>\n",
       "      <th>Ohio</th>\n",
       "    </tr>\n",
       "  </thead>\n",
       "  <tbody>\n",
       "    <tr>\n",
       "      <th>2000-01</th>\n",
       "      <td>-0.043466</td>\n",
       "      <td>0.826498</td>\n",
       "      <td>0.267714</td>\n",
       "      <td>-0.062214</td>\n",
       "    </tr>\n",
       "    <tr>\n",
       "      <th>2000-02</th>\n",
       "      <td>0.243709</td>\n",
       "      <td>-0.674784</td>\n",
       "      <td>0.955141</td>\n",
       "      <td>-1.613221</td>\n",
       "    </tr>\n",
       "    <tr>\n",
       "      <th>2000-03</th>\n",
       "      <td>-0.129383</td>\n",
       "      <td>-1.588340</td>\n",
       "      <td>0.182335</td>\n",
       "      <td>0.382449</td>\n",
       "    </tr>\n",
       "    <tr>\n",
       "      <th>2000-04</th>\n",
       "      <td>-1.301223</td>\n",
       "      <td>-0.564082</td>\n",
       "      <td>-0.404710</td>\n",
       "      <td>-0.161170</td>\n",
       "    </tr>\n",
       "    <tr>\n",
       "      <th>2000-05</th>\n",
       "      <td>1.704322</td>\n",
       "      <td>-1.263923</td>\n",
       "      <td>1.492525</td>\n",
       "      <td>0.898830</td>\n",
       "    </tr>\n",
       "    <tr>\n",
       "      <th>2000-06</th>\n",
       "      <td>0.635913</td>\n",
       "      <td>1.315801</td>\n",
       "      <td>-0.529879</td>\n",
       "      <td>-0.706349</td>\n",
       "    </tr>\n",
       "    <tr>\n",
       "      <th>2000-07</th>\n",
       "      <td>-0.488136</td>\n",
       "      <td>-1.662897</td>\n",
       "      <td>-0.295096</td>\n",
       "      <td>0.665014</td>\n",
       "    </tr>\n",
       "    <tr>\n",
       "      <th>2000-08</th>\n",
       "      <td>0.884866</td>\n",
       "      <td>-0.834108</td>\n",
       "      <td>1.843319</td>\n",
       "      <td>-1.582057</td>\n",
       "    </tr>\n",
       "    <tr>\n",
       "      <th>2000-09</th>\n",
       "      <td>-0.544086</td>\n",
       "      <td>-1.386402</td>\n",
       "      <td>0.231855</td>\n",
       "      <td>0.723259</td>\n",
       "    </tr>\n",
       "    <tr>\n",
       "      <th>2000-10</th>\n",
       "      <td>0.000855</td>\n",
       "      <td>-0.799157</td>\n",
       "      <td>1.801308</td>\n",
       "      <td>1.806449</td>\n",
       "    </tr>\n",
       "    <tr>\n",
       "      <th>2000-11</th>\n",
       "      <td>-0.195147</td>\n",
       "      <td>-1.130257</td>\n",
       "      <td>-1.379900</td>\n",
       "      <td>-1.021107</td>\n",
       "    </tr>\n",
       "    <tr>\n",
       "      <th>2000-12</th>\n",
       "      <td>-2.336090</td>\n",
       "      <td>-0.487046</td>\n",
       "      <td>-1.553771</td>\n",
       "      <td>1.575225</td>\n",
       "    </tr>\n",
       "    <tr>\n",
       "      <th>2001-01</th>\n",
       "      <td>-0.976491</td>\n",
       "      <td>-2.137025</td>\n",
       "      <td>1.629185</td>\n",
       "      <td>-0.875792</td>\n",
       "    </tr>\n",
       "    <tr>\n",
       "      <th>2001-02</th>\n",
       "      <td>-0.087252</td>\n",
       "      <td>0.026951</td>\n",
       "      <td>-0.038792</td>\n",
       "      <td>0.967275</td>\n",
       "    </tr>\n",
       "    <tr>\n",
       "      <th>2001-03</th>\n",
       "      <td>-1.044867</td>\n",
       "      <td>0.130272</td>\n",
       "      <td>-0.351501</td>\n",
       "      <td>0.083346</td>\n",
       "    </tr>\n",
       "    <tr>\n",
       "      <th>2001-04</th>\n",
       "      <td>0.493554</td>\n",
       "      <td>0.419504</td>\n",
       "      <td>0.221185</td>\n",
       "      <td>0.836299</td>\n",
       "    </tr>\n",
       "    <tr>\n",
       "      <th>2001-05</th>\n",
       "      <td>-1.480323</td>\n",
       "      <td>0.231300</td>\n",
       "      <td>1.106716</td>\n",
       "      <td>-2.293538</td>\n",
       "    </tr>\n",
       "    <tr>\n",
       "      <th>2001-06</th>\n",
       "      <td>-0.848380</td>\n",
       "      <td>2.663374</td>\n",
       "      <td>1.615056</td>\n",
       "      <td>1.224409</td>\n",
       "    </tr>\n",
       "    <tr>\n",
       "      <th>2001-07</th>\n",
       "      <td>0.056527</td>\n",
       "      <td>-2.471788</td>\n",
       "      <td>1.411619</td>\n",
       "      <td>-0.052080</td>\n",
       "    </tr>\n",
       "    <tr>\n",
       "      <th>2001-08</th>\n",
       "      <td>0.453195</td>\n",
       "      <td>-0.362179</td>\n",
       "      <td>-1.004456</td>\n",
       "      <td>0.438564</td>\n",
       "    </tr>\n",
       "    <tr>\n",
       "      <th>2001-09</th>\n",
       "      <td>0.546004</td>\n",
       "      <td>0.676995</td>\n",
       "      <td>-1.382043</td>\n",
       "      <td>1.688157</td>\n",
       "    </tr>\n",
       "    <tr>\n",
       "      <th>2001-10</th>\n",
       "      <td>0.372552</td>\n",
       "      <td>-0.853556</td>\n",
       "      <td>0.866545</td>\n",
       "      <td>-0.322932</td>\n",
       "    </tr>\n",
       "    <tr>\n",
       "      <th>2001-11</th>\n",
       "      <td>1.031907</td>\n",
       "      <td>-0.688609</td>\n",
       "      <td>-0.529067</td>\n",
       "      <td>-0.127337</td>\n",
       "    </tr>\n",
       "    <tr>\n",
       "      <th>2001-12</th>\n",
       "      <td>1.663883</td>\n",
       "      <td>0.081584</td>\n",
       "      <td>0.154311</td>\n",
       "      <td>1.637933</td>\n",
       "    </tr>\n",
       "  </tbody>\n",
       "</table>\n",
       "</div>"
      ],
      "text/plain": [
       "         Colorado     Texas  New York      Ohio\n",
       "2000-01 -0.043466  0.826498  0.267714 -0.062214\n",
       "2000-02  0.243709 -0.674784  0.955141 -1.613221\n",
       "2000-03 -0.129383 -1.588340  0.182335  0.382449\n",
       "2000-04 -1.301223 -0.564082 -0.404710 -0.161170\n",
       "2000-05  1.704322 -1.263923  1.492525  0.898830\n",
       "2000-06  0.635913  1.315801 -0.529879 -0.706349\n",
       "2000-07 -0.488136 -1.662897 -0.295096  0.665014\n",
       "2000-08  0.884866 -0.834108  1.843319 -1.582057\n",
       "2000-09 -0.544086 -1.386402  0.231855  0.723259\n",
       "2000-10  0.000855 -0.799157  1.801308  1.806449\n",
       "2000-11 -0.195147 -1.130257 -1.379900 -1.021107\n",
       "2000-12 -2.336090 -0.487046 -1.553771  1.575225\n",
       "2001-01 -0.976491 -2.137025  1.629185 -0.875792\n",
       "2001-02 -0.087252  0.026951 -0.038792  0.967275\n",
       "2001-03 -1.044867  0.130272 -0.351501  0.083346\n",
       "2001-04  0.493554  0.419504  0.221185  0.836299\n",
       "2001-05 -1.480323  0.231300  1.106716 -2.293538\n",
       "2001-06 -0.848380  2.663374  1.615056  1.224409\n",
       "2001-07  0.056527 -2.471788  1.411619 -0.052080\n",
       "2001-08  0.453195 -0.362179 -1.004456  0.438564\n",
       "2001-09  0.546004  0.676995 -1.382043  1.688157\n",
       "2001-10  0.372552 -0.853556  0.866545 -0.322932\n",
       "2001-11  1.031907 -0.688609 -0.529067 -0.127337\n",
       "2001-12  1.663883  0.081584  0.154311  1.637933"
      ]
     },
     "execution_count": 295,
     "metadata": {},
     "output_type": "execute_result"
    }
   ],
   "source": [
    "frame"
   ]
  },
  {
   "cell_type": "code",
   "execution_count": 296,
   "metadata": {},
   "outputs": [],
   "source": [
    "annual_frame=frame.resample('A-DEC').mean()"
   ]
  },
  {
   "cell_type": "code",
   "execution_count": 297,
   "metadata": {},
   "outputs": [
    {
     "data": {
      "text/plain": [
       "PeriodIndex(['2000-01', '2000-02', '2000-03', '2000-04', '2000-05', '2000-06',\n",
       "             '2000-07', '2000-08', '2000-09', '2000-10', '2000-11', '2000-12',\n",
       "             '2001-01', '2001-02', '2001-03', '2001-04', '2001-05', '2001-06',\n",
       "             '2001-07', '2001-08', '2001-09', '2001-10', '2001-11', '2001-12'],\n",
       "            dtype='period[M]', freq='M')"
      ]
     },
     "execution_count": 297,
     "metadata": {},
     "output_type": "execute_result"
    }
   ],
   "source": [
    "frame.index"
   ]
  },
  {
   "cell_type": "code",
   "execution_count": 298,
   "metadata": {},
   "outputs": [
    {
     "data": {
      "text/html": [
       "<div>\n",
       "<style scoped>\n",
       "    .dataframe tbody tr th:only-of-type {\n",
       "        vertical-align: middle;\n",
       "    }\n",
       "\n",
       "    .dataframe tbody tr th {\n",
       "        vertical-align: top;\n",
       "    }\n",
       "\n",
       "    .dataframe thead th {\n",
       "        text-align: right;\n",
       "    }\n",
       "</style>\n",
       "<table border=\"1\" class=\"dataframe\">\n",
       "  <thead>\n",
       "    <tr style=\"text-align: right;\">\n",
       "      <th></th>\n",
       "      <th>Colorado</th>\n",
       "      <th>Texas</th>\n",
       "      <th>New York</th>\n",
       "      <th>Ohio</th>\n",
       "    </tr>\n",
       "  </thead>\n",
       "  <tbody>\n",
       "    <tr>\n",
       "      <th>2000</th>\n",
       "      <td>-0.130655</td>\n",
       "      <td>-0.687391</td>\n",
       "      <td>0.21757</td>\n",
       "      <td>0.075426</td>\n",
       "    </tr>\n",
       "    <tr>\n",
       "      <th>2001</th>\n",
       "      <td>0.015026</td>\n",
       "      <td>-0.190265</td>\n",
       "      <td>0.30823</td>\n",
       "      <td>0.267025</td>\n",
       "    </tr>\n",
       "  </tbody>\n",
       "</table>\n",
       "</div>"
      ],
      "text/plain": [
       "      Colorado     Texas  New York      Ohio\n",
       "2000 -0.130655 -0.687391   0.21757  0.075426\n",
       "2001  0.015026 -0.190265   0.30823  0.267025"
      ]
     },
     "execution_count": 298,
     "metadata": {},
     "output_type": "execute_result"
    }
   ],
   "source": [
    "annual_frame"
   ]
  },
  {
   "cell_type": "code",
   "execution_count": 299,
   "metadata": {},
   "outputs": [
    {
     "data": {
      "text/html": [
       "<div>\n",
       "<style scoped>\n",
       "    .dataframe tbody tr th:only-of-type {\n",
       "        vertical-align: middle;\n",
       "    }\n",
       "\n",
       "    .dataframe tbody tr th {\n",
       "        vertical-align: top;\n",
       "    }\n",
       "\n",
       "    .dataframe thead th {\n",
       "        text-align: right;\n",
       "    }\n",
       "</style>\n",
       "<table border=\"1\" class=\"dataframe\">\n",
       "  <thead>\n",
       "    <tr style=\"text-align: right;\">\n",
       "      <th></th>\n",
       "      <th>Colorado</th>\n",
       "      <th>Texas</th>\n",
       "      <th>New York</th>\n",
       "      <th>Ohio</th>\n",
       "    </tr>\n",
       "  </thead>\n",
       "  <tbody>\n",
       "    <tr>\n",
       "      <th>2000Q1</th>\n",
       "      <td>-0.130655</td>\n",
       "      <td>-0.687391</td>\n",
       "      <td>0.21757</td>\n",
       "      <td>0.075426</td>\n",
       "    </tr>\n",
       "    <tr>\n",
       "      <th>2000Q2</th>\n",
       "      <td>-0.130655</td>\n",
       "      <td>-0.687391</td>\n",
       "      <td>0.21757</td>\n",
       "      <td>0.075426</td>\n",
       "    </tr>\n",
       "    <tr>\n",
       "      <th>2000Q3</th>\n",
       "      <td>-0.130655</td>\n",
       "      <td>-0.687391</td>\n",
       "      <td>0.21757</td>\n",
       "      <td>0.075426</td>\n",
       "    </tr>\n",
       "    <tr>\n",
       "      <th>2000Q4</th>\n",
       "      <td>-0.130655</td>\n",
       "      <td>-0.687391</td>\n",
       "      <td>0.21757</td>\n",
       "      <td>0.075426</td>\n",
       "    </tr>\n",
       "    <tr>\n",
       "      <th>2001Q1</th>\n",
       "      <td>0.015026</td>\n",
       "      <td>-0.190265</td>\n",
       "      <td>0.30823</td>\n",
       "      <td>0.267025</td>\n",
       "    </tr>\n",
       "    <tr>\n",
       "      <th>2001Q2</th>\n",
       "      <td>0.015026</td>\n",
       "      <td>-0.190265</td>\n",
       "      <td>0.30823</td>\n",
       "      <td>0.267025</td>\n",
       "    </tr>\n",
       "    <tr>\n",
       "      <th>2001Q3</th>\n",
       "      <td>0.015026</td>\n",
       "      <td>-0.190265</td>\n",
       "      <td>0.30823</td>\n",
       "      <td>0.267025</td>\n",
       "    </tr>\n",
       "    <tr>\n",
       "      <th>2001Q4</th>\n",
       "      <td>0.015026</td>\n",
       "      <td>-0.190265</td>\n",
       "      <td>0.30823</td>\n",
       "      <td>0.267025</td>\n",
       "    </tr>\n",
       "  </tbody>\n",
       "</table>\n",
       "</div>"
      ],
      "text/plain": [
       "        Colorado     Texas  New York      Ohio\n",
       "2000Q1 -0.130655 -0.687391   0.21757  0.075426\n",
       "2000Q2 -0.130655 -0.687391   0.21757  0.075426\n",
       "2000Q3 -0.130655 -0.687391   0.21757  0.075426\n",
       "2000Q4 -0.130655 -0.687391   0.21757  0.075426\n",
       "2001Q1  0.015026 -0.190265   0.30823  0.267025\n",
       "2001Q2  0.015026 -0.190265   0.30823  0.267025\n",
       "2001Q3  0.015026 -0.190265   0.30823  0.267025\n",
       "2001Q4  0.015026 -0.190265   0.30823  0.267025"
      ]
     },
     "execution_count": 299,
     "metadata": {},
     "output_type": "execute_result"
    }
   ],
   "source": [
    "annual_frame.resample('Q-DEC').ffill()\n",
    "#升采样，填充值ffill"
   ]
  },
  {
   "cell_type": "code",
   "execution_count": 300,
   "metadata": {},
   "outputs": [
    {
     "data": {
      "text/html": [
       "<div>\n",
       "<style scoped>\n",
       "    .dataframe tbody tr th:only-of-type {\n",
       "        vertical-align: middle;\n",
       "    }\n",
       "\n",
       "    .dataframe tbody tr th {\n",
       "        vertical-align: top;\n",
       "    }\n",
       "\n",
       "    .dataframe thead th {\n",
       "        text-align: right;\n",
       "    }\n",
       "</style>\n",
       "<table border=\"1\" class=\"dataframe\">\n",
       "  <thead>\n",
       "    <tr style=\"text-align: right;\">\n",
       "      <th></th>\n",
       "      <th>Colorado</th>\n",
       "      <th>Texas</th>\n",
       "      <th>New York</th>\n",
       "      <th>Ohio</th>\n",
       "    </tr>\n",
       "  </thead>\n",
       "  <tbody>\n",
       "    <tr>\n",
       "      <th>2000Q4</th>\n",
       "      <td>-0.130655</td>\n",
       "      <td>-0.687391</td>\n",
       "      <td>0.21757</td>\n",
       "      <td>0.075426</td>\n",
       "    </tr>\n",
       "    <tr>\n",
       "      <th>2001Q1</th>\n",
       "      <td>-0.130655</td>\n",
       "      <td>-0.687391</td>\n",
       "      <td>0.21757</td>\n",
       "      <td>0.075426</td>\n",
       "    </tr>\n",
       "    <tr>\n",
       "      <th>2001Q2</th>\n",
       "      <td>-0.130655</td>\n",
       "      <td>-0.687391</td>\n",
       "      <td>0.21757</td>\n",
       "      <td>0.075426</td>\n",
       "    </tr>\n",
       "    <tr>\n",
       "      <th>2001Q3</th>\n",
       "      <td>-0.130655</td>\n",
       "      <td>-0.687391</td>\n",
       "      <td>0.21757</td>\n",
       "      <td>0.075426</td>\n",
       "    </tr>\n",
       "    <tr>\n",
       "      <th>2001Q4</th>\n",
       "      <td>0.015026</td>\n",
       "      <td>-0.190265</td>\n",
       "      <td>0.30823</td>\n",
       "      <td>0.267025</td>\n",
       "    </tr>\n",
       "  </tbody>\n",
       "</table>\n",
       "</div>"
      ],
      "text/plain": [
       "        Colorado     Texas  New York      Ohio\n",
       "2000Q4 -0.130655 -0.687391   0.21757  0.075426\n",
       "2001Q1 -0.130655 -0.687391   0.21757  0.075426\n",
       "2001Q2 -0.130655 -0.687391   0.21757  0.075426\n",
       "2001Q3 -0.130655 -0.687391   0.21757  0.075426\n",
       "2001Q4  0.015026 -0.190265   0.30823  0.267025"
      ]
     },
     "execution_count": 300,
     "metadata": {},
     "output_type": "execute_result"
    }
   ],
   "source": [
    "annual_frame.resample('Q-DEC',convention='end').ffill()\n",
    "#升采样，使用convention参数传递是从各区间的起点还是终点放置原来的值\n",
    "#默认使用end"
   ]
  },
  {
   "cell_type": "code",
   "execution_count": 301,
   "metadata": {},
   "outputs": [
    {
     "data": {
      "text/html": [
       "<div>\n",
       "<style scoped>\n",
       "    .dataframe tbody tr th:only-of-type {\n",
       "        vertical-align: middle;\n",
       "    }\n",
       "\n",
       "    .dataframe tbody tr th {\n",
       "        vertical-align: top;\n",
       "    }\n",
       "\n",
       "    .dataframe thead th {\n",
       "        text-align: right;\n",
       "    }\n",
       "</style>\n",
       "<table border=\"1\" class=\"dataframe\">\n",
       "  <thead>\n",
       "    <tr style=\"text-align: right;\">\n",
       "      <th></th>\n",
       "      <th>Colorado</th>\n",
       "      <th>Texas</th>\n",
       "      <th>New York</th>\n",
       "      <th>Ohio</th>\n",
       "    </tr>\n",
       "  </thead>\n",
       "  <tbody>\n",
       "    <tr>\n",
       "      <th>2000Q1</th>\n",
       "      <td>-0.130655</td>\n",
       "      <td>-0.687391</td>\n",
       "      <td>0.21757</td>\n",
       "      <td>0.075426</td>\n",
       "    </tr>\n",
       "    <tr>\n",
       "      <th>2000Q2</th>\n",
       "      <td>-0.130655</td>\n",
       "      <td>-0.687391</td>\n",
       "      <td>0.21757</td>\n",
       "      <td>0.075426</td>\n",
       "    </tr>\n",
       "    <tr>\n",
       "      <th>2000Q3</th>\n",
       "      <td>-0.130655</td>\n",
       "      <td>-0.687391</td>\n",
       "      <td>0.21757</td>\n",
       "      <td>0.075426</td>\n",
       "    </tr>\n",
       "    <tr>\n",
       "      <th>2000Q4</th>\n",
       "      <td>-0.130655</td>\n",
       "      <td>-0.687391</td>\n",
       "      <td>0.21757</td>\n",
       "      <td>0.075426</td>\n",
       "    </tr>\n",
       "    <tr>\n",
       "      <th>2001Q1</th>\n",
       "      <td>0.015026</td>\n",
       "      <td>-0.190265</td>\n",
       "      <td>0.30823</td>\n",
       "      <td>0.267025</td>\n",
       "    </tr>\n",
       "    <tr>\n",
       "      <th>2001Q2</th>\n",
       "      <td>0.015026</td>\n",
       "      <td>-0.190265</td>\n",
       "      <td>0.30823</td>\n",
       "      <td>0.267025</td>\n",
       "    </tr>\n",
       "    <tr>\n",
       "      <th>2001Q3</th>\n",
       "      <td>0.015026</td>\n",
       "      <td>-0.190265</td>\n",
       "      <td>0.30823</td>\n",
       "      <td>0.267025</td>\n",
       "    </tr>\n",
       "    <tr>\n",
       "      <th>2001Q4</th>\n",
       "      <td>0.015026</td>\n",
       "      <td>-0.190265</td>\n",
       "      <td>0.30823</td>\n",
       "      <td>0.267025</td>\n",
       "    </tr>\n",
       "  </tbody>\n",
       "</table>\n",
       "</div>"
      ],
      "text/plain": [
       "        Colorado     Texas  New York      Ohio\n",
       "2000Q1 -0.130655 -0.687391   0.21757  0.075426\n",
       "2000Q2 -0.130655 -0.687391   0.21757  0.075426\n",
       "2000Q3 -0.130655 -0.687391   0.21757  0.075426\n",
       "2000Q4 -0.130655 -0.687391   0.21757  0.075426\n",
       "2001Q1  0.015026 -0.190265   0.30823  0.267025\n",
       "2001Q2  0.015026 -0.190265   0.30823  0.267025\n",
       "2001Q3  0.015026 -0.190265   0.30823  0.267025\n",
       "2001Q4  0.015026 -0.190265   0.30823  0.267025"
      ]
     },
     "execution_count": 301,
     "metadata": {},
     "output_type": "execute_result"
    }
   ],
   "source": [
    "annual_frame.resample('Q-DEC',convention='start').ffill()\n",
    "#声明用start，则在区间的起点放置原来的值\n",
    "#ffill方法使用前向值填充"
   ]
  },
  {
   "cell_type": "code",
   "execution_count": 302,
   "metadata": {},
   "outputs": [
    {
     "data": {
      "text/html": [
       "<div>\n",
       "<style scoped>\n",
       "    .dataframe tbody tr th:only-of-type {\n",
       "        vertical-align: middle;\n",
       "    }\n",
       "\n",
       "    .dataframe tbody tr th {\n",
       "        vertical-align: top;\n",
       "    }\n",
       "\n",
       "    .dataframe thead th {\n",
       "        text-align: right;\n",
       "    }\n",
       "</style>\n",
       "<table border=\"1\" class=\"dataframe\">\n",
       "  <thead>\n",
       "    <tr style=\"text-align: right;\">\n",
       "      <th></th>\n",
       "      <th>Colorado</th>\n",
       "      <th>Texas</th>\n",
       "      <th>New York</th>\n",
       "      <th>Ohio</th>\n",
       "    </tr>\n",
       "  </thead>\n",
       "  <tbody>\n",
       "    <tr>\n",
       "      <th>2000Q1</th>\n",
       "      <td>-0.130655</td>\n",
       "      <td>-0.687391</td>\n",
       "      <td>0.21757</td>\n",
       "      <td>0.075426</td>\n",
       "    </tr>\n",
       "    <tr>\n",
       "      <th>2000Q2</th>\n",
       "      <td>NaN</td>\n",
       "      <td>NaN</td>\n",
       "      <td>NaN</td>\n",
       "      <td>NaN</td>\n",
       "    </tr>\n",
       "    <tr>\n",
       "      <th>2000Q3</th>\n",
       "      <td>NaN</td>\n",
       "      <td>NaN</td>\n",
       "      <td>NaN</td>\n",
       "      <td>NaN</td>\n",
       "    </tr>\n",
       "    <tr>\n",
       "      <th>2000Q4</th>\n",
       "      <td>NaN</td>\n",
       "      <td>NaN</td>\n",
       "      <td>NaN</td>\n",
       "      <td>NaN</td>\n",
       "    </tr>\n",
       "    <tr>\n",
       "      <th>2001Q1</th>\n",
       "      <td>0.015026</td>\n",
       "      <td>-0.190265</td>\n",
       "      <td>0.30823</td>\n",
       "      <td>0.267025</td>\n",
       "    </tr>\n",
       "    <tr>\n",
       "      <th>2001Q2</th>\n",
       "      <td>NaN</td>\n",
       "      <td>NaN</td>\n",
       "      <td>NaN</td>\n",
       "      <td>NaN</td>\n",
       "    </tr>\n",
       "    <tr>\n",
       "      <th>2001Q3</th>\n",
       "      <td>NaN</td>\n",
       "      <td>NaN</td>\n",
       "      <td>NaN</td>\n",
       "      <td>NaN</td>\n",
       "    </tr>\n",
       "    <tr>\n",
       "      <th>2001Q4</th>\n",
       "      <td>NaN</td>\n",
       "      <td>NaN</td>\n",
       "      <td>NaN</td>\n",
       "      <td>NaN</td>\n",
       "    </tr>\n",
       "  </tbody>\n",
       "</table>\n",
       "</div>"
      ],
      "text/plain": [
       "        Colorado     Texas  New York      Ohio\n",
       "2000Q1 -0.130655 -0.687391   0.21757  0.075426\n",
       "2000Q2       NaN       NaN       NaN       NaN\n",
       "2000Q3       NaN       NaN       NaN       NaN\n",
       "2000Q4       NaN       NaN       NaN       NaN\n",
       "2001Q1  0.015026 -0.190265   0.30823  0.267025\n",
       "2001Q2       NaN       NaN       NaN       NaN\n",
       "2001Q3       NaN       NaN       NaN       NaN\n",
       "2001Q4       NaN       NaN       NaN       NaN"
      ]
     },
     "execution_count": 302,
     "metadata": {},
     "output_type": "execute_result"
    }
   ],
   "source": [
    "annual_frame.resample('Q-DEC',convention='start').asfreq()\n",
    "#不填充,需要使用asfreq()，否则不显示df\n",
    "#为什么不显示？\n",
    "#类似于groupby？"
   ]
  },
  {
   "cell_type": "code",
   "execution_count": 303,
   "metadata": {},
   "outputs": [
    {
     "data": {
      "text/plain": [
       "PeriodIndexResampler [freq=<QuarterEnd: startingMonth=12>, axis=0, closed=right, label=right, convention=start, base=0]"
      ]
     },
     "execution_count": 303,
     "metadata": {},
     "output_type": "execute_result"
    }
   ],
   "source": [
    "annual_frame.resample('Q-DEC',convention='start')"
   ]
  },
  {
   "cell_type": "code",
   "execution_count": 304,
   "metadata": {},
   "outputs": [
    {
     "data": {
      "text/html": [
       "<div>\n",
       "<style scoped>\n",
       "    .dataframe tbody tr th:only-of-type {\n",
       "        vertical-align: middle;\n",
       "    }\n",
       "\n",
       "    .dataframe tbody tr th {\n",
       "        vertical-align: top;\n",
       "    }\n",
       "\n",
       "    .dataframe thead th {\n",
       "        text-align: right;\n",
       "    }\n",
       "</style>\n",
       "<table border=\"1\" class=\"dataframe\">\n",
       "  <thead>\n",
       "    <tr style=\"text-align: right;\">\n",
       "      <th></th>\n",
       "      <th>Colorado</th>\n",
       "      <th>Texas</th>\n",
       "      <th>New York</th>\n",
       "      <th>Ohio</th>\n",
       "    </tr>\n",
       "  </thead>\n",
       "  <tbody>\n",
       "    <tr>\n",
       "      <th>2000Q4</th>\n",
       "      <td>-0.130655</td>\n",
       "      <td>-0.687391</td>\n",
       "      <td>0.21757</td>\n",
       "      <td>0.075426</td>\n",
       "    </tr>\n",
       "    <tr>\n",
       "      <th>2001Q1</th>\n",
       "      <td>-0.130655</td>\n",
       "      <td>-0.687391</td>\n",
       "      <td>0.21757</td>\n",
       "      <td>0.075426</td>\n",
       "    </tr>\n",
       "    <tr>\n",
       "      <th>2001Q2</th>\n",
       "      <td>-0.130655</td>\n",
       "      <td>-0.687391</td>\n",
       "      <td>0.21757</td>\n",
       "      <td>0.075426</td>\n",
       "    </tr>\n",
       "    <tr>\n",
       "      <th>2001Q3</th>\n",
       "      <td>-0.130655</td>\n",
       "      <td>-0.687391</td>\n",
       "      <td>0.21757</td>\n",
       "      <td>0.075426</td>\n",
       "    </tr>\n",
       "    <tr>\n",
       "      <th>2001Q4</th>\n",
       "      <td>0.015026</td>\n",
       "      <td>-0.190265</td>\n",
       "      <td>0.30823</td>\n",
       "      <td>0.267025</td>\n",
       "    </tr>\n",
       "    <tr>\n",
       "      <th>2002Q1</th>\n",
       "      <td>0.015026</td>\n",
       "      <td>-0.190265</td>\n",
       "      <td>0.30823</td>\n",
       "      <td>0.267025</td>\n",
       "    </tr>\n",
       "    <tr>\n",
       "      <th>2002Q2</th>\n",
       "      <td>0.015026</td>\n",
       "      <td>-0.190265</td>\n",
       "      <td>0.30823</td>\n",
       "      <td>0.267025</td>\n",
       "    </tr>\n",
       "    <tr>\n",
       "      <th>2002Q3</th>\n",
       "      <td>0.015026</td>\n",
       "      <td>-0.190265</td>\n",
       "      <td>0.30823</td>\n",
       "      <td>0.267025</td>\n",
       "    </tr>\n",
       "  </tbody>\n",
       "</table>\n",
       "</div>"
      ],
      "text/plain": [
       "        Colorado     Texas  New York      Ohio\n",
       "2000Q4 -0.130655 -0.687391   0.21757  0.075426\n",
       "2001Q1 -0.130655 -0.687391   0.21757  0.075426\n",
       "2001Q2 -0.130655 -0.687391   0.21757  0.075426\n",
       "2001Q3 -0.130655 -0.687391   0.21757  0.075426\n",
       "2001Q4  0.015026 -0.190265   0.30823  0.267025\n",
       "2002Q1  0.015026 -0.190265   0.30823  0.267025\n",
       "2002Q2  0.015026 -0.190265   0.30823  0.267025\n",
       "2002Q3  0.015026 -0.190265   0.30823  0.267025"
      ]
     },
     "execution_count": 304,
     "metadata": {},
     "output_type": "execute_result"
    }
   ],
   "source": [
    "annual_frame.resample('Q-MAR').ffill()"
   ]
  },
  {
   "cell_type": "code",
   "execution_count": 305,
   "metadata": {},
   "outputs": [],
   "source": [
    "#annual_frame.resample('Q-MAR').ffill().resample('A-JAN').count()\n",
    "#会报错\n",
    "#IncompatibleFrequency: Frequency <QuarterEnd: startingMonth=3> cannot be resampled to <YearEnd: month=1>, as they are not sub or super periods\n",
    "#由Q-MAR定义的时间区间只能升采样为A-MAR,A-JUN,A-SEP,A-DEC等\n"
   ]
  },
  {
   "cell_type": "code",
   "execution_count": 306,
   "metadata": {},
   "outputs": [],
   "source": [
    "qf=annual_frame.resample('Q-MAR').ffill()"
   ]
  },
  {
   "cell_type": "code",
   "execution_count": 307,
   "metadata": {},
   "outputs": [
    {
     "data": {
      "text/html": [
       "<div>\n",
       "<style scoped>\n",
       "    .dataframe tbody tr th:only-of-type {\n",
       "        vertical-align: middle;\n",
       "    }\n",
       "\n",
       "    .dataframe tbody tr th {\n",
       "        vertical-align: top;\n",
       "    }\n",
       "\n",
       "    .dataframe thead th {\n",
       "        text-align: right;\n",
       "    }\n",
       "</style>\n",
       "<table border=\"1\" class=\"dataframe\">\n",
       "  <thead>\n",
       "    <tr style=\"text-align: right;\">\n",
       "      <th></th>\n",
       "      <th>Colorado</th>\n",
       "      <th>Texas</th>\n",
       "      <th>New York</th>\n",
       "      <th>Ohio</th>\n",
       "    </tr>\n",
       "  </thead>\n",
       "  <tbody>\n",
       "    <tr>\n",
       "      <th>2000Q4</th>\n",
       "      <td>-0.130655</td>\n",
       "      <td>-0.687391</td>\n",
       "      <td>0.21757</td>\n",
       "      <td>0.075426</td>\n",
       "    </tr>\n",
       "    <tr>\n",
       "      <th>2001Q1</th>\n",
       "      <td>-0.130655</td>\n",
       "      <td>-0.687391</td>\n",
       "      <td>0.21757</td>\n",
       "      <td>0.075426</td>\n",
       "    </tr>\n",
       "    <tr>\n",
       "      <th>2001Q2</th>\n",
       "      <td>-0.130655</td>\n",
       "      <td>-0.687391</td>\n",
       "      <td>0.21757</td>\n",
       "      <td>0.075426</td>\n",
       "    </tr>\n",
       "    <tr>\n",
       "      <th>2001Q3</th>\n",
       "      <td>-0.130655</td>\n",
       "      <td>-0.687391</td>\n",
       "      <td>0.21757</td>\n",
       "      <td>0.075426</td>\n",
       "    </tr>\n",
       "    <tr>\n",
       "      <th>2001Q4</th>\n",
       "      <td>0.015026</td>\n",
       "      <td>-0.190265</td>\n",
       "      <td>0.30823</td>\n",
       "      <td>0.267025</td>\n",
       "    </tr>\n",
       "    <tr>\n",
       "      <th>2002Q1</th>\n",
       "      <td>0.015026</td>\n",
       "      <td>-0.190265</td>\n",
       "      <td>0.30823</td>\n",
       "      <td>0.267025</td>\n",
       "    </tr>\n",
       "    <tr>\n",
       "      <th>2002Q2</th>\n",
       "      <td>0.015026</td>\n",
       "      <td>-0.190265</td>\n",
       "      <td>0.30823</td>\n",
       "      <td>0.267025</td>\n",
       "    </tr>\n",
       "    <tr>\n",
       "      <th>2002Q3</th>\n",
       "      <td>0.015026</td>\n",
       "      <td>-0.190265</td>\n",
       "      <td>0.30823</td>\n",
       "      <td>0.267025</td>\n",
       "    </tr>\n",
       "  </tbody>\n",
       "</table>\n",
       "</div>"
      ],
      "text/plain": [
       "        Colorado     Texas  New York      Ohio\n",
       "2000Q4 -0.130655 -0.687391   0.21757  0.075426\n",
       "2001Q1 -0.130655 -0.687391   0.21757  0.075426\n",
       "2001Q2 -0.130655 -0.687391   0.21757  0.075426\n",
       "2001Q3 -0.130655 -0.687391   0.21757  0.075426\n",
       "2001Q4  0.015026 -0.190265   0.30823  0.267025\n",
       "2002Q1  0.015026 -0.190265   0.30823  0.267025\n",
       "2002Q2  0.015026 -0.190265   0.30823  0.267025\n",
       "2002Q3  0.015026 -0.190265   0.30823  0.267025"
      ]
     },
     "execution_count": 307,
     "metadata": {},
     "output_type": "execute_result"
    }
   ],
   "source": [
    "qf"
   ]
  },
  {
   "cell_type": "code",
   "execution_count": 308,
   "metadata": {},
   "outputs": [
    {
     "data": {
      "text/html": [
       "<div>\n",
       "<style scoped>\n",
       "    .dataframe tbody tr th:only-of-type {\n",
       "        vertical-align: middle;\n",
       "    }\n",
       "\n",
       "    .dataframe tbody tr th {\n",
       "        vertical-align: top;\n",
       "    }\n",
       "\n",
       "    .dataframe thead th {\n",
       "        text-align: right;\n",
       "    }\n",
       "</style>\n",
       "<table border=\"1\" class=\"dataframe\">\n",
       "  <thead>\n",
       "    <tr style=\"text-align: right;\">\n",
       "      <th></th>\n",
       "      <th>Colorado</th>\n",
       "      <th>Texas</th>\n",
       "      <th>New York</th>\n",
       "      <th>Ohio</th>\n",
       "    </tr>\n",
       "  </thead>\n",
       "  <tbody>\n",
       "    <tr>\n",
       "      <th>2000</th>\n",
       "      <td>2</td>\n",
       "      <td>2</td>\n",
       "      <td>2</td>\n",
       "      <td>2</td>\n",
       "    </tr>\n",
       "    <tr>\n",
       "      <th>2001</th>\n",
       "      <td>4</td>\n",
       "      <td>4</td>\n",
       "      <td>4</td>\n",
       "      <td>4</td>\n",
       "    </tr>\n",
       "    <tr>\n",
       "      <th>2002</th>\n",
       "      <td>2</td>\n",
       "      <td>2</td>\n",
       "      <td>2</td>\n",
       "      <td>2</td>\n",
       "    </tr>\n",
       "  </tbody>\n",
       "</table>\n",
       "</div>"
      ],
      "text/plain": [
       "      Colorado  Texas  New York  Ohio\n",
       "2000         2      2         2     2\n",
       "2001         4      4         4     4\n",
       "2002         2      2         2     2"
      ]
     },
     "execution_count": 308,
     "metadata": {},
     "output_type": "execute_result"
    }
   ],
   "source": [
    "qf.resample('A-JUN').count()"
   ]
  },
  {
   "cell_type": "code",
   "execution_count": 309,
   "metadata": {},
   "outputs": [],
   "source": [
    "#qf.resample('A-JAN').count()\n",
    "#IncompatibleFrequency: Frequency <QuarterEnd: startingMonth=3> cannot be resampled to <YearEnd: month=1>, as they are not sub or super periods\n"
   ]
  },
  {
   "cell_type": "markdown",
   "metadata": {},
   "source": [
    "## 11.7 移动窗口函数"
   ]
  },
  {
   "cell_type": "code",
   "execution_count": 310,
   "metadata": {},
   "outputs": [],
   "source": [
    "close_px_all=pd.read_csv('examples/stock_px_2.csv',parse_dates=True,index_col=0)"
   ]
  },
  {
   "cell_type": "code",
   "execution_count": 311,
   "metadata": {},
   "outputs": [],
   "source": [
    "close_px=close_px_all[['AAPL','MSFT','XOM']]"
   ]
  },
  {
   "cell_type": "code",
   "execution_count": 312,
   "metadata": {},
   "outputs": [],
   "source": [
    "close_px=close_px.resample('B').ffill()"
   ]
  },
  {
   "cell_type": "code",
   "execution_count": 313,
   "metadata": {},
   "outputs": [
    {
     "data": {
      "text/html": [
       "<div>\n",
       "<style scoped>\n",
       "    .dataframe tbody tr th:only-of-type {\n",
       "        vertical-align: middle;\n",
       "    }\n",
       "\n",
       "    .dataframe tbody tr th {\n",
       "        vertical-align: top;\n",
       "    }\n",
       "\n",
       "    .dataframe thead th {\n",
       "        text-align: right;\n",
       "    }\n",
       "</style>\n",
       "<table border=\"1\" class=\"dataframe\">\n",
       "  <thead>\n",
       "    <tr style=\"text-align: right;\">\n",
       "      <th></th>\n",
       "      <th>AAPL</th>\n",
       "      <th>MSFT</th>\n",
       "      <th>XOM</th>\n",
       "    </tr>\n",
       "  </thead>\n",
       "  <tbody>\n",
       "    <tr>\n",
       "      <th>2003-01-02</th>\n",
       "      <td>7.40</td>\n",
       "      <td>21.11</td>\n",
       "      <td>29.22</td>\n",
       "    </tr>\n",
       "    <tr>\n",
       "      <th>2003-01-03</th>\n",
       "      <td>7.45</td>\n",
       "      <td>21.14</td>\n",
       "      <td>29.24</td>\n",
       "    </tr>\n",
       "    <tr>\n",
       "      <th>2003-01-06</th>\n",
       "      <td>7.45</td>\n",
       "      <td>21.52</td>\n",
       "      <td>29.96</td>\n",
       "    </tr>\n",
       "    <tr>\n",
       "      <th>2003-01-07</th>\n",
       "      <td>7.43</td>\n",
       "      <td>21.93</td>\n",
       "      <td>28.95</td>\n",
       "    </tr>\n",
       "    <tr>\n",
       "      <th>2003-01-08</th>\n",
       "      <td>7.28</td>\n",
       "      <td>21.31</td>\n",
       "      <td>28.83</td>\n",
       "    </tr>\n",
       "    <tr>\n",
       "      <th>2003-01-09</th>\n",
       "      <td>7.34</td>\n",
       "      <td>21.93</td>\n",
       "      <td>29.44</td>\n",
       "    </tr>\n",
       "    <tr>\n",
       "      <th>2003-01-10</th>\n",
       "      <td>7.36</td>\n",
       "      <td>21.97</td>\n",
       "      <td>29.03</td>\n",
       "    </tr>\n",
       "    <tr>\n",
       "      <th>2003-01-13</th>\n",
       "      <td>7.32</td>\n",
       "      <td>22.16</td>\n",
       "      <td>28.91</td>\n",
       "    </tr>\n",
       "    <tr>\n",
       "      <th>2003-01-14</th>\n",
       "      <td>7.30</td>\n",
       "      <td>22.39</td>\n",
       "      <td>29.17</td>\n",
       "    </tr>\n",
       "    <tr>\n",
       "      <th>2003-01-15</th>\n",
       "      <td>7.22</td>\n",
       "      <td>22.11</td>\n",
       "      <td>28.77</td>\n",
       "    </tr>\n",
       "    <tr>\n",
       "      <th>2003-01-16</th>\n",
       "      <td>7.31</td>\n",
       "      <td>21.75</td>\n",
       "      <td>28.90</td>\n",
       "    </tr>\n",
       "    <tr>\n",
       "      <th>2003-01-17</th>\n",
       "      <td>7.05</td>\n",
       "      <td>20.22</td>\n",
       "      <td>28.60</td>\n",
       "    </tr>\n",
       "    <tr>\n",
       "      <th>2003-01-20</th>\n",
       "      <td>7.05</td>\n",
       "      <td>20.22</td>\n",
       "      <td>28.60</td>\n",
       "    </tr>\n",
       "    <tr>\n",
       "      <th>2003-01-21</th>\n",
       "      <td>7.01</td>\n",
       "      <td>20.17</td>\n",
       "      <td>27.94</td>\n",
       "    </tr>\n",
       "    <tr>\n",
       "      <th>2003-01-22</th>\n",
       "      <td>6.94</td>\n",
       "      <td>20.04</td>\n",
       "      <td>27.58</td>\n",
       "    </tr>\n",
       "    <tr>\n",
       "      <th>2003-01-23</th>\n",
       "      <td>7.09</td>\n",
       "      <td>20.54</td>\n",
       "      <td>27.52</td>\n",
       "    </tr>\n",
       "    <tr>\n",
       "      <th>2003-01-24</th>\n",
       "      <td>6.90</td>\n",
       "      <td>19.59</td>\n",
       "      <td>26.93</td>\n",
       "    </tr>\n",
       "    <tr>\n",
       "      <th>2003-01-27</th>\n",
       "      <td>7.07</td>\n",
       "      <td>19.32</td>\n",
       "      <td>26.21</td>\n",
       "    </tr>\n",
       "    <tr>\n",
       "      <th>2003-01-28</th>\n",
       "      <td>7.29</td>\n",
       "      <td>19.18</td>\n",
       "      <td>26.90</td>\n",
       "    </tr>\n",
       "    <tr>\n",
       "      <th>2003-01-29</th>\n",
       "      <td>7.47</td>\n",
       "      <td>19.61</td>\n",
       "      <td>27.88</td>\n",
       "    </tr>\n",
       "    <tr>\n",
       "      <th>2003-01-30</th>\n",
       "      <td>7.16</td>\n",
       "      <td>18.95</td>\n",
       "      <td>27.37</td>\n",
       "    </tr>\n",
       "    <tr>\n",
       "      <th>2003-01-31</th>\n",
       "      <td>7.18</td>\n",
       "      <td>18.65</td>\n",
       "      <td>28.13</td>\n",
       "    </tr>\n",
       "    <tr>\n",
       "      <th>2003-02-03</th>\n",
       "      <td>7.33</td>\n",
       "      <td>19.08</td>\n",
       "      <td>28.52</td>\n",
       "    </tr>\n",
       "    <tr>\n",
       "      <th>2003-02-04</th>\n",
       "      <td>7.30</td>\n",
       "      <td>18.59</td>\n",
       "      <td>28.52</td>\n",
       "    </tr>\n",
       "    <tr>\n",
       "      <th>2003-02-05</th>\n",
       "      <td>7.22</td>\n",
       "      <td>18.45</td>\n",
       "      <td>28.11</td>\n",
       "    </tr>\n",
       "    <tr>\n",
       "      <th>2003-02-06</th>\n",
       "      <td>7.22</td>\n",
       "      <td>18.63</td>\n",
       "      <td>27.87</td>\n",
       "    </tr>\n",
       "    <tr>\n",
       "      <th>2003-02-07</th>\n",
       "      <td>7.07</td>\n",
       "      <td>18.30</td>\n",
       "      <td>27.66</td>\n",
       "    </tr>\n",
       "    <tr>\n",
       "      <th>2003-02-10</th>\n",
       "      <td>7.18</td>\n",
       "      <td>18.62</td>\n",
       "      <td>27.87</td>\n",
       "    </tr>\n",
       "    <tr>\n",
       "      <th>2003-02-11</th>\n",
       "      <td>7.18</td>\n",
       "      <td>18.25</td>\n",
       "      <td>27.67</td>\n",
       "    </tr>\n",
       "    <tr>\n",
       "      <th>2003-02-12</th>\n",
       "      <td>7.20</td>\n",
       "      <td>18.25</td>\n",
       "      <td>27.12</td>\n",
       "    </tr>\n",
       "    <tr>\n",
       "      <th>...</th>\n",
       "      <td>...</td>\n",
       "      <td>...</td>\n",
       "      <td>...</td>\n",
       "    </tr>\n",
       "    <tr>\n",
       "      <th>2011-09-05</th>\n",
       "      <td>374.05</td>\n",
       "      <td>25.80</td>\n",
       "      <td>72.14</td>\n",
       "    </tr>\n",
       "    <tr>\n",
       "      <th>2011-09-06</th>\n",
       "      <td>379.74</td>\n",
       "      <td>25.51</td>\n",
       "      <td>71.15</td>\n",
       "    </tr>\n",
       "    <tr>\n",
       "      <th>2011-09-07</th>\n",
       "      <td>383.93</td>\n",
       "      <td>26.00</td>\n",
       "      <td>73.65</td>\n",
       "    </tr>\n",
       "    <tr>\n",
       "      <th>2011-09-08</th>\n",
       "      <td>384.14</td>\n",
       "      <td>26.22</td>\n",
       "      <td>72.82</td>\n",
       "    </tr>\n",
       "    <tr>\n",
       "      <th>2011-09-09</th>\n",
       "      <td>377.48</td>\n",
       "      <td>25.74</td>\n",
       "      <td>71.01</td>\n",
       "    </tr>\n",
       "    <tr>\n",
       "      <th>2011-09-12</th>\n",
       "      <td>379.94</td>\n",
       "      <td>25.89</td>\n",
       "      <td>71.84</td>\n",
       "    </tr>\n",
       "    <tr>\n",
       "      <th>2011-09-13</th>\n",
       "      <td>384.62</td>\n",
       "      <td>26.04</td>\n",
       "      <td>71.65</td>\n",
       "    </tr>\n",
       "    <tr>\n",
       "      <th>2011-09-14</th>\n",
       "      <td>389.30</td>\n",
       "      <td>26.50</td>\n",
       "      <td>72.64</td>\n",
       "    </tr>\n",
       "    <tr>\n",
       "      <th>2011-09-15</th>\n",
       "      <td>392.96</td>\n",
       "      <td>26.99</td>\n",
       "      <td>74.01</td>\n",
       "    </tr>\n",
       "    <tr>\n",
       "      <th>2011-09-16</th>\n",
       "      <td>400.50</td>\n",
       "      <td>27.12</td>\n",
       "      <td>74.55</td>\n",
       "    </tr>\n",
       "    <tr>\n",
       "      <th>2011-09-19</th>\n",
       "      <td>411.63</td>\n",
       "      <td>27.21</td>\n",
       "      <td>73.70</td>\n",
       "    </tr>\n",
       "    <tr>\n",
       "      <th>2011-09-20</th>\n",
       "      <td>413.45</td>\n",
       "      <td>26.98</td>\n",
       "      <td>74.01</td>\n",
       "    </tr>\n",
       "    <tr>\n",
       "      <th>2011-09-21</th>\n",
       "      <td>412.14</td>\n",
       "      <td>25.99</td>\n",
       "      <td>71.97</td>\n",
       "    </tr>\n",
       "    <tr>\n",
       "      <th>2011-09-22</th>\n",
       "      <td>401.82</td>\n",
       "      <td>25.06</td>\n",
       "      <td>69.24</td>\n",
       "    </tr>\n",
       "    <tr>\n",
       "      <th>2011-09-23</th>\n",
       "      <td>404.30</td>\n",
       "      <td>25.06</td>\n",
       "      <td>69.31</td>\n",
       "    </tr>\n",
       "    <tr>\n",
       "      <th>2011-09-26</th>\n",
       "      <td>403.17</td>\n",
       "      <td>25.44</td>\n",
       "      <td>71.72</td>\n",
       "    </tr>\n",
       "    <tr>\n",
       "      <th>2011-09-27</th>\n",
       "      <td>399.26</td>\n",
       "      <td>25.67</td>\n",
       "      <td>72.91</td>\n",
       "    </tr>\n",
       "    <tr>\n",
       "      <th>2011-09-28</th>\n",
       "      <td>397.01</td>\n",
       "      <td>25.58</td>\n",
       "      <td>72.07</td>\n",
       "    </tr>\n",
       "    <tr>\n",
       "      <th>2011-09-29</th>\n",
       "      <td>390.57</td>\n",
       "      <td>25.45</td>\n",
       "      <td>73.88</td>\n",
       "    </tr>\n",
       "    <tr>\n",
       "      <th>2011-09-30</th>\n",
       "      <td>381.32</td>\n",
       "      <td>24.89</td>\n",
       "      <td>72.63</td>\n",
       "    </tr>\n",
       "    <tr>\n",
       "      <th>2011-10-03</th>\n",
       "      <td>374.60</td>\n",
       "      <td>24.53</td>\n",
       "      <td>71.15</td>\n",
       "    </tr>\n",
       "    <tr>\n",
       "      <th>2011-10-04</th>\n",
       "      <td>372.50</td>\n",
       "      <td>25.34</td>\n",
       "      <td>72.83</td>\n",
       "    </tr>\n",
       "    <tr>\n",
       "      <th>2011-10-05</th>\n",
       "      <td>378.25</td>\n",
       "      <td>25.89</td>\n",
       "      <td>73.95</td>\n",
       "    </tr>\n",
       "    <tr>\n",
       "      <th>2011-10-06</th>\n",
       "      <td>377.37</td>\n",
       "      <td>26.34</td>\n",
       "      <td>73.89</td>\n",
       "    </tr>\n",
       "    <tr>\n",
       "      <th>2011-10-07</th>\n",
       "      <td>369.80</td>\n",
       "      <td>26.25</td>\n",
       "      <td>73.56</td>\n",
       "    </tr>\n",
       "    <tr>\n",
       "      <th>2011-10-10</th>\n",
       "      <td>388.81</td>\n",
       "      <td>26.94</td>\n",
       "      <td>76.28</td>\n",
       "    </tr>\n",
       "    <tr>\n",
       "      <th>2011-10-11</th>\n",
       "      <td>400.29</td>\n",
       "      <td>27.00</td>\n",
       "      <td>76.27</td>\n",
       "    </tr>\n",
       "    <tr>\n",
       "      <th>2011-10-12</th>\n",
       "      <td>402.19</td>\n",
       "      <td>26.96</td>\n",
       "      <td>77.16</td>\n",
       "    </tr>\n",
       "    <tr>\n",
       "      <th>2011-10-13</th>\n",
       "      <td>408.43</td>\n",
       "      <td>27.18</td>\n",
       "      <td>76.37</td>\n",
       "    </tr>\n",
       "    <tr>\n",
       "      <th>2011-10-14</th>\n",
       "      <td>422.00</td>\n",
       "      <td>27.27</td>\n",
       "      <td>78.11</td>\n",
       "    </tr>\n",
       "  </tbody>\n",
       "</table>\n",
       "<p>2292 rows × 3 columns</p>\n",
       "</div>"
      ],
      "text/plain": [
       "              AAPL   MSFT    XOM\n",
       "2003-01-02    7.40  21.11  29.22\n",
       "2003-01-03    7.45  21.14  29.24\n",
       "2003-01-06    7.45  21.52  29.96\n",
       "2003-01-07    7.43  21.93  28.95\n",
       "2003-01-08    7.28  21.31  28.83\n",
       "2003-01-09    7.34  21.93  29.44\n",
       "2003-01-10    7.36  21.97  29.03\n",
       "2003-01-13    7.32  22.16  28.91\n",
       "2003-01-14    7.30  22.39  29.17\n",
       "2003-01-15    7.22  22.11  28.77\n",
       "2003-01-16    7.31  21.75  28.90\n",
       "2003-01-17    7.05  20.22  28.60\n",
       "2003-01-20    7.05  20.22  28.60\n",
       "2003-01-21    7.01  20.17  27.94\n",
       "2003-01-22    6.94  20.04  27.58\n",
       "2003-01-23    7.09  20.54  27.52\n",
       "2003-01-24    6.90  19.59  26.93\n",
       "2003-01-27    7.07  19.32  26.21\n",
       "2003-01-28    7.29  19.18  26.90\n",
       "2003-01-29    7.47  19.61  27.88\n",
       "2003-01-30    7.16  18.95  27.37\n",
       "2003-01-31    7.18  18.65  28.13\n",
       "2003-02-03    7.33  19.08  28.52\n",
       "2003-02-04    7.30  18.59  28.52\n",
       "2003-02-05    7.22  18.45  28.11\n",
       "2003-02-06    7.22  18.63  27.87\n",
       "2003-02-07    7.07  18.30  27.66\n",
       "2003-02-10    7.18  18.62  27.87\n",
       "2003-02-11    7.18  18.25  27.67\n",
       "2003-02-12    7.20  18.25  27.12\n",
       "...            ...    ...    ...\n",
       "2011-09-05  374.05  25.80  72.14\n",
       "2011-09-06  379.74  25.51  71.15\n",
       "2011-09-07  383.93  26.00  73.65\n",
       "2011-09-08  384.14  26.22  72.82\n",
       "2011-09-09  377.48  25.74  71.01\n",
       "2011-09-12  379.94  25.89  71.84\n",
       "2011-09-13  384.62  26.04  71.65\n",
       "2011-09-14  389.30  26.50  72.64\n",
       "2011-09-15  392.96  26.99  74.01\n",
       "2011-09-16  400.50  27.12  74.55\n",
       "2011-09-19  411.63  27.21  73.70\n",
       "2011-09-20  413.45  26.98  74.01\n",
       "2011-09-21  412.14  25.99  71.97\n",
       "2011-09-22  401.82  25.06  69.24\n",
       "2011-09-23  404.30  25.06  69.31\n",
       "2011-09-26  403.17  25.44  71.72\n",
       "2011-09-27  399.26  25.67  72.91\n",
       "2011-09-28  397.01  25.58  72.07\n",
       "2011-09-29  390.57  25.45  73.88\n",
       "2011-09-30  381.32  24.89  72.63\n",
       "2011-10-03  374.60  24.53  71.15\n",
       "2011-10-04  372.50  25.34  72.83\n",
       "2011-10-05  378.25  25.89  73.95\n",
       "2011-10-06  377.37  26.34  73.89\n",
       "2011-10-07  369.80  26.25  73.56\n",
       "2011-10-10  388.81  26.94  76.28\n",
       "2011-10-11  400.29  27.00  76.27\n",
       "2011-10-12  402.19  26.96  77.16\n",
       "2011-10-13  408.43  27.18  76.37\n",
       "2011-10-14  422.00  27.27  78.11\n",
       "\n",
       "[2292 rows x 3 columns]"
      ]
     },
     "execution_count": 313,
     "metadata": {},
     "output_type": "execute_result"
    }
   ],
   "source": [
    "close_px"
   ]
  },
  {
   "cell_type": "code",
   "execution_count": 314,
   "metadata": {},
   "outputs": [
    {
     "data": {
      "text/html": [
       "<div>\n",
       "<style scoped>\n",
       "    .dataframe tbody tr th:only-of-type {\n",
       "        vertical-align: middle;\n",
       "    }\n",
       "\n",
       "    .dataframe tbody tr th {\n",
       "        vertical-align: top;\n",
       "    }\n",
       "\n",
       "    .dataframe thead th {\n",
       "        text-align: right;\n",
       "    }\n",
       "</style>\n",
       "<table border=\"1\" class=\"dataframe\">\n",
       "  <thead>\n",
       "    <tr style=\"text-align: right;\">\n",
       "      <th></th>\n",
       "      <th>AAPL</th>\n",
       "      <th>MSFT</th>\n",
       "      <th>XOM</th>\n",
       "    </tr>\n",
       "  </thead>\n",
       "  <tbody>\n",
       "    <tr>\n",
       "      <th>2003-01-02</th>\n",
       "      <td>7.40</td>\n",
       "      <td>21.11</td>\n",
       "      <td>29.22</td>\n",
       "    </tr>\n",
       "    <tr>\n",
       "      <th>2003-01-03</th>\n",
       "      <td>7.45</td>\n",
       "      <td>21.14</td>\n",
       "      <td>29.24</td>\n",
       "    </tr>\n",
       "    <tr>\n",
       "      <th>2003-01-06</th>\n",
       "      <td>7.45</td>\n",
       "      <td>21.52</td>\n",
       "      <td>29.96</td>\n",
       "    </tr>\n",
       "    <tr>\n",
       "      <th>2003-01-07</th>\n",
       "      <td>7.43</td>\n",
       "      <td>21.93</td>\n",
       "      <td>28.95</td>\n",
       "    </tr>\n",
       "    <tr>\n",
       "      <th>2003-01-08</th>\n",
       "      <td>7.28</td>\n",
       "      <td>21.31</td>\n",
       "      <td>28.83</td>\n",
       "    </tr>\n",
       "    <tr>\n",
       "      <th>2003-01-09</th>\n",
       "      <td>7.34</td>\n",
       "      <td>21.93</td>\n",
       "      <td>29.44</td>\n",
       "    </tr>\n",
       "    <tr>\n",
       "      <th>2003-01-10</th>\n",
       "      <td>7.36</td>\n",
       "      <td>21.97</td>\n",
       "      <td>29.03</td>\n",
       "    </tr>\n",
       "    <tr>\n",
       "      <th>2003-01-13</th>\n",
       "      <td>7.32</td>\n",
       "      <td>22.16</td>\n",
       "      <td>28.91</td>\n",
       "    </tr>\n",
       "    <tr>\n",
       "      <th>2003-01-14</th>\n",
       "      <td>7.30</td>\n",
       "      <td>22.39</td>\n",
       "      <td>29.17</td>\n",
       "    </tr>\n",
       "    <tr>\n",
       "      <th>2003-01-15</th>\n",
       "      <td>7.22</td>\n",
       "      <td>22.11</td>\n",
       "      <td>28.77</td>\n",
       "    </tr>\n",
       "    <tr>\n",
       "      <th>2003-01-16</th>\n",
       "      <td>7.31</td>\n",
       "      <td>21.75</td>\n",
       "      <td>28.90</td>\n",
       "    </tr>\n",
       "    <tr>\n",
       "      <th>2003-01-17</th>\n",
       "      <td>7.05</td>\n",
       "      <td>20.22</td>\n",
       "      <td>28.60</td>\n",
       "    </tr>\n",
       "    <tr>\n",
       "      <th>2003-01-21</th>\n",
       "      <td>7.01</td>\n",
       "      <td>20.17</td>\n",
       "      <td>27.94</td>\n",
       "    </tr>\n",
       "    <tr>\n",
       "      <th>2003-01-22</th>\n",
       "      <td>6.94</td>\n",
       "      <td>20.04</td>\n",
       "      <td>27.58</td>\n",
       "    </tr>\n",
       "    <tr>\n",
       "      <th>2003-01-23</th>\n",
       "      <td>7.09</td>\n",
       "      <td>20.54</td>\n",
       "      <td>27.52</td>\n",
       "    </tr>\n",
       "    <tr>\n",
       "      <th>2003-01-24</th>\n",
       "      <td>6.90</td>\n",
       "      <td>19.59</td>\n",
       "      <td>26.93</td>\n",
       "    </tr>\n",
       "    <tr>\n",
       "      <th>2003-01-27</th>\n",
       "      <td>7.07</td>\n",
       "      <td>19.32</td>\n",
       "      <td>26.21</td>\n",
       "    </tr>\n",
       "    <tr>\n",
       "      <th>2003-01-28</th>\n",
       "      <td>7.29</td>\n",
       "      <td>19.18</td>\n",
       "      <td>26.90</td>\n",
       "    </tr>\n",
       "    <tr>\n",
       "      <th>2003-01-29</th>\n",
       "      <td>7.47</td>\n",
       "      <td>19.61</td>\n",
       "      <td>27.88</td>\n",
       "    </tr>\n",
       "    <tr>\n",
       "      <th>2003-01-30</th>\n",
       "      <td>7.16</td>\n",
       "      <td>18.95</td>\n",
       "      <td>27.37</td>\n",
       "    </tr>\n",
       "    <tr>\n",
       "      <th>2003-01-31</th>\n",
       "      <td>7.18</td>\n",
       "      <td>18.65</td>\n",
       "      <td>28.13</td>\n",
       "    </tr>\n",
       "    <tr>\n",
       "      <th>2003-02-03</th>\n",
       "      <td>7.33</td>\n",
       "      <td>19.08</td>\n",
       "      <td>28.52</td>\n",
       "    </tr>\n",
       "    <tr>\n",
       "      <th>2003-02-04</th>\n",
       "      <td>7.30</td>\n",
       "      <td>18.59</td>\n",
       "      <td>28.52</td>\n",
       "    </tr>\n",
       "    <tr>\n",
       "      <th>2003-02-05</th>\n",
       "      <td>7.22</td>\n",
       "      <td>18.45</td>\n",
       "      <td>28.11</td>\n",
       "    </tr>\n",
       "    <tr>\n",
       "      <th>2003-02-06</th>\n",
       "      <td>7.22</td>\n",
       "      <td>18.63</td>\n",
       "      <td>27.87</td>\n",
       "    </tr>\n",
       "    <tr>\n",
       "      <th>2003-02-07</th>\n",
       "      <td>7.07</td>\n",
       "      <td>18.30</td>\n",
       "      <td>27.66</td>\n",
       "    </tr>\n",
       "    <tr>\n",
       "      <th>2003-02-10</th>\n",
       "      <td>7.18</td>\n",
       "      <td>18.62</td>\n",
       "      <td>27.87</td>\n",
       "    </tr>\n",
       "    <tr>\n",
       "      <th>2003-02-11</th>\n",
       "      <td>7.18</td>\n",
       "      <td>18.25</td>\n",
       "      <td>27.67</td>\n",
       "    </tr>\n",
       "    <tr>\n",
       "      <th>2003-02-12</th>\n",
       "      <td>7.20</td>\n",
       "      <td>18.25</td>\n",
       "      <td>27.12</td>\n",
       "    </tr>\n",
       "    <tr>\n",
       "      <th>2003-02-13</th>\n",
       "      <td>7.27</td>\n",
       "      <td>18.46</td>\n",
       "      <td>27.47</td>\n",
       "    </tr>\n",
       "    <tr>\n",
       "      <th>...</th>\n",
       "      <td>...</td>\n",
       "      <td>...</td>\n",
       "      <td>...</td>\n",
       "    </tr>\n",
       "    <tr>\n",
       "      <th>2011-09-02</th>\n",
       "      <td>374.05</td>\n",
       "      <td>25.80</td>\n",
       "      <td>72.14</td>\n",
       "    </tr>\n",
       "    <tr>\n",
       "      <th>2011-09-06</th>\n",
       "      <td>379.74</td>\n",
       "      <td>25.51</td>\n",
       "      <td>71.15</td>\n",
       "    </tr>\n",
       "    <tr>\n",
       "      <th>2011-09-07</th>\n",
       "      <td>383.93</td>\n",
       "      <td>26.00</td>\n",
       "      <td>73.65</td>\n",
       "    </tr>\n",
       "    <tr>\n",
       "      <th>2011-09-08</th>\n",
       "      <td>384.14</td>\n",
       "      <td>26.22</td>\n",
       "      <td>72.82</td>\n",
       "    </tr>\n",
       "    <tr>\n",
       "      <th>2011-09-09</th>\n",
       "      <td>377.48</td>\n",
       "      <td>25.74</td>\n",
       "      <td>71.01</td>\n",
       "    </tr>\n",
       "    <tr>\n",
       "      <th>2011-09-12</th>\n",
       "      <td>379.94</td>\n",
       "      <td>25.89</td>\n",
       "      <td>71.84</td>\n",
       "    </tr>\n",
       "    <tr>\n",
       "      <th>2011-09-13</th>\n",
       "      <td>384.62</td>\n",
       "      <td>26.04</td>\n",
       "      <td>71.65</td>\n",
       "    </tr>\n",
       "    <tr>\n",
       "      <th>2011-09-14</th>\n",
       "      <td>389.30</td>\n",
       "      <td>26.50</td>\n",
       "      <td>72.64</td>\n",
       "    </tr>\n",
       "    <tr>\n",
       "      <th>2011-09-15</th>\n",
       "      <td>392.96</td>\n",
       "      <td>26.99</td>\n",
       "      <td>74.01</td>\n",
       "    </tr>\n",
       "    <tr>\n",
       "      <th>2011-09-16</th>\n",
       "      <td>400.50</td>\n",
       "      <td>27.12</td>\n",
       "      <td>74.55</td>\n",
       "    </tr>\n",
       "    <tr>\n",
       "      <th>2011-09-19</th>\n",
       "      <td>411.63</td>\n",
       "      <td>27.21</td>\n",
       "      <td>73.70</td>\n",
       "    </tr>\n",
       "    <tr>\n",
       "      <th>2011-09-20</th>\n",
       "      <td>413.45</td>\n",
       "      <td>26.98</td>\n",
       "      <td>74.01</td>\n",
       "    </tr>\n",
       "    <tr>\n",
       "      <th>2011-09-21</th>\n",
       "      <td>412.14</td>\n",
       "      <td>25.99</td>\n",
       "      <td>71.97</td>\n",
       "    </tr>\n",
       "    <tr>\n",
       "      <th>2011-09-22</th>\n",
       "      <td>401.82</td>\n",
       "      <td>25.06</td>\n",
       "      <td>69.24</td>\n",
       "    </tr>\n",
       "    <tr>\n",
       "      <th>2011-09-23</th>\n",
       "      <td>404.30</td>\n",
       "      <td>25.06</td>\n",
       "      <td>69.31</td>\n",
       "    </tr>\n",
       "    <tr>\n",
       "      <th>2011-09-26</th>\n",
       "      <td>403.17</td>\n",
       "      <td>25.44</td>\n",
       "      <td>71.72</td>\n",
       "    </tr>\n",
       "    <tr>\n",
       "      <th>2011-09-27</th>\n",
       "      <td>399.26</td>\n",
       "      <td>25.67</td>\n",
       "      <td>72.91</td>\n",
       "    </tr>\n",
       "    <tr>\n",
       "      <th>2011-09-28</th>\n",
       "      <td>397.01</td>\n",
       "      <td>25.58</td>\n",
       "      <td>72.07</td>\n",
       "    </tr>\n",
       "    <tr>\n",
       "      <th>2011-09-29</th>\n",
       "      <td>390.57</td>\n",
       "      <td>25.45</td>\n",
       "      <td>73.88</td>\n",
       "    </tr>\n",
       "    <tr>\n",
       "      <th>2011-09-30</th>\n",
       "      <td>381.32</td>\n",
       "      <td>24.89</td>\n",
       "      <td>72.63</td>\n",
       "    </tr>\n",
       "    <tr>\n",
       "      <th>2011-10-03</th>\n",
       "      <td>374.60</td>\n",
       "      <td>24.53</td>\n",
       "      <td>71.15</td>\n",
       "    </tr>\n",
       "    <tr>\n",
       "      <th>2011-10-04</th>\n",
       "      <td>372.50</td>\n",
       "      <td>25.34</td>\n",
       "      <td>72.83</td>\n",
       "    </tr>\n",
       "    <tr>\n",
       "      <th>2011-10-05</th>\n",
       "      <td>378.25</td>\n",
       "      <td>25.89</td>\n",
       "      <td>73.95</td>\n",
       "    </tr>\n",
       "    <tr>\n",
       "      <th>2011-10-06</th>\n",
       "      <td>377.37</td>\n",
       "      <td>26.34</td>\n",
       "      <td>73.89</td>\n",
       "    </tr>\n",
       "    <tr>\n",
       "      <th>2011-10-07</th>\n",
       "      <td>369.80</td>\n",
       "      <td>26.25</td>\n",
       "      <td>73.56</td>\n",
       "    </tr>\n",
       "    <tr>\n",
       "      <th>2011-10-10</th>\n",
       "      <td>388.81</td>\n",
       "      <td>26.94</td>\n",
       "      <td>76.28</td>\n",
       "    </tr>\n",
       "    <tr>\n",
       "      <th>2011-10-11</th>\n",
       "      <td>400.29</td>\n",
       "      <td>27.00</td>\n",
       "      <td>76.27</td>\n",
       "    </tr>\n",
       "    <tr>\n",
       "      <th>2011-10-12</th>\n",
       "      <td>402.19</td>\n",
       "      <td>26.96</td>\n",
       "      <td>77.16</td>\n",
       "    </tr>\n",
       "    <tr>\n",
       "      <th>2011-10-13</th>\n",
       "      <td>408.43</td>\n",
       "      <td>27.18</td>\n",
       "      <td>76.37</td>\n",
       "    </tr>\n",
       "    <tr>\n",
       "      <th>2011-10-14</th>\n",
       "      <td>422.00</td>\n",
       "      <td>27.27</td>\n",
       "      <td>78.11</td>\n",
       "    </tr>\n",
       "  </tbody>\n",
       "</table>\n",
       "<p>2214 rows × 3 columns</p>\n",
       "</div>"
      ],
      "text/plain": [
       "              AAPL   MSFT    XOM\n",
       "2003-01-02    7.40  21.11  29.22\n",
       "2003-01-03    7.45  21.14  29.24\n",
       "2003-01-06    7.45  21.52  29.96\n",
       "2003-01-07    7.43  21.93  28.95\n",
       "2003-01-08    7.28  21.31  28.83\n",
       "2003-01-09    7.34  21.93  29.44\n",
       "2003-01-10    7.36  21.97  29.03\n",
       "2003-01-13    7.32  22.16  28.91\n",
       "2003-01-14    7.30  22.39  29.17\n",
       "2003-01-15    7.22  22.11  28.77\n",
       "2003-01-16    7.31  21.75  28.90\n",
       "2003-01-17    7.05  20.22  28.60\n",
       "2003-01-21    7.01  20.17  27.94\n",
       "2003-01-22    6.94  20.04  27.58\n",
       "2003-01-23    7.09  20.54  27.52\n",
       "2003-01-24    6.90  19.59  26.93\n",
       "2003-01-27    7.07  19.32  26.21\n",
       "2003-01-28    7.29  19.18  26.90\n",
       "2003-01-29    7.47  19.61  27.88\n",
       "2003-01-30    7.16  18.95  27.37\n",
       "2003-01-31    7.18  18.65  28.13\n",
       "2003-02-03    7.33  19.08  28.52\n",
       "2003-02-04    7.30  18.59  28.52\n",
       "2003-02-05    7.22  18.45  28.11\n",
       "2003-02-06    7.22  18.63  27.87\n",
       "2003-02-07    7.07  18.30  27.66\n",
       "2003-02-10    7.18  18.62  27.87\n",
       "2003-02-11    7.18  18.25  27.67\n",
       "2003-02-12    7.20  18.25  27.12\n",
       "2003-02-13    7.27  18.46  27.47\n",
       "...            ...    ...    ...\n",
       "2011-09-02  374.05  25.80  72.14\n",
       "2011-09-06  379.74  25.51  71.15\n",
       "2011-09-07  383.93  26.00  73.65\n",
       "2011-09-08  384.14  26.22  72.82\n",
       "2011-09-09  377.48  25.74  71.01\n",
       "2011-09-12  379.94  25.89  71.84\n",
       "2011-09-13  384.62  26.04  71.65\n",
       "2011-09-14  389.30  26.50  72.64\n",
       "2011-09-15  392.96  26.99  74.01\n",
       "2011-09-16  400.50  27.12  74.55\n",
       "2011-09-19  411.63  27.21  73.70\n",
       "2011-09-20  413.45  26.98  74.01\n",
       "2011-09-21  412.14  25.99  71.97\n",
       "2011-09-22  401.82  25.06  69.24\n",
       "2011-09-23  404.30  25.06  69.31\n",
       "2011-09-26  403.17  25.44  71.72\n",
       "2011-09-27  399.26  25.67  72.91\n",
       "2011-09-28  397.01  25.58  72.07\n",
       "2011-09-29  390.57  25.45  73.88\n",
       "2011-09-30  381.32  24.89  72.63\n",
       "2011-10-03  374.60  24.53  71.15\n",
       "2011-10-04  372.50  25.34  72.83\n",
       "2011-10-05  378.25  25.89  73.95\n",
       "2011-10-06  377.37  26.34  73.89\n",
       "2011-10-07  369.80  26.25  73.56\n",
       "2011-10-10  388.81  26.94  76.28\n",
       "2011-10-11  400.29  27.00  76.27\n",
       "2011-10-12  402.19  26.96  77.16\n",
       "2011-10-13  408.43  27.18  76.37\n",
       "2011-10-14  422.00  27.27  78.11\n",
       "\n",
       "[2214 rows x 3 columns]"
      ]
     },
     "execution_count": 314,
     "metadata": {},
     "output_type": "execute_result"
    }
   ],
   "source": [
    "close_px_all[['AAPL','MSFT','XOM']]"
   ]
  },
  {
   "cell_type": "code",
   "execution_count": 315,
   "metadata": {},
   "outputs": [
    {
     "data": {
      "text/plain": [
       "<matplotlib.axes._subplots.AxesSubplot at 0x94ab1d0>"
      ]
     },
     "execution_count": 315,
     "metadata": {},
     "output_type": "execute_result"
    }
   ],
   "source": [
    "close_px.AAPL.plot()"
   ]
  },
  {
   "cell_type": "code",
   "execution_count": 316,
   "metadata": {},
   "outputs": [
    {
     "data": {
      "text/plain": [
       "<matplotlib.axes._subplots.AxesSubplot at 0x9993860>"
      ]
     },
     "execution_count": 316,
     "metadata": {},
     "output_type": "execute_result"
    },
    {
     "data": {
      "image/png": "[encoded data removed]",
      "text/plain": [
       "<Figure size 432x288 with 1 Axes>"
      ]
     },
     "metadata": {
      "needs_background": "light"
     },
     "output_type": "display_data"
    }
   ],
   "source": [
    "close_px.AAPL.rolling(250).mean().plot()\n",
    "#rolling运算符，类似于resample和groupby\n",
    "#作用于TimeSeries等类型\n",
    "#默认"
   ]
  },
  {
   "cell_type": "code",
   "execution_count": 317,
   "metadata": {},
   "outputs": [],
   "source": [
    "appl_std250=close_px.AAPL.rolling(250,min_periods=10).std()"
   ]
  },
  {
   "cell_type": "code",
   "execution_count": 318,
   "metadata": {},
   "outputs": [
    {
     "data": {
      "text/plain": [
       "2003-01-02          NaN\n",
       "2003-01-03          NaN\n",
       "2003-01-06          NaN\n",
       "2003-01-07          NaN\n",
       "2003-01-08          NaN\n",
       "2003-01-09          NaN\n",
       "2003-01-10          NaN\n",
       "2003-01-13          NaN\n",
       "2003-01-14          NaN\n",
       "2003-01-15     0.077496\n",
       "2003-01-16     0.074760\n",
       "2003-01-17     0.112368\n",
       "2003-01-20     0.132011\n",
       "2003-01-21     0.149286\n",
       "2003-01-22     0.169008\n",
       "2003-01-23     0.168760\n",
       "2003-01-24     0.184135\n",
       "2003-01-27     0.182546\n",
       "2003-01-28     0.178117\n",
       "2003-01-29     0.181870\n",
       "2003-01-30     0.178049\n",
       "2003-01-31     0.174123\n",
       "2003-02-03     0.171381\n",
       "2003-02-04     0.168142\n",
       "2003-02-05     0.164639\n",
       "2003-02-06     0.161346\n",
       "2003-02-07     0.161412\n",
       "2003-02-10     0.158676\n",
       "2003-02-11     0.156074\n",
       "2003-02-12     0.153436\n",
       "                ...    \n",
       "2011-09-05    25.320023\n",
       "2011-09-06    25.218932\n",
       "2011-09-07    25.174057\n",
       "2011-09-08    25.134226\n",
       "2011-09-09    25.071408\n",
       "2011-09-12    25.010059\n",
       "2011-09-13    24.939448\n",
       "2011-09-14    24.901731\n",
       "2011-09-15    24.854159\n",
       "2011-09-16    24.854202\n",
       "2011-09-19    24.921271\n",
       "2011-09-20    25.094636\n",
       "2011-09-21    25.244622\n",
       "2011-09-22    25.280947\n",
       "2011-09-23    25.372688\n",
       "2011-09-26    25.456040\n",
       "2011-09-27    25.521272\n",
       "2011-09-28    25.572900\n",
       "2011-09-29    25.585164\n",
       "2011-09-30    25.607785\n",
       "2011-10-03    25.609462\n",
       "2011-10-04    25.556491\n",
       "2011-10-05    25.532838\n",
       "2011-10-06    25.496122\n",
       "2011-10-07    25.412452\n",
       "2011-10-10    25.430104\n",
       "2011-10-11    25.523131\n",
       "2011-10-12    25.624851\n",
       "2011-10-13    25.758644\n",
       "2011-10-14    25.993449\n",
       "Freq: B, Name: AAPL, Length: 2292, dtype: float64"
      ]
     },
     "execution_count": 318,
     "metadata": {},
     "output_type": "execute_result"
    }
   ],
   "source": [
    "appl_std250\n",
    "#前边的缺失值是由于还不到最小周期\n",
    "#类似于“逐日增长”需要从第二天才能计算"
   ]
  },
  {
   "cell_type": "code",
   "execution_count": 319,
   "metadata": {},
   "outputs": [
    {
     "data": {
      "text/plain": [
       "<matplotlib.axes._subplots.AxesSubplot at 0x9a3feb8>"
      ]
     },
     "execution_count": 319,
     "metadata": {},
     "output_type": "execute_result"
    },
    {
     "data": {
      "image/png": "[encoded data removed]",
      "text/plain": [
       "<Figure size 432x288 with 1 Axes>"
      ]
     },
     "metadata": {
      "needs_background": "light"
     },
     "output_type": "display_data"
    }
   ],
   "source": [
    "appl_std250.plot()\n"
   ]
  },
  {
   "cell_type": "code",
   "execution_count": 320,
   "metadata": {},
   "outputs": [],
   "source": [
    "expending_mean=appl_std250.expanding().mean"
   ]
  },
  {
   "cell_type": "code",
   "execution_count": 321,
   "metadata": {},
   "outputs": [
    {
     "data": {
      "text/plain": [
       "<bound method Expanding.mean of Expanding [min_periods=1,center=False,axis=0]>"
      ]
     },
     "execution_count": 321,
     "metadata": {},
     "output_type": "execute_result"
    }
   ],
   "source": [
    "expending_mean"
   ]
  },
  {
   "cell_type": "code",
   "execution_count": 322,
   "metadata": {},
   "outputs": [
    {
     "data": {
      "text/plain": [
       "<matplotlib.axes._subplots.AxesSubplot at 0x9b55eb8>"
      ]
     },
     "execution_count": 322,
     "metadata": {},
     "output_type": "execute_result"
    },
    {
     "data": {
      "image/png": "[encoded data removed]",
      "text/plain": [
       "<Figure size 432x288 with 1 Axes>"
      ]
     },
     "metadata": {
      "needs_background": "light"
     },
     "output_type": "display_data"
    }
   ],
   "source": [
    "close_px.rolling(60).mean().plot(logy=True)\n",
    "#对df调用rolling_mean一类的方法，会对所有列应用该函数"
   ]
  },
  {
   "cell_type": "code",
   "execution_count": 323,
   "metadata": {},
   "outputs": [
    {
     "data": {
      "text/html": [
       "<div>\n",
       "<style scoped>\n",
       "    .dataframe tbody tr th:only-of-type {\n",
       "        vertical-align: middle;\n",
       "    }\n",
       "\n",
       "    .dataframe tbody tr th {\n",
       "        vertical-align: top;\n",
       "    }\n",
       "\n",
       "    .dataframe thead th {\n",
       "        text-align: right;\n",
       "    }\n",
       "</style>\n",
       "<table border=\"1\" class=\"dataframe\">\n",
       "  <thead>\n",
       "    <tr style=\"text-align: right;\">\n",
       "      <th></th>\n",
       "      <th>AAPL</th>\n",
       "      <th>MSFT</th>\n",
       "      <th>XOM</th>\n",
       "    </tr>\n",
       "  </thead>\n",
       "  <tbody>\n",
       "    <tr>\n",
       "      <th>2003-01-02</th>\n",
       "      <td>NaN</td>\n",
       "      <td>NaN</td>\n",
       "      <td>NaN</td>\n",
       "    </tr>\n",
       "    <tr>\n",
       "      <th>2003-01-03</th>\n",
       "      <td>NaN</td>\n",
       "      <td>NaN</td>\n",
       "      <td>NaN</td>\n",
       "    </tr>\n",
       "    <tr>\n",
       "      <th>2003-01-06</th>\n",
       "      <td>NaN</td>\n",
       "      <td>NaN</td>\n",
       "      <td>NaN</td>\n",
       "    </tr>\n",
       "    <tr>\n",
       "      <th>2003-01-07</th>\n",
       "      <td>NaN</td>\n",
       "      <td>NaN</td>\n",
       "      <td>NaN</td>\n",
       "    </tr>\n",
       "    <tr>\n",
       "      <th>2003-01-08</th>\n",
       "      <td>NaN</td>\n",
       "      <td>NaN</td>\n",
       "      <td>NaN</td>\n",
       "    </tr>\n",
       "    <tr>\n",
       "      <th>2003-01-09</th>\n",
       "      <td>NaN</td>\n",
       "      <td>NaN</td>\n",
       "      <td>NaN</td>\n",
       "    </tr>\n",
       "    <tr>\n",
       "      <th>2003-01-10</th>\n",
       "      <td>NaN</td>\n",
       "      <td>NaN</td>\n",
       "      <td>NaN</td>\n",
       "    </tr>\n",
       "    <tr>\n",
       "      <th>2003-01-13</th>\n",
       "      <td>NaN</td>\n",
       "      <td>NaN</td>\n",
       "      <td>NaN</td>\n",
       "    </tr>\n",
       "    <tr>\n",
       "      <th>2003-01-14</th>\n",
       "      <td>NaN</td>\n",
       "      <td>NaN</td>\n",
       "      <td>NaN</td>\n",
       "    </tr>\n",
       "    <tr>\n",
       "      <th>2003-01-15</th>\n",
       "      <td>NaN</td>\n",
       "      <td>NaN</td>\n",
       "      <td>NaN</td>\n",
       "    </tr>\n",
       "    <tr>\n",
       "      <th>2003-01-16</th>\n",
       "      <td>NaN</td>\n",
       "      <td>NaN</td>\n",
       "      <td>NaN</td>\n",
       "    </tr>\n",
       "    <tr>\n",
       "      <th>2003-01-17</th>\n",
       "      <td>NaN</td>\n",
       "      <td>NaN</td>\n",
       "      <td>NaN</td>\n",
       "    </tr>\n",
       "    <tr>\n",
       "      <th>2003-01-20</th>\n",
       "      <td>NaN</td>\n",
       "      <td>NaN</td>\n",
       "      <td>NaN</td>\n",
       "    </tr>\n",
       "    <tr>\n",
       "      <th>2003-01-21</th>\n",
       "      <td>NaN</td>\n",
       "      <td>NaN</td>\n",
       "      <td>NaN</td>\n",
       "    </tr>\n",
       "    <tr>\n",
       "      <th>2003-01-22</th>\n",
       "      <td>NaN</td>\n",
       "      <td>NaN</td>\n",
       "      <td>NaN</td>\n",
       "    </tr>\n",
       "    <tr>\n",
       "      <th>2003-01-23</th>\n",
       "      <td>NaN</td>\n",
       "      <td>NaN</td>\n",
       "      <td>NaN</td>\n",
       "    </tr>\n",
       "    <tr>\n",
       "      <th>2003-01-24</th>\n",
       "      <td>NaN</td>\n",
       "      <td>NaN</td>\n",
       "      <td>NaN</td>\n",
       "    </tr>\n",
       "    <tr>\n",
       "      <th>2003-01-27</th>\n",
       "      <td>NaN</td>\n",
       "      <td>NaN</td>\n",
       "      <td>NaN</td>\n",
       "    </tr>\n",
       "    <tr>\n",
       "      <th>2003-01-28</th>\n",
       "      <td>NaN</td>\n",
       "      <td>NaN</td>\n",
       "      <td>NaN</td>\n",
       "    </tr>\n",
       "    <tr>\n",
       "      <th>2003-01-29</th>\n",
       "      <td>NaN</td>\n",
       "      <td>NaN</td>\n",
       "      <td>NaN</td>\n",
       "    </tr>\n",
       "    <tr>\n",
       "      <th>2003-01-30</th>\n",
       "      <td>NaN</td>\n",
       "      <td>NaN</td>\n",
       "      <td>NaN</td>\n",
       "    </tr>\n",
       "    <tr>\n",
       "      <th>2003-01-31</th>\n",
       "      <td>NaN</td>\n",
       "      <td>NaN</td>\n",
       "      <td>NaN</td>\n",
       "    </tr>\n",
       "    <tr>\n",
       "      <th>2003-02-03</th>\n",
       "      <td>NaN</td>\n",
       "      <td>NaN</td>\n",
       "      <td>NaN</td>\n",
       "    </tr>\n",
       "    <tr>\n",
       "      <th>2003-02-04</th>\n",
       "      <td>NaN</td>\n",
       "      <td>NaN</td>\n",
       "      <td>NaN</td>\n",
       "    </tr>\n",
       "    <tr>\n",
       "      <th>2003-02-05</th>\n",
       "      <td>NaN</td>\n",
       "      <td>NaN</td>\n",
       "      <td>NaN</td>\n",
       "    </tr>\n",
       "    <tr>\n",
       "      <th>2003-02-06</th>\n",
       "      <td>NaN</td>\n",
       "      <td>NaN</td>\n",
       "      <td>NaN</td>\n",
       "    </tr>\n",
       "    <tr>\n",
       "      <th>2003-02-07</th>\n",
       "      <td>NaN</td>\n",
       "      <td>NaN</td>\n",
       "      <td>NaN</td>\n",
       "    </tr>\n",
       "    <tr>\n",
       "      <th>2003-02-10</th>\n",
       "      <td>NaN</td>\n",
       "      <td>NaN</td>\n",
       "      <td>NaN</td>\n",
       "    </tr>\n",
       "    <tr>\n",
       "      <th>2003-02-11</th>\n",
       "      <td>NaN</td>\n",
       "      <td>NaN</td>\n",
       "      <td>NaN</td>\n",
       "    </tr>\n",
       "    <tr>\n",
       "      <th>2003-02-12</th>\n",
       "      <td>NaN</td>\n",
       "      <td>NaN</td>\n",
       "      <td>NaN</td>\n",
       "    </tr>\n",
       "    <tr>\n",
       "      <th>...</th>\n",
       "      <td>...</td>\n",
       "      <td>...</td>\n",
       "      <td>...</td>\n",
       "    </tr>\n",
       "    <tr>\n",
       "      <th>2011-09-05</th>\n",
       "      <td>364.085333</td>\n",
       "      <td>25.693500</td>\n",
       "      <td>77.475667</td>\n",
       "    </tr>\n",
       "    <tr>\n",
       "      <th>2011-09-06</th>\n",
       "      <td>364.873667</td>\n",
       "      <td>25.717500</td>\n",
       "      <td>77.330667</td>\n",
       "    </tr>\n",
       "    <tr>\n",
       "      <th>2011-09-07</th>\n",
       "      <td>365.826667</td>\n",
       "      <td>25.757667</td>\n",
       "      <td>77.255833</td>\n",
       "    </tr>\n",
       "    <tr>\n",
       "      <th>2011-09-08</th>\n",
       "      <td>366.809667</td>\n",
       "      <td>25.797167</td>\n",
       "      <td>77.157833</td>\n",
       "    </tr>\n",
       "    <tr>\n",
       "      <th>2011-09-09</th>\n",
       "      <td>367.763333</td>\n",
       "      <td>25.824333</td>\n",
       "      <td>77.033000</td>\n",
       "    </tr>\n",
       "    <tr>\n",
       "      <th>2011-09-12</th>\n",
       "      <td>368.840333</td>\n",
       "      <td>25.850500</td>\n",
       "      <td>76.910500</td>\n",
       "    </tr>\n",
       "    <tr>\n",
       "      <th>2011-09-13</th>\n",
       "      <td>369.829000</td>\n",
       "      <td>25.874500</td>\n",
       "      <td>76.770667</td>\n",
       "    </tr>\n",
       "    <tr>\n",
       "      <th>2011-09-14</th>\n",
       "      <td>370.940500</td>\n",
       "      <td>25.907833</td>\n",
       "      <td>76.659667</td>\n",
       "    </tr>\n",
       "    <tr>\n",
       "      <th>2011-09-15</th>\n",
       "      <td>371.969333</td>\n",
       "      <td>25.949667</td>\n",
       "      <td>76.594333</td>\n",
       "    </tr>\n",
       "    <tr>\n",
       "      <th>2011-09-16</th>\n",
       "      <td>373.205167</td>\n",
       "      <td>25.999167</td>\n",
       "      <td>76.565500</td>\n",
       "    </tr>\n",
       "    <tr>\n",
       "      <th>2011-09-19</th>\n",
       "      <td>374.531667</td>\n",
       "      <td>26.035333</td>\n",
       "      <td>76.503667</td>\n",
       "    </tr>\n",
       "    <tr>\n",
       "      <th>2011-09-20</th>\n",
       "      <td>375.834833</td>\n",
       "      <td>26.057667</td>\n",
       "      <td>76.418667</td>\n",
       "    </tr>\n",
       "    <tr>\n",
       "      <th>2011-09-21</th>\n",
       "      <td>377.136500</td>\n",
       "      <td>26.066500</td>\n",
       "      <td>76.289500</td>\n",
       "    </tr>\n",
       "    <tr>\n",
       "      <th>2011-09-22</th>\n",
       "      <td>378.239000</td>\n",
       "      <td>26.053500</td>\n",
       "      <td>76.096000</td>\n",
       "    </tr>\n",
       "    <tr>\n",
       "      <th>2011-09-23</th>\n",
       "      <td>379.256333</td>\n",
       "      <td>26.040167</td>\n",
       "      <td>75.893333</td>\n",
       "    </tr>\n",
       "    <tr>\n",
       "      <th>2011-09-26</th>\n",
       "      <td>380.254833</td>\n",
       "      <td>26.033167</td>\n",
       "      <td>75.730833</td>\n",
       "    </tr>\n",
       "    <tr>\n",
       "      <th>2011-09-27</th>\n",
       "      <td>381.085333</td>\n",
       "      <td>26.029833</td>\n",
       "      <td>75.595000</td>\n",
       "    </tr>\n",
       "    <tr>\n",
       "      <th>2011-09-28</th>\n",
       "      <td>381.839500</td>\n",
       "      <td>26.020167</td>\n",
       "      <td>75.445667</td>\n",
       "    </tr>\n",
       "    <tr>\n",
       "      <th>2011-09-29</th>\n",
       "      <td>382.395667</td>\n",
       "      <td>26.001000</td>\n",
       "      <td>75.313333</td>\n",
       "    </tr>\n",
       "    <tr>\n",
       "      <th>2011-09-30</th>\n",
       "      <td>382.755833</td>\n",
       "      <td>25.970000</td>\n",
       "      <td>75.159167</td>\n",
       "    </tr>\n",
       "    <tr>\n",
       "      <th>2011-10-03</th>\n",
       "      <td>383.099167</td>\n",
       "      <td>25.937833</td>\n",
       "      <td>74.989000</td>\n",
       "    </tr>\n",
       "    <tr>\n",
       "      <th>2011-10-04</th>\n",
       "      <td>383.411667</td>\n",
       "      <td>25.920667</td>\n",
       "      <td>74.847000</td>\n",
       "    </tr>\n",
       "    <tr>\n",
       "      <th>2011-10-05</th>\n",
       "      <td>383.748833</td>\n",
       "      <td>25.911167</td>\n",
       "      <td>74.713833</td>\n",
       "    </tr>\n",
       "    <tr>\n",
       "      <th>2011-10-06</th>\n",
       "      <td>384.075500</td>\n",
       "      <td>25.911833</td>\n",
       "      <td>74.583667</td>\n",
       "    </tr>\n",
       "    <tr>\n",
       "      <th>2011-10-07</th>\n",
       "      <td>384.156833</td>\n",
       "      <td>25.905833</td>\n",
       "      <td>74.435333</td>\n",
       "    </tr>\n",
       "    <tr>\n",
       "      <th>2011-10-10</th>\n",
       "      <td>384.407000</td>\n",
       "      <td>25.914500</td>\n",
       "      <td>74.338167</td>\n",
       "    </tr>\n",
       "    <tr>\n",
       "      <th>2011-10-11</th>\n",
       "      <td>384.797667</td>\n",
       "      <td>25.908333</td>\n",
       "      <td>74.224667</td>\n",
       "    </tr>\n",
       "    <tr>\n",
       "      <th>2011-10-12</th>\n",
       "      <td>385.052500</td>\n",
       "      <td>25.909500</td>\n",
       "      <td>74.131500</td>\n",
       "    </tr>\n",
       "    <tr>\n",
       "      <th>2011-10-13</th>\n",
       "      <td>385.404833</td>\n",
       "      <td>25.913667</td>\n",
       "      <td>73.996667</td>\n",
       "    </tr>\n",
       "    <tr>\n",
       "      <th>2011-10-14</th>\n",
       "      <td>385.883167</td>\n",
       "      <td>25.912167</td>\n",
       "      <td>73.887500</td>\n",
       "    </tr>\n",
       "  </tbody>\n",
       "</table>\n",
       "<p>2292 rows × 3 columns</p>\n",
       "</div>"
      ],
      "text/plain": [
       "                  AAPL       MSFT        XOM\n",
       "2003-01-02         NaN        NaN        NaN\n",
       "2003-01-03         NaN        NaN        NaN\n",
       "2003-01-06         NaN        NaN        NaN\n",
       "2003-01-07         NaN        NaN        NaN\n",
       "2003-01-08         NaN        NaN        NaN\n",
       "2003-01-09         NaN        NaN        NaN\n",
       "2003-01-10         NaN        NaN        NaN\n",
       "2003-01-13         NaN        NaN        NaN\n",
       "2003-01-14         NaN        NaN        NaN\n",
       "2003-01-15         NaN        NaN        NaN\n",
       "2003-01-16         NaN        NaN        NaN\n",
       "2003-01-17         NaN        NaN        NaN\n",
       "2003-01-20         NaN        NaN        NaN\n",
       "2003-01-21         NaN        NaN        NaN\n",
       "2003-01-22         NaN        NaN        NaN\n",
       "2003-01-23         NaN        NaN        NaN\n",
       "2003-01-24         NaN        NaN        NaN\n",
       "2003-01-27         NaN        NaN        NaN\n",
       "2003-01-28         NaN        NaN        NaN\n",
       "2003-01-29         NaN        NaN        NaN\n",
       "2003-01-30         NaN        NaN        NaN\n",
       "2003-01-31         NaN        NaN        NaN\n",
       "2003-02-03         NaN        NaN        NaN\n",
       "2003-02-04         NaN        NaN        NaN\n",
       "2003-02-05         NaN        NaN        NaN\n",
       "2003-02-06         NaN        NaN        NaN\n",
       "2003-02-07         NaN        NaN        NaN\n",
       "2003-02-10         NaN        NaN        NaN\n",
       "2003-02-11         NaN        NaN        NaN\n",
       "2003-02-12         NaN        NaN        NaN\n",
       "...                ...        ...        ...\n",
       "2011-09-05  364.085333  25.693500  77.475667\n",
       "2011-09-06  364.873667  25.717500  77.330667\n",
       "2011-09-07  365.826667  25.757667  77.255833\n",
       "2011-09-08  366.809667  25.797167  77.157833\n",
       "2011-09-09  367.763333  25.824333  77.033000\n",
       "2011-09-12  368.840333  25.850500  76.910500\n",
       "2011-09-13  369.829000  25.874500  76.770667\n",
       "2011-09-14  370.940500  25.907833  76.659667\n",
       "2011-09-15  371.969333  25.949667  76.594333\n",
       "2011-09-16  373.205167  25.999167  76.565500\n",
       "2011-09-19  374.531667  26.035333  76.503667\n",
       "2011-09-20  375.834833  26.057667  76.418667\n",
       "2011-09-21  377.136500  26.066500  76.289500\n",
       "2011-09-22  378.239000  26.053500  76.096000\n",
       "2011-09-23  379.256333  26.040167  75.893333\n",
       "2011-09-26  380.254833  26.033167  75.730833\n",
       "2011-09-27  381.085333  26.029833  75.595000\n",
       "2011-09-28  381.839500  26.020167  75.445667\n",
       "2011-09-29  382.395667  26.001000  75.313333\n",
       "2011-09-30  382.755833  25.970000  75.159167\n",
       "2011-10-03  383.099167  25.937833  74.989000\n",
       "2011-10-04  383.411667  25.920667  74.847000\n",
       "2011-10-05  383.748833  25.911167  74.713833\n",
       "2011-10-06  384.075500  25.911833  74.583667\n",
       "2011-10-07  384.156833  25.905833  74.435333\n",
       "2011-10-10  384.407000  25.914500  74.338167\n",
       "2011-10-11  384.797667  25.908333  74.224667\n",
       "2011-10-12  385.052500  25.909500  74.131500\n",
       "2011-10-13  385.404833  25.913667  73.996667\n",
       "2011-10-14  385.883167  25.912167  73.887500\n",
       "\n",
       "[2292 rows x 3 columns]"
      ]
     },
     "execution_count": 323,
     "metadata": {},
     "output_type": "execute_result"
    }
   ],
   "source": [
    "close_px.rolling(60).mean()"
   ]
  },
  {
   "cell_type": "code",
   "execution_count": 324,
   "metadata": {},
   "outputs": [
    {
     "data": {
      "text/html": [
       "<div>\n",
       "<style scoped>\n",
       "    .dataframe tbody tr th:only-of-type {\n",
       "        vertical-align: middle;\n",
       "    }\n",
       "\n",
       "    .dataframe tbody tr th {\n",
       "        vertical-align: top;\n",
       "    }\n",
       "\n",
       "    .dataframe thead th {\n",
       "        text-align: right;\n",
       "    }\n",
       "</style>\n",
       "<table border=\"1\" class=\"dataframe\">\n",
       "  <thead>\n",
       "    <tr style=\"text-align: right;\">\n",
       "      <th></th>\n",
       "      <th>AAPL</th>\n",
       "      <th>MSFT</th>\n",
       "      <th>XOM</th>\n",
       "    </tr>\n",
       "  </thead>\n",
       "  <tbody>\n",
       "    <tr>\n",
       "      <th>2003-01-02</th>\n",
       "      <td>7.400000</td>\n",
       "      <td>21.110000</td>\n",
       "      <td>29.220000</td>\n",
       "    </tr>\n",
       "    <tr>\n",
       "      <th>2003-01-03</th>\n",
       "      <td>7.425000</td>\n",
       "      <td>21.125000</td>\n",
       "      <td>29.230000</td>\n",
       "    </tr>\n",
       "    <tr>\n",
       "      <th>2003-01-06</th>\n",
       "      <td>7.433333</td>\n",
       "      <td>21.256667</td>\n",
       "      <td>29.473333</td>\n",
       "    </tr>\n",
       "    <tr>\n",
       "      <th>2003-01-07</th>\n",
       "      <td>7.432500</td>\n",
       "      <td>21.425000</td>\n",
       "      <td>29.342500</td>\n",
       "    </tr>\n",
       "    <tr>\n",
       "      <th>2003-01-08</th>\n",
       "      <td>7.402000</td>\n",
       "      <td>21.402000</td>\n",
       "      <td>29.240000</td>\n",
       "    </tr>\n",
       "    <tr>\n",
       "      <th>2003-01-09</th>\n",
       "      <td>7.391667</td>\n",
       "      <td>21.490000</td>\n",
       "      <td>29.273333</td>\n",
       "    </tr>\n",
       "    <tr>\n",
       "      <th>2003-01-10</th>\n",
       "      <td>7.387143</td>\n",
       "      <td>21.558571</td>\n",
       "      <td>29.238571</td>\n",
       "    </tr>\n",
       "    <tr>\n",
       "      <th>2003-01-13</th>\n",
       "      <td>7.378750</td>\n",
       "      <td>21.633750</td>\n",
       "      <td>29.197500</td>\n",
       "    </tr>\n",
       "    <tr>\n",
       "      <th>2003-01-14</th>\n",
       "      <td>7.370000</td>\n",
       "      <td>21.717778</td>\n",
       "      <td>29.194444</td>\n",
       "    </tr>\n",
       "    <tr>\n",
       "      <th>2003-01-15</th>\n",
       "      <td>7.355000</td>\n",
       "      <td>21.757000</td>\n",
       "      <td>29.152000</td>\n",
       "    </tr>\n",
       "    <tr>\n",
       "      <th>2003-01-16</th>\n",
       "      <td>7.350909</td>\n",
       "      <td>21.756364</td>\n",
       "      <td>29.129091</td>\n",
       "    </tr>\n",
       "    <tr>\n",
       "      <th>2003-01-17</th>\n",
       "      <td>7.325833</td>\n",
       "      <td>21.628333</td>\n",
       "      <td>29.085000</td>\n",
       "    </tr>\n",
       "    <tr>\n",
       "      <th>2003-01-20</th>\n",
       "      <td>7.304615</td>\n",
       "      <td>21.520000</td>\n",
       "      <td>29.047692</td>\n",
       "    </tr>\n",
       "    <tr>\n",
       "      <th>2003-01-21</th>\n",
       "      <td>7.283571</td>\n",
       "      <td>21.423571</td>\n",
       "      <td>28.968571</td>\n",
       "    </tr>\n",
       "    <tr>\n",
       "      <th>2003-01-22</th>\n",
       "      <td>7.250714</td>\n",
       "      <td>21.347143</td>\n",
       "      <td>28.851429</td>\n",
       "    </tr>\n",
       "    <tr>\n",
       "      <th>2003-01-23</th>\n",
       "      <td>7.225000</td>\n",
       "      <td>21.304286</td>\n",
       "      <td>28.728571</td>\n",
       "    </tr>\n",
       "    <tr>\n",
       "      <th>2003-01-24</th>\n",
       "      <td>7.203333</td>\n",
       "      <td>21.190000</td>\n",
       "      <td>28.608667</td>\n",
       "    </tr>\n",
       "    <tr>\n",
       "      <th>2003-01-27</th>\n",
       "      <td>7.160000</td>\n",
       "      <td>20.980000</td>\n",
       "      <td>28.316429</td>\n",
       "    </tr>\n",
       "    <tr>\n",
       "      <th>2003-01-28</th>\n",
       "      <td>7.160714</td>\n",
       "      <td>20.827857</td>\n",
       "      <td>28.178571</td>\n",
       "    </tr>\n",
       "    <tr>\n",
       "      <th>2003-01-29</th>\n",
       "      <td>7.170000</td>\n",
       "      <td>20.662143</td>\n",
       "      <td>28.067143</td>\n",
       "    </tr>\n",
       "    <tr>\n",
       "      <th>2003-01-30</th>\n",
       "      <td>7.155714</td>\n",
       "      <td>20.446429</td>\n",
       "      <td>27.948571</td>\n",
       "    </tr>\n",
       "    <tr>\n",
       "      <th>2003-01-31</th>\n",
       "      <td>7.157333</td>\n",
       "      <td>20.326667</td>\n",
       "      <td>27.960667</td>\n",
       "    </tr>\n",
       "    <tr>\n",
       "      <th>2003-02-03</th>\n",
       "      <td>7.147857</td>\n",
       "      <td>19.959286</td>\n",
       "      <td>27.846429</td>\n",
       "    </tr>\n",
       "    <tr>\n",
       "      <th>2003-02-04</th>\n",
       "      <td>7.153571</td>\n",
       "      <td>19.707857</td>\n",
       "      <td>27.828571</td>\n",
       "    </tr>\n",
       "    <tr>\n",
       "      <th>2003-02-05</th>\n",
       "      <td>7.147143</td>\n",
       "      <td>19.472143</td>\n",
       "      <td>27.772143</td>\n",
       "    </tr>\n",
       "    <tr>\n",
       "      <th>2003-02-06</th>\n",
       "      <td>7.159286</td>\n",
       "      <td>19.358571</td>\n",
       "      <td>27.720000</td>\n",
       "    </tr>\n",
       "    <tr>\n",
       "      <th>2003-02-07</th>\n",
       "      <td>7.153333</td>\n",
       "      <td>19.288000</td>\n",
       "      <td>27.716000</td>\n",
       "    </tr>\n",
       "    <tr>\n",
       "      <th>2003-02-10</th>\n",
       "      <td>7.172857</td>\n",
       "      <td>19.110714</td>\n",
       "      <td>27.647857</td>\n",
       "    </tr>\n",
       "    <tr>\n",
       "      <th>2003-02-11</th>\n",
       "      <td>7.190000</td>\n",
       "      <td>18.982857</td>\n",
       "      <td>27.654286</td>\n",
       "    </tr>\n",
       "    <tr>\n",
       "      <th>2003-02-12</th>\n",
       "      <td>7.197857</td>\n",
       "      <td>18.819286</td>\n",
       "      <td>27.625714</td>\n",
       "    </tr>\n",
       "    <tr>\n",
       "      <th>...</th>\n",
       "      <td>...</td>\n",
       "      <td>...</td>\n",
       "      <td>...</td>\n",
       "    </tr>\n",
       "    <tr>\n",
       "      <th>2011-09-05</th>\n",
       "      <td>375.711429</td>\n",
       "      <td>25.276429</td>\n",
       "      <td>72.607857</td>\n",
       "    </tr>\n",
       "    <tr>\n",
       "      <th>2011-09-06</th>\n",
       "      <td>375.661429</td>\n",
       "      <td>25.295000</td>\n",
       "      <td>72.392857</td>\n",
       "    </tr>\n",
       "    <tr>\n",
       "      <th>2011-09-07</th>\n",
       "      <td>376.938571</td>\n",
       "      <td>25.390000</td>\n",
       "      <td>72.586429</td>\n",
       "    </tr>\n",
       "    <tr>\n",
       "      <th>2011-09-08</th>\n",
       "      <td>378.946429</td>\n",
       "      <td>25.545000</td>\n",
       "      <td>72.802143</td>\n",
       "    </tr>\n",
       "    <tr>\n",
       "      <th>2011-09-09</th>\n",
       "      <td>378.848667</td>\n",
       "      <td>25.558000</td>\n",
       "      <td>72.682667</td>\n",
       "    </tr>\n",
       "    <tr>\n",
       "      <th>2011-09-12</th>\n",
       "      <td>380.902143</td>\n",
       "      <td>25.754286</td>\n",
       "      <td>72.731429</td>\n",
       "    </tr>\n",
       "    <tr>\n",
       "      <th>2011-09-13</th>\n",
       "      <td>381.505000</td>\n",
       "      <td>25.835714</td>\n",
       "      <td>72.596429</td>\n",
       "    </tr>\n",
       "    <tr>\n",
       "      <th>2011-09-14</th>\n",
       "      <td>382.617857</td>\n",
       "      <td>25.973571</td>\n",
       "      <td>72.658571</td>\n",
       "    </tr>\n",
       "    <tr>\n",
       "      <th>2011-09-15</th>\n",
       "      <td>383.287857</td>\n",
       "      <td>26.097857</td>\n",
       "      <td>72.756429</td>\n",
       "    </tr>\n",
       "    <tr>\n",
       "      <th>2011-09-16</th>\n",
       "      <td>384.435333</td>\n",
       "      <td>26.166000</td>\n",
       "      <td>72.876000</td>\n",
       "    </tr>\n",
       "    <tr>\n",
       "      <th>2011-09-19</th>\n",
       "      <td>385.585714</td>\n",
       "      <td>26.259286</td>\n",
       "      <td>72.772143</td>\n",
       "    </tr>\n",
       "    <tr>\n",
       "      <th>2011-09-20</th>\n",
       "      <td>387.630000</td>\n",
       "      <td>26.286429</td>\n",
       "      <td>72.771429</td>\n",
       "    </tr>\n",
       "    <tr>\n",
       "      <th>2011-09-21</th>\n",
       "      <td>389.852143</td>\n",
       "      <td>26.270714</td>\n",
       "      <td>72.662857</td>\n",
       "    </tr>\n",
       "    <tr>\n",
       "      <th>2011-09-22</th>\n",
       "      <td>391.835714</td>\n",
       "      <td>26.217857</td>\n",
       "      <td>72.455714</td>\n",
       "    </tr>\n",
       "    <tr>\n",
       "      <th>2011-09-23</th>\n",
       "      <td>392.666667</td>\n",
       "      <td>26.140667</td>\n",
       "      <td>72.246000</td>\n",
       "    </tr>\n",
       "    <tr>\n",
       "      <th>2011-09-26</th>\n",
       "      <td>395.670000</td>\n",
       "      <td>26.160000</td>\n",
       "      <td>72.294286</td>\n",
       "    </tr>\n",
       "    <tr>\n",
       "      <th>2011-09-27</th>\n",
       "      <td>396.765000</td>\n",
       "      <td>26.136429</td>\n",
       "      <td>72.241429</td>\n",
       "    </tr>\n",
       "    <tr>\n",
       "      <th>2011-09-28</th>\n",
       "      <td>397.684286</td>\n",
       "      <td>26.090714</td>\n",
       "      <td>72.187857</td>\n",
       "    </tr>\n",
       "    <tr>\n",
       "      <th>2011-09-29</th>\n",
       "      <td>398.619286</td>\n",
       "      <td>26.070000</td>\n",
       "      <td>72.392857</td>\n",
       "    </tr>\n",
       "    <tr>\n",
       "      <th>2011-09-30</th>\n",
       "      <td>397.466000</td>\n",
       "      <td>25.991333</td>\n",
       "      <td>72.408667</td>\n",
       "    </tr>\n",
       "    <tr>\n",
       "      <th>2011-10-03</th>\n",
       "      <td>398.002143</td>\n",
       "      <td>25.890714</td>\n",
       "      <td>72.413571</td>\n",
       "    </tr>\n",
       "    <tr>\n",
       "      <th>2011-10-04</th>\n",
       "      <td>396.802143</td>\n",
       "      <td>25.807857</td>\n",
       "      <td>72.427143</td>\n",
       "    </tr>\n",
       "    <tr>\n",
       "      <th>2011-10-05</th>\n",
       "      <td>395.751429</td>\n",
       "      <td>25.729286</td>\n",
       "      <td>72.422857</td>\n",
       "    </tr>\n",
       "    <tr>\n",
       "      <th>2011-10-06</th>\n",
       "      <td>394.099286</td>\n",
       "      <td>25.673571</td>\n",
       "      <td>72.375714</td>\n",
       "    </tr>\n",
       "    <tr>\n",
       "      <th>2011-10-07</th>\n",
       "      <td>392.479333</td>\n",
       "      <td>25.712000</td>\n",
       "      <td>72.454667</td>\n",
       "    </tr>\n",
       "    <tr>\n",
       "      <th>2011-10-10</th>\n",
       "      <td>389.351429</td>\n",
       "      <td>25.602143</td>\n",
       "      <td>72.527857</td>\n",
       "    </tr>\n",
       "    <tr>\n",
       "      <th>2011-10-11</th>\n",
       "      <td>388.505000</td>\n",
       "      <td>25.674286</td>\n",
       "      <td>72.835000</td>\n",
       "    </tr>\n",
       "    <tr>\n",
       "      <th>2011-10-12</th>\n",
       "      <td>388.531429</td>\n",
       "      <td>25.810000</td>\n",
       "      <td>73.400714</td>\n",
       "    </tr>\n",
       "    <tr>\n",
       "      <th>2011-10-13</th>\n",
       "      <td>388.826429</td>\n",
       "      <td>25.961429</td>\n",
       "      <td>73.905000</td>\n",
       "    </tr>\n",
       "    <tr>\n",
       "      <th>2011-10-14</th>\n",
       "      <td>391.038000</td>\n",
       "      <td>26.048667</td>\n",
       "      <td>74.185333</td>\n",
       "    </tr>\n",
       "  </tbody>\n",
       "</table>\n",
       "<p>2292 rows × 3 columns</p>\n",
       "</div>"
      ],
      "text/plain": [
       "                  AAPL       MSFT        XOM\n",
       "2003-01-02    7.400000  21.110000  29.220000\n",
       "2003-01-03    7.425000  21.125000  29.230000\n",
       "2003-01-06    7.433333  21.256667  29.473333\n",
       "2003-01-07    7.432500  21.425000  29.342500\n",
       "2003-01-08    7.402000  21.402000  29.240000\n",
       "2003-01-09    7.391667  21.490000  29.273333\n",
       "2003-01-10    7.387143  21.558571  29.238571\n",
       "2003-01-13    7.378750  21.633750  29.197500\n",
       "2003-01-14    7.370000  21.717778  29.194444\n",
       "2003-01-15    7.355000  21.757000  29.152000\n",
       "2003-01-16    7.350909  21.756364  29.129091\n",
       "2003-01-17    7.325833  21.628333  29.085000\n",
       "2003-01-20    7.304615  21.520000  29.047692\n",
       "2003-01-21    7.283571  21.423571  28.968571\n",
       "2003-01-22    7.250714  21.347143  28.851429\n",
       "2003-01-23    7.225000  21.304286  28.728571\n",
       "2003-01-24    7.203333  21.190000  28.608667\n",
       "2003-01-27    7.160000  20.980000  28.316429\n",
       "2003-01-28    7.160714  20.827857  28.178571\n",
       "2003-01-29    7.170000  20.662143  28.067143\n",
       "2003-01-30    7.155714  20.446429  27.948571\n",
       "2003-01-31    7.157333  20.326667  27.960667\n",
       "2003-02-03    7.147857  19.959286  27.846429\n",
       "2003-02-04    7.153571  19.707857  27.828571\n",
       "2003-02-05    7.147143  19.472143  27.772143\n",
       "2003-02-06    7.159286  19.358571  27.720000\n",
       "2003-02-07    7.153333  19.288000  27.716000\n",
       "2003-02-10    7.172857  19.110714  27.647857\n",
       "2003-02-11    7.190000  18.982857  27.654286\n",
       "2003-02-12    7.197857  18.819286  27.625714\n",
       "...                ...        ...        ...\n",
       "2011-09-05  375.711429  25.276429  72.607857\n",
       "2011-09-06  375.661429  25.295000  72.392857\n",
       "2011-09-07  376.938571  25.390000  72.586429\n",
       "2011-09-08  378.946429  25.545000  72.802143\n",
       "2011-09-09  378.848667  25.558000  72.682667\n",
       "2011-09-12  380.902143  25.754286  72.731429\n",
       "2011-09-13  381.505000  25.835714  72.596429\n",
       "2011-09-14  382.617857  25.973571  72.658571\n",
       "2011-09-15  383.287857  26.097857  72.756429\n",
       "2011-09-16  384.435333  26.166000  72.876000\n",
       "2011-09-19  385.585714  26.259286  72.772143\n",
       "2011-09-20  387.630000  26.286429  72.771429\n",
       "2011-09-21  389.852143  26.270714  72.662857\n",
       "2011-09-22  391.835714  26.217857  72.455714\n",
       "2011-09-23  392.666667  26.140667  72.246000\n",
       "2011-09-26  395.670000  26.160000  72.294286\n",
       "2011-09-27  396.765000  26.136429  72.241429\n",
       "2011-09-28  397.684286  26.090714  72.187857\n",
       "2011-09-29  398.619286  26.070000  72.392857\n",
       "2011-09-30  397.466000  25.991333  72.408667\n",
       "2011-10-03  398.002143  25.890714  72.413571\n",
       "2011-10-04  396.802143  25.807857  72.427143\n",
       "2011-10-05  395.751429  25.729286  72.422857\n",
       "2011-10-06  394.099286  25.673571  72.375714\n",
       "2011-10-07  392.479333  25.712000  72.454667\n",
       "2011-10-10  389.351429  25.602143  72.527857\n",
       "2011-10-11  388.505000  25.674286  72.835000\n",
       "2011-10-12  388.531429  25.810000  73.400714\n",
       "2011-10-13  388.826429  25.961429  73.905000\n",
       "2011-10-14  391.038000  26.048667  74.185333\n",
       "\n",
       "[2292 rows x 3 columns]"
      ]
     },
     "execution_count": 324,
     "metadata": {},
     "output_type": "execute_result"
    }
   ],
   "source": [
    "close_px.rolling('20D').mean()\n",
    "#接受一个时间长度，用来计算该长度的滚动均值（或其他类似的值）\n",
    "#这种情况不会出现缺失值"
   ]
  },
  {
   "cell_type": "markdown",
   "metadata": {},
   "source": [
    "### 指数加权函数"
   ]
  },
  {
   "cell_type": "code",
   "execution_count": 325,
   "metadata": {},
   "outputs": [],
   "source": [
    "aapl_px=close_px.AAPL['2006':'2007']"
   ]
  },
  {
   "cell_type": "code",
   "execution_count": 326,
   "metadata": {},
   "outputs": [],
   "source": [
    "ma60=aapl_px.rolling(30,min_periods=20).mean()"
   ]
  },
  {
   "cell_type": "code",
   "execution_count": 327,
   "metadata": {},
   "outputs": [],
   "source": [
    "ewma60=aapl_px.ewm(span=30).mean()\n",
    "#ewm运算符"
   ]
  },
  {
   "cell_type": "code",
   "execution_count": 328,
   "metadata": {},
   "outputs": [
    {
     "data": {
      "text/plain": [
       "<matplotlib.axes._subplots.AxesSubplot at 0xace3f60>"
      ]
     },
     "execution_count": 328,
     "metadata": {},
     "output_type": "execute_result"
    },
    {
     "data": {
      "image/png": "[encoded data removed]",
      "text/plain": [
       "<Figure size 432x288 with 1 Axes>"
      ]
     },
     "metadata": {
      "needs_background": "light"
     },
     "output_type": "display_data"
    }
   ],
   "source": [
    "ma60.plot(style='k--',label='Simple MA')"
   ]
  },
  {
   "cell_type": "code",
   "execution_count": 329,
   "metadata": {},
   "outputs": [
    {
     "data": {
      "text/plain": [
       "<matplotlib.axes._subplots.AxesSubplot at 0xaca7550>"
      ]
     },
     "execution_count": 329,
     "metadata": {},
     "output_type": "execute_result"
    },
    {
     "data": {
      "image/png": "[encoded data removed]",
      "text/plain": [
       "<Figure size 432x288 with 1 Axes>"
      ]
     },
     "metadata": {
      "needs_background": "light"
     },
     "output_type": "display_data"
    }
   ],
   "source": [
    "ewma60.plot(style='k-',label='EW MA')"
   ]
  },
  {
   "cell_type": "code",
   "execution_count": 330,
   "metadata": {},
   "outputs": [
    {
     "data": {
      "text/plain": [
       "<matplotlib.legend.Legend at 0xae85828>"
      ]
     },
     "execution_count": 330,
     "metadata": {},
     "output_type": "execute_result"
    },
    {
     "data": {
      "image/png": "[encoded data removed]",
      "text/plain": [
       "<Figure size 432x288 with 1 Axes>"
      ]
     },
     "metadata": {
      "needs_background": "light"
     },
     "output_type": "display_data"
    }
   ],
   "source": [
    "ewma60.plot().legend()\n",
    "#为什么画了两个图？和书上不一样。"
   ]
  },
  {
   "cell_type": "markdown",
   "metadata": {},
   "source": [
    "### 二元移动窗口函数"
   ]
  },
  {
   "cell_type": "code",
   "execution_count": 331,
   "metadata": {},
   "outputs": [],
   "source": [
    "spx_px=close_px_all['SPX']"
   ]
  },
  {
   "cell_type": "code",
   "execution_count": 332,
   "metadata": {},
   "outputs": [],
   "source": [
    "spx_rets=spx_px.pct_change()"
   ]
  },
  {
   "cell_type": "code",
   "execution_count": 333,
   "metadata": {},
   "outputs": [
    {
     "data": {
      "text/plain": [
       "2003-01-02         NaN\n",
       "2003-01-03   -0.000484\n",
       "2003-01-06    0.022474\n",
       "2003-01-07   -0.006545\n",
       "2003-01-08   -0.014086\n",
       "2003-01-09    0.019386\n",
       "2003-01-10    0.000000\n",
       "2003-01-13   -0.001412\n",
       "2003-01-14    0.005830\n",
       "2003-01-15   -0.014426\n",
       "2003-01-16   -0.003942\n",
       "2003-01-17   -0.014017\n",
       "2003-01-21   -0.015702\n",
       "2003-01-22   -0.010432\n",
       "2003-01-23    0.010224\n",
       "2003-01-24   -0.029233\n",
       "2003-01-27   -0.016160\n",
       "2003-01-28    0.013050\n",
       "2003-01-29    0.006779\n",
       "2003-01-30   -0.022849\n",
       "2003-01-31    0.013130\n",
       "2003-02-03    0.005399\n",
       "2003-02-04   -0.014088\n",
       "2003-02-05   -0.005435\n",
       "2003-02-06   -0.006449\n",
       "2003-02-07   -0.010094\n",
       "2003-02-10    0.007569\n",
       "2003-02-11   -0.008098\n",
       "2003-02-12   -0.012687\n",
       "2003-02-13   -0.001600\n",
       "                ...   \n",
       "2011-09-02   -0.025282\n",
       "2011-09-06   -0.007436\n",
       "2011-09-07    0.028646\n",
       "2011-09-08   -0.010612\n",
       "2011-09-09   -0.026705\n",
       "2011-09-12    0.006966\n",
       "2011-09-13    0.009120\n",
       "2011-09-14    0.013480\n",
       "2011-09-15    0.017187\n",
       "2011-09-16    0.005707\n",
       "2011-09-19   -0.009803\n",
       "2011-09-20   -0.001661\n",
       "2011-09-21   -0.029390\n",
       "2011-09-22   -0.031883\n",
       "2011-09-23    0.006082\n",
       "2011-09-26    0.023336\n",
       "2011-09-27    0.010688\n",
       "2011-09-28   -0.020691\n",
       "2011-09-29    0.008114\n",
       "2011-09-30   -0.024974\n",
       "2011-10-03   -0.028451\n",
       "2011-10-04    0.022488\n",
       "2011-10-05    0.017866\n",
       "2011-10-06    0.018304\n",
       "2011-10-07   -0.008163\n",
       "2011-10-10    0.034125\n",
       "2011-10-11    0.000544\n",
       "2011-10-12    0.009795\n",
       "2011-10-13   -0.002974\n",
       "2011-10-14    0.017380\n",
       "Name: SPX, Length: 2214, dtype: float64"
      ]
     },
     "execution_count": 333,
     "metadata": {},
     "output_type": "execute_result"
    }
   ],
   "source": [
    "spx_rets"
   ]
  },
  {
   "cell_type": "code",
   "execution_count": 334,
   "metadata": {},
   "outputs": [],
   "source": [
    "returns=close_px.pct_change()"
   ]
  },
  {
   "cell_type": "code",
   "execution_count": 336,
   "metadata": {},
   "outputs": [],
   "source": [
    "corr=returns.AAPL.rolling(125,min_periods=100).corr(spx_rets)\n",
    "#使用rolling计算苹果股票的百分比变化与SPX百分比变化，在125天的窗口内的相关系数变化情况？"
   ]
  },
  {
   "cell_type": "code",
   "execution_count": 337,
   "metadata": {},
   "outputs": [
    {
     "data": {
      "text/plain": [
       "2003-01-02         NaN\n",
       "2003-01-03         NaN\n",
       "2003-01-06         NaN\n",
       "2003-01-07         NaN\n",
       "2003-01-08         NaN\n",
       "2003-01-09         NaN\n",
       "2003-01-10         NaN\n",
       "2003-01-13         NaN\n",
       "2003-01-14         NaN\n",
       "2003-01-15         NaN\n",
       "2003-01-16         NaN\n",
       "2003-01-17         NaN\n",
       "2003-01-20         NaN\n",
       "2003-01-21         NaN\n",
       "2003-01-22         NaN\n",
       "2003-01-23         NaN\n",
       "2003-01-24         NaN\n",
       "2003-01-27         NaN\n",
       "2003-01-28         NaN\n",
       "2003-01-29         NaN\n",
       "2003-01-30         NaN\n",
       "2003-01-31         NaN\n",
       "2003-02-03         NaN\n",
       "2003-02-04         NaN\n",
       "2003-02-05         NaN\n",
       "2003-02-06         NaN\n",
       "2003-02-07         NaN\n",
       "2003-02-10         NaN\n",
       "2003-02-11         NaN\n",
       "2003-02-12         NaN\n",
       "                ...   \n",
       "2011-09-05    0.752357\n",
       "2011-09-06    0.745761\n",
       "2011-09-07    0.741550\n",
       "2011-09-08    0.738944\n",
       "2011-09-09    0.746317\n",
       "2011-09-12    0.743924\n",
       "2011-09-13    0.745615\n",
       "2011-09-14    0.748272\n",
       "2011-09-15    0.747067\n",
       "2011-09-16    0.748199\n",
       "2011-09-19    0.731196\n",
       "2011-09-20    0.731751\n",
       "2011-09-21    0.728798\n",
       "2011-09-22    0.735271\n",
       "2011-09-23    0.740145\n",
       "2011-09-26    0.731302\n",
       "2011-09-27    0.725213\n",
       "2011-09-28    0.725128\n",
       "2011-09-29    0.715894\n",
       "2011-09-30    0.721275\n",
       "2011-10-03    0.725977\n",
       "2011-10-04    0.715843\n",
       "2011-10-05    0.718517\n",
       "2011-10-06    0.714363\n",
       "2011-10-07    0.718846\n",
       "2011-10-10    0.736464\n",
       "2011-10-11    0.729906\n",
       "2011-10-12    0.728404\n",
       "2011-10-13    0.727165\n",
       "2011-10-14    0.729858\n",
       "Length: 2292, dtype: float64"
      ]
     },
     "execution_count": 337,
     "metadata": {},
     "output_type": "execute_result"
    }
   ],
   "source": [
    "corr"
   ]
  },
  {
   "cell_type": "code",
   "execution_count": 338,
   "metadata": {},
   "outputs": [
    {
     "data": {
      "text/plain": [
       "<matplotlib.axes._subplots.AxesSubplot at 0xaf90438>"
      ]
     },
     "execution_count": 338,
     "metadata": {},
     "output_type": "execute_result"
    },
    {
     "data": {
      "image/png": "[encoded data removed]",
      "text/plain": [
       "<Figure size 432x288 with 1 Axes>"
      ]
     },
     "metadata": {
      "needs_background": "light"
     },
     "output_type": "display_data"
    }
   ],
   "source": [
    "corr.plot()"
   ]
  },
  {
   "cell_type": "code",
   "execution_count": 340,
   "metadata": {},
   "outputs": [],
   "source": [
    "corr=returns.rolling(125,min_periods=100).corr(spx_rets)\n",
    "#将rolling方法传递给returns的每一列，计算每一列相对于标准普尔指数的相关系数"
   ]
  },
  {
   "cell_type": "code",
   "execution_count": 341,
   "metadata": {},
   "outputs": [
    {
     "data": {
      "text/plain": [
       "<matplotlib.axes._subplots.AxesSubplot at 0x56803c8>"
      ]
     },
     "execution_count": 341,
     "metadata": {},
     "output_type": "execute_result"
    },
    {
     "data": {
      "image/png": "[encoded data removed]",
      "text/plain": [
       "<Figure size 432x288 with 1 Axes>"
      ]
     },
     "metadata": {
      "needs_background": "light"
     },
     "output_type": "display_data"
    }
   ],
   "source": [
    "corr.plot()"
   ]
  },
  {
   "cell_type": "markdown",
   "metadata": {},
   "source": [
    "### 用户定义的移动窗口函数"
   ]
  },
  {
   "cell_type": "code",
   "execution_count": 342,
   "metadata": {},
   "outputs": [],
   "source": [
    "from scipy.stats import percentileofscore"
   ]
  },
  {
   "cell_type": "code",
   "execution_count": 343,
   "metadata": {},
   "outputs": [],
   "source": [
    "score_at_2percent=lambda x:percentileofscore(x,0.02)"
   ]
  },
  {
   "cell_type": "code",
   "execution_count": 345,
   "metadata": {},
   "outputs": [
    {
     "name": "stderr",
     "output_type": "stream",
     "text": [
      "C:\\ProgramData\\Anaconda3\\lib\\site-packages\\ipykernel_launcher.py:1: FutureWarning: Currently, 'apply' passes the values as ndarrays to the applied function. In the future, this will change to passing it as Series objects. You need to specify 'raw=True' to keep the current behaviour, and you can pass 'raw=False' to silence this warning\n",
      "  \"\"\"Entry point for launching an IPython kernel.\n"
     ]
    }
   ],
   "source": [
    "result=returns.AAPL.rolling(250).apply(score_at_2percent)\n",
    "#对rolling的结果使用apply方法传入自定义的移动窗口函数，要求该自定义函数是个聚集函数"
   ]
  },
  {
   "cell_type": "code",
   "execution_count": 346,
   "metadata": {},
   "outputs": [
    {
     "data": {
      "text/plain": [
       "<matplotlib.axes._subplots.AxesSubplot at 0xbf0d8d0>"
      ]
     },
     "execution_count": 346,
     "metadata": {},
     "output_type": "execute_result"
    },
    {
     "data": {
      "image/png": "[encoded data removed]",
      "text/plain": [
       "<Figure size 432x288 with 1 Axes>"
      ]
     },
     "metadata": {
      "needs_background": "light"
     },
     "output_type": "display_data"
    }
   ],
   "source": [
    "result.plot()"
   ]
  },
  {
   "cell_type": "code",
   "execution_count": null,
   "metadata": {},
   "outputs": [],
   "source": []
  }
 ],
 "metadata": {
  "kernelspec": {
   "display_name": "Python 3",
   "language": "python",
   "name": "python3"
  },
  "language_info": {
   "codemirror_mode": {
    "name": "ipython",
    "version": 3
   },
   "file_extension": ".py",
   "mimetype": "text/x-python",
   "name": "python",
   "nbconvert_exporter": "python",
   "pygments_lexer": "ipython3",
   "version": "3.7.0"
  }
 },
 "nbformat": 4,
 "nbformat_minor": 2
}
